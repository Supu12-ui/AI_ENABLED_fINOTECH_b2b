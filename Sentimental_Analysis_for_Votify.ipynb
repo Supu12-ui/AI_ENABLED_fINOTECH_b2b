{
  "cells": [
    {
      "cell_type": "markdown",
      "metadata": {
        "id": "view-in-github",
        "colab_type": "text"
      },
      "source": [
        "<a href=\"https://colab.research.google.com/github/Supu12-ui/AI_ENABLED_fINOTECH_b2b/blob/main/Sentimental_Analysis_for_Votify.ipynb\" target=\"_parent\"><img src=\"https://colab.research.google.com/assets/colab-badge.svg\" alt=\"Open In Colab\"/></a>"
      ]
    },
    {
      "cell_type": "markdown",
      "metadata": {
        "id": "362jMMPAifF7"
      },
      "source": [
        "#Sentiment Analysis for Votify"
      ]
    },
    {
      "cell_type": "markdown",
      "metadata": {
        "id": "wZQlXmj9ifGF"
      },
      "source": [
        "###Importing the Libraries"
      ]
    },
    {
      "cell_type": "code",
      "execution_count": 98,
      "metadata": {
        "id": "jEUdCNzCifGF",
        "colab": {
          "base_uri": "https://localhost:8080/"
        },
        "outputId": "2c710010-54ca-41e5-a162-00313d05eeca"
      },
      "outputs": [
        {
          "output_type": "stream",
          "name": "stdout",
          "text": [
            "Requirement already satisfied: catboost in /usr/local/lib/python3.10/dist-packages (1.2.5)\n",
            "Requirement already satisfied: graphviz in /usr/local/lib/python3.10/dist-packages (from catboost) (0.20.3)\n",
            "Requirement already satisfied: matplotlib in /usr/local/lib/python3.10/dist-packages (from catboost) (3.7.1)\n",
            "Requirement already satisfied: numpy>=1.16.0 in /usr/local/lib/python3.10/dist-packages (from catboost) (1.25.2)\n",
            "Requirement already satisfied: pandas>=0.24 in /usr/local/lib/python3.10/dist-packages (from catboost) (2.0.3)\n",
            "Requirement already satisfied: scipy in /usr/local/lib/python3.10/dist-packages (from catboost) (1.11.4)\n",
            "Requirement already satisfied: plotly in /usr/local/lib/python3.10/dist-packages (from catboost) (5.15.0)\n",
            "Requirement already satisfied: six in /usr/local/lib/python3.10/dist-packages (from catboost) (1.16.0)\n",
            "Requirement already satisfied: python-dateutil>=2.8.2 in /usr/local/lib/python3.10/dist-packages (from pandas>=0.24->catboost) (2.8.2)\n",
            "Requirement already satisfied: pytz>=2020.1 in /usr/local/lib/python3.10/dist-packages (from pandas>=0.24->catboost) (2023.4)\n",
            "Requirement already satisfied: tzdata>=2022.1 in /usr/local/lib/python3.10/dist-packages (from pandas>=0.24->catboost) (2024.1)\n",
            "Requirement already satisfied: contourpy>=1.0.1 in /usr/local/lib/python3.10/dist-packages (from matplotlib->catboost) (1.2.1)\n",
            "Requirement already satisfied: cycler>=0.10 in /usr/local/lib/python3.10/dist-packages (from matplotlib->catboost) (0.12.1)\n",
            "Requirement already satisfied: fonttools>=4.22.0 in /usr/local/lib/python3.10/dist-packages (from matplotlib->catboost) (4.53.0)\n",
            "Requirement already satisfied: kiwisolver>=1.0.1 in /usr/local/lib/python3.10/dist-packages (from matplotlib->catboost) (1.4.5)\n",
            "Requirement already satisfied: packaging>=20.0 in /usr/local/lib/python3.10/dist-packages (from matplotlib->catboost) (24.0)\n",
            "Requirement already satisfied: pillow>=6.2.0 in /usr/local/lib/python3.10/dist-packages (from matplotlib->catboost) (9.4.0)\n",
            "Requirement already satisfied: pyparsing>=2.3.1 in /usr/local/lib/python3.10/dist-packages (from matplotlib->catboost) (3.1.2)\n",
            "Requirement already satisfied: tenacity>=6.2.0 in /usr/local/lib/python3.10/dist-packages (from plotly->catboost) (8.3.0)\n"
          ]
        }
      ],
      "source": [
        "\n",
        "!pip install catboost\n",
        "import datetime as dt\n",
        "import pickle\n",
        "\n",
        "import numpy as np\n",
        "import pandas as pd\n",
        "import seaborn as sns\n",
        "from matplotlib import pyplot as plt\n",
        "\n",
        "import re\n",
        "from sklearn.model_selection import train_test_split\n",
        "from sklearn.preprocessing import LabelEncoder\n",
        "from sklearn.feature_selection import VarianceThreshold\n",
        "from sklearn.metrics import mean_squared_error\n",
        "from sklearn.metrics import r2_score\n",
        "from nltk.stem.porter import PorterStemmer\n",
        "from sklearn.feature_extraction.text import TfidfVectorizer\n",
        "from sklearn.linear_model import LogisticRegression\n",
        "from sklearn.metrics import accuracy_score\n",
        "from sklearn.svm import SVC\n",
        "from sklearn.ensemble import RandomForestClassifier\n",
        "from sklearn.neighbors import KNeighborsClassifier\n",
        "from sklearn.tree import DecisionTreeClassifier\n",
        "from sklearn.ensemble import GradientBoostingClassifier\n",
        "from sklearn.ensemble import AdaBoostClassifier\n",
        "from sklearn.naive_bayes import GaussianNB\n",
        "from catboost import CatBoostClassifier, Pool, cv\n",
        "from xgboost import XGBClassifier\n",
        "\n",
        "\n",
        "import warnings\n",
        "warnings.filterwarnings(\"ignore\")"
      ]
    },
    {
      "cell_type": "markdown",
      "metadata": {
        "id": "s8-Q73KPifGG"
      },
      "source": [
        "###Store the Dataset into Dataframe\n"
      ]
    },
    {
      "cell_type": "code",
      "execution_count": 99,
      "metadata": {
        "colab": {
          "base_uri": "https://localhost:8080/",
          "height": 73
        },
        "outputId": "7fd13703-6314-491e-8e2a-c7482776164e",
        "id": "aQXYRq2OifGG"
      },
      "outputs": [
        {
          "output_type": "display_data",
          "data": {
            "text/plain": [
              "<IPython.core.display.HTML object>"
            ],
            "text/html": [
              "\n",
              "     <input type=\"file\" id=\"files-63aa11a7-b77e-461e-ba4b-7d11f5f8dc15\" name=\"files[]\" multiple disabled\n",
              "        style=\"border:none\" />\n",
              "     <output id=\"result-63aa11a7-b77e-461e-ba4b-7d11f5f8dc15\">\n",
              "      Upload widget is only available when the cell has been executed in the\n",
              "      current browser session. Please rerun this cell to enable.\n",
              "      </output>\n",
              "      <script>// Copyright 2017 Google LLC\n",
              "//\n",
              "// Licensed under the Apache License, Version 2.0 (the \"License\");\n",
              "// you may not use this file except in compliance with the License.\n",
              "// You may obtain a copy of the License at\n",
              "//\n",
              "//      http://www.apache.org/licenses/LICENSE-2.0\n",
              "//\n",
              "// Unless required by applicable law or agreed to in writing, software\n",
              "// distributed under the License is distributed on an \"AS IS\" BASIS,\n",
              "// WITHOUT WARRANTIES OR CONDITIONS OF ANY KIND, either express or implied.\n",
              "// See the License for the specific language governing permissions and\n",
              "// limitations under the License.\n",
              "\n",
              "/**\n",
              " * @fileoverview Helpers for google.colab Python module.\n",
              " */\n",
              "(function(scope) {\n",
              "function span(text, styleAttributes = {}) {\n",
              "  const element = document.createElement('span');\n",
              "  element.textContent = text;\n",
              "  for (const key of Object.keys(styleAttributes)) {\n",
              "    element.style[key] = styleAttributes[key];\n",
              "  }\n",
              "  return element;\n",
              "}\n",
              "\n",
              "// Max number of bytes which will be uploaded at a time.\n",
              "const MAX_PAYLOAD_SIZE = 100 * 1024;\n",
              "\n",
              "function _uploadFiles(inputId, outputId) {\n",
              "  const steps = uploadFilesStep(inputId, outputId);\n",
              "  const outputElement = document.getElementById(outputId);\n",
              "  // Cache steps on the outputElement to make it available for the next call\n",
              "  // to uploadFilesContinue from Python.\n",
              "  outputElement.steps = steps;\n",
              "\n",
              "  return _uploadFilesContinue(outputId);\n",
              "}\n",
              "\n",
              "// This is roughly an async generator (not supported in the browser yet),\n",
              "// where there are multiple asynchronous steps and the Python side is going\n",
              "// to poll for completion of each step.\n",
              "// This uses a Promise to block the python side on completion of each step,\n",
              "// then passes the result of the previous step as the input to the next step.\n",
              "function _uploadFilesContinue(outputId) {\n",
              "  const outputElement = document.getElementById(outputId);\n",
              "  const steps = outputElement.steps;\n",
              "\n",
              "  const next = steps.next(outputElement.lastPromiseValue);\n",
              "  return Promise.resolve(next.value.promise).then((value) => {\n",
              "    // Cache the last promise value to make it available to the next\n",
              "    // step of the generator.\n",
              "    outputElement.lastPromiseValue = value;\n",
              "    return next.value.response;\n",
              "  });\n",
              "}\n",
              "\n",
              "/**\n",
              " * Generator function which is called between each async step of the upload\n",
              " * process.\n",
              " * @param {string} inputId Element ID of the input file picker element.\n",
              " * @param {string} outputId Element ID of the output display.\n",
              " * @return {!Iterable<!Object>} Iterable of next steps.\n",
              " */\n",
              "function* uploadFilesStep(inputId, outputId) {\n",
              "  const inputElement = document.getElementById(inputId);\n",
              "  inputElement.disabled = false;\n",
              "\n",
              "  const outputElement = document.getElementById(outputId);\n",
              "  outputElement.innerHTML = '';\n",
              "\n",
              "  const pickedPromise = new Promise((resolve) => {\n",
              "    inputElement.addEventListener('change', (e) => {\n",
              "      resolve(e.target.files);\n",
              "    });\n",
              "  });\n",
              "\n",
              "  const cancel = document.createElement('button');\n",
              "  inputElement.parentElement.appendChild(cancel);\n",
              "  cancel.textContent = 'Cancel upload';\n",
              "  const cancelPromise = new Promise((resolve) => {\n",
              "    cancel.onclick = () => {\n",
              "      resolve(null);\n",
              "    };\n",
              "  });\n",
              "\n",
              "  // Wait for the user to pick the files.\n",
              "  const files = yield {\n",
              "    promise: Promise.race([pickedPromise, cancelPromise]),\n",
              "    response: {\n",
              "      action: 'starting',\n",
              "    }\n",
              "  };\n",
              "\n",
              "  cancel.remove();\n",
              "\n",
              "  // Disable the input element since further picks are not allowed.\n",
              "  inputElement.disabled = true;\n",
              "\n",
              "  if (!files) {\n",
              "    return {\n",
              "      response: {\n",
              "        action: 'complete',\n",
              "      }\n",
              "    };\n",
              "  }\n",
              "\n",
              "  for (const file of files) {\n",
              "    const li = document.createElement('li');\n",
              "    li.append(span(file.name, {fontWeight: 'bold'}));\n",
              "    li.append(span(\n",
              "        `(${file.type || 'n/a'}) - ${file.size} bytes, ` +\n",
              "        `last modified: ${\n",
              "            file.lastModifiedDate ? file.lastModifiedDate.toLocaleDateString() :\n",
              "                                    'n/a'} - `));\n",
              "    const percent = span('0% done');\n",
              "    li.appendChild(percent);\n",
              "\n",
              "    outputElement.appendChild(li);\n",
              "\n",
              "    const fileDataPromise = new Promise((resolve) => {\n",
              "      const reader = new FileReader();\n",
              "      reader.onload = (e) => {\n",
              "        resolve(e.target.result);\n",
              "      };\n",
              "      reader.readAsArrayBuffer(file);\n",
              "    });\n",
              "    // Wait for the data to be ready.\n",
              "    let fileData = yield {\n",
              "      promise: fileDataPromise,\n",
              "      response: {\n",
              "        action: 'continue',\n",
              "      }\n",
              "    };\n",
              "\n",
              "    // Use a chunked sending to avoid message size limits. See b/62115660.\n",
              "    let position = 0;\n",
              "    do {\n",
              "      const length = Math.min(fileData.byteLength - position, MAX_PAYLOAD_SIZE);\n",
              "      const chunk = new Uint8Array(fileData, position, length);\n",
              "      position += length;\n",
              "\n",
              "      const base64 = btoa(String.fromCharCode.apply(null, chunk));\n",
              "      yield {\n",
              "        response: {\n",
              "          action: 'append',\n",
              "          file: file.name,\n",
              "          data: base64,\n",
              "        },\n",
              "      };\n",
              "\n",
              "      let percentDone = fileData.byteLength === 0 ?\n",
              "          100 :\n",
              "          Math.round((position / fileData.byteLength) * 100);\n",
              "      percent.textContent = `${percentDone}% done`;\n",
              "\n",
              "    } while (position < fileData.byteLength);\n",
              "  }\n",
              "\n",
              "  // All done.\n",
              "  yield {\n",
              "    response: {\n",
              "      action: 'complete',\n",
              "    }\n",
              "  };\n",
              "}\n",
              "\n",
              "scope.google = scope.google || {};\n",
              "scope.google.colab = scope.google.colab || {};\n",
              "scope.google.colab._files = {\n",
              "  _uploadFiles,\n",
              "  _uploadFilesContinue,\n",
              "};\n",
              "})(self);\n",
              "</script> "
            ]
          },
          "metadata": {}
        },
        {
          "output_type": "stream",
          "name": "stdout",
          "text": [
            "Saving Documents.csv to Documents.csv\n"
          ]
        }
      ],
      "source": [
        "#importing given dataset\n",
        "from google.colab import files\n",
        "uploaded = files.upload()\n",
        "import io\n",
        "df = pd.read_csv(io.BytesIO(uploaded['Documents.csv']))"
      ]
    },
    {
      "cell_type": "markdown",
      "metadata": {
        "id": "oxgxaeN0ifGG"
      },
      "source": [
        "###Number of column and rows\n"
      ]
    },
    {
      "cell_type": "code",
      "execution_count": 100,
      "metadata": {
        "colab": {
          "base_uri": "https://localhost:8080/"
        },
        "outputId": "40c9f45a-8519-48b9-ee5c-666fac457595",
        "id": "bEl0JCfPifGH"
      },
      "outputs": [
        {
          "output_type": "execute_result",
          "data": {
            "text/plain": [
              "(1041, 17)"
            ]
          },
          "metadata": {},
          "execution_count": 100
        }
      ],
      "source": [
        "df.shape"
      ]
    },
    {
      "cell_type": "markdown",
      "metadata": {
        "id": "07_WGxzTifGH"
      },
      "source": [
        "###checking the detail Information of the dataset"
      ]
    },
    {
      "cell_type": "code",
      "execution_count": 101,
      "metadata": {
        "colab": {
          "base_uri": "https://localhost:8080/"
        },
        "outputId": "163252f5-a733-4142-cdbe-2a12dff1f057",
        "id": "Ic6AGb1LifGH"
      },
      "outputs": [
        {
          "output_type": "stream",
          "name": "stdout",
          "text": [
            "<class 'pandas.core.frame.DataFrame'>\n",
            "RangeIndex: 1041 entries, 0 to 1040\n",
            "Data columns (total 17 columns):\n",
            " #   Column                 Non-Null Count  Dtype  \n",
            "---  ------                 --------------  -----  \n",
            " 0   id                     1041 non-null   int64  \n",
            " 1   user_id                1041 non-null   int64  \n",
            " 2   document_name          1041 non-null   object \n",
            " 3   description            1041 non-null   object \n",
            " 4   pdf_name               965 non-null    object \n",
            " 5   pdf_path               965 non-null    object \n",
            " 6   status                 1041 non-null   int64  \n",
            " 7   latitude               728 non-null    float64\n",
            " 8   longitude              728 non-null    float64\n",
            " 9   created_at             1041 non-null   object \n",
            " 10  updated_at             1041 non-null   object \n",
            " 11  color_id               1007 non-null   float64\n",
            " 12  color_status           1041 non-null   int64  \n",
            " 13  is_fake                1041 non-null   int64  \n",
            " 14  state                  764 non-null    object \n",
            " 15  county                 763 non-null    object \n",
            " 16  attachment_permission  1041 non-null   int64  \n",
            "dtypes: float64(3), int64(6), object(8)\n",
            "memory usage: 138.4+ KB\n"
          ]
        }
      ],
      "source": [
        "df.info()"
      ]
    },
    {
      "cell_type": "markdown",
      "metadata": {
        "id": "Fqh9HTXmifGI"
      },
      "source": [
        "###Display all the columns name\n"
      ]
    },
    {
      "cell_type": "code",
      "execution_count": 102,
      "metadata": {
        "colab": {
          "base_uri": "https://localhost:8080/"
        },
        "outputId": "77f0cc3b-2e07-496b-f965-1e0382463556",
        "id": "uJ-hGo7LifGI"
      },
      "outputs": [
        {
          "output_type": "execute_result",
          "data": {
            "text/plain": [
              "Index(['id', 'user_id', 'document_name', 'description', 'pdf_name', 'pdf_path',\n",
              "       'status', 'latitude', 'longitude', 'created_at', 'updated_at',\n",
              "       'color_id', 'color_status', 'is_fake', 'state', 'county',\n",
              "       'attachment_permission'],\n",
              "      dtype='object')"
            ]
          },
          "metadata": {},
          "execution_count": 102
        }
      ],
      "source": [
        "df.columns"
      ]
    },
    {
      "cell_type": "markdown",
      "metadata": {
        "id": "Y1H24OVsifGI"
      },
      "source": [
        "###Describe the entire Dataset\n"
      ]
    },
    {
      "cell_type": "code",
      "execution_count": 103,
      "metadata": {
        "colab": {
          "base_uri": "https://localhost:8080/",
          "height": 320
        },
        "outputId": "3d0c214d-e100-4aa3-fbcf-5686ecdf852c",
        "id": "wxJD5ZrnifGJ"
      },
      "outputs": [
        {
          "output_type": "execute_result",
          "data": {
            "text/plain": [
              "                id       user_id  status    latitude   longitude     color_id  \\\n",
              "count  1041.000000   1041.000000  1041.0  728.000000  728.000000  1007.000000   \n",
              "mean    715.563881   6079.833814     1.0   36.675686  -93.439102     3.175770   \n",
              "std     387.626180   3648.661206     0.0    5.389094   23.228561     0.928823   \n",
              "min       7.000000     44.000000     1.0    0.000000 -157.858140     2.000000   \n",
              "25%     377.000000   3186.000000     1.0   33.430250 -111.856035     3.000000   \n",
              "50%     727.000000   5942.000000     1.0   35.539130  -88.786110     3.000000   \n",
              "75%     989.000000   9312.000000     1.0   40.848674  -80.102758     4.000000   \n",
              "max    1544.000000  14725.000000     1.0   58.400519   83.570233     6.000000   \n",
              "\n",
              "       color_status      is_fake  attachment_permission  \n",
              "count   1041.000000  1041.000000            1041.000000  \n",
              "mean       0.967339     0.008646               0.999039  \n",
              "std        0.177833     0.092623               0.030994  \n",
              "min        0.000000     0.000000               0.000000  \n",
              "25%        1.000000     0.000000               1.000000  \n",
              "50%        1.000000     0.000000               1.000000  \n",
              "75%        1.000000     0.000000               1.000000  \n",
              "max        1.000000     1.000000               1.000000  "
            ],
            "text/html": [
              "\n",
              "  <div id=\"df-d3a2ae5c-6641-4694-900d-32fd7aa1c570\" class=\"colab-df-container\">\n",
              "    <div>\n",
              "<style scoped>\n",
              "    .dataframe tbody tr th:only-of-type {\n",
              "        vertical-align: middle;\n",
              "    }\n",
              "\n",
              "    .dataframe tbody tr th {\n",
              "        vertical-align: top;\n",
              "    }\n",
              "\n",
              "    .dataframe thead th {\n",
              "        text-align: right;\n",
              "    }\n",
              "</style>\n",
              "<table border=\"1\" class=\"dataframe\">\n",
              "  <thead>\n",
              "    <tr style=\"text-align: right;\">\n",
              "      <th></th>\n",
              "      <th>id</th>\n",
              "      <th>user_id</th>\n",
              "      <th>status</th>\n",
              "      <th>latitude</th>\n",
              "      <th>longitude</th>\n",
              "      <th>color_id</th>\n",
              "      <th>color_status</th>\n",
              "      <th>is_fake</th>\n",
              "      <th>attachment_permission</th>\n",
              "    </tr>\n",
              "  </thead>\n",
              "  <tbody>\n",
              "    <tr>\n",
              "      <th>count</th>\n",
              "      <td>1041.000000</td>\n",
              "      <td>1041.000000</td>\n",
              "      <td>1041.0</td>\n",
              "      <td>728.000000</td>\n",
              "      <td>728.000000</td>\n",
              "      <td>1007.000000</td>\n",
              "      <td>1041.000000</td>\n",
              "      <td>1041.000000</td>\n",
              "      <td>1041.000000</td>\n",
              "    </tr>\n",
              "    <tr>\n",
              "      <th>mean</th>\n",
              "      <td>715.563881</td>\n",
              "      <td>6079.833814</td>\n",
              "      <td>1.0</td>\n",
              "      <td>36.675686</td>\n",
              "      <td>-93.439102</td>\n",
              "      <td>3.175770</td>\n",
              "      <td>0.967339</td>\n",
              "      <td>0.008646</td>\n",
              "      <td>0.999039</td>\n",
              "    </tr>\n",
              "    <tr>\n",
              "      <th>std</th>\n",
              "      <td>387.626180</td>\n",
              "      <td>3648.661206</td>\n",
              "      <td>0.0</td>\n",
              "      <td>5.389094</td>\n",
              "      <td>23.228561</td>\n",
              "      <td>0.928823</td>\n",
              "      <td>0.177833</td>\n",
              "      <td>0.092623</td>\n",
              "      <td>0.030994</td>\n",
              "    </tr>\n",
              "    <tr>\n",
              "      <th>min</th>\n",
              "      <td>7.000000</td>\n",
              "      <td>44.000000</td>\n",
              "      <td>1.0</td>\n",
              "      <td>0.000000</td>\n",
              "      <td>-157.858140</td>\n",
              "      <td>2.000000</td>\n",
              "      <td>0.000000</td>\n",
              "      <td>0.000000</td>\n",
              "      <td>0.000000</td>\n",
              "    </tr>\n",
              "    <tr>\n",
              "      <th>25%</th>\n",
              "      <td>377.000000</td>\n",
              "      <td>3186.000000</td>\n",
              "      <td>1.0</td>\n",
              "      <td>33.430250</td>\n",
              "      <td>-111.856035</td>\n",
              "      <td>3.000000</td>\n",
              "      <td>1.000000</td>\n",
              "      <td>0.000000</td>\n",
              "      <td>1.000000</td>\n",
              "    </tr>\n",
              "    <tr>\n",
              "      <th>50%</th>\n",
              "      <td>727.000000</td>\n",
              "      <td>5942.000000</td>\n",
              "      <td>1.0</td>\n",
              "      <td>35.539130</td>\n",
              "      <td>-88.786110</td>\n",
              "      <td>3.000000</td>\n",
              "      <td>1.000000</td>\n",
              "      <td>0.000000</td>\n",
              "      <td>1.000000</td>\n",
              "    </tr>\n",
              "    <tr>\n",
              "      <th>75%</th>\n",
              "      <td>989.000000</td>\n",
              "      <td>9312.000000</td>\n",
              "      <td>1.0</td>\n",
              "      <td>40.848674</td>\n",
              "      <td>-80.102758</td>\n",
              "      <td>4.000000</td>\n",
              "      <td>1.000000</td>\n",
              "      <td>0.000000</td>\n",
              "      <td>1.000000</td>\n",
              "    </tr>\n",
              "    <tr>\n",
              "      <th>max</th>\n",
              "      <td>1544.000000</td>\n",
              "      <td>14725.000000</td>\n",
              "      <td>1.0</td>\n",
              "      <td>58.400519</td>\n",
              "      <td>83.570233</td>\n",
              "      <td>6.000000</td>\n",
              "      <td>1.000000</td>\n",
              "      <td>1.000000</td>\n",
              "      <td>1.000000</td>\n",
              "    </tr>\n",
              "  </tbody>\n",
              "</table>\n",
              "</div>\n",
              "    <div class=\"colab-df-buttons\">\n",
              "\n",
              "  <div class=\"colab-df-container\">\n",
              "    <button class=\"colab-df-convert\" onclick=\"convertToInteractive('df-d3a2ae5c-6641-4694-900d-32fd7aa1c570')\"\n",
              "            title=\"Convert this dataframe to an interactive table.\"\n",
              "            style=\"display:none;\">\n",
              "\n",
              "  <svg xmlns=\"http://www.w3.org/2000/svg\" height=\"24px\" viewBox=\"0 -960 960 960\">\n",
              "    <path d=\"M120-120v-720h720v720H120Zm60-500h600v-160H180v160Zm220 220h160v-160H400v160Zm0 220h160v-160H400v160ZM180-400h160v-160H180v160Zm440 0h160v-160H620v160ZM180-180h160v-160H180v160Zm440 0h160v-160H620v160Z\"/>\n",
              "  </svg>\n",
              "    </button>\n",
              "\n",
              "  <style>\n",
              "    .colab-df-container {\n",
              "      display:flex;\n",
              "      gap: 12px;\n",
              "    }\n",
              "\n",
              "    .colab-df-convert {\n",
              "      background-color: #E8F0FE;\n",
              "      border: none;\n",
              "      border-radius: 50%;\n",
              "      cursor: pointer;\n",
              "      display: none;\n",
              "      fill: #1967D2;\n",
              "      height: 32px;\n",
              "      padding: 0 0 0 0;\n",
              "      width: 32px;\n",
              "    }\n",
              "\n",
              "    .colab-df-convert:hover {\n",
              "      background-color: #E2EBFA;\n",
              "      box-shadow: 0px 1px 2px rgba(60, 64, 67, 0.3), 0px 1px 3px 1px rgba(60, 64, 67, 0.15);\n",
              "      fill: #174EA6;\n",
              "    }\n",
              "\n",
              "    .colab-df-buttons div {\n",
              "      margin-bottom: 4px;\n",
              "    }\n",
              "\n",
              "    [theme=dark] .colab-df-convert {\n",
              "      background-color: #3B4455;\n",
              "      fill: #D2E3FC;\n",
              "    }\n",
              "\n",
              "    [theme=dark] .colab-df-convert:hover {\n",
              "      background-color: #434B5C;\n",
              "      box-shadow: 0px 1px 3px 1px rgba(0, 0, 0, 0.15);\n",
              "      filter: drop-shadow(0px 1px 2px rgba(0, 0, 0, 0.3));\n",
              "      fill: #FFFFFF;\n",
              "    }\n",
              "  </style>\n",
              "\n",
              "    <script>\n",
              "      const buttonEl =\n",
              "        document.querySelector('#df-d3a2ae5c-6641-4694-900d-32fd7aa1c570 button.colab-df-convert');\n",
              "      buttonEl.style.display =\n",
              "        google.colab.kernel.accessAllowed ? 'block' : 'none';\n",
              "\n",
              "      async function convertToInteractive(key) {\n",
              "        const element = document.querySelector('#df-d3a2ae5c-6641-4694-900d-32fd7aa1c570');\n",
              "        const dataTable =\n",
              "          await google.colab.kernel.invokeFunction('convertToInteractive',\n",
              "                                                    [key], {});\n",
              "        if (!dataTable) return;\n",
              "\n",
              "        const docLinkHtml = 'Like what you see? Visit the ' +\n",
              "          '<a target=\"_blank\" href=https://colab.research.google.com/notebooks/data_table.ipynb>data table notebook</a>'\n",
              "          + ' to learn more about interactive tables.';\n",
              "        element.innerHTML = '';\n",
              "        dataTable['output_type'] = 'display_data';\n",
              "        await google.colab.output.renderOutput(dataTable, element);\n",
              "        const docLink = document.createElement('div');\n",
              "        docLink.innerHTML = docLinkHtml;\n",
              "        element.appendChild(docLink);\n",
              "      }\n",
              "    </script>\n",
              "  </div>\n",
              "\n",
              "\n",
              "<div id=\"df-4b563eaa-59f1-4d89-9a7f-7ec78c8b9d6f\">\n",
              "  <button class=\"colab-df-quickchart\" onclick=\"quickchart('df-4b563eaa-59f1-4d89-9a7f-7ec78c8b9d6f')\"\n",
              "            title=\"Suggest charts\"\n",
              "            style=\"display:none;\">\n",
              "\n",
              "<svg xmlns=\"http://www.w3.org/2000/svg\" height=\"24px\"viewBox=\"0 0 24 24\"\n",
              "     width=\"24px\">\n",
              "    <g>\n",
              "        <path d=\"M19 3H5c-1.1 0-2 .9-2 2v14c0 1.1.9 2 2 2h14c1.1 0 2-.9 2-2V5c0-1.1-.9-2-2-2zM9 17H7v-7h2v7zm4 0h-2V7h2v10zm4 0h-2v-4h2v4z\"/>\n",
              "    </g>\n",
              "</svg>\n",
              "  </button>\n",
              "\n",
              "<style>\n",
              "  .colab-df-quickchart {\n",
              "      --bg-color: #E8F0FE;\n",
              "      --fill-color: #1967D2;\n",
              "      --hover-bg-color: #E2EBFA;\n",
              "      --hover-fill-color: #174EA6;\n",
              "      --disabled-fill-color: #AAA;\n",
              "      --disabled-bg-color: #DDD;\n",
              "  }\n",
              "\n",
              "  [theme=dark] .colab-df-quickchart {\n",
              "      --bg-color: #3B4455;\n",
              "      --fill-color: #D2E3FC;\n",
              "      --hover-bg-color: #434B5C;\n",
              "      --hover-fill-color: #FFFFFF;\n",
              "      --disabled-bg-color: #3B4455;\n",
              "      --disabled-fill-color: #666;\n",
              "  }\n",
              "\n",
              "  .colab-df-quickchart {\n",
              "    background-color: var(--bg-color);\n",
              "    border: none;\n",
              "    border-radius: 50%;\n",
              "    cursor: pointer;\n",
              "    display: none;\n",
              "    fill: var(--fill-color);\n",
              "    height: 32px;\n",
              "    padding: 0;\n",
              "    width: 32px;\n",
              "  }\n",
              "\n",
              "  .colab-df-quickchart:hover {\n",
              "    background-color: var(--hover-bg-color);\n",
              "    box-shadow: 0 1px 2px rgba(60, 64, 67, 0.3), 0 1px 3px 1px rgba(60, 64, 67, 0.15);\n",
              "    fill: var(--button-hover-fill-color);\n",
              "  }\n",
              "\n",
              "  .colab-df-quickchart-complete:disabled,\n",
              "  .colab-df-quickchart-complete:disabled:hover {\n",
              "    background-color: var(--disabled-bg-color);\n",
              "    fill: var(--disabled-fill-color);\n",
              "    box-shadow: none;\n",
              "  }\n",
              "\n",
              "  .colab-df-spinner {\n",
              "    border: 2px solid var(--fill-color);\n",
              "    border-color: transparent;\n",
              "    border-bottom-color: var(--fill-color);\n",
              "    animation:\n",
              "      spin 1s steps(1) infinite;\n",
              "  }\n",
              "\n",
              "  @keyframes spin {\n",
              "    0% {\n",
              "      border-color: transparent;\n",
              "      border-bottom-color: var(--fill-color);\n",
              "      border-left-color: var(--fill-color);\n",
              "    }\n",
              "    20% {\n",
              "      border-color: transparent;\n",
              "      border-left-color: var(--fill-color);\n",
              "      border-top-color: var(--fill-color);\n",
              "    }\n",
              "    30% {\n",
              "      border-color: transparent;\n",
              "      border-left-color: var(--fill-color);\n",
              "      border-top-color: var(--fill-color);\n",
              "      border-right-color: var(--fill-color);\n",
              "    }\n",
              "    40% {\n",
              "      border-color: transparent;\n",
              "      border-right-color: var(--fill-color);\n",
              "      border-top-color: var(--fill-color);\n",
              "    }\n",
              "    60% {\n",
              "      border-color: transparent;\n",
              "      border-right-color: var(--fill-color);\n",
              "    }\n",
              "    80% {\n",
              "      border-color: transparent;\n",
              "      border-right-color: var(--fill-color);\n",
              "      border-bottom-color: var(--fill-color);\n",
              "    }\n",
              "    90% {\n",
              "      border-color: transparent;\n",
              "      border-bottom-color: var(--fill-color);\n",
              "    }\n",
              "  }\n",
              "</style>\n",
              "\n",
              "  <script>\n",
              "    async function quickchart(key) {\n",
              "      const quickchartButtonEl =\n",
              "        document.querySelector('#' + key + ' button');\n",
              "      quickchartButtonEl.disabled = true;  // To prevent multiple clicks.\n",
              "      quickchartButtonEl.classList.add('colab-df-spinner');\n",
              "      try {\n",
              "        const charts = await google.colab.kernel.invokeFunction(\n",
              "            'suggestCharts', [key], {});\n",
              "      } catch (error) {\n",
              "        console.error('Error during call to suggestCharts:', error);\n",
              "      }\n",
              "      quickchartButtonEl.classList.remove('colab-df-spinner');\n",
              "      quickchartButtonEl.classList.add('colab-df-quickchart-complete');\n",
              "    }\n",
              "    (() => {\n",
              "      let quickchartButtonEl =\n",
              "        document.querySelector('#df-4b563eaa-59f1-4d89-9a7f-7ec78c8b9d6f button');\n",
              "      quickchartButtonEl.style.display =\n",
              "        google.colab.kernel.accessAllowed ? 'block' : 'none';\n",
              "    })();\n",
              "  </script>\n",
              "</div>\n",
              "\n",
              "    </div>\n",
              "  </div>\n"
            ],
            "application/vnd.google.colaboratory.intrinsic+json": {
              "type": "dataframe",
              "summary": "{\n  \"name\": \"df\",\n  \"rows\": 8,\n  \"fields\": [\n    {\n      \"column\": \"id\",\n      \"properties\": {\n        \"dtype\": \"number\",\n        \"std\": 476.72059803405165,\n        \"min\": 7.0,\n        \"max\": 1544.0,\n        \"num_unique_values\": 8,\n        \"samples\": [\n          715.5638808837656,\n          727.0,\n          1041.0\n        ],\n        \"semantic_type\": \"\",\n        \"description\": \"\"\n      }\n    },\n    {\n      \"column\": \"user_id\",\n      \"properties\": {\n        \"dtype\": \"number\",\n        \"std\": 4759.894218099807,\n        \"min\": 44.0,\n        \"max\": 14725.0,\n        \"num_unique_values\": 8,\n        \"samples\": [\n          6079.83381364073,\n          5942.0,\n          1041.0\n        ],\n        \"semantic_type\": \"\",\n        \"description\": \"\"\n      }\n    },\n    {\n      \"column\": \"status\",\n      \"properties\": {\n        \"dtype\": \"number\",\n        \"std\": 367.7462003299869,\n        \"min\": 0.0,\n        \"max\": 1041.0,\n        \"num_unique_values\": 3,\n        \"samples\": [\n          1041.0,\n          1.0,\n          0.0\n        ],\n        \"semantic_type\": \"\",\n        \"description\": \"\"\n      }\n    },\n    {\n      \"column\": \"latitude\",\n      \"properties\": {\n        \"dtype\": \"number\",\n        \"std\": 247.4934452604859,\n        \"min\": 0.0,\n        \"max\": 728.0,\n        \"num_unique_values\": 8,\n        \"samples\": [\n          36.67568648698569,\n          35.5391303684736,\n          728.0\n        ],\n        \"semantic_type\": \"\",\n        \"description\": \"\"\n      }\n    },\n    {\n      \"column\": \"longitude\",\n      \"properties\": {\n        \"dtype\": \"number\",\n        \"std\": 289.46036177299754,\n        \"min\": -157.8581401,\n        \"max\": 728.0,\n        \"num_unique_values\": 8,\n        \"samples\": [\n          -93.4391021101503,\n          -88.78611029999999,\n          728.0\n        ],\n        \"semantic_type\": \"\",\n        \"description\": \"\"\n      }\n    },\n    {\n      \"column\": \"color_id\",\n      \"properties\": {\n        \"dtype\": \"number\",\n        \"std\": 354.91486209697945,\n        \"min\": 0.9288231820583374,\n        \"max\": 1007.0,\n        \"num_unique_values\": 7,\n        \"samples\": [\n          1007.0,\n          3.1757696127110226,\n          4.0\n        ],\n        \"semantic_type\": \"\",\n        \"description\": \"\"\n      }\n    },\n    {\n      \"column\": \"color_status\",\n      \"properties\": {\n        \"dtype\": \"number\",\n        \"std\": 367.78943942204694,\n        \"min\": 0.0,\n        \"max\": 1041.0,\n        \"num_unique_values\": 5,\n        \"samples\": [\n          0.9673390970220941,\n          1.0,\n          0.1778329199069885\n        ],\n        \"semantic_type\": \"\",\n        \"description\": \"\"\n      }\n    },\n    {\n      \"column\": \"is_fake\",\n      \"properties\": {\n        \"dtype\": \"number\",\n        \"std\": 367.99361929764177,\n        \"min\": 0.0,\n        \"max\": 1041.0,\n        \"num_unique_values\": 5,\n        \"samples\": [\n          0.008645533141210375,\n          1.0,\n          0.09262304810426042\n        ],\n        \"semantic_type\": \"\",\n        \"description\": \"\"\n      }\n    },\n    {\n      \"column\": \"attachment_permission\",\n      \"properties\": {\n        \"dtype\": \"number\",\n        \"std\": 367.7952934626994,\n        \"min\": 0.0,\n        \"max\": 1041.0,\n        \"num_unique_values\": 5,\n        \"samples\": [\n          0.9990393852065321,\n          1.0,\n          0.030993786368687187\n        ],\n        \"semantic_type\": \"\",\n        \"description\": \"\"\n      }\n    }\n  ]\n}"
            }
          },
          "metadata": {},
          "execution_count": 103
        }
      ],
      "source": [
        "df.describe()"
      ]
    },
    {
      "cell_type": "markdown",
      "metadata": {
        "id": "7UQxDLBBifGJ"
      },
      "source": [
        "#Data Cleaning\n"
      ]
    },
    {
      "cell_type": "markdown",
      "metadata": {
        "id": "nc9VODXzifGJ"
      },
      "source": [
        "####show the five record of the dataset\n",
        "\n"
      ]
    },
    {
      "cell_type": "code",
      "execution_count": 104,
      "metadata": {
        "colab": {
          "base_uri": "https://localhost:8080/",
          "height": 521
        },
        "outputId": "d52e6a19-cdb1-4a3b-e832-8407f3e22b94",
        "id": "95B60EfXifGJ"
      },
      "outputs": [
        {
          "output_type": "execute_result",
          "data": {
            "text/plain": [
              "   id  user_id          document_name  \\\n",
              "0   7      290         Misc.Red Flags   \n",
              "1  10      342  Mail in Ballot Issues   \n",
              "2  11      448        Misc. Red Flags   \n",
              "3  12      486           Help/Support   \n",
              "4  13      497        Misc. Red Flags   \n",
              "\n",
              "                                         description  \\\n",
              "0        ES&S machines in poll manager training room   \n",
              "1  Why is a person registered to vote at the Noko...   \n",
              "2  Found a bus broke down with ballot printers. T...   \n",
              "3      How do I see other candidates beside Finchem?   \n",
              "4  early voting again without requesting it. no i...   \n",
              "\n",
              "                           pdf_name                               pdf_path  \\\n",
              "0                              .png                              /pdf/.png   \n",
              "1                              .png                              /pdf/.png   \n",
              "2  Fri Jun 03 16_16_43 MST 2022.jpg  /pdf/Fri Jun 03 16_16_43 MST 2022.jpg   \n",
              "3                              .png                              /pdf/.png   \n",
              "4                 1654390984885.jpg                 /pdf/1654390984885.jpg   \n",
              "\n",
              "   status  latitude  longitude       created_at       updated_at  color_id  \\\n",
              "0       1       NaN        NaN  5/18/2022 13:57  11/6/2023 12:49       3.0   \n",
              "1       1       NaN        NaN   5/28/2022 2:29  8/30/2023 13:53       2.0   \n",
              "2       1       NaN        NaN   6/3/2022 23:17  8/30/2023 13:52       3.0   \n",
              "3       1       NaN        NaN   6/4/2022 20:50   6/4/2022 20:50       NaN   \n",
              "4       1       NaN        NaN    6/5/2022 1:03  8/30/2023 13:52       2.0   \n",
              "\n",
              "   color_status  is_fake state county  attachment_permission  \n",
              "0             1        0   NaN    NaN                      1  \n",
              "1             1        0   NaN    NaN                      1  \n",
              "2             1        0   NaN    NaN                      1  \n",
              "3             0        0   NaN    NaN                      1  \n",
              "4             1        0   NaN    NaN                      1  "
            ],
            "text/html": [
              "\n",
              "  <div id=\"df-d3a6a647-1497-494a-821b-4113d8db21f9\" class=\"colab-df-container\">\n",
              "    <div>\n",
              "<style scoped>\n",
              "    .dataframe tbody tr th:only-of-type {\n",
              "        vertical-align: middle;\n",
              "    }\n",
              "\n",
              "    .dataframe tbody tr th {\n",
              "        vertical-align: top;\n",
              "    }\n",
              "\n",
              "    .dataframe thead th {\n",
              "        text-align: right;\n",
              "    }\n",
              "</style>\n",
              "<table border=\"1\" class=\"dataframe\">\n",
              "  <thead>\n",
              "    <tr style=\"text-align: right;\">\n",
              "      <th></th>\n",
              "      <th>id</th>\n",
              "      <th>user_id</th>\n",
              "      <th>document_name</th>\n",
              "      <th>description</th>\n",
              "      <th>pdf_name</th>\n",
              "      <th>pdf_path</th>\n",
              "      <th>status</th>\n",
              "      <th>latitude</th>\n",
              "      <th>longitude</th>\n",
              "      <th>created_at</th>\n",
              "      <th>updated_at</th>\n",
              "      <th>color_id</th>\n",
              "      <th>color_status</th>\n",
              "      <th>is_fake</th>\n",
              "      <th>state</th>\n",
              "      <th>county</th>\n",
              "      <th>attachment_permission</th>\n",
              "    </tr>\n",
              "  </thead>\n",
              "  <tbody>\n",
              "    <tr>\n",
              "      <th>0</th>\n",
              "      <td>7</td>\n",
              "      <td>290</td>\n",
              "      <td>Misc.Red Flags</td>\n",
              "      <td>ES&amp;S machines in poll manager training room</td>\n",
              "      <td>.png</td>\n",
              "      <td>/pdf/.png</td>\n",
              "      <td>1</td>\n",
              "      <td>NaN</td>\n",
              "      <td>NaN</td>\n",
              "      <td>5/18/2022 13:57</td>\n",
              "      <td>11/6/2023 12:49</td>\n",
              "      <td>3.0</td>\n",
              "      <td>1</td>\n",
              "      <td>0</td>\n",
              "      <td>NaN</td>\n",
              "      <td>NaN</td>\n",
              "      <td>1</td>\n",
              "    </tr>\n",
              "    <tr>\n",
              "      <th>1</th>\n",
              "      <td>10</td>\n",
              "      <td>342</td>\n",
              "      <td>Mail in Ballot Issues</td>\n",
              "      <td>Why is a person registered to vote at the Noko...</td>\n",
              "      <td>.png</td>\n",
              "      <td>/pdf/.png</td>\n",
              "      <td>1</td>\n",
              "      <td>NaN</td>\n",
              "      <td>NaN</td>\n",
              "      <td>5/28/2022 2:29</td>\n",
              "      <td>8/30/2023 13:53</td>\n",
              "      <td>2.0</td>\n",
              "      <td>1</td>\n",
              "      <td>0</td>\n",
              "      <td>NaN</td>\n",
              "      <td>NaN</td>\n",
              "      <td>1</td>\n",
              "    </tr>\n",
              "    <tr>\n",
              "      <th>2</th>\n",
              "      <td>11</td>\n",
              "      <td>448</td>\n",
              "      <td>Misc. Red Flags</td>\n",
              "      <td>Found a bus broke down with ballot printers. T...</td>\n",
              "      <td>Fri Jun 03 16_16_43 MST 2022.jpg</td>\n",
              "      <td>/pdf/Fri Jun 03 16_16_43 MST 2022.jpg</td>\n",
              "      <td>1</td>\n",
              "      <td>NaN</td>\n",
              "      <td>NaN</td>\n",
              "      <td>6/3/2022 23:17</td>\n",
              "      <td>8/30/2023 13:52</td>\n",
              "      <td>3.0</td>\n",
              "      <td>1</td>\n",
              "      <td>0</td>\n",
              "      <td>NaN</td>\n",
              "      <td>NaN</td>\n",
              "      <td>1</td>\n",
              "    </tr>\n",
              "    <tr>\n",
              "      <th>3</th>\n",
              "      <td>12</td>\n",
              "      <td>486</td>\n",
              "      <td>Help/Support</td>\n",
              "      <td>How do I see other candidates beside Finchem?</td>\n",
              "      <td>.png</td>\n",
              "      <td>/pdf/.png</td>\n",
              "      <td>1</td>\n",
              "      <td>NaN</td>\n",
              "      <td>NaN</td>\n",
              "      <td>6/4/2022 20:50</td>\n",
              "      <td>6/4/2022 20:50</td>\n",
              "      <td>NaN</td>\n",
              "      <td>0</td>\n",
              "      <td>0</td>\n",
              "      <td>NaN</td>\n",
              "      <td>NaN</td>\n",
              "      <td>1</td>\n",
              "    </tr>\n",
              "    <tr>\n",
              "      <th>4</th>\n",
              "      <td>13</td>\n",
              "      <td>497</td>\n",
              "      <td>Misc. Red Flags</td>\n",
              "      <td>early voting again without requesting it. no i...</td>\n",
              "      <td>1654390984885.jpg</td>\n",
              "      <td>/pdf/1654390984885.jpg</td>\n",
              "      <td>1</td>\n",
              "      <td>NaN</td>\n",
              "      <td>NaN</td>\n",
              "      <td>6/5/2022 1:03</td>\n",
              "      <td>8/30/2023 13:52</td>\n",
              "      <td>2.0</td>\n",
              "      <td>1</td>\n",
              "      <td>0</td>\n",
              "      <td>NaN</td>\n",
              "      <td>NaN</td>\n",
              "      <td>1</td>\n",
              "    </tr>\n",
              "  </tbody>\n",
              "</table>\n",
              "</div>\n",
              "    <div class=\"colab-df-buttons\">\n",
              "\n",
              "  <div class=\"colab-df-container\">\n",
              "    <button class=\"colab-df-convert\" onclick=\"convertToInteractive('df-d3a6a647-1497-494a-821b-4113d8db21f9')\"\n",
              "            title=\"Convert this dataframe to an interactive table.\"\n",
              "            style=\"display:none;\">\n",
              "\n",
              "  <svg xmlns=\"http://www.w3.org/2000/svg\" height=\"24px\" viewBox=\"0 -960 960 960\">\n",
              "    <path d=\"M120-120v-720h720v720H120Zm60-500h600v-160H180v160Zm220 220h160v-160H400v160Zm0 220h160v-160H400v160ZM180-400h160v-160H180v160Zm440 0h160v-160H620v160ZM180-180h160v-160H180v160Zm440 0h160v-160H620v160Z\"/>\n",
              "  </svg>\n",
              "    </button>\n",
              "\n",
              "  <style>\n",
              "    .colab-df-container {\n",
              "      display:flex;\n",
              "      gap: 12px;\n",
              "    }\n",
              "\n",
              "    .colab-df-convert {\n",
              "      background-color: #E8F0FE;\n",
              "      border: none;\n",
              "      border-radius: 50%;\n",
              "      cursor: pointer;\n",
              "      display: none;\n",
              "      fill: #1967D2;\n",
              "      height: 32px;\n",
              "      padding: 0 0 0 0;\n",
              "      width: 32px;\n",
              "    }\n",
              "\n",
              "    .colab-df-convert:hover {\n",
              "      background-color: #E2EBFA;\n",
              "      box-shadow: 0px 1px 2px rgba(60, 64, 67, 0.3), 0px 1px 3px 1px rgba(60, 64, 67, 0.15);\n",
              "      fill: #174EA6;\n",
              "    }\n",
              "\n",
              "    .colab-df-buttons div {\n",
              "      margin-bottom: 4px;\n",
              "    }\n",
              "\n",
              "    [theme=dark] .colab-df-convert {\n",
              "      background-color: #3B4455;\n",
              "      fill: #D2E3FC;\n",
              "    }\n",
              "\n",
              "    [theme=dark] .colab-df-convert:hover {\n",
              "      background-color: #434B5C;\n",
              "      box-shadow: 0px 1px 3px 1px rgba(0, 0, 0, 0.15);\n",
              "      filter: drop-shadow(0px 1px 2px rgba(0, 0, 0, 0.3));\n",
              "      fill: #FFFFFF;\n",
              "    }\n",
              "  </style>\n",
              "\n",
              "    <script>\n",
              "      const buttonEl =\n",
              "        document.querySelector('#df-d3a6a647-1497-494a-821b-4113d8db21f9 button.colab-df-convert');\n",
              "      buttonEl.style.display =\n",
              "        google.colab.kernel.accessAllowed ? 'block' : 'none';\n",
              "\n",
              "      async function convertToInteractive(key) {\n",
              "        const element = document.querySelector('#df-d3a6a647-1497-494a-821b-4113d8db21f9');\n",
              "        const dataTable =\n",
              "          await google.colab.kernel.invokeFunction('convertToInteractive',\n",
              "                                                    [key], {});\n",
              "        if (!dataTable) return;\n",
              "\n",
              "        const docLinkHtml = 'Like what you see? Visit the ' +\n",
              "          '<a target=\"_blank\" href=https://colab.research.google.com/notebooks/data_table.ipynb>data table notebook</a>'\n",
              "          + ' to learn more about interactive tables.';\n",
              "        element.innerHTML = '';\n",
              "        dataTable['output_type'] = 'display_data';\n",
              "        await google.colab.output.renderOutput(dataTable, element);\n",
              "        const docLink = document.createElement('div');\n",
              "        docLink.innerHTML = docLinkHtml;\n",
              "        element.appendChild(docLink);\n",
              "      }\n",
              "    </script>\n",
              "  </div>\n",
              "\n",
              "\n",
              "<div id=\"df-670fceb7-2a41-4fa8-9d46-afb9937ef13b\">\n",
              "  <button class=\"colab-df-quickchart\" onclick=\"quickchart('df-670fceb7-2a41-4fa8-9d46-afb9937ef13b')\"\n",
              "            title=\"Suggest charts\"\n",
              "            style=\"display:none;\">\n",
              "\n",
              "<svg xmlns=\"http://www.w3.org/2000/svg\" height=\"24px\"viewBox=\"0 0 24 24\"\n",
              "     width=\"24px\">\n",
              "    <g>\n",
              "        <path d=\"M19 3H5c-1.1 0-2 .9-2 2v14c0 1.1.9 2 2 2h14c1.1 0 2-.9 2-2V5c0-1.1-.9-2-2-2zM9 17H7v-7h2v7zm4 0h-2V7h2v10zm4 0h-2v-4h2v4z\"/>\n",
              "    </g>\n",
              "</svg>\n",
              "  </button>\n",
              "\n",
              "<style>\n",
              "  .colab-df-quickchart {\n",
              "      --bg-color: #E8F0FE;\n",
              "      --fill-color: #1967D2;\n",
              "      --hover-bg-color: #E2EBFA;\n",
              "      --hover-fill-color: #174EA6;\n",
              "      --disabled-fill-color: #AAA;\n",
              "      --disabled-bg-color: #DDD;\n",
              "  }\n",
              "\n",
              "  [theme=dark] .colab-df-quickchart {\n",
              "      --bg-color: #3B4455;\n",
              "      --fill-color: #D2E3FC;\n",
              "      --hover-bg-color: #434B5C;\n",
              "      --hover-fill-color: #FFFFFF;\n",
              "      --disabled-bg-color: #3B4455;\n",
              "      --disabled-fill-color: #666;\n",
              "  }\n",
              "\n",
              "  .colab-df-quickchart {\n",
              "    background-color: var(--bg-color);\n",
              "    border: none;\n",
              "    border-radius: 50%;\n",
              "    cursor: pointer;\n",
              "    display: none;\n",
              "    fill: var(--fill-color);\n",
              "    height: 32px;\n",
              "    padding: 0;\n",
              "    width: 32px;\n",
              "  }\n",
              "\n",
              "  .colab-df-quickchart:hover {\n",
              "    background-color: var(--hover-bg-color);\n",
              "    box-shadow: 0 1px 2px rgba(60, 64, 67, 0.3), 0 1px 3px 1px rgba(60, 64, 67, 0.15);\n",
              "    fill: var(--button-hover-fill-color);\n",
              "  }\n",
              "\n",
              "  .colab-df-quickchart-complete:disabled,\n",
              "  .colab-df-quickchart-complete:disabled:hover {\n",
              "    background-color: var(--disabled-bg-color);\n",
              "    fill: var(--disabled-fill-color);\n",
              "    box-shadow: none;\n",
              "  }\n",
              "\n",
              "  .colab-df-spinner {\n",
              "    border: 2px solid var(--fill-color);\n",
              "    border-color: transparent;\n",
              "    border-bottom-color: var(--fill-color);\n",
              "    animation:\n",
              "      spin 1s steps(1) infinite;\n",
              "  }\n",
              "\n",
              "  @keyframes spin {\n",
              "    0% {\n",
              "      border-color: transparent;\n",
              "      border-bottom-color: var(--fill-color);\n",
              "      border-left-color: var(--fill-color);\n",
              "    }\n",
              "    20% {\n",
              "      border-color: transparent;\n",
              "      border-left-color: var(--fill-color);\n",
              "      border-top-color: var(--fill-color);\n",
              "    }\n",
              "    30% {\n",
              "      border-color: transparent;\n",
              "      border-left-color: var(--fill-color);\n",
              "      border-top-color: var(--fill-color);\n",
              "      border-right-color: var(--fill-color);\n",
              "    }\n",
              "    40% {\n",
              "      border-color: transparent;\n",
              "      border-right-color: var(--fill-color);\n",
              "      border-top-color: var(--fill-color);\n",
              "    }\n",
              "    60% {\n",
              "      border-color: transparent;\n",
              "      border-right-color: var(--fill-color);\n",
              "    }\n",
              "    80% {\n",
              "      border-color: transparent;\n",
              "      border-right-color: var(--fill-color);\n",
              "      border-bottom-color: var(--fill-color);\n",
              "    }\n",
              "    90% {\n",
              "      border-color: transparent;\n",
              "      border-bottom-color: var(--fill-color);\n",
              "    }\n",
              "  }\n",
              "</style>\n",
              "\n",
              "  <script>\n",
              "    async function quickchart(key) {\n",
              "      const quickchartButtonEl =\n",
              "        document.querySelector('#' + key + ' button');\n",
              "      quickchartButtonEl.disabled = true;  // To prevent multiple clicks.\n",
              "      quickchartButtonEl.classList.add('colab-df-spinner');\n",
              "      try {\n",
              "        const charts = await google.colab.kernel.invokeFunction(\n",
              "            'suggestCharts', [key], {});\n",
              "      } catch (error) {\n",
              "        console.error('Error during call to suggestCharts:', error);\n",
              "      }\n",
              "      quickchartButtonEl.classList.remove('colab-df-spinner');\n",
              "      quickchartButtonEl.classList.add('colab-df-quickchart-complete');\n",
              "    }\n",
              "    (() => {\n",
              "      let quickchartButtonEl =\n",
              "        document.querySelector('#df-670fceb7-2a41-4fa8-9d46-afb9937ef13b button');\n",
              "      quickchartButtonEl.style.display =\n",
              "        google.colab.kernel.accessAllowed ? 'block' : 'none';\n",
              "    })();\n",
              "  </script>\n",
              "</div>\n",
              "\n",
              "    </div>\n",
              "  </div>\n"
            ],
            "application/vnd.google.colaboratory.intrinsic+json": {
              "type": "dataframe",
              "variable_name": "df",
              "summary": "{\n  \"name\": \"df\",\n  \"rows\": 1041,\n  \"fields\": [\n    {\n      \"column\": \"id\",\n      \"properties\": {\n        \"dtype\": \"number\",\n        \"std\": 387,\n        \"min\": 7,\n        \"max\": 1544,\n        \"num_unique_values\": 1041,\n        \"samples\": [\n          235,\n          835,\n          288\n        ],\n        \"semantic_type\": \"\",\n        \"description\": \"\"\n      }\n    },\n    {\n      \"column\": \"user_id\",\n      \"properties\": {\n        \"dtype\": \"number\",\n        \"std\": 3648,\n        \"min\": 44,\n        \"max\": 14725,\n        \"num_unique_values\": 805,\n        \"samples\": [\n          1517,\n          10185,\n          3043\n        ],\n        \"semantic_type\": \"\",\n        \"description\": \"\"\n      }\n    },\n    {\n      \"column\": \"document_name\",\n      \"properties\": {\n        \"dtype\": \"category\",\n        \"num_unique_values\": 12,\n        \"samples\": [\n          \"Border Concerns\",\n          \"Vote Verification Issues\",\n          \"Misc.Red Flags\"\n        ],\n        \"semantic_type\": \"\",\n        \"description\": \"\"\n      }\n    },\n    {\n      \"column\": \"description\",\n      \"properties\": {\n        \"dtype\": \"string\",\n        \"num_unique_values\": 1037,\n        \"samples\": [\n          \"I recieved this from someone who read this on a blog this morning. Pic below\",\n          \"Printer wasn\\u2019t able to print ballot. So I had to use the express voting machine. Clunky touch screen.\",\n          \"Frank Elementary in spring 77379. Issues from the get go same as last year. This morning they couldn\\u2019t get the tabulator working. Called tech support no answer. At 9:30 I\\u2019d say 75% of the machines stopped working. The supervisor tried calling and no answer with all the number she has for support.\"\n        ],\n        \"semantic_type\": \"\",\n        \"description\": \"\"\n      }\n    },\n    {\n      \"column\": \"pdf_name\",\n      \"properties\": {\n        \"dtype\": \"string\",\n        \"num_unique_values\": 788,\n        \"samples\": [\n          \"733AAB1E986E416EB1016E2CD351FD3D.\",\n          \"Tue Jul 19 07_58_19 PDT 2022.jpg\",\n          \"E5F60B0128654633AE275D148D4165B8.png\"\n        ],\n        \"semantic_type\": \"\",\n        \"description\": \"\"\n      }\n    },\n    {\n      \"column\": \"pdf_path\",\n      \"properties\": {\n        \"dtype\": \"string\",\n        \"num_unique_values\": 788,\n        \"samples\": [\n          \"/pdf/733AAB1E986E416EB1016E2CD351FD3D.\",\n          \"/pdf/Tue Jul 19 07_58_19 PDT 2022.jpg\",\n          \"/pdf/E5F60B0128654633AE275D148D4165B8.png\"\n        ],\n        \"semantic_type\": \"\",\n        \"description\": \"\"\n      }\n    },\n    {\n      \"column\": \"status\",\n      \"properties\": {\n        \"dtype\": \"number\",\n        \"std\": 0,\n        \"min\": 1,\n        \"max\": 1,\n        \"num_unique_values\": 1,\n        \"samples\": [\n          1\n        ],\n        \"semantic_type\": \"\",\n        \"description\": \"\"\n      }\n    },\n    {\n      \"column\": \"latitude\",\n      \"properties\": {\n        \"dtype\": \"number\",\n        \"std\": 5.38909390566079,\n        \"min\": 0.0,\n        \"max\": 58.4005186627099,\n        \"num_unique_values\": 680,\n        \"samples\": [\n          40.9028451827534\n        ],\n        \"semantic_type\": \"\",\n        \"description\": \"\"\n      }\n    },\n    {\n      \"column\": \"longitude\",\n      \"properties\": {\n        \"dtype\": \"number\",\n        \"std\": 23.228561354717524,\n        \"min\": -157.8581401,\n        \"max\": 83.5702328,\n        \"num_unique_values\": 679,\n        \"samples\": [\n          -76.7783896252513\n        ],\n        \"semantic_type\": \"\",\n        \"description\": \"\"\n      }\n    },\n    {\n      \"column\": \"created_at\",\n      \"properties\": {\n        \"dtype\": \"object\",\n        \"num_unique_values\": 969,\n        \"samples\": [\n          \"11/8/2022 15:41\"\n        ],\n        \"semantic_type\": \"\",\n        \"description\": \"\"\n      }\n    },\n    {\n      \"column\": \"updated_at\",\n      \"properties\": {\n        \"dtype\": \"object\",\n        \"num_unique_values\": 581,\n        \"samples\": [\n          \"4/29/2024 18:42\"\n        ],\n        \"semantic_type\": \"\",\n        \"description\": \"\"\n      }\n    },\n    {\n      \"column\": \"color_id\",\n      \"properties\": {\n        \"dtype\": \"number\",\n        \"std\": 0.9288231820583374,\n        \"min\": 2.0,\n        \"max\": 6.0,\n        \"num_unique_values\": 5,\n        \"samples\": [\n          2.0\n        ],\n        \"semantic_type\": \"\",\n        \"description\": \"\"\n      }\n    },\n    {\n      \"column\": \"color_status\",\n      \"properties\": {\n        \"dtype\": \"number\",\n        \"std\": 0,\n        \"min\": 0,\n        \"max\": 1,\n        \"num_unique_values\": 2,\n        \"samples\": [\n          0\n        ],\n        \"semantic_type\": \"\",\n        \"description\": \"\"\n      }\n    },\n    {\n      \"column\": \"is_fake\",\n      \"properties\": {\n        \"dtype\": \"number\",\n        \"std\": 0,\n        \"min\": 0,\n        \"max\": 1,\n        \"num_unique_values\": 2,\n        \"samples\": [\n          1\n        ],\n        \"semantic_type\": \"\",\n        \"description\": \"\"\n      }\n    },\n    {\n      \"column\": \"state\",\n      \"properties\": {\n        \"dtype\": \"category\",\n        \"num_unique_values\": 45,\n        \"samples\": [\n          \"Oklahoma\"\n        ],\n        \"semantic_type\": \"\",\n        \"description\": \"\"\n      }\n    },\n    {\n      \"column\": \"county\",\n      \"properties\": {\n        \"dtype\": \"category\",\n        \"num_unique_values\": 261,\n        \"samples\": [\n          \"Pike\"\n        ],\n        \"semantic_type\": \"\",\n        \"description\": \"\"\n      }\n    },\n    {\n      \"column\": \"attachment_permission\",\n      \"properties\": {\n        \"dtype\": \"number\",\n        \"std\": 0,\n        \"min\": 0,\n        \"max\": 1,\n        \"num_unique_values\": 2,\n        \"samples\": [\n          0\n        ],\n        \"semantic_type\": \"\",\n        \"description\": \"\"\n      }\n    }\n  ]\n}"
            }
          },
          "metadata": {},
          "execution_count": 104
        }
      ],
      "source": [
        "df.head()"
      ]
    },
    {
      "cell_type": "markdown",
      "metadata": {
        "id": "ctsYfqFbifGK"
      },
      "source": [
        "###count the number of null values in the columns"
      ]
    },
    {
      "cell_type": "code",
      "execution_count": 105,
      "metadata": {
        "colab": {
          "base_uri": "https://localhost:8080/"
        },
        "outputId": "40f712be-3251-4dc9-a338-4e83d3f5f464",
        "id": "GM_O6qrSifGK"
      },
      "outputs": [
        {
          "output_type": "execute_result",
          "data": {
            "text/plain": [
              "id                        0.000000\n",
              "user_id                   0.000000\n",
              "document_name             0.000000\n",
              "description               0.000000\n",
              "pdf_name                  7.300672\n",
              "pdf_path                  7.300672\n",
              "status                    0.000000\n",
              "latitude                 30.067243\n",
              "longitude                30.067243\n",
              "created_at                0.000000\n",
              "updated_at                0.000000\n",
              "color_id                  3.266090\n",
              "color_status              0.000000\n",
              "is_fake                   0.000000\n",
              "state                    26.609030\n",
              "county                   26.705091\n",
              "attachment_permission     0.000000\n",
              "dtype: float64"
            ]
          },
          "metadata": {},
          "execution_count": 105
        }
      ],
      "source": [
        "df.isnull().sum() / df.shape[0] * 100"
      ]
    },
    {
      "cell_type": "markdown",
      "metadata": {
        "id": "G3U-fUleifGK"
      },
      "source": [
        "####Display id and user_Id\n"
      ]
    },
    {
      "cell_type": "code",
      "execution_count": 106,
      "metadata": {
        "colab": {
          "base_uri": "https://localhost:8080/",
          "height": 424
        },
        "outputId": "394e36f9-41d1-4bdf-f872-855f2e3fbce8",
        "id": "UQSeDgSqifGK"
      },
      "outputs": [
        {
          "output_type": "execute_result",
          "data": {
            "text/plain": [
              "        id  user_id\n",
              "0        7      290\n",
              "1       10      342\n",
              "2       11      448\n",
              "3       12      486\n",
              "4       13      497\n",
              "...    ...      ...\n",
              "1036  1539    10232\n",
              "1037  1541     4703\n",
              "1038  1542    14257\n",
              "1039  1543    14725\n",
              "1040  1544     3049\n",
              "\n",
              "[1041 rows x 2 columns]"
            ],
            "text/html": [
              "\n",
              "  <div id=\"df-249e3787-f5dc-4fd1-862b-b5bba4a3dce4\" class=\"colab-df-container\">\n",
              "    <div>\n",
              "<style scoped>\n",
              "    .dataframe tbody tr th:only-of-type {\n",
              "        vertical-align: middle;\n",
              "    }\n",
              "\n",
              "    .dataframe tbody tr th {\n",
              "        vertical-align: top;\n",
              "    }\n",
              "\n",
              "    .dataframe thead th {\n",
              "        text-align: right;\n",
              "    }\n",
              "</style>\n",
              "<table border=\"1\" class=\"dataframe\">\n",
              "  <thead>\n",
              "    <tr style=\"text-align: right;\">\n",
              "      <th></th>\n",
              "      <th>id</th>\n",
              "      <th>user_id</th>\n",
              "    </tr>\n",
              "  </thead>\n",
              "  <tbody>\n",
              "    <tr>\n",
              "      <th>0</th>\n",
              "      <td>7</td>\n",
              "      <td>290</td>\n",
              "    </tr>\n",
              "    <tr>\n",
              "      <th>1</th>\n",
              "      <td>10</td>\n",
              "      <td>342</td>\n",
              "    </tr>\n",
              "    <tr>\n",
              "      <th>2</th>\n",
              "      <td>11</td>\n",
              "      <td>448</td>\n",
              "    </tr>\n",
              "    <tr>\n",
              "      <th>3</th>\n",
              "      <td>12</td>\n",
              "      <td>486</td>\n",
              "    </tr>\n",
              "    <tr>\n",
              "      <th>4</th>\n",
              "      <td>13</td>\n",
              "      <td>497</td>\n",
              "    </tr>\n",
              "    <tr>\n",
              "      <th>...</th>\n",
              "      <td>...</td>\n",
              "      <td>...</td>\n",
              "    </tr>\n",
              "    <tr>\n",
              "      <th>1036</th>\n",
              "      <td>1539</td>\n",
              "      <td>10232</td>\n",
              "    </tr>\n",
              "    <tr>\n",
              "      <th>1037</th>\n",
              "      <td>1541</td>\n",
              "      <td>4703</td>\n",
              "    </tr>\n",
              "    <tr>\n",
              "      <th>1038</th>\n",
              "      <td>1542</td>\n",
              "      <td>14257</td>\n",
              "    </tr>\n",
              "    <tr>\n",
              "      <th>1039</th>\n",
              "      <td>1543</td>\n",
              "      <td>14725</td>\n",
              "    </tr>\n",
              "    <tr>\n",
              "      <th>1040</th>\n",
              "      <td>1544</td>\n",
              "      <td>3049</td>\n",
              "    </tr>\n",
              "  </tbody>\n",
              "</table>\n",
              "<p>1041 rows × 2 columns</p>\n",
              "</div>\n",
              "    <div class=\"colab-df-buttons\">\n",
              "\n",
              "  <div class=\"colab-df-container\">\n",
              "    <button class=\"colab-df-convert\" onclick=\"convertToInteractive('df-249e3787-f5dc-4fd1-862b-b5bba4a3dce4')\"\n",
              "            title=\"Convert this dataframe to an interactive table.\"\n",
              "            style=\"display:none;\">\n",
              "\n",
              "  <svg xmlns=\"http://www.w3.org/2000/svg\" height=\"24px\" viewBox=\"0 -960 960 960\">\n",
              "    <path d=\"M120-120v-720h720v720H120Zm60-500h600v-160H180v160Zm220 220h160v-160H400v160Zm0 220h160v-160H400v160ZM180-400h160v-160H180v160Zm440 0h160v-160H620v160ZM180-180h160v-160H180v160Zm440 0h160v-160H620v160Z\"/>\n",
              "  </svg>\n",
              "    </button>\n",
              "\n",
              "  <style>\n",
              "    .colab-df-container {\n",
              "      display:flex;\n",
              "      gap: 12px;\n",
              "    }\n",
              "\n",
              "    .colab-df-convert {\n",
              "      background-color: #E8F0FE;\n",
              "      border: none;\n",
              "      border-radius: 50%;\n",
              "      cursor: pointer;\n",
              "      display: none;\n",
              "      fill: #1967D2;\n",
              "      height: 32px;\n",
              "      padding: 0 0 0 0;\n",
              "      width: 32px;\n",
              "    }\n",
              "\n",
              "    .colab-df-convert:hover {\n",
              "      background-color: #E2EBFA;\n",
              "      box-shadow: 0px 1px 2px rgba(60, 64, 67, 0.3), 0px 1px 3px 1px rgba(60, 64, 67, 0.15);\n",
              "      fill: #174EA6;\n",
              "    }\n",
              "\n",
              "    .colab-df-buttons div {\n",
              "      margin-bottom: 4px;\n",
              "    }\n",
              "\n",
              "    [theme=dark] .colab-df-convert {\n",
              "      background-color: #3B4455;\n",
              "      fill: #D2E3FC;\n",
              "    }\n",
              "\n",
              "    [theme=dark] .colab-df-convert:hover {\n",
              "      background-color: #434B5C;\n",
              "      box-shadow: 0px 1px 3px 1px rgba(0, 0, 0, 0.15);\n",
              "      filter: drop-shadow(0px 1px 2px rgba(0, 0, 0, 0.3));\n",
              "      fill: #FFFFFF;\n",
              "    }\n",
              "  </style>\n",
              "\n",
              "    <script>\n",
              "      const buttonEl =\n",
              "        document.querySelector('#df-249e3787-f5dc-4fd1-862b-b5bba4a3dce4 button.colab-df-convert');\n",
              "      buttonEl.style.display =\n",
              "        google.colab.kernel.accessAllowed ? 'block' : 'none';\n",
              "\n",
              "      async function convertToInteractive(key) {\n",
              "        const element = document.querySelector('#df-249e3787-f5dc-4fd1-862b-b5bba4a3dce4');\n",
              "        const dataTable =\n",
              "          await google.colab.kernel.invokeFunction('convertToInteractive',\n",
              "                                                    [key], {});\n",
              "        if (!dataTable) return;\n",
              "\n",
              "        const docLinkHtml = 'Like what you see? Visit the ' +\n",
              "          '<a target=\"_blank\" href=https://colab.research.google.com/notebooks/data_table.ipynb>data table notebook</a>'\n",
              "          + ' to learn more about interactive tables.';\n",
              "        element.innerHTML = '';\n",
              "        dataTable['output_type'] = 'display_data';\n",
              "        await google.colab.output.renderOutput(dataTable, element);\n",
              "        const docLink = document.createElement('div');\n",
              "        docLink.innerHTML = docLinkHtml;\n",
              "        element.appendChild(docLink);\n",
              "      }\n",
              "    </script>\n",
              "  </div>\n",
              "\n",
              "\n",
              "<div id=\"df-9cff2ceb-d492-4e80-952a-d0a3e0fa7658\">\n",
              "  <button class=\"colab-df-quickchart\" onclick=\"quickchart('df-9cff2ceb-d492-4e80-952a-d0a3e0fa7658')\"\n",
              "            title=\"Suggest charts\"\n",
              "            style=\"display:none;\">\n",
              "\n",
              "<svg xmlns=\"http://www.w3.org/2000/svg\" height=\"24px\"viewBox=\"0 0 24 24\"\n",
              "     width=\"24px\">\n",
              "    <g>\n",
              "        <path d=\"M19 3H5c-1.1 0-2 .9-2 2v14c0 1.1.9 2 2 2h14c1.1 0 2-.9 2-2V5c0-1.1-.9-2-2-2zM9 17H7v-7h2v7zm4 0h-2V7h2v10zm4 0h-2v-4h2v4z\"/>\n",
              "    </g>\n",
              "</svg>\n",
              "  </button>\n",
              "\n",
              "<style>\n",
              "  .colab-df-quickchart {\n",
              "      --bg-color: #E8F0FE;\n",
              "      --fill-color: #1967D2;\n",
              "      --hover-bg-color: #E2EBFA;\n",
              "      --hover-fill-color: #174EA6;\n",
              "      --disabled-fill-color: #AAA;\n",
              "      --disabled-bg-color: #DDD;\n",
              "  }\n",
              "\n",
              "  [theme=dark] .colab-df-quickchart {\n",
              "      --bg-color: #3B4455;\n",
              "      --fill-color: #D2E3FC;\n",
              "      --hover-bg-color: #434B5C;\n",
              "      --hover-fill-color: #FFFFFF;\n",
              "      --disabled-bg-color: #3B4455;\n",
              "      --disabled-fill-color: #666;\n",
              "  }\n",
              "\n",
              "  .colab-df-quickchart {\n",
              "    background-color: var(--bg-color);\n",
              "    border: none;\n",
              "    border-radius: 50%;\n",
              "    cursor: pointer;\n",
              "    display: none;\n",
              "    fill: var(--fill-color);\n",
              "    height: 32px;\n",
              "    padding: 0;\n",
              "    width: 32px;\n",
              "  }\n",
              "\n",
              "  .colab-df-quickchart:hover {\n",
              "    background-color: var(--hover-bg-color);\n",
              "    box-shadow: 0 1px 2px rgba(60, 64, 67, 0.3), 0 1px 3px 1px rgba(60, 64, 67, 0.15);\n",
              "    fill: var(--button-hover-fill-color);\n",
              "  }\n",
              "\n",
              "  .colab-df-quickchart-complete:disabled,\n",
              "  .colab-df-quickchart-complete:disabled:hover {\n",
              "    background-color: var(--disabled-bg-color);\n",
              "    fill: var(--disabled-fill-color);\n",
              "    box-shadow: none;\n",
              "  }\n",
              "\n",
              "  .colab-df-spinner {\n",
              "    border: 2px solid var(--fill-color);\n",
              "    border-color: transparent;\n",
              "    border-bottom-color: var(--fill-color);\n",
              "    animation:\n",
              "      spin 1s steps(1) infinite;\n",
              "  }\n",
              "\n",
              "  @keyframes spin {\n",
              "    0% {\n",
              "      border-color: transparent;\n",
              "      border-bottom-color: var(--fill-color);\n",
              "      border-left-color: var(--fill-color);\n",
              "    }\n",
              "    20% {\n",
              "      border-color: transparent;\n",
              "      border-left-color: var(--fill-color);\n",
              "      border-top-color: var(--fill-color);\n",
              "    }\n",
              "    30% {\n",
              "      border-color: transparent;\n",
              "      border-left-color: var(--fill-color);\n",
              "      border-top-color: var(--fill-color);\n",
              "      border-right-color: var(--fill-color);\n",
              "    }\n",
              "    40% {\n",
              "      border-color: transparent;\n",
              "      border-right-color: var(--fill-color);\n",
              "      border-top-color: var(--fill-color);\n",
              "    }\n",
              "    60% {\n",
              "      border-color: transparent;\n",
              "      border-right-color: var(--fill-color);\n",
              "    }\n",
              "    80% {\n",
              "      border-color: transparent;\n",
              "      border-right-color: var(--fill-color);\n",
              "      border-bottom-color: var(--fill-color);\n",
              "    }\n",
              "    90% {\n",
              "      border-color: transparent;\n",
              "      border-bottom-color: var(--fill-color);\n",
              "    }\n",
              "  }\n",
              "</style>\n",
              "\n",
              "  <script>\n",
              "    async function quickchart(key) {\n",
              "      const quickchartButtonEl =\n",
              "        document.querySelector('#' + key + ' button');\n",
              "      quickchartButtonEl.disabled = true;  // To prevent multiple clicks.\n",
              "      quickchartButtonEl.classList.add('colab-df-spinner');\n",
              "      try {\n",
              "        const charts = await google.colab.kernel.invokeFunction(\n",
              "            'suggestCharts', [key], {});\n",
              "      } catch (error) {\n",
              "        console.error('Error during call to suggestCharts:', error);\n",
              "      }\n",
              "      quickchartButtonEl.classList.remove('colab-df-spinner');\n",
              "      quickchartButtonEl.classList.add('colab-df-quickchart-complete');\n",
              "    }\n",
              "    (() => {\n",
              "      let quickchartButtonEl =\n",
              "        document.querySelector('#df-9cff2ceb-d492-4e80-952a-d0a3e0fa7658 button');\n",
              "      quickchartButtonEl.style.display =\n",
              "        google.colab.kernel.accessAllowed ? 'block' : 'none';\n",
              "    })();\n",
              "  </script>\n",
              "</div>\n",
              "\n",
              "    </div>\n",
              "  </div>\n"
            ],
            "application/vnd.google.colaboratory.intrinsic+json": {
              "type": "dataframe",
              "summary": "{\n  \"name\": \"df[[\\\"id\\\", \\\"user_id\\\"]]\",\n  \"rows\": 1041,\n  \"fields\": [\n    {\n      \"column\": \"id\",\n      \"properties\": {\n        \"dtype\": \"number\",\n        \"std\": 387,\n        \"min\": 7,\n        \"max\": 1544,\n        \"num_unique_values\": 1041,\n        \"samples\": [\n          235,\n          835,\n          288\n        ],\n        \"semantic_type\": \"\",\n        \"description\": \"\"\n      }\n    },\n    {\n      \"column\": \"user_id\",\n      \"properties\": {\n        \"dtype\": \"number\",\n        \"std\": 3648,\n        \"min\": 44,\n        \"max\": 14725,\n        \"num_unique_values\": 805,\n        \"samples\": [\n          1517,\n          10185,\n          3043\n        ],\n        \"semantic_type\": \"\",\n        \"description\": \"\"\n      }\n    }\n  ]\n}"
            }
          },
          "metadata": {},
          "execution_count": 106
        }
      ],
      "source": [
        "df[[\"id\", \"user_id\"]]"
      ]
    },
    {
      "cell_type": "markdown",
      "source": [
        "####Check the status of Color_id so we can change the name"
      ],
      "metadata": {
        "id": "6YKCop2nifGL"
      }
    },
    {
      "cell_type": "code",
      "source": [
        "df['color_id'].value_counts()"
      ],
      "metadata": {
        "colab": {
          "base_uri": "https://localhost:8080/"
        },
        "outputId": "0a149aeb-7a67-4ac1-9c09-66ec7722e577",
        "id": "6hsbjczVifGL"
      },
      "execution_count": 107,
      "outputs": [
        {
          "output_type": "execute_result",
          "data": {
            "text/plain": [
              "color_id\n",
              "3.0    441\n",
              "2.0    248\n",
              "4.0    217\n",
              "5.0     95\n",
              "6.0      6\n",
              "Name: count, dtype: int64"
            ]
          },
          "metadata": {},
          "execution_count": 107
        }
      ]
    },
    {
      "cell_type": "markdown",
      "source": [
        "####change the color format from 1 to 5"
      ],
      "metadata": {
        "id": "X6YAaLlVifGL"
      }
    },
    {
      "cell_type": "code",
      "source": [
        "df['color_id']=df['color_id']-1"
      ],
      "metadata": {
        "id": "aWPh7_lqifGL"
      },
      "execution_count": 108,
      "outputs": []
    },
    {
      "cell_type": "markdown",
      "source": [
        "####check whether the color name is changed or not"
      ],
      "metadata": {
        "id": "cHiychibifGL"
      }
    },
    {
      "cell_type": "code",
      "source": [
        "df['color_id'].value_counts()"
      ],
      "metadata": {
        "colab": {
          "base_uri": "https://localhost:8080/"
        },
        "outputId": "8307f3cc-8b74-46f7-ffa7-06dcb2a7037f",
        "id": "zBLCtBxBifGL"
      },
      "execution_count": 109,
      "outputs": [
        {
          "output_type": "execute_result",
          "data": {
            "text/plain": [
              "color_id\n",
              "2.0    441\n",
              "1.0    248\n",
              "3.0    217\n",
              "4.0     95\n",
              "5.0      6\n",
              "Name: count, dtype: int64"
            ]
          },
          "metadata": {},
          "execution_count": 109
        }
      ]
    },
    {
      "cell_type": "markdown",
      "source": [
        "##### 1 -> white, 2 -> Yellow 3 -> Orange 4 -> Red 5 -> Tricolor"
      ],
      "metadata": {
        "id": "kdIlwtUwifGM"
      }
    },
    {
      "cell_type": "markdown",
      "source": [
        "####drop all the following columns from the dataframe\n"
      ],
      "metadata": {
        "id": "AcL3C5esifGM"
      }
    },
    {
      "cell_type": "code",
      "source": [
        "cols = [\"id\", \"user_id\", \"document_name\", \"pdf_name\", \"pdf_path\", \"status\",\"latitude\", \"longitude\", \"created_at\", \"updated_at\",\"color_status\", \"is_fake\", \"state\", \"county\",\n",
        "       \"attachment_permission\"]\n",
        "df.drop(cols, axis=1, inplace=True)"
      ],
      "metadata": {
        "id": "wqi_8zbNifGM"
      },
      "execution_count": 110,
      "outputs": []
    },
    {
      "cell_type": "markdown",
      "source": [
        "####check the dataframe whether the columns is drop off or not"
      ],
      "metadata": {
        "id": "fvtj3ikIifGM"
      }
    },
    {
      "cell_type": "code",
      "source": [
        "df.columns"
      ],
      "metadata": {
        "colab": {
          "base_uri": "https://localhost:8080/"
        },
        "outputId": "f7951d61-ac4a-41e5-d341-2319752d41cc",
        "id": "KciRz8USifGM"
      },
      "execution_count": 111,
      "outputs": [
        {
          "output_type": "execute_result",
          "data": {
            "text/plain": [
              "Index(['description', 'color_id'], dtype='object')"
            ]
          },
          "metadata": {},
          "execution_count": 111
        }
      ]
    },
    {
      "cell_type": "markdown",
      "source": [
        "####Show all the Duplicate rows from the dataframe"
      ],
      "metadata": {
        "id": "nkca2H3ZifGM"
      }
    },
    {
      "cell_type": "code",
      "source": [
        "df[df.duplicated(keep='first')]"
      ],
      "metadata": {
        "colab": {
          "base_uri": "https://localhost:8080/",
          "height": 143
        },
        "outputId": "92433f6a-d97d-4652-8eee-3eabb0c55315",
        "id": "nwM6a0vbifGN"
      },
      "execution_count": 112,
      "outputs": [
        {
          "output_type": "execute_result",
          "data": {
            "text/plain": [
              "                                           description  color_id\n",
              "99   They had me use a no name felt tip marker, not...       2.0\n",
              "504                                               Test       NaN\n",
              "538                   Madison, CT using felt tip pens.       2.0"
            ],
            "text/html": [
              "\n",
              "  <div id=\"df-88f56076-f8e9-4b0d-b79e-fdcb1b5d8bdc\" class=\"colab-df-container\">\n",
              "    <div>\n",
              "<style scoped>\n",
              "    .dataframe tbody tr th:only-of-type {\n",
              "        vertical-align: middle;\n",
              "    }\n",
              "\n",
              "    .dataframe tbody tr th {\n",
              "        vertical-align: top;\n",
              "    }\n",
              "\n",
              "    .dataframe thead th {\n",
              "        text-align: right;\n",
              "    }\n",
              "</style>\n",
              "<table border=\"1\" class=\"dataframe\">\n",
              "  <thead>\n",
              "    <tr style=\"text-align: right;\">\n",
              "      <th></th>\n",
              "      <th>description</th>\n",
              "      <th>color_id</th>\n",
              "    </tr>\n",
              "  </thead>\n",
              "  <tbody>\n",
              "    <tr>\n",
              "      <th>99</th>\n",
              "      <td>They had me use a no name felt tip marker, not...</td>\n",
              "      <td>2.0</td>\n",
              "    </tr>\n",
              "    <tr>\n",
              "      <th>504</th>\n",
              "      <td>Test</td>\n",
              "      <td>NaN</td>\n",
              "    </tr>\n",
              "    <tr>\n",
              "      <th>538</th>\n",
              "      <td>Madison, CT using felt tip pens.</td>\n",
              "      <td>2.0</td>\n",
              "    </tr>\n",
              "  </tbody>\n",
              "</table>\n",
              "</div>\n",
              "    <div class=\"colab-df-buttons\">\n",
              "\n",
              "  <div class=\"colab-df-container\">\n",
              "    <button class=\"colab-df-convert\" onclick=\"convertToInteractive('df-88f56076-f8e9-4b0d-b79e-fdcb1b5d8bdc')\"\n",
              "            title=\"Convert this dataframe to an interactive table.\"\n",
              "            style=\"display:none;\">\n",
              "\n",
              "  <svg xmlns=\"http://www.w3.org/2000/svg\" height=\"24px\" viewBox=\"0 -960 960 960\">\n",
              "    <path d=\"M120-120v-720h720v720H120Zm60-500h600v-160H180v160Zm220 220h160v-160H400v160Zm0 220h160v-160H400v160ZM180-400h160v-160H180v160Zm440 0h160v-160H620v160ZM180-180h160v-160H180v160Zm440 0h160v-160H620v160Z\"/>\n",
              "  </svg>\n",
              "    </button>\n",
              "\n",
              "  <style>\n",
              "    .colab-df-container {\n",
              "      display:flex;\n",
              "      gap: 12px;\n",
              "    }\n",
              "\n",
              "    .colab-df-convert {\n",
              "      background-color: #E8F0FE;\n",
              "      border: none;\n",
              "      border-radius: 50%;\n",
              "      cursor: pointer;\n",
              "      display: none;\n",
              "      fill: #1967D2;\n",
              "      height: 32px;\n",
              "      padding: 0 0 0 0;\n",
              "      width: 32px;\n",
              "    }\n",
              "\n",
              "    .colab-df-convert:hover {\n",
              "      background-color: #E2EBFA;\n",
              "      box-shadow: 0px 1px 2px rgba(60, 64, 67, 0.3), 0px 1px 3px 1px rgba(60, 64, 67, 0.15);\n",
              "      fill: #174EA6;\n",
              "    }\n",
              "\n",
              "    .colab-df-buttons div {\n",
              "      margin-bottom: 4px;\n",
              "    }\n",
              "\n",
              "    [theme=dark] .colab-df-convert {\n",
              "      background-color: #3B4455;\n",
              "      fill: #D2E3FC;\n",
              "    }\n",
              "\n",
              "    [theme=dark] .colab-df-convert:hover {\n",
              "      background-color: #434B5C;\n",
              "      box-shadow: 0px 1px 3px 1px rgba(0, 0, 0, 0.15);\n",
              "      filter: drop-shadow(0px 1px 2px rgba(0, 0, 0, 0.3));\n",
              "      fill: #FFFFFF;\n",
              "    }\n",
              "  </style>\n",
              "\n",
              "    <script>\n",
              "      const buttonEl =\n",
              "        document.querySelector('#df-88f56076-f8e9-4b0d-b79e-fdcb1b5d8bdc button.colab-df-convert');\n",
              "      buttonEl.style.display =\n",
              "        google.colab.kernel.accessAllowed ? 'block' : 'none';\n",
              "\n",
              "      async function convertToInteractive(key) {\n",
              "        const element = document.querySelector('#df-88f56076-f8e9-4b0d-b79e-fdcb1b5d8bdc');\n",
              "        const dataTable =\n",
              "          await google.colab.kernel.invokeFunction('convertToInteractive',\n",
              "                                                    [key], {});\n",
              "        if (!dataTable) return;\n",
              "\n",
              "        const docLinkHtml = 'Like what you see? Visit the ' +\n",
              "          '<a target=\"_blank\" href=https://colab.research.google.com/notebooks/data_table.ipynb>data table notebook</a>'\n",
              "          + ' to learn more about interactive tables.';\n",
              "        element.innerHTML = '';\n",
              "        dataTable['output_type'] = 'display_data';\n",
              "        await google.colab.output.renderOutput(dataTable, element);\n",
              "        const docLink = document.createElement('div');\n",
              "        docLink.innerHTML = docLinkHtml;\n",
              "        element.appendChild(docLink);\n",
              "      }\n",
              "    </script>\n",
              "  </div>\n",
              "\n",
              "\n",
              "<div id=\"df-0b934efa-d7ab-4054-98ef-a14102b81532\">\n",
              "  <button class=\"colab-df-quickchart\" onclick=\"quickchart('df-0b934efa-d7ab-4054-98ef-a14102b81532')\"\n",
              "            title=\"Suggest charts\"\n",
              "            style=\"display:none;\">\n",
              "\n",
              "<svg xmlns=\"http://www.w3.org/2000/svg\" height=\"24px\"viewBox=\"0 0 24 24\"\n",
              "     width=\"24px\">\n",
              "    <g>\n",
              "        <path d=\"M19 3H5c-1.1 0-2 .9-2 2v14c0 1.1.9 2 2 2h14c1.1 0 2-.9 2-2V5c0-1.1-.9-2-2-2zM9 17H7v-7h2v7zm4 0h-2V7h2v10zm4 0h-2v-4h2v4z\"/>\n",
              "    </g>\n",
              "</svg>\n",
              "  </button>\n",
              "\n",
              "<style>\n",
              "  .colab-df-quickchart {\n",
              "      --bg-color: #E8F0FE;\n",
              "      --fill-color: #1967D2;\n",
              "      --hover-bg-color: #E2EBFA;\n",
              "      --hover-fill-color: #174EA6;\n",
              "      --disabled-fill-color: #AAA;\n",
              "      --disabled-bg-color: #DDD;\n",
              "  }\n",
              "\n",
              "  [theme=dark] .colab-df-quickchart {\n",
              "      --bg-color: #3B4455;\n",
              "      --fill-color: #D2E3FC;\n",
              "      --hover-bg-color: #434B5C;\n",
              "      --hover-fill-color: #FFFFFF;\n",
              "      --disabled-bg-color: #3B4455;\n",
              "      --disabled-fill-color: #666;\n",
              "  }\n",
              "\n",
              "  .colab-df-quickchart {\n",
              "    background-color: var(--bg-color);\n",
              "    border: none;\n",
              "    border-radius: 50%;\n",
              "    cursor: pointer;\n",
              "    display: none;\n",
              "    fill: var(--fill-color);\n",
              "    height: 32px;\n",
              "    padding: 0;\n",
              "    width: 32px;\n",
              "  }\n",
              "\n",
              "  .colab-df-quickchart:hover {\n",
              "    background-color: var(--hover-bg-color);\n",
              "    box-shadow: 0 1px 2px rgba(60, 64, 67, 0.3), 0 1px 3px 1px rgba(60, 64, 67, 0.15);\n",
              "    fill: var(--button-hover-fill-color);\n",
              "  }\n",
              "\n",
              "  .colab-df-quickchart-complete:disabled,\n",
              "  .colab-df-quickchart-complete:disabled:hover {\n",
              "    background-color: var(--disabled-bg-color);\n",
              "    fill: var(--disabled-fill-color);\n",
              "    box-shadow: none;\n",
              "  }\n",
              "\n",
              "  .colab-df-spinner {\n",
              "    border: 2px solid var(--fill-color);\n",
              "    border-color: transparent;\n",
              "    border-bottom-color: var(--fill-color);\n",
              "    animation:\n",
              "      spin 1s steps(1) infinite;\n",
              "  }\n",
              "\n",
              "  @keyframes spin {\n",
              "    0% {\n",
              "      border-color: transparent;\n",
              "      border-bottom-color: var(--fill-color);\n",
              "      border-left-color: var(--fill-color);\n",
              "    }\n",
              "    20% {\n",
              "      border-color: transparent;\n",
              "      border-left-color: var(--fill-color);\n",
              "      border-top-color: var(--fill-color);\n",
              "    }\n",
              "    30% {\n",
              "      border-color: transparent;\n",
              "      border-left-color: var(--fill-color);\n",
              "      border-top-color: var(--fill-color);\n",
              "      border-right-color: var(--fill-color);\n",
              "    }\n",
              "    40% {\n",
              "      border-color: transparent;\n",
              "      border-right-color: var(--fill-color);\n",
              "      border-top-color: var(--fill-color);\n",
              "    }\n",
              "    60% {\n",
              "      border-color: transparent;\n",
              "      border-right-color: var(--fill-color);\n",
              "    }\n",
              "    80% {\n",
              "      border-color: transparent;\n",
              "      border-right-color: var(--fill-color);\n",
              "      border-bottom-color: var(--fill-color);\n",
              "    }\n",
              "    90% {\n",
              "      border-color: transparent;\n",
              "      border-bottom-color: var(--fill-color);\n",
              "    }\n",
              "  }\n",
              "</style>\n",
              "\n",
              "  <script>\n",
              "    async function quickchart(key) {\n",
              "      const quickchartButtonEl =\n",
              "        document.querySelector('#' + key + ' button');\n",
              "      quickchartButtonEl.disabled = true;  // To prevent multiple clicks.\n",
              "      quickchartButtonEl.classList.add('colab-df-spinner');\n",
              "      try {\n",
              "        const charts = await google.colab.kernel.invokeFunction(\n",
              "            'suggestCharts', [key], {});\n",
              "      } catch (error) {\n",
              "        console.error('Error during call to suggestCharts:', error);\n",
              "      }\n",
              "      quickchartButtonEl.classList.remove('colab-df-spinner');\n",
              "      quickchartButtonEl.classList.add('colab-df-quickchart-complete');\n",
              "    }\n",
              "    (() => {\n",
              "      let quickchartButtonEl =\n",
              "        document.querySelector('#df-0b934efa-d7ab-4054-98ef-a14102b81532 button');\n",
              "      quickchartButtonEl.style.display =\n",
              "        google.colab.kernel.accessAllowed ? 'block' : 'none';\n",
              "    })();\n",
              "  </script>\n",
              "</div>\n",
              "\n",
              "    </div>\n",
              "  </div>\n"
            ],
            "application/vnd.google.colaboratory.intrinsic+json": {
              "type": "dataframe",
              "summary": "{\n  \"name\": \"df[df\",\n  \"rows\": 3,\n  \"fields\": [\n    {\n      \"column\": \"description\",\n      \"properties\": {\n        \"dtype\": \"string\",\n        \"num_unique_values\": 3,\n        \"samples\": [\n          \"They had me use a no name felt tip marker, not a pen, which I thought was a no no. They also had no idea whose ballot was whose. The whole experience seemed like a design for confusion. I have zero faith in this system, and the poll workers were just as confused, as me.  on top of all the confusion, they were, using those dam machines.\",\n          \"Test\",\n          \"Madison, CT using felt tip pens.\"\n        ],\n        \"semantic_type\": \"\",\n        \"description\": \"\"\n      }\n    },\n    {\n      \"column\": \"color_id\",\n      \"properties\": {\n        \"dtype\": \"number\",\n        \"std\": 0.0,\n        \"min\": 2.0,\n        \"max\": 2.0,\n        \"num_unique_values\": 1,\n        \"samples\": [\n          2.0\n        ],\n        \"semantic_type\": \"\",\n        \"description\": \"\"\n      }\n    }\n  ]\n}"
            }
          },
          "metadata": {},
          "execution_count": 112
        }
      ]
    },
    {
      "cell_type": "markdown",
      "source": [
        "####Display the Number of Duplicate Rows"
      ],
      "metadata": {
        "id": "vtgApBMyifGN"
      }
    },
    {
      "cell_type": "code",
      "source": [
        "df.duplicated().sum()"
      ],
      "metadata": {
        "colab": {
          "base_uri": "https://localhost:8080/"
        },
        "outputId": "aea30700-3edc-4919-cbdf-4a00bdc4be66",
        "id": "BS63nrdOifGN"
      },
      "execution_count": 113,
      "outputs": [
        {
          "output_type": "execute_result",
          "data": {
            "text/plain": [
              "3"
            ]
          },
          "metadata": {},
          "execution_count": 113
        }
      ]
    },
    {
      "cell_type": "markdown",
      "source": [
        "####Drop all the Duplicate Rows"
      ],
      "metadata": {
        "id": "qNepXYlKifGN"
      }
    },
    {
      "cell_type": "code",
      "source": [
        "df.drop_duplicates(keep='first', inplace=True)"
      ],
      "metadata": {
        "id": "jdy7DnpRifGN"
      },
      "execution_count": 114,
      "outputs": []
    },
    {
      "cell_type": "markdown",
      "source": [
        "####Now check for all duplicate rows now\n"
      ],
      "metadata": {
        "id": "pqtU4khdifGN"
      }
    },
    {
      "cell_type": "code",
      "source": [
        "df.duplicated().sum()"
      ],
      "metadata": {
        "colab": {
          "base_uri": "https://localhost:8080/"
        },
        "outputId": "98af5ecf-2290-43be-d666-e9414efe8a85",
        "id": "gWPkoLN7ifGN"
      },
      "execution_count": 115,
      "outputs": [
        {
          "output_type": "execute_result",
          "data": {
            "text/plain": [
              "0"
            ]
          },
          "metadata": {},
          "execution_count": 115
        }
      ]
    },
    {
      "cell_type": "markdown",
      "source": [
        "####the number of Rows and Columns in your dataset"
      ],
      "metadata": {
        "id": "gR68taevifGO"
      }
    },
    {
      "cell_type": "code",
      "source": [
        "df.shape"
      ],
      "metadata": {
        "colab": {
          "base_uri": "https://localhost:8080/"
        },
        "outputId": "115e31a6-5dbd-461f-fc6d-422c145748c4",
        "id": "x609f5veifGO"
      },
      "execution_count": 116,
      "outputs": [
        {
          "output_type": "execute_result",
          "data": {
            "text/plain": [
              "(1038, 2)"
            ]
          },
          "metadata": {},
          "execution_count": 116
        }
      ]
    },
    {
      "cell_type": "markdown",
      "source": [
        "####Find out the total count of null values in each columns"
      ],
      "metadata": {
        "id": "7MGvH7KJifGO"
      }
    },
    {
      "cell_type": "code",
      "source": [
        "df.isnull().sum()"
      ],
      "metadata": {
        "colab": {
          "base_uri": "https://localhost:8080/"
        },
        "outputId": "6bf171b0-fbe3-4de5-ad98-752a04d78055",
        "id": "qO7378dxifGO"
      },
      "execution_count": 117,
      "outputs": [
        {
          "output_type": "execute_result",
          "data": {
            "text/plain": [
              "description     0\n",
              "color_id       33\n",
              "dtype: int64"
            ]
          },
          "metadata": {},
          "execution_count": 117
        }
      ]
    },
    {
      "cell_type": "markdown",
      "source": [
        "#Data Type Conversion"
      ],
      "metadata": {
        "id": "K1JxzPWdifGP"
      }
    },
    {
      "cell_type": "markdown",
      "source": [
        "####For checking the data types of columns"
      ],
      "metadata": {
        "id": "oqp0-P-sifGP"
      }
    },
    {
      "cell_type": "code",
      "source": [
        "df.dtypes"
      ],
      "metadata": {
        "colab": {
          "base_uri": "https://localhost:8080/"
        },
        "outputId": "83dc1fec-927c-45c3-af64-a6f7153efb61",
        "id": "FQqfEtqhifGP"
      },
      "execution_count": 118,
      "outputs": [
        {
          "output_type": "execute_result",
          "data": {
            "text/plain": [
              "description     object\n",
              "color_id       float64\n",
              "dtype: object"
            ]
          },
          "metadata": {},
          "execution_count": 118
        }
      ]
    },
    {
      "cell_type": "markdown",
      "source": [
        "####need to convert the description in string and color_id into int"
      ],
      "metadata": {
        "id": "3MhaQDJPifGP"
      }
    },
    {
      "cell_type": "code",
      "source": [
        "df['description'] = df['description'].astype(str)\n",
        "df['color_id'] = df['color_id'].fillna(0).astype(int)"
      ],
      "metadata": {
        "id": "Fs1IDEaOifGP"
      },
      "execution_count": 119,
      "outputs": []
    },
    {
      "cell_type": "markdown",
      "source": [
        "#####0-> will represent null values"
      ],
      "metadata": {
        "id": "aLUR0bo5ifGP"
      }
    },
    {
      "cell_type": "code",
      "source": [
        "df.dtypes"
      ],
      "metadata": {
        "colab": {
          "base_uri": "https://localhost:8080/"
        },
        "outputId": "ccfef623-6021-4efb-a168-0e8e14c2392a",
        "id": "YKy_XWqqifGP"
      },
      "execution_count": 120,
      "outputs": [
        {
          "output_type": "execute_result",
          "data": {
            "text/plain": [
              "description    object\n",
              "color_id        int64\n",
              "dtype: object"
            ]
          },
          "metadata": {},
          "execution_count": 120
        }
      ]
    },
    {
      "cell_type": "code",
      "source": [
        "import nltk\n",
        "nltk.download('stopwords')\n",
        "from nltk.corpus import stopwords"
      ],
      "metadata": {
        "colab": {
          "base_uri": "https://localhost:8080/"
        },
        "outputId": "acedd3ff-4ac2-4f17-b07b-4c4052e4769d",
        "id": "5kAFykWcifGQ"
      },
      "execution_count": 121,
      "outputs": [
        {
          "output_type": "stream",
          "name": "stderr",
          "text": [
            "[nltk_data] Downloading package stopwords to /root/nltk_data...\n",
            "[nltk_data]   Package stopwords is already up-to-date!\n"
          ]
        }
      ]
    },
    {
      "cell_type": "code",
      "source": [
        "print(stopwords.words('english'))"
      ],
      "metadata": {
        "colab": {
          "base_uri": "https://localhost:8080/"
        },
        "outputId": "27fdee74-4228-4b83-eded-9bd36f636075",
        "id": "-9Fmqu6iifGQ"
      },
      "execution_count": 122,
      "outputs": [
        {
          "output_type": "stream",
          "name": "stdout",
          "text": [
            "['i', 'me', 'my', 'myself', 'we', 'our', 'ours', 'ourselves', 'you', \"you're\", \"you've\", \"you'll\", \"you'd\", 'your', 'yours', 'yourself', 'yourselves', 'he', 'him', 'his', 'himself', 'she', \"she's\", 'her', 'hers', 'herself', 'it', \"it's\", 'its', 'itself', 'they', 'them', 'their', 'theirs', 'themselves', 'what', 'which', 'who', 'whom', 'this', 'that', \"that'll\", 'these', 'those', 'am', 'is', 'are', 'was', 'were', 'be', 'been', 'being', 'have', 'has', 'had', 'having', 'do', 'does', 'did', 'doing', 'a', 'an', 'the', 'and', 'but', 'if', 'or', 'because', 'as', 'until', 'while', 'of', 'at', 'by', 'for', 'with', 'about', 'against', 'between', 'into', 'through', 'during', 'before', 'after', 'above', 'below', 'to', 'from', 'up', 'down', 'in', 'out', 'on', 'off', 'over', 'under', 'again', 'further', 'then', 'once', 'here', 'there', 'when', 'where', 'why', 'how', 'all', 'any', 'both', 'each', 'few', 'more', 'most', 'other', 'some', 'such', 'no', 'nor', 'not', 'only', 'own', 'same', 'so', 'than', 'too', 'very', 's', 't', 'can', 'will', 'just', 'don', \"don't\", 'should', \"should've\", 'now', 'd', 'll', 'm', 'o', 're', 've', 'y', 'ain', 'aren', \"aren't\", 'couldn', \"couldn't\", 'didn', \"didn't\", 'doesn', \"doesn't\", 'hadn', \"hadn't\", 'hasn', \"hasn't\", 'haven', \"haven't\", 'isn', \"isn't\", 'ma', 'mightn', \"mightn't\", 'mustn', \"mustn't\", 'needn', \"needn't\", 'shan', \"shan't\", 'shouldn', \"shouldn't\", 'wasn', \"wasn't\", 'weren', \"weren't\", 'won', \"won't\", 'wouldn', \"wouldn't\"]\n"
          ]
        }
      ]
    },
    {
      "cell_type": "markdown",
      "source": [
        "##Data Stemming"
      ],
      "metadata": {
        "id": "nfDtguSaifGQ"
      }
    },
    {
      "cell_type": "markdown",
      "source": [
        "#### convert the description data from upper case to lower case and break the string sentence into list"
      ],
      "metadata": {
        "id": "IR7Iw0OMifGQ"
      }
    },
    {
      "cell_type": "code",
      "source": [
        "port_stem= PorterStemmer()"
      ],
      "metadata": {
        "id": "r8KgfxLgifGQ"
      },
      "execution_count": 123,
      "outputs": []
    },
    {
      "cell_type": "code",
      "source": [
        "def stemming(content):\n",
        "  stemmed_content = re.sub('[^a-zA-Z]',' ', content)\n",
        "  stemmed_content = stemmed_content.lower()\n",
        "  stemmed_content = stemmed_content.split()\n",
        "  stemmed_content = [port_stem.stem(word) for word in stemmed_content if not word in stopwords.words('english')]\n",
        "  stemmend_content=''.join(stemmed_content)\n",
        "  return stemmed_content"
      ],
      "metadata": {
        "id": "TZAfjoK9ifGR"
      },
      "execution_count": 124,
      "outputs": []
    },
    {
      "cell_type": "code",
      "source": [
        "df['stemmed_content']= df['description'].apply(stemming)"
      ],
      "metadata": {
        "id": "TLXCGmhQifGR"
      },
      "execution_count": 125,
      "outputs": []
    },
    {
      "cell_type": "code",
      "source": [
        "print(df['stemmed_content'])"
      ],
      "metadata": {
        "colab": {
          "base_uri": "https://localhost:8080/"
        },
        "outputId": "602d7019-14b3-4db5-df78-a7d05ea5ceca",
        "id": "05TBDQRZifGR"
      },
      "execution_count": 126,
      "outputs": [
        {
          "output_type": "stream",
          "name": "stdout",
          "text": [
            "0                  [es, machin, poll, manag, train, room]\n",
            "1       [person, regist, vote, nokomi, beach, park, ba...\n",
            "2       [found, bu, broke, ballot, printer, elect, sys...\n",
            "3                           [see, candid, besid, finchem]\n",
            "4       [earli, vote, without, request, inform, poll, ...\n",
            "                              ...                        \n",
            "1036    [earli, vote, primari, tucker, reid, librari, ...\n",
            "1037    [worker, could, find, electron, poll, book, ne...\n",
            "1038    [pc, sit, tabl, review, sampl, ballot, ask, su...\n",
            "1039    [sent, absente, ballot, track, know, count, ch...\n",
            "1040        [dem, owo, ccp, cartel, fund, invas, countri]\n",
            "Name: stemmed_content, Length: 1038, dtype: object\n"
          ]
        }
      ]
    },
    {
      "cell_type": "markdown",
      "source": [
        "### Splitting of train data and stemming data"
      ],
      "metadata": {
        "id": "Wy5j4C5BifGR"
      }
    },
    {
      "cell_type": "markdown",
      "source": [
        "###### X will be for stemmed_content and Y will be for color_id"
      ],
      "metadata": {
        "id": "4fRZWka8ifGS"
      }
    },
    {
      "cell_type": "code",
      "source": [
        "df.columns"
      ],
      "metadata": {
        "colab": {
          "base_uri": "https://localhost:8080/"
        },
        "outputId": "b9684db7-b4f6-497e-df38-172efb34d920",
        "id": "8ypePaKYifGS"
      },
      "execution_count": 127,
      "outputs": [
        {
          "output_type": "execute_result",
          "data": {
            "text/plain": [
              "Index(['description', 'color_id', 'stemmed_content'], dtype='object')"
            ]
          },
          "metadata": {},
          "execution_count": 127
        }
      ]
    },
    {
      "cell_type": "code",
      "source": [
        "x = df['stemmed_content'].values\n",
        "y = df['color_id'].values"
      ],
      "metadata": {
        "id": "iCuZb7kTifGS"
      },
      "execution_count": 128,
      "outputs": []
    },
    {
      "cell_type": "code",
      "source": [
        "print(x)"
      ],
      "metadata": {
        "colab": {
          "base_uri": "https://localhost:8080/"
        },
        "outputId": "8084a0bf-6bd6-4e06-af09-8f5d1debaff9",
        "id": "_iudd9V_ifGS"
      },
      "execution_count": 129,
      "outputs": [
        {
          "output_type": "stream",
          "name": "stdout",
          "text": [
            "[list(['es', 'machin', 'poll', 'manag', 'train', 'room'])\n",
            " list(['person', 'regist', 'vote', 'nokomi', 'beach', 'park', 'bath', 'hous', 'mail', 'ballot', 'go', 'franc', 'casey', 'key', 'road', 'nokomi', 'fl', 'voter', 'id', 'barbara', 'clair', 'weber', 'baur', 'ter', 'avenu', 'jean', 'casal', 'buc', 'franc', 'race', 'femal', 'born', 'regist', 'democrat', 'vote', 'absente', 'march', 'nov', 'march', 'vote', 'histori'])\n",
            " list(['found', 'bu', 'broke', 'ballot', 'printer', 'elect', 'system', 'softwar', 'time', 'report', 'said', 'arizona', 'use', 'ess', 'machin', 'az', 'audit', 'mention', 'ess', 'print', 'ballot', 'poll', 'hear', 'voter', 'fraud', 'yuma', 'counti', 'person', 'drive', 'bu', 'said', 'obtain', 'printer', 'paper', 'yuma', 'thank', 'shannon', 'benbow'])\n",
            " ...\n",
            " list(['pc', 'sit', 'tabl', 'review', 'sampl', 'ballot', 'ask', 'supervisor', 'poll', 'mgr', 'explain', 'answer', 'question', 'redistrict', 'start', 'tab', 'district', 'map', 'tab', 'georgia', 'so', 'myvot', 'page', 'tab', 'congressman', 'luci', 'mcbath', 'ask', 'said', 'suppos', 'close', 'tab', 'saw', 'voter', 'impact', 'nobodi', 'use', 'machin', 'sit', 'unlabel', 'expect', 'one', 'use', 'unexpect', 'appear', 'one', 'launch', 'websit', 'includ', 'politician'])\n",
            " list(['sent', 'absente', 'ballot', 'track', 'know', 'count', 'chesterfield', 'counti', 'va'])\n",
            " list(['dem', 'owo', 'ccp', 'cartel', 'fund', 'invas', 'countri'])]\n"
          ]
        }
      ]
    },
    {
      "cell_type": "code",
      "source": [
        "print(y)"
      ],
      "metadata": {
        "colab": {
          "base_uri": "https://localhost:8080/"
        },
        "outputId": "b22d70f6-67a2-4c81-f2c8-654510ec6764",
        "id": "nxclSq38ifGS"
      },
      "execution_count": 130,
      "outputs": [
        {
          "output_type": "stream",
          "name": "stdout",
          "text": [
            "[2 1 2 ... 1 1 5]\n"
          ]
        }
      ]
    },
    {
      "cell_type": "code",
      "source": [
        "x_train,x_test,y_train,y_test = train_test_split(x,y,test_size=0.3,stratify=y,random_state=2)\n",
        "\n"
      ],
      "metadata": {
        "id": "sH822wVcifGS"
      },
      "execution_count": 131,
      "outputs": []
    },
    {
      "cell_type": "code",
      "source": [
        "print(x.shape,x_train.shape,y.shape,y_train.shape)"
      ],
      "metadata": {
        "colab": {
          "base_uri": "https://localhost:8080/"
        },
        "outputId": "1754d073-43ec-47ab-9a2f-a5bf7fbdf667",
        "id": "ORp_Z9QMifGT"
      },
      "execution_count": 132,
      "outputs": [
        {
          "output_type": "stream",
          "name": "stdout",
          "text": [
            "(1038,) (726,) (1038,) (726,)\n"
          ]
        }
      ]
    },
    {
      "cell_type": "code",
      "source": [
        "print(x_train)\n",
        "print(x_test)"
      ],
      "metadata": {
        "colab": {
          "base_uri": "https://localhost:8080/"
        },
        "outputId": "159ae9f3-3a18-4a4e-a7cb-d93b2f07e106",
        "id": "GhW0KGkfifGT"
      },
      "execution_count": 133,
      "outputs": [
        {
          "output_type": "stream",
          "name": "stdout",
          "text": [
            "[list(['lot', 'issu', 'clay', 'counti', 'send', 'sampl', 'directli'])\n",
            " list(['multipl', 'issu', 'scan', 'machin', 'accept', 'ballot', 'first', 'tri', 'happen', 'multipl', 'time', 'helena', 'township', 'hall', 'observ', 'husband', 'experi', 'ballot', 'least', 'one', 'time', 'forest', 'home', 'township', 'hall', 'today', 'per', 'cowork', 'poll', 'worker', 'peopl', 'vote', 'flip', 'ballot', 'back', 'forth', 'tri', 'get', 'machin', 'accept', 'machin', 'suck', 'ballot', 'spit', 'back', 'flip', 'insert', 'repeat'])\n",
            " list(['maricopa', 'counti', 'mtec', 'live', 'video', 'feed', 'earli', 'vote', 'camera', 'view', 'view', 'pm', 'avail', 'live', 'feed', 'view', 'four', 'view', 'ballot', 'handl', 'tabl', 'differ', 'angl', 'mani', 'tabl', 'giant', 'room', 'one', 'storag', 'room', 'one', 'appar', 'offic', 'room', 'full', 'cubicl', 'see', 'top', 'peopl', 'head', 'cubicl', 'concern', 'specif', 'four', 'camera', 'ballot', 'handl', 'room', 'separ', 'ballot', 'envelop', 'tabl', 'closest', 'view', 'camera', 'vacant', 'past', 'hour', 'everyon', 'smash', 'togeth', 'center', 'room', 'camera', 'realli', 'get', 'clear', 'visual', 'anyth', 'may', 'concern', 'tabl', 'view', 'camera', 'empti', 'middl', 'room', 'one', 'eye'])\n",
            " list(['voter', 'differ', 'situat', 'receiv', 'mail', 'ballot', 'notifi', 'elect', 'board', 'want', 'mail', 'want', 'vote', 'person', 'precinct', 'angri', 'provision', 'ballet', 'get', 'mail', 'ballot', 'list', 'sure', 'problem', 'fyi'])\n",
            " list(['august', 'move', 'tacin', 'counti', 'adam', 'counti', 'alreadi', 'chang', 'address', 'verifi', 'vote', 'regist', 'adam', 'counti', 'receiv', 'two', 'flyer', 'robin', 'vo', 'racin', 'counti', 'new', 'mail', 'address', 'appear', 'strang'])\n",
            " list(['poll', 'worker', 'suggest', 'husband', 'use', 'felt', 'tip', 'marker', 'set', 'vote', 'station', 'husband', 'brought', 'ballpoint', 'pen', 'poll', 'worker', 'said', 'ballpoint', 'pen', 'mess', 'machin', 'smear', 'ballot', 'envelop', 'sign', 'regular', 'bic', 'pen', 'set', 'use', 'abl', 'use', 'chose', 'ballot', 'state', 'elect', 'day', 'felt', 'tip', 'maker', 'would', 'allow', 'occur', 'vote', 'site', 'queen', 'creek', 'az'])\n",
            " list(['earli', 'vote', 'yesterday', 'first', 'christian', 'church', 'th', 'claremont', 'glendal', 'cours', 'felt', 'pen', 'wait', 'booth', 'prepar', 'issu', 'though', 'left', 'feel', 'uneasi', 'poll', 'worker', 'today', 'elect', 'day', 'decid', 'ask', 'question', 'ask', 'mom', 'democrat', 'want', 'know', 'vote', 'republican', 'ticket', 'man', 'answer', 'correctli', 'hispan', 'poll', 'worker', 'californian', 'answer', 'also', 'state', 'mom', 'id', 'told', 'man', 'tell', 'mom', 'man', 'answer', 'correct', 'answer', 'hispan', 'woman', 'state', 'come', 'call', 'chang', 'tune', 'sat', 'corner', 'talk', 'man', 'littl', 'bit', 'told', 'mom', 'want', 'vote', 'republican', 'ticket', 'vote', 'kari', 'lake', 'man', 'laugh', 'said', 'great', 'audio', 'well'])\n",
            " list(['wit', 'perman', 'marker', 'poll', 'provid', 'felt', 'pen', 'bleed', 'ballot', 'wit', 'blank', 'ink', 'pen', 'go', 'machin', 'without', 'issu', 'wit', 'poll', 'worker', 'question', 'bleed', 'pen', 'wit', 'process', 'use', 'spoil', 'ballot', 'realiz', 'happen', 'first', 'enter', 'inform', 'vote', 'applic', 'rec', 'error', 'messag', 'vote', 'alreadi', 'live', 'learn', 'today', 'spoil', 'ballot', 'handl', 'spoil', 'paper', 'ballot', 'cancel', 'live', 'voter', 'entri', 'alreadi', 'produc', 'ballot', 'spoil', 'ballot', 'mark', 'across', 'label', 'spoil', 'observ', 'poll', 'worker', 'place', 'spoil', 'ballot', 'bag', 'label', 'spoil', 'ballot', 'radio', 'news', 'twice', 'said', 'folk', 'steal', 'provid', 'pen', 'photo', 'pen', 'work', 'great', 'brought', 'offer', 'poll', 'place', 'love', 'christ', 'church', 'north', 'power', 'road', 'mesa', 'az'])\n",
            " list(['man', 'clearli', 'mark', 'ballot', 'count', 'station', 'live', 'fox', 'news', 'harri', 'faulkner', 'show'])\n",
            " list(['sure', 'bring', 'two', 'voter', 'machin', 'car', 'legal', 'get', 'pic', 'two', 'gentlemen', 'bring', 'machin', 'cart', 'get', 'pictur', 'vote', 'sign', 'curbsid', 'vote'])\n",
            " list(['maricopa', 'text', 'said', 'vote', 'ballot', 'home', 'also', 'get', 'g', 'son', 'ballot', 'nashvil', 'year', 'also', 'log', 'sight', 'said', 'vote'])\n",
            " list(['bilingu', 'bilingu', 'colorado', 'ballet', 'last', 'elect', 'happen', 'ballot', 'stub', 'remov'])\n",
            " list(['took', 'mail', 'ballot', 'poll', 'locat', 'elect', 'day', 'accept', 'place', 'envelop', 'remov', 'secur', 'envelop', 'name', 'signatur', 'one', 'verifi', 'name', 'vote', 'roll', 'know', 'vote', 'secur', 'envelop', 'signatur', 'know', 'vote', 'one', 'verifi'])\n",
            " list(['took', 'pictur', 'monitor', 'screen', 'research', 'app', 'found', 'cisa', 'repirt', 'vulner', 'exact', 'suit'])\n",
            " list(['receiv', 'letter', 'upcom', 'elect', 'someon', 'never', 'heard', 'previou', 'owner', 'hous', 'also', 'receiv', 'mail', 'ballot', 'person', 'primari'])\n",
            " list(['vote', 'canton', 'precinct', 'offer', 'marker', 'heard', 'go', 'adjud', 'bleed'])\n",
            " list(['place', 'resid', 'receiv', 'fals', 'vote', 'identif', 'card', 'address', 'name', 'list', 'osevil', 'montario', 'smith', 'iii', 'address', 'kingsbrook', 'st', 'realli', 'dr', 'kalamazoo', 'mi'])\n",
            " list(['would', 'like', 'report', 'corrupt', 'elect', 'fraud', 'new', 'york', 'state', 'gave', 'democrat', 'governor', 'hochul', 'elect', 'vs', 'gop', 'congress', 'man', 'lee', 'zeldin', 'suffolk', 'counti', 'wifi', 'outag', 'drive', 'flash', 'drive', 'differ', 'locat', 'suffolk', 'counti', 'board', 'elect', 'seat', 'hous', 'big', 'red', 'wave', 'across', 'long', 'island', 'ny', 'suffolk', 'counti', 'an', 'nassau', 'counti', 'zeldin', 'pack', 'ralli', 'like', 'trump', 'know', 'zeldin', 'ralli', 'haupaug', 'governor', 'ron', 'desanti', 'came', 'long', 'island', 'campaign', 'lee', 'zeldin', 'first', 'said', 'would', 'result', 'suffolk', 'counti', 'next', 'day', 'morn', 'vote', 'seem', 'bit', 'strang', 'would', 'doubt', 'ny', 'chang', 'number', 'race', 'could', 'look', 'send', 'peopl', 'thank', 'dedic', 'hard', 'work', 'countri', 'attach', 'screen', 'shot', 'refer', 'includ', 'suffolk', 'counti', 'democrat', 'chairman', 'rich', 'schaffer', 'said', 'thank', 'anthoni', 'long', 'island', 'ny'])\n",
            " list(['wifi', 'access', 'vote', 'locat'])\n",
            " list(['earli', 'vote', 'without', 'request', 'inform', 'poll', 'locat', 'whether', 'resum', 'origin', 'locat', 'go', 'central', 'locat', 'gubernatori'])\n",
            " list(['onlin', 'ballottrax', 'say', 'request', 'mail', 'ballot', 'cancel', 'juli', 'request', 'mail', 'ballot', 'vote', 'earli', 'vote', 'site', 'week'])\n",
            " list(['luzern', 'counti', 'dorranc', 'municip', 'bldg', 'paper', 'printer', 'low', 'paper', 'ballot', 'use', 'sinc', 'paper', 'machin', 'blue', 'ridg', 'trl', 'mountain', 'top', 'pa'])\n",
            " list(['poll', 'worker', 'caught', 'fill', 'ballot', 'post', 'telegram', 'http', 'richardcitizenjournalistopenchat'])\n",
            " list(['vote', 'west', 'main', 'street', 'dudley', 'town', 'hall', 'decid', 'util', 'construct', 'front', 'locat', 'vote', 'take', 'place'])\n",
            " list(['presidenti', 'elect', 'poll', 'place', 'issu', 'black', 'felt', 'tip', 'magic', 'marker', 'marker', 'bleed', 'paper', 'ink', 'pen', 'use', 'mark', 'ballot', 'vote', 'trump', 'stolen'])\n",
            " list(['wireless', 'modem', 'seen', 'floor', 'center', 'room', 'tri', 'hide', 'wire', 'behind', 'poster', 'curtain', 'tabl', 'lock', 'box', 'across', 'street', 'front', 'town', 'hall', 'vote'])\n",
            " list(['want', 'involv', 'watch', 'valid', 'vote'])\n",
            " list(['id', 'need', 'vote']) list(['johnni', 'man'])\n",
            " list(['phx', 'union', 'hs', 'poll', 'station', 'record', 'receiv', 'mail', 'ballot', 'system', 'print', 'one', 'use', 'gel', 'pen', 'dri', 'fine', 'issu', 'ask', 'surrend', 'mail', 'ballot', 'still', 'everyon', 'super', 'nice'])\n",
            " list(['screen', 'captur', 'wi', 'fi', 'network', 'within', 'immedi', 'vicin', 'hawaii', 'counti', 'ballot', 'process', 'recent', 'primari', 'elect', 'aug', 'e', 'makaala', 'street', 'hilo', 'hawaii'])\n",
            " list(['madison', 'ct', 'wifi', 'vote', 'build', 'told', 'assist', 'registrar', 'show', 'wi', 'fi', 'play', 'dumb', 'said', 'oh', 'realli', 'issu'])\n",
            " list(['ella', 'k', 'sarver', 'reno', 'st', 'rochest', 'pa', 'mom', 'disabl', 'blind', 'receiv', 'vote', 'mail', 'ballot', 'ella', 'tore', 'destroy', 'xtra', 'alway', 'vote', 'mail', 'hope', 'use', 'info', 'dorothyjean', 'sarver'])\n",
            " list(['tri', 'insert', 'ballot', 'elect', 'day', 'novemb', 'tabul', 'happi', 'trail', 'resort', 'w', 'bell', 'rd', 'surpris', 'az', 'mani', 'time', 'reject', 'unwillingli', 'put', 'drawer', 'sure', 'count', 'work', 'poll', 'worker', 'locat', 'wit', 'mani', 'ballot', 'reject', 'tabul', 'end', 'elect', 'day', 'ballot', 'put', 'tabul', 'locat', 'ballot', 'drawer'])\n",
            " list(['noth', 'come', 'candid', 'awar'])\n",
            " list(['tabular', 'sever', 'vote'])\n",
            " list(['felt', 'pen', 'vote', 'booth', 'notifi', 'voter', 'registr', 'person', 'said', 'ball', 'point', 'pen', 'remov', 'felt', 'pen', 'took', 'seal', 'ballot', 'receiv', 'usp', 'told', 'cannot', 'fill', 'ballot', 'unless', 'want', 'destroy', 'ballot', 'would', 'give', 'new', 'ballot', 'fill', 'told', 'want', 'fill', 'ballot', 'brought', 'could', 'vote', 'area', 'stood', 'hall', 'way', 'fill', 'ballot', 'ball', 'point', 'pen', 'sever', 'peopl', 'mani'])\n",
            " list(['pen', 'black', 'felt', 'tip', 'ball', 'point', 'booth', 'sign', 'say', 'pleas', 'use', 'pen', 'provid', 'peopl', 'ballot', 'count', 'peopl', 'side', 'wait', 'ballot', 'would', 'count', 'machin', 'one', 'machin', 'took', 'three', 'time', 'put', 'ballot', 'final', 'go'])\n",
            " list(['mom', 'fill', 'ballot', 'togeth', 'republican', 'candid', 'list', 'differ', 'order', 'everi', 'race', 'take', 'pictur', 'ballot', 'regrett', 'receiv', 'us', 'ld', 'wildwood', 'sandia', 'testifi', 'oath'])\n",
            " list(['add', 'poll', 'watcher', 'train', 'told', 'number', 'thing', 'go', 'origin', 'instruct'])\n",
            " list(['http', 'fb', 'watch', 'gfegg', 'dy', 'v', 'mibextid', 'tnbg', 'jaquita', 'wilson', 'campaign', 'jester', 'annex', 'williamson', 'counti', 'tx', 'brag', 'harass', 'voter', 'see', 'text', 'photo', 'campaign', 'tiffani', 'harrisson', 'run', 'round', 'rock', 'independ', 'school', 'district', 'also', 'anoth', 'video', 'say', 'vote', 'beto', 'imma', 'punch', 'face', 'see', 'video', 'http', 'facebook', 'com', 'stori', 'php', 'stori', 'fbid', 'id', 'public', 'facebook'])\n",
            " list(['drop', 'box', 'lazi', 'j', 'ranch', 'park', 'west', 'hill', 'california', 'complet', 'un', 'monitor'])\n",
            " list(['machin', 'broke', 'could', 'slide', 'ballot', 'machin', 'minut', 'wait', 'ballot', 'other', 'left', 'ballot', 'slot', 'told', 'would', 'run', 'later'])\n",
            " list(['pima', 'counti', 'az', 'poll', 'site', 'tabul', 'ballot', 'go', 'box', 'tabul', 'later', 'nobodi', 'locat', 'abl', 'get', 'tabul', 'poll', 'site', 'ambassador', 'event', 'center', 'wilmot', 'road', 'tucson'])\n",
            " list(['drive', 'vote', 'still', 'go', 'johnson', 'counti', 'administr', 'build', 'despit', 'suppos', 'close', 'pm'])\n",
            " list(['went', 'vote', 'yesterday', 'disappoint', 'receiv', 'republican', 'demand', 'ballot', 'chose', 'candid', 'notic', 'printer', 'misalign', 'scope', 'crosshair', 'line', 'immedi', 'made', 'worker', 'awar', 'assur', 'issu', 'ballot', 'read', 'machin', 'someon', 'would', 'fix', 'end', 'like', 'adjud', 'ballot', 'ask', 'anoth', 'ballot', 'went', 'process', 'issu', 'let', 'fold', 'first', 'ballot', 'put', 'envelop', 'drop', 'box', 'curiou', 'first', 'ballot', 'void', 'system', 'second', 'one', 'creat', 'ballot', 'ee', 'white'])\n",
            " list(['went', 'pinal', 'counti', 'record', 'offic', 'vote', 'told', 'receiv', 'call', 'ask', 'ballot', 'mail', 'home', 'said', 'ballot', 'went', 'mail', 'let', 'vote', 'told', 'shred', 'ballot', 'get', 'ballot', 'still', 'arriv', 'week', 'later', 'call', 'husband', 'glad', 'vote', 'whoever', 'get', 'ballot'])\n",
            " list(['lot', 'open', 'wifi', 'bluetooth'])\n",
            " list(['ballot', 'count', 'locat', 'transport', 'el', 'paso', 'counti', 'offic', 'chuck', 'broemer', 'corrupt', 'trust', 'process'])\n",
            " list(['way', 'verifi', 'vote', 'touch', 'submit', 'home', 'print', 'noth'])\n",
            " list(['discrep', 'voter', 'role', 'pdf', 'larri', 'hassing', 'live', 'address', 'anymor', 'n', 'woodland', 'dr', 'move', 'oregon', 'juli', 'know', 'fact', 'husband', 'bought', 'hous', 'date', 'thank', 'laura', 'urrea', 'home', 'owner'])\n",
            " list(['met', 'chairman', 'gop', 'flagler', 'counti', 'palm', 'coast', 'flagler', 'beach', 'florida', 'interview', 'test', 'see', 'would', 'even', 'consid', 'give', 'opportun', 'invit', 'care', 'said', 'gave', 'lot', 'insight', 'realli', 'could', 'lot', 'wors', 'good', 'suspici', 'skeptic', 'outsid', 'angri', 'governor', 'desanti', 'big', 'fan', 'presid', 'trump', 'think', 'controversi', 'far', 'right', 'hate', 'steve', 'bannon', 'much', 'awar', 'precinct', 'strategi', 'work', 'hard', 'let', 'maga', 'steve', 'bannon', 'peopl', 'insid', 'father', 'law', 'tell', 'corrupt', 'suspici', 'skeptic', 'first', 'emphas', 'fight', 'keep', 'maga', 'steve', 'bannon', 'precinct', 'peopl', 'want', 'establish', 'weak', 'republican', 'invit', 'step', 'care', 'spoke', 'listen', 'care', 'invit', 'multipl', 'event', 'alreadi', 'went', 'well', 'hope', 'get', 'must', 'care', 'tri', 'becom', 'precinct', 'committeeman', 'must', 'wait', 'decemb', 'local', 'precinct', 'elect', 'vote', 'send', 'paperwork', 'applic', 'oath', 'hope', 'whoever', 'take', 'leadership', 'decemb', 'farther', 'right', 'guy', 'charg', 'right', 'far', 'look', 'good', 'area', 'must', 'care', 'els', 'blacklist', 'flagler', 'counti', 'establish', 'weak', 'rino', 'seem', 'hope', 'get', 'way', 'committeeman', 'hope', 'new', 'leadership', 'farther', 'right', 'will', 'fight', 'harder', 'novemb', 'th', 'poll', 'watcher', 'precinct', 'drop', 'box', 'watcher', 'late', 'night'])\n",
            " list(['poll', 'worker', 'told', 'us', 'cell', 'phone', 'use', 'stand', 'exit', 'one', 'worker', 'say', 'interfer', 'machin', 'said', 'machin', 'connect', 'internet', 'oh', 'said', 'ask', 'els', 'would', 'interfer', 'anoth', 'guy', 'came', 'say', 'take', 'pictur', 'ballot', 'pretti', 'far', 'machin', 'take', 'photo'])\n",
            " list(['drop', 'box', 'insid', 'site', 'poll', 'locat', 'peopl', 'bring', 'ballot', 'drop', 'tabul', 'problem', 'entir', 'shift', 'poll', 'observ', 'given', 'choic', 'anoth', 'ballot', 'drop', 'box', 'count', 'vote', 'center', 'comput', 'ballot', 'poll', 'worker', 'said', 'blue', 'ink', 'problem', 'tabul', 'technician', 'call', 'fix', 'tabul', 'never', 'got', 'done', 'technician', 'replac', 'printer', 'cartridg', 'twice', 'voter', 'direct', 'anoth', 'vote', 'poll', 'delay', 'locat', 'prior', 'close', 'postal', 'employe', 'came', 'approxim', 'ballot', 'post', 'offic', 'item', 'transport', 'surpris', 'az', 'republican', 'democrat', 'poll', 'worker', 'bubbl', 'pack', 'black', 'bag', 'seal', 'red', 'box', 'seal', 'blue', 'box', 'w', 'seal', 'note', 'shift', 'poll', 'observ', 'around', 'went', 'vote', 'arriv', 'told', 'equip', 'problem', 'problem', 'first', 'ballot', 'blue', 'ink', 'nd', 'ballot', 'black', 'felt', 'tip', 'pen', 'tabul', 'accept'])\n",
            " list(['multipl', 'wi', 'fi', 'connect', 'avail', 'understand', 'school', 'howev', 'disabl', 'elect', 'event', 'water', 'edg', 'elementari', 'school', 'west', 'boca', 'raton', 'palm', 'beach', 'counti', 'florida'])\n",
            " list(['hola', 'mi', 'nombr', 'es', 'carmen', 'pav', 'n', 'la', 'irregularidad', 'que', 'mire', 'fue', 'que', 'el', 'recinto', 'siempr', 'dan', 'un', 'l', 'piz', 'para', 'marcar'])\n",
            " list(['kern', 'counti', 'use', 'ipad', 'got', 'rid', 'poll', 'book', 'connect', 'internet', 'surrend', 'ballot', 'vote', 'person', 'ask', 'know', 'person', 'vote', 'told', 'trust', 'system'])\n",
            " list(['az', 'group', 'know', 'commun', 'home', 'state', 'year', 'odd', 'request', 'right', 'big', 'elect', 'lot', 'stake', 'az'])\n",
            " list(['paper', 'ballot', 'scan', 'elect', 'worker', 'said', 'scanner', 'work', 'ballot', 'put', 'altern', 'scanner', 'similar', 'mailbox', 'collect', 'ballot', 'scan', 'later', 'scanner', 'work', 'confid', 'republican', 'ballot', 'scan', 'way', 'verifi', 'ballot', 'count', 'illinoi', 'precinct'])\n",
            " list(['today', 'poll', 'pad', 'work', 'sign', 'vote', 'line', 'get', 'long'])\n",
            " list(['express', 'vote', 'machin', 'wifi', 'enabl', 'kloefkorn', 'elementari', 'see', 'top', 'deviceonboard'])\n",
            " list(['went', 'vote', 'earli', 'person', 'someon', 'request', 'absente', 'ballot', 'name', 'elect', 'worker', 'ask', 'ever', 'live', 'local', 'home', 'elderli', 'year', 'old', 'never', 'live', 'rel', 'either', 'one', 'famili', 'similar', 'name', 'mine'])\n",
            " list(['head', 'elect', 'judg', 'stearn', 'counti', 'mn', 'counti', 'tell', 'us', 'need', 'vote', 'absent', 'tee', 'ballot', 'sinc', 'work', 'day', 'give', 'judg', 'break', 'go', 'vote', 'person', 'think', 'someth', 'worth', 'look'])\n",
            " list(['check', 'avail', 'wi', 'fi', 'asu', 'west', 'locat', 'w', 'thunderbird', 'road', 'outsid', 'build', 'wi', 'fi', 'asu', 'asu', 'guest', 'eduroam', 'insid', 'build', 'vote', 'wi', 'fi', 'includ', 'plu', 'ibr', 'c', 'verdedin', 'west', 'may', 'legit', 'ibr', 'one', 'question'])\n",
            " list(['sign']) list(['legal'])\n",
            " list(['today', 'receiv', 'unsolicit', 'email', 'rockthevot', 'org', 'ask', 'inform', 'voter', 'registr', 'data', 'correct', 'updat', 'directli', 'link', 'provid', 'consent', 'mi', 'so', 'benson', 'give', 'privat', 'inform', 'anyon', 'let', 'alon', 'privat', 'compani', 'seem', 'comb', 'voter', 'roll', 'dormant', 'voter', 'tie', 'mule', 'ballot'])\n",
            " list(['fayett', 'school', 'poll', 'woman', 'machin', 'put', 'fold', 'ballet', 'voter', 'ballot', 'everi', 'time', 'voter', 'put', 'ballot', 'machin', 'walk', 'put', 'anoth'])\n",
            " list(['poll', 'worker', 'told', 'us', 'use', 'felt', 'pen', 'said', 'use', 'blue', 'ballpoint', 'pen', 'mess', 'machin', 'would', 'fault', 'demonstr', 'pen', 'fast', 'dri', 'wife', 'said', 'pen', 'choic', 'said', 'guess', 'choic', 'allow', 'us', 'use', 'pen', 'ballot', 'success', 'went', 'thru', 'unlaw', 'certifi', 'machin'])\n",
            " list(['get', 'candid', 'info'])\n",
            " list(['nyc', 'vote', 'gener', 'elect', 'voter', 'guid', 'state', 'citizenship', 'requir', 'vote', 'thought', 'suprem', 'court', 'stop'])\n",
            " list(['receiv', 'text', 'christian', 'counti', 'regard', 'vote', 'concern', 'someon', 'vote', 'name', 'christian', 'counti', 'well', 'vote', 'warren', 'counti', 'phone'])\n",
            " list(['earli', 'vote', 'site', 'jefferson', 'valley', 'new', 'york', 'provid', 'black', 'marker', 'mark', 'ballot'])\n",
            " list(['vote', 'person', 'poll', 'locat', 'vote', 'center', 'la', 'quinta', 'inn', 'n', 'alvernon', 'way', 'tucson', 'az', 'problem', 'finish', 'vote', 'ballot', 'scanner', 'alway', 'done', 'instead', 'direct', 'drop', 'box', 'receiv', 'receipt', 'check', 'pima', 'counti', 'record', 'offic', 'vote', 'still', 'count', 'day', 'later', 'elect', 'winner', 'call', 'vote', 'show', 'count', 'disenfranchis'])\n",
            " list(['jose', 'rodriguez', 'phantom', 'voter', 'regist', 'bernard', 'ave', 'sarasota', 'fl', 'address', 'receiv', 'mail', 'ballot', 'mailbox', 'return', 'sender', 'supervisor', 'elect', 'manate', 'counti', 'fl', 'notic', 'remov', 'month', 'afterward', 'question', 'counti', 'supervisor', 'find', 'wait', 'gener', 'elect', 'correct', 'role', 'even', 'though', 'fl', 'law', 'option', 'fix', 'problem', 'quickli'])\n",
            " list(['use', 'us', 'passport', 'id', 'poll', 'worker', 'requid', 'show', 'someth', 'address', 'would', 'accept', 'passport', 'posit', 'think', 'illeg', 'belief', 'us', 'passport', 'level', 'form', 'identif'])\n",
            " list(['machin', 'count', 'vote', 'work', 'central', 'christian', 'church'])\n",
            " list(['machin', 'columbia', 'height', 'minnesota', 'parent', 'said', 'could', 'see', 'ballot', 'peopl', 'drop', 'box', 'secur', 'hand', 'count'])\n",
            " list(['onslow', 'counti', 'nc', 'ballot', 'flash', 'drive', 'voter', 'data', 'precinct', 'brought', 'precinct', 'poll', 'locat', 'board', 'elect', 'one', 'person', 'account', 'chain', 'custodi', 'voter', 'ballot', 'system', 'make', 'mandatori', 'rep', 'parti', 'escort', 'voter', 'inform', 'secur', 'need', 'put', 'place', 'asap', 'would', 'take', 'vote', 'local', 'counti', 'elect', 'board'])\n",
            " list(['one', 'ladi', 'drop', 'ballot', 'say', 'kid', 'seem', 'like', 'lot'])\n",
            " list(['multipl', 'peopl', 'get', 'right', 'top', 'ballot', 'box', 'phoenix', 'outdoor', 'phoenix', 'locat', 'film', 'even', 'peopl', 'come', 'vote', 'drop', 'ballot'])\n",
            " list(['vote', 'room', 'phone', 'pick', 'bluetooth', 'signal', 'sure', 'someth', 'happen', 'attach', 'screenshot', 'locat', 'freeston', 'recreat', 'center', 'gilbert', 'az'])\n",
            " list(['brother', 'jame', 'kevin', 'allison', 'resid', 'round', 'rock', 'tx', 'williamson', 'counti', 'die', 'tragic', 'motorcycl', 'accid', 'near', 'mile', 'marker', 'hwi', 'new', 'mexico', 'septemb', 'somehow', 'submit', 'person', 'ballot', 'counti', 'oct'])\n",
            " list(['activ', 'local', 'area', 'network', 'avail', 'insid', 'poll', 'locat', 'clerk', 'say', 'network', 'known', 'name', 'network', 'bocc', 'guest', 'na'])\n",
            " list(['ask', 'machin', 'made', 'knew', 'took', 'pictur', 'mayb', 'someon', 'tell'])\n",
            " list(['ballot', 'remov', 'last', 'night', 'advanc', 'vote', 'per', 'gac', 'paragraph', 'buckhead', 'librari', 'fulton', 'counti', 'ga', 'presidenti', 'prefer', 'primari', 'advanc', 'vote', 'pm', 'scanner', 'shut', 'lock', 'seal', 'ballot', 'remov', 'seal', 'ballot', 'transport', 'bag', 'wit', 'sign', 'chain', 'custodi', 'form', 'poll', 'manag', 'said', 'would', 'happen', 'next', 'morn', 'saturday', 'advanc', 'vote', 'unknown', 'proper', 'wit', 'present', 'typic', 'manag', 'assist', 'manag', 'courier', 'involv', 'sign', 'chain', 'custodi', 'form', 'poll', 'watcher', 'assign', 'wit', 'normal', 'procedur'])\n",
            " list(['open', 'wifi', 'poll', 'station', 'raymond', 'main', 'jordan', 'small', 'middl', 'school', 'novemb', 'th', 'approxim', 'ish'])\n",
            " list(['son', 'brandon', 'lee', 'move', 'tn', 'keep', 'receiv', 'paper', 'ballot', 'say', 'ballot', 'request', 'receiv', 'primari', 'gener', 'gener', 'also', 'receiv', 'elect', 'includ', 'school', 'board', 'elect', 'contact', 'elect', 'offic', 'secretari', 'state', 'sever', 'time', 'avail'])\n",
            " list(['report', 'machin', 'work', 'central', 'christian', 'church', 'mesa', 'arizona', 'go', 'arizona'])\n",
            " list(['poll', 'machin', 'work'])\n",
            " list(['sharpi', 'dominion', 'machin', 'use', 'richland', 'township', 'poll', 'locat', 'last', 'primari'])\n",
            " list(['judg', 'elect', 'notic', 'second', 'poll', 'book', 'around', 'name', 'alphabet', 'order', 'use', 'voter', 'arriv', 'mail', 'ballot', 'j', 'e', 'remak', 'tha', 'go', 'take', 'forev', 'look', 'everyon'])\n",
            " list(['citi', 'flint', 'use', 'brand', 'new', 'drop', 'box', 'allow', 'entir', 'bag', 'balanc', 'place', 'need', 'think', 'legal', 'also', 'two', 'six', 'drop', 'box', 'flint', 'camera'])\n",
            " list(['http', 'www', 'fairfaxcounti', 'gov', 'news', 'fairfax', 'counti', 'must', 'unexpectedli', 'process', 'voter', 'registr', 'due', 'state', 'delay', 'odd', 'addit', 'voter', 'role', 'fairfax'])\n",
            " list(['mailin', 'ballot', 'request', 'sent', 'counti', 'well', 'advanc', 'receiv', 'ballot', 'day', 'elect', 'day', 'took', 'day', 'get', 'counti', 'give', 'adequ', 'time', 'return', 'ballot', 'hold', 'back', 'republican', 'ballot'])\n",
            " list(['vote', 'person', 'shadow', 'mountain', 'high', 'school', 'phoenix', 'maricopa', 'counti', 'machin', 'scanner', 'reject', 'ballot', 'multipl', 'time', 'poll', 'worker', 'ask', 'orient', 'ballot', 'feed', 'attempt', 'th', 'tri', 'accept', 'wife', 'wait', 'observ', 'sever', 'instanc', 'voter', 'experienc', 'issu', 'trust', 'machin', 'easi', 'tamper', 'manipul', 'result'])\n",
            " list(['look', 'blue', 'ethernet', 'cord', 'come', 'front', 'wall', 'black', 'dominion', 'vote', 'machin', 'wife', 'ask', 'elect', 'worker', 'cord', 'know', 'respons', 'wife', 'said', 'look', 'like', 'ethernet', 'cord', 'connect', 'internet', 'know', 'respons', 'lake', 'edward', 'township', 'poll', 'locat', 'near', 'brainerd', 'minnesota'])\n",
            " list(['felt', 'tip', 'pen', 'use', 'printer', 'reboot', 'count', 'machin', 'work', 'wi', 'fi', 'one', 'site', 'thought', 'suppos', 'connect', 'wi', 'fi', 'ballot', 'cancel', 'reboot', 'took', 'hour', 'cast', 'vote', 'line', 'cancel', 'ballot', 'long'])\n",
            " list(['tabul', 'machin', 'read', 'ballot', 'shut', 'one', 'machin'])\n",
            " list(['live', 'saint', 'petersburg', 'florida', 'pinella', 'counti', 'due', 'redistrict', 'receiv', 'brand', 'new', 'voter', 'registr', 'card', 'man', 'live', 'home', 'mani', 'year', 'even', 'sure', 'aliv', 'appoint', 'histori', 'museum', 'check', 'still', 'aliv', 'find', 'proof', 'either', 'deceas', 'obituari', 'move', 'submit', 'find', 'soon', 'data', 'submit', 'right', 'pictur', 'mail', 'registr', 'card', 'also', 'pictur', 'usp', 'show', 'mail', 'come', 'hous', 'load', 'along', 'submiss', 'due', 'pictur', 'upload', 'limit', 'app', 'need', 'updat', 'abil', 'upload', 'multipl', 'imag'])\n",
            " list(['poll', 'place', 'nyc', 'fort', 'hamilton', 'pkwi', 'rd', 'street', 'seem', 'wi', 'fi', 'connect', 'claim', 'connect', 'internet', 'break', 'elect', 'network', 'one', 'point'])\n",
            " list(['mark', 'strogish', 'also', 'report', 'judg', 'elect', 'told', 'put', 'away', 'slate', 'card', 'could', 'poll', 'place'])\n",
            " list(['minuet', 'agenda'])\n",
            " list(['found', 'bu', 'broke', 'ballot', 'printer', 'elect', 'system', 'softwar', 'time', 'report', 'said', 'arizona', 'use', 'ess', 'machin', 'az', 'audit', 'mention', 'ess', 'print', 'ballot', 'poll', 'hear', 'voter', 'fraud', 'yuma', 'counti', 'person', 'drive', 'bu', 'said', 'obtain', 'printer', 'paper', 'yuma', 'thank', 'shannon', 'benbow'])\n",
            " list(['fill', 'ballot', 'mesa', 'poll', 'place', 'go', 'thru', 'spoil', 'ballot', 'gave', 'new', 'one', 'nd', 'attempt', 'go', 'thru', 'spoil', 'ballot', 'gave', 'new', 'rd', 'ballot', 'rd', 'ballot', 'went', 'thru', 'go', 'ballot', 'readi', 'vote', 'show', 'vote', 'poll', 'place', 'printer', 'issu', 'one', 'want', 'vote', 'count', 'ridicul'])\n",
            " list(['tabul', 'machin', 'claim', 'jam', 'told', 'slip', 'ballot', 'box', 'auxiliari', 'compart', 'machin', 'hour', 'later', 'machin', 'fix', 'counti', 'worker', 'ballot', 'open', 'pile', 'secur', 'abl', 'seen', 'passer', 'could', 'see', 'elect', 'observ', 'near'])\n",
            " list(['receiv', 'registr', 'earli', 'ballot', 'let', 'know', 'want', 'one', 'would', 'come', 'vote', 'precinct', 'call', 'start', 'vendor', 'receiv', 'request', 'receiv', 'earli', 'ballot', 'could', 'surrend', 'earli', 'ballot', 'vote', 'precinct'])\n",
            " list(['poll', 'watcher', 'abl', 'observ', 'insid', 'vote', 'area', 'enclos', 'space', 'per', 'chastain', 'park', 'gym', 'presidenti', 'prefer', 'primari', 'advanc', 'vote', 'pm', 'tight', 'configur', 'machin', 'small', 'space', 'poll', 'manag', 'said', 'poll', 'watcher', 'could', 'sit', 'insid', 'vote', 'area', 'due', 'proxim', 'poll', 'pad', 'screen', 'view', 'bmd', 'screen', 'told', 'could', 'come', 'record', 'voter', 'insid', 'stay', 'outsid', 'room', 'voter', 'vote', 'much', 'equip', 'small', 'space', 'hot', 'cramp', 'would', 'good', 'experi', 'voter', 'busier', 'elect', 'first', 'poll', 'pad', 'could', 'move', 'address', 'issu', 'bmd', 'screen', 'feet', 'away', 'requir', 'poll', 'staff', 'friendli', 'experienc', 'poll', 'manag', 'year', 'run', 'ct', 'martin', 'largest', 'fulton', 'poll'])\n",
            " list(['seem', 'secur', 'anyon', 'print', 'someth', 'comput', 'person', 'volunt', 'bring', 'app', 'ask', 'see', 'id', 'id', 'requir', 'ohio'])\n",
            " list(['ballot', 'vote', 'member', 'move', 'w', 'riverdal', 'utah'])\n",
            " list(['king', 'counti', 'elect', 'correct', 'scan', 'machin', 'tabul', 'believ'])\n",
            " list(['put', 'ballot', 'machin', 'main', 'ballot', 'went', 'without', 'problem', 'second', 'page', 'ballot', 'would', 'take', 'poll', 'person', 'turn', 'machin', 'turn', 'back', 'would', 'take', 'second', 'paper', 'ballot', 'also', 'mention', 'machin', 'give', 'problem', 'first', 'time', 'turn', 'machin', 'accept', 'ballot', 'spirit', 'church', 'bartlesvil', 'ok'])\n",
            " list(['poll', 'locat', 'fine', 'point', 'black', 'felt', 'tip', 'pen', 'vote', 'booth', 'one', 'poll', 'worker', 'hand', 'ballot', 'voter', 'told', 'press', 'hard', 'pen', 'get', 'realli', 'wet', 'bleed', 'around', 'pm', 'secretari', 'state', 'offic', 'year', 'address', 'felt', 'tip', 'pen', 'issu', 'provid', 'black', 'blue', 'ink', 'pen', 'specifi', 'instruct', 'bleed', 'disappoint', 'question', 'elect', 'hinder', 'voter', 'confid', 'fair', 'elect', 'process'])\n",
            " list(['votifi', 'use', 'real', 'name', 'onlin', 'reach', 'contact', 'via', 'email', 'im', 'comfort', 'ill', 'share', 'name', 'seen', 'behind', 'curtain', 'primari', 'poll', 'judg', 'work', 'precint', 'denton', 'counti', 'texa', 'entir', 'vote', 'system', 'broken', 'incompet', 'wit', 'jaw', 'drop', 'satellit', 'commun', 'engin', 'technolog', 'manag', 'complex', 'system', 'project', 'expertis', 'person', 'administr', 'poll', 'judg', 'poll', 'worker', 'denton', 'co', 'incompet', 'peopl', 'administr', 'denton', 'counti', 'elect', 'complet', 'incompet', 'believ', 'ultim', 'goal', 'system', 'procedur', 'open', 'close', 'poll', 'overli', 'complex', 'burdensom', 'display', 'fake', 'secur', 'procedur', 'might', 'make', 'non', 'technic', 'individu', 'comfort', 'would', 'horrifi', 'person', 'like', 'poll', 'worker', 'could', 'count', 'individu', 'ballot', 'faster', 'administr', 'overli', 'complex', 'es', 'system', 'procedur', 'burdensom', 'procedur', 'systen', 'complex', 'leav', 'us', 'compromis', 'system', 'poll', 'pad', 'ballot', 'printer', 'connted', 'new', 'mifi', 'hotspot', 'pollpad', 'employ', 'minim', 'secur', 'use', 'vpn', 'post', 'voter', 'statu', 'public', 'face', 'websit', 'http', 'www', 'votedenton', 'gov', 'elect', 'administr', 'live', 'camera', 'feed', 'state', 'need', 'know', 'whether', 'vote', 'elect', 'poll', 'close', 'anoth', 'secur', 'hole', 'bad', 'guy', 'could', 'easili', 'corrupt', 'entir', 'precinct', 'judg', 'respons', 'hire', 'poll', 'worker', 'precint', 'need', 'hand', 'good', 'friend', 'precinct', 'mine', 'could', 'stuff', 'ballot', 'box', 'throughput', 'elect', 'poll', 'judg', 'respons', 'transport', 'ballot', 'central', 'tabul', 'center', 'member', 'opposit', 'parti', 'present', 'want', 'puke', 'ballot', 'hand', 'team', 'retard', 'figur', 'stupid', 'mofo', 'woke', 'loser', 'respons', 'post', 'result', 'elect', 'work', 'poll', 'judg', 'forbidden', 'touch', 'ballot', 'altern', 'judg', 'know', 'took', 'place', 'easili', 'fix', 'someth', 'mistak', 'third', 'person', 'idea', 'happen', 'precinct', 'voic', 'complaint', 'elect', 'administr', 'offic', 'ask', 'someon', 'els', 'post', 'total', 'precint', 'ask', 'part', 'final', 'count', 'told', 'posit', 'alreadi', 'fill', 'tick', 'wit', 'anoth', 'hole', 'secur', 'ballot', 'count', 'rais', 'voic', 'secur', 'concern', 'told', 'procedur', 'must', 'chang', 'told', 'respons', 'primari', 'oppos', 'parti', 'altern', 'poll', 'judg', 'post', 'result', 'elect', 'offic', 'said', 'like', 'idea', 'would', 'bring', 'elect', 'board', 'deliveri', 'ballot', 'polic', 'escort', 'member', 'opposit', 'parti', 'central', 'tabul', 'center', 'republican', 'democrat', 'repres', 'check', 'result', 'wit', 'look', 'like', 'lot', 'colleg', 'student', 'think', 'design', 'central', 'tabul', 'center', 'road', 'unt', 'kid', 'look', 'quick', 'buck', 'lean', 'left', 'elect', 'system', 'broken', 'go', 'paper', 'watermark', 'proprietari', 'ballot', 'handcount', 'live', 'forens', 'camera', 'proprietari', 'paper', 'feader', 'precint', 'voter', 'make', 'select', 'paper', 'drop', 'seal', 'ballot', 'box', 'pm', 'voter', 'watch', 'live', 'feed', 'ballot', 'count', 'forens', 'camera', 'state', 'could', 'offer', 'app', 'display', 'voter', 'ballot', 'count', 'elect', 'increment', 'vote', 'higher', 'candid', 'select', 'end', 'user', 'hand', 'receipt', 'qr', 'code', 'wit', 'interact', 'live', 'away', 'earli', 'vote', 'central', 'tabul', 'center', 'center', 'could', 'purpos', 'store', 'forens', 'camera', 'feeder', 'elect', 'prop', 'make', 'vote', 'two', 'day', 'feder', 'holiday', 'pass', 'law', 'requir', 'employ', 'give', 'day', 'one', 'day', 'would', 'leav', 'smalest', 'impact', 'busi', 'leav', 'excus', 'voter', 'ban', 'mail', 'ballot', 'allow', 'provision', 'ballot', 'excus', 'doctor', 'pass', 'law', 'forbid', 'medic', 'fraud', 'circumv', 'elect', 'loss', 'medic', 'licens', 'get', 'rid', 'system', 'use', 'militari', 'provid', 'militari', 'base', 'equip', 'poll', 'locat', 'man', 'locat', 'militari', 'personnel', 'pick', 'random', 'lotteri', 'must', 'protect', 'militari', 'ballot', 'requir', 'voter', 'id', 'excus', 'pleas', 'help', 'push', 'everi', 'state'])\n",
            " list(['went', 'vote', 'redistrict', 'poll', 'locat', 'chang', 'poll', 'worker', 'ask', 'gotten', 'new', 'voter', 'card', 'told', 'said', 'weird', 'mail', 'twice', 'gave', 'number', 'call', 'afterward', 'get', 'new', 'card', 'also', 'gave', 'new', 'locat', 'abl', 'vote', 'today', 'call', 'voter', 'hotlin', 'number', 'card', 'gave', 'ask', 'get', 'new', 'voter', 'id', 'card', 'ladi', 'candi', 'ask', 'address', 'still', 'po', 'box', 'ocala', 'said', 'gave', 'mail', 'address', 'also', 'resid', 'address', 'voter', 'registr', 'card', 'start', 'think', 'tonight', 'p', 'box', 'year', 'yet', 'receiv', 'sampl', 'ballot', 'resid', 'address', 'past', 'year', 'get', 'one', 'year', 'thought', 'weird', 'got', 'think', 'get', 'sampl', 'ballot', 'last', 'two', 'year', 'yet', 'redistrict', 'never', 'got', 'sampl', 'ballot', 'new', 'voter', 'card', 'year', 'use', 'old', 'voter', 'roll', 'redistrict', 'sound', 'weird'])\n",
            " list(['queen', 'creek', 'librari', 'accept', 'balanc', 'tabul', 'heard', 'report', 'peopl', 'come', 'seem', 'accept', 'mostli', 'women', 'ballot', 'ask', 'peopl', 'leav', 'balanc'])\n",
            " list(['vote', 'total', 'post', 'outsid', 'poll', 'place', 'obanion', 'middl', 'school', 'garland', 'tx'])\n",
            " list(['yesterday', 'tri', 'use', 'pen', 'e', 'apach', 'trail', 'poll', 'locat', 'mesa', 'az', 'forc', 'use', 'messi', 'felt', 'pen', 'alreadi', 'suspici', 'hear', 'similar', 'report', 'forc', 'use', 'pen', 'investig'])\n",
            " list(['experi', 'neg', 'issu', 'want', 'let', 'known', 'vote', 'maga', 'much', 'could', 'root'])\n",
            " list(['mail', 'ballot', 'done', 'away', 'period', 'got', 'email', 'parti', 'stay', 'need', 'one', 'order'])\n",
            " list(['told', 'ld', 'church', 'vote', 'site', 'peoria', 'arizona', 'printer', 'work', 'could', 'still', 'vote', 'ballot', 'count', 'till', 'end', 'day', 'chose', 'go', 'anoth', 'locat', 'occur', 'novemb', 'address', 'w', 'jomax', 'rd', 'peoria', 'az'])\n",
            " list(['pull', 'voter', 'file', 'ga', 'so', 'websit', 'result', 'appear', 'issu', 'duplic', 'voter', 'id', 'list', 'time', 'ballot', 'statu', 'provision', 'would', 'record', 'multipl', 'time', 'still', 'show', 'address', 'error', 'despit', 'suppos', 'clean', 'effort', 'complet', 'june', 'larg', 'mail', 'address', 'state', 'peopl', 'move', 'state', 'list', 'mail', 'address', 'abl', 'attach', 'xl'])\n",
            " list(['desanti', 'tri', 'suppress', 'democrat', 'vote'])\n",
            " list(['tri', 'print', 'sampl', 'ballot', 'ballot', 'readi', 'like', 'primari', 'print', 'full', 'ballot', 'tri', 'x', 'like', 'primari', 'success', 'print', 'use', 'tri', 'x', 'still', 'cut', 'clearli', 'format', 'wrong'])\n",
            " list(['poll', 'close', 'wood', 'ridg', 'elementari', 'dekalb', 'counti', 'poll', 'manag', 'want', 'see', 'littl', 'manila', 'envelop', 'memori', 'card', 'wait', 'almost', 'clock', 'wound', 'leav', 'tire', 'heard', 'anoth', 'poll', 'watcher', 'say', 'thing', 'go', 'bed'])\n",
            " list(['machin', 'work', 'jackson', 'counti', 'nc', 'small', 'precinct', 'line', 'move', 'slow', 'approxim', 'est', 'someon', 'call', 'address', 'issu'])\n",
            " list(['machin', 'wife', 'tri', 'feed', 'ballot', 'read', 'put', 'differ', 'machin'])\n",
            " list(['earli', 'vote', 'allow', 'hornel', 'ny', 'sinc', 'last', 'week', 'sure', 'suppos', 'happen', 'question', 'id', 'requir'])\n",
            " list(['recent', 'went', 'train', 'elect', 'offic', 'find', 'would', 'requir', 'wear', 'mask', 'refus', 'releas', 'howev', 'go', 'gener', 'inform', 'voter', 'guid', 'nowher', 'state', 'voter', 'allow', 'option', 'paper', 'ballot', 'comput', 'vote', 'class', 'said', 'paper', 'ballot', 'call', 'ballot', 'demand', 'bod', 'thank'])\n",
            " list(['receiv', 'multipl', 'text', 'messag', 'ask', 'lead', 'question', 'collect', 'data', 'data', 'point', 'includ', 'whether', 'vote', 'data', 'suspect', 'use', 'harvest', 'oper', 'target'])\n",
            " list(['locat', 'pressur', 'use', 'black', 'marker', 'sharpi', 'end', 'demand', 'pen', 'vote', 'pen'])\n",
            " list(['conserv', 'poll', 'worker', 'creat', 'sign', 'like', 'follow', 'photo', 'illeg', 'use', 'font', 'yet', 'make', 'anti', 'vote', 'sign', 'pleas', 'contact', 'williamson', 'counti', 'tx', 'elect', 'board', 'get', 'mark', 'rule', 'allow'])\n",
            " list(['husband', 'regist', 'offic', 'name', 'appear', 'ballot', 'got', 'letter'])\n",
            " list(['internet', 'outag', 'cannot', 'connect', 'site', 'report', 'number', 'appear', 'impact', 'vote', 'process'])\n",
            " list(['printer', 'work', 'properli', 'ballot', 'reprint', 'counti', 'technician', 'said', 'set', 'incorrect', 'result', 'voter', 'leav', 'without', 'vote', 'dream', 'citi', 'chirch', 'scottsdal'])\n",
            " list(['citi', 'councilor', 'georgana', 'kuchinski', 'work', 'poll', 'creedmoor', 'nc', 'granvil', 'counti', 'sh', 'told', 'concern', 'sever', 'peopl', 'bring', 'fill', 'bc', 'absente', 'ballot', 'ask', 'drop', 'went', 'vote', 'locat', 'came', 'empti', 'hand', 'accept', 'must', 'mail', 'nc', 'believ', 'big', 'question', 'granvil', 'counti', 'includ', 'deliv', 'absente', 'ballot'])\n",
            " list(['name', 'ruth', 'rondon', 'got', 'two', 'voter', 'card', 'mail', 'one', 'mine', 'live', 'kent', 'counti', 'michigan', 'citi', 'wyom', 'michigan'])\n",
            " list(['harri', 'counti', 'texa', 'websit', 'harrisvot', 'org', 'map', 'show', 'site', 'south', 'part', 'counti', 'noth', 'north', 'west', 'tri', 'enter', 'voter', 'address', 'work', 'thing', 'work', 'download', 'pdf', 'map', 'north', 'west', 'republican', 'vote', 'strongest'])\n",
            " list(['receiv', 'two', 'absente', 'ballot', 'special', 'elect'])\n",
            " list(['poll', 'worker', 'told', 'inspector', 'enter', 'peopl', 'wait', 'line', 'count'])\n",
            " list(['locat', 'someon', 'stop', 'vote', 'told', 'us', 'mandatori', 'use', 'felt', 'pen', 'bleed', 'factor', 'sharpi'])\n",
            " list(['notic', 'fulton', 'director', 'elect', 'nadin', 'william', 'issu', 'secretari', 'state', 'voter', 'page', 'inform', 'advis', 'numer', 'constitu', 'secretari', 'state', 'voter', 'page', 'mvp', 'list', 'citi', 'council', 'citi', 'ward', 'inform', 'review', 'data', 'requir', 'input', 'fulton', 'counti', 'garvi', 'reflect', 'mvp', 'includ', 'citi', 'council', 'ward', 'inform', 'enter', 'advis', 'secretari', 'state', 'mvp', 'issu', 'earlier', 'month', 'reiter', 'matter', 'attent', 'wait', 'so', 'resolv', 'abl', 'provid', 'voter', 'inform', 'contact', 'offic'])\n",
            " list(['watch', 'video', 'elect', 'judg', 'washington', 'counti', 'mn', 'talk', 'poll', 'pad', 'network', 'oper', 'call', 'mifi', 'preprogram', 'cellular', 'network', 'seem', 'like', 'huge', 'risk', 'link', 'elect', 'judg', 'train', 'video', 'electionclassroom', 'com', 'minnesota', 'trainingunitpag', 'aspx', 'ttid'])\n",
            " list(['wickiup', 'precinct', 'maricopa', 'counti', 'enorm', 'amount', 'wifi', 'present', 'activ', 'sat', 'park', 'space', 'blue', 'dot', 'photo', 'right', 'build', 'face', 'build', 'minut', 'approx', 'watch', 'wifi', 'activ', 'go', 'insid', 'vote', 'aug', 'occasion', 'order', 'wifi', 'name', 'would', 'move', 'one', 'two', 'slot', 'remain', 'activ', 'strong', 'signal', 'full', 'min', 'seem', 'like', 'overkil', 'wifi', 'activ', 'vote', 'place', 'machin', 'supposedli', 'capabl', 'access', 'internet'])\n",
            " list(['dropbox', 'still', 'outsid', 'citi', 'hall', 'sussex', 'counti', 'vernon', 'new', 'jersey', 'peopl', 'still', 'put', 'ballast', 'although', 'walk', 'feet', 'vote', 'person', 'dropbox', 'remov', 'today', 'even', 'legal'])\n",
            " list(['test', 'miscellan', 'issu', 'report']) list(['ballot', 'harvest'])\n",
            " list(['father', 'sent', 'messag', 'two', 'day', 'ago', 'happen', 'last', 'night', 'call', 'poll', 'two', 'question', 'bother', 'last', 'elect', 'mani', 'peopl', 'allow', 'vote', 'get', 'vote', 'ask', 'mean', 'mani', 'allow', 'vote', 'said', 'like', 'illeg', 'alien', 'said', 'allow', 'vote', 'law', 'citizen', 'comment', 'live', 'said', 'reject', 'statement', 'candid', 'consid', 'extrem', 'ask', 'mean', 'extrem', 'said', 'could', 'answer', 'read', 'question'])\n",
            " list(['poll', 'worker', 'locat', 'receiv', 'text', 'messag', 'instruct', 'tamper', 'ballot', 'handwrit', 'pco', 'per', 'court', 'order', 'back', 'ballot', 'cast', 'pm', 'ask', 'respons', 'judg', 'elect', 'receiv', 'text', 'worker', 'end', 'get', 'voter', 'pm'])\n",
            " list(['ask', 'id', 'would', 'print', 'give', 'copi', 'vote', 'ticket'])\n",
            " list(['lot', 'avail', 'wifi', 'avail', 'vote', 'way', 'rural', 'cass', 'counti', 'pleasant', 'hill', 'mo', 'noth', 'els', 'around', 'page', 'wifi', 'list', 'insid', 'page', 'step', 'outsid', 'took', 'screenshot', 'get', 'take', 'address', 'state', 'rout', 'pleasant', 'hill', 'mo'])\n",
            " list(['jefferson', 'counti', 'louisvil', 'ky', 'train', 'elect', 'offic', 'next', 'elect', 'notic', 'sent', 'jeff', 'pellman', 'train', 'start', 'p', 'actual', 'start', 'made', 'awar', 'mistak', 'said', 'send', 'everyon', 'heard', 'multipl', 'peopl', 'train', 'mention', 'administr', 'shut', 'comment', 'sever', 'peopl', 'sinc', 'elect', 'offic', 'must', 'go', 'train', 'offic', 'multipl', 'peopl', 'like', 'lost', 'chanc'])\n",
            " list(['none', 'judg', 'list', 'florida', 'ballot', 'republican', 'democrat', 'design', 'next', 'name'])\n",
            " list(['request', 'absente', 'ballot', 'mail', 'still', 'receiv', 'deb', 'kane', 'cti', 'elect', 'said', 'post', 'offic', 'lose', 'lot', 'ballot', 'earli', 'vote', 'want', 'due', 'fraud', 'post', 'offic', 'need', 'abolish', 'btw', 'elect', 'judg', 'request', 'absente', 'ballot', 'alan', 'defelic'])\n",
            " list(['son', 'militari', 'check', 'box', 'live', 'anymor', 'last', 'week', 'drop', 'back', 'mailbox', 'could', 'go', 'back', 'counti', 'guess', 'came', 'back', 'hous', 'time', 'stay', 'told', 'son', 'make', 'sure', 'one', 'vote', 'place'])\n",
            " list(['ladi', 'front', 'vote', 'someon', 'alreadi', 'use', 'ident', 'vote', 'ask', 'signatur', 'match', 'driver', 'licens', 'signatur', 'vote', 'verif', 'sheet', 'binder', 'match'])\n",
            " list(['regist', 'independ', 'vote', 'republican', 'vote', 'person', 'primari', 'elect', 'day', 'islam', 'center', 'e', 'via', 'linda', 'scottsdal', 'check', 'ballot', 'statu', 'beballotreadi', 'statu', 'vote', 'primari', 'use', 'ballpoint', 'pen', 'took', 'ballot', 'machin', 'worker', 'told', 'put', 'face', 'twice', 'machin', 'spit', 'ballot', 'back', 'time', 'anoth', 'worker', 'told', 'put', 'face', 'littl', 'screen', 'said', 'tabul', 'vote', 'green', 'checkmark', 'show', 'yet', 'statu', 'want', 'vote', 'kari', 'lake', 'count', 'also', 'vote', 'person', 'elect', 'day', 'poll', 'center', 'ballot', 'statu', 'say', 'elect', 'check', 'statu', 'right', 'elect', 'statu', 'ye', 'use', 'sharpi', 'ballot', 'bleed', 'side', 'show', 'bleed', 'poll', 'worker', 'machin', 'said', 'matter', 'put', 'machin', 'gut', 'told', 'right', 'obvious', 'vote', 'thrown', 'adjud', 'shenanigan', 'outrag'])\n",
            " list(['gave', 'sharpi', 'pen', 'avail', 'worker', 'hand', 'marker', 'state', 'use', 'pen', 'look', 'littl', 'confus', 'teenag', 'earli', 'proceed', 'fill', 'ballot', 'black', 'pen', 'older', 'gentleman', 'next', 'use', 'marker', 'hand', 'ballot', 'question', 'bleed', 'pill', 'worker', 'said', 'redo', 'ballot'])\n",
            " list(['poll', 'pad', 'display', 'appar', 'request', 'provision', 'ballot', 'multipl', 'voter', 'paper', 'receipt', 'request', 'ordinari', 'ballot'])\n",
            " list(['unsecur', 'internet', 'access', 'poll', 'site', 'c', 'c', 'lake', 'counti', 'indiana', 'township', 'crown', 'point', 'also', 'call', 'lake', 'counti', 'sheriff', 'depart', 'dispatch', 'offic', 'spoke', 'offic', 'went', 'insid', 'supposedli', 'spoke', 'director', 'lake', 'counti', 'elect', 'board', 'state', 'need', 'internet', 'access', 'verifi', 'identif', 'understand', 'time', 'church', 'vote', 'unsecur', 'internet', 'access', 'point', 'upload', 'snapshot', 'proof', 'connect', 'unsecur', 'internet', 'poll', 'site', 'wife', 'also', 'took', 'photograph', 'speak', 'offic', 'make', 'report', 'refus'])\n",
            " list(['live', 'fort', 'worth', 'texa', 'start', 'receiv', 'text', 'messag', 'candid', 'primari', 'look', 'name', 'still', 'vote', 'roll', 'call', 'see', 'vote', 'elect', 'told', 'send', 'letter', 'remov', 'vote', 'role', 'yesterday', 'still', 'make', 'wonder', 'someon', 'els', 'cast', 'vote', 'biden'])\n",
            " list(['ladi', 'tri', 'help', 'mom', 'fill', 'ballot', 'notic', 'propos', 'vote', 'went', 'clerk', 'got', 'anoth', 'ballot', 'propos', 'mani', 'peopl', 'got', 'ballot', 'propos', 'happen', 'marquett', 'counti', 'marquett', 'township', 'anyth'])\n",
            " list(['trust', 'intel', 'truther', 'post', 'telegram', 'morn', 'sent', 'gettr', 'true', 'social', 'telegram', 'account', 'suspici', 'thing', 'go', 'use', 'format', 'advis', 'per', 'continu', 'visit', 'steve', 'bannon', 'war', 'room'])\n",
            " list(['sure', 'drop', 'box', 'missouri', 'monitor', 'whatev', 'wish'])\n",
            " list(['peopl', 'need', 'use', 'app', 'report', 'indescret', 'best', 'app', 'sinc', 'slice', 'bread', 'share', 'inform', 'commun', 'user'])\n",
            " list(['show', 'wi', 'fi', 'signal', 'strength', 'poll', 'place'])\n",
            " list(['outsid', 'poll', 'center', 'check', 'connect', 'show', 'wire', 'connect', 'insid', 'poll', 'center', 'show', 'wireless', 'connect'])\n",
            " list(['black', 'felt', 'pen', 'provid', 'maricopa', 'counti', 'smear', 'ballot', 'camelback', 'christian', 'church', 'scottsdal', 'poll', 'worker', 'even', 'fan', 'blow', 'ballot', 'tri', 'get', 'ink', 'dri', 'ballot', 'kick', 'back', 'machin', 'mani', 'voter', 'uncomfort'])\n",
            " list(['pinal', 'counti', 'ran', 'republican', 'ballot', 'peopl', 'abl', 'vote', 'photo', 'apolog'])\n",
            " list(['sure', 'issu', 'give', 'everyon', 'felt', 'tip', 'marker', 'ask', 'guy', 'outsid', 'said', 'use', 'dri', 'faster', 'read', 'machin'])\n",
            " list(['approach', 'area', 'insert', 'ballot', 'box', 'worker', 'instruct', 'look', 'screen', 'end', 'insert', 'page', 'ballot', 'circl', 'would', 'come', 'say', 'cast', 'ballot', 'see', 'circl', 'worker', 'quick', 'tell', 'ballot', 'cast', 'even', 'though', 'see', 'anyth', 'state', 'also', 'told', 'number', 'ballot', 'receiv', 'machin', 'chang', 'know', 'never', 'told', 'direct', 'attent', 'number', 'prior', 'insert', 'sheet', 'also', 'hear', 'worker', 'tell', 'voter', 'stand', 'besid', 'nearbi', 'booth', 'instruct'])\n",
            " list(['presidenti', 'elect', 'poll', 'place', 'newaygo', 'counti', 'michigan', 'merril', 'township', 'us', 'use', 'sharpi', 'fill', 'ballot', 'happen', 'august', 'thank', 'alex', 'whitak', 'aswhit', 'gmail', 'com'])\n",
            " list(['poll', 'locat', 'triniti', 'bibl', 'church', 'extrem', 'crowd', 'hot', 'us', 'restrict', 'small', 'entri', 'way', 'good', 'c', 'tri', 'find', 'better', 'locat', 'sun', 'citi', 'west'])\n",
            " list(['intimid', 'threaten', 'yell', 'get', 'abandon', 'upon', 'question', 'ballot', 'vote', 'insert', 'tabul', 'attack', 'tell', 'touch', 'damon', 'dobb', 'precinct', 'inspector', 'said', 'call', 'polic', 'fine', 'wait', 'vehicl', 'show', 'exit', 'peaceabl'])\n",
            " list(['dominion', 'machin'])\n",
            " list(['seem', 'mani', 'republican', 'like', 'jim', 'jordan', 'oz', 'other', 'tri', 'rais', 'campaign', 'fund', 'via', 'email', 'auto', 'rout', 'aol', 'spam', 'folder', 'user', 'never', 'look', 'fec', 'gop', 'know', 'fund', 'rais', 'interfer', 'legal', 'email', 'system'])\n",
            " list(['took', 'mail', 'ballot', 'tore', 'adam', 'counti', 'offic', 'daughter', 'ask', 'paper', 'ballot', 'fill', 'went', 'outsid', 'daughter', 'came', 'state', 'notic', 'paper', 'ballot', 'number', 'explain', 'printer', 'accident', 'set', 'print', 'time', 'reassur', 'us', 'need', 'destroy', 'second', 'one', 'district', 'number', 'ballot', 'id', 'verifi', 'person', 'ballot', 'count'])\n",
            " list(['tell', 'assign', 'vote', 'locat', 'select', 'link', 'counti'])\n",
            " list(['given', 'felt', 'tip', 'pen', 'vote', 'along', 'other', 'poll', 'place', 'th', 'st', 'cactu', 'scottsdal', 'az'])\n",
            " list(['receiv', 'second', 'ballot', 'vote', 'week', 'initi', 'vote'])\n",
            " list(['multipl', 'report', 'precinct', 'peopl', 'reluct', 'give', 'paper', 'ballot', 'idea', 'envelop', 'use', 'seal', 'ballot', 'also', 'refus', 'initi', 'ballot', 'run', 'tabul'])\n",
            " list(['address', 'caus', 'conflict', 'ballot', 'receiv', 'zip', 'driver', 'licens', 'show', 'copper', 'citi', 'qvf', 'show', 'calumet', 'right', 'one', 'look', 'driver', 'licens', 'assum', 'right', 'zip', 'live', 'villag', 'clerk', 'treasur', 'villag', 'run', 'posit', 'ballot', 'one', 'area', 'concern', 'cheat', 'confus', 'especi', 'new', 'poll', 'worker'])\n",
            " list(['check', 'issu', 'vote', 'verif'])\n",
            " list(['women', 'told', 'could', 'use', 'ball', 'point', 'pen', 'use', 'felt', 'tip', 'although', 'instruct', 'say', 'use', 'black', 'blue', 'ink', 'pen', 'declin', 'felt', 'tip', 'said', 'new', 'machin', 'take', 'ballot', 'get', 'stuck', 'declin', 'came', 'booth', 'told', 'use', 'pen', 'took', 'felt', 'tip', 'use', 'continu', 'tell', 'use', 'pen', 'went', 'put', 'machin', 'took', 'success', 'told', 'machin', 'new'])\n",
            " list(['one', 'verbal', 'sworn', 'count', 'machin', 'announc', 'lifetim', 'start', 'protect'])\n",
            " list(['mother', 'law', 'move', 'w', 'us', 'dec', 'updat', 'address', 'mail', 'vote', 'march', 'receiv', 'confirm', 'new', 'voter', 'registr', 'card', 'mail', 'instead', 'mail', 'ballot', 'primari', 'receiv', 'yellow', 'document', 'late', 'juli', 'say', 'contact', 'maricopa', 'counti', 'record', 'offic', 'verifi', 'address', 'call', 'said', 'told', 'put', 'list', 'meant', 'call', 'verifi', 'address', 'order', 'get', 'ballot', 'ask', 'sinc', 'properli', 'regist', 'could', 'give', 'reason', 'person', 'spoke', 'serena', 'record', 'offic', 'ballot', 'final', 'arriv', 'juli', 'th', 'late', 'mail', 'back'])\n",
            " list(['group', 'want', 'know', 'horri', 'counti', 'south', 'carolina', 'mail', 'democrat', 'ballot', 'horri', 'counti', 'republican', 'voter'])\n",
            " list(['went', 'vote', 'today', 'somehow', 'parti', 'chang', 'republican', 'independ', 'never', 'regist', 'use', 'provision', 'ballot'])\n",
            " list(['suspici', 'poll', 'posit', 'advertis', 'inde'])\n",
            " list(['pm', 'precinct', 'whitfield', 'counti', 'georgia', 'poll', 'worker', 'poll', 'watch', 'poll', 'pad', 'said', 'number', 'go', 'number', 'go', 'number', 'state', 'wide', 'vote', 'record', 'updat', 'sure', 'number', 'speak', 'walk', 'look', 'near', 'top', 'separ', 'voter', 'check', 'larg', 'number', 'read', 'state', 'wide', 'voter', 'record', 'mill', 'less', 'million', 'friend', 'work', 'anoth', 'precinct', 'said', 'number', 'poll', 'read', 'mill', 'day'])\n",
            " list(['contact', 'eri', 'counti', 'board', 'elect', 'work', 'elect', 'day', 'inspector', 'inform', 'wendi', 'receiv', 'annual', 'train', 'requir', 'came', 'morn', 'explain', 'chairperson', 'requir', 'train', 'made', 'phone', 'call', 'eri', 'counti', 'board', 'elect', 'told', 'train', 'requir'])\n",
            " list(['vote', 'center', 'sunris', 'unit', 'church', 'maricopa', 'counti', 'sure', 'margin', 'error', 'regard', 'align', 'printer', 'paper', 'seem', 'pretti', 'far', 'especi', 'know', 'shrink', 'fit', 'print', 'done', 'vs', 'bod', 'print', 'done', 'event', 'might', 'help', 'relev', 'want', 'share', 'whomev', 'get', 'submiss', 'end'])\n",
            " list(['interest', 'becom', 'precinct', 'committe', 'person'])\n",
            " list(['madison', 'baptist', 'church', 'n', 'th', 'st', 'vote', 'reject', 'post', 'person', 'happen', 'jose', 'figueroa', 'accept', 'wife', 'vote', 'deni', 'machin', 'deni'])\n",
            " list(['went', 'poll', 'place', 'cast', 'vote', 'midterm', 'elect', 'staff', 'give', 'issu', 'use', 'blue', 'pen', 'brought', 'due', 'elect', 'mishap', 'sharpi', 'fought', 'tooth', 'nail', 'said', 'allow', 'provid', 'paper', 'mate', 'black', 'medium', 'marker', 'said', 'use', 'blue', 'pen', 'would', 'dri', 'ruin', 'ballot', 'ballot', 'went', 'fine', 'took', 'pictur', 'marker', 'next', 'pen', 'evid', 'anoth', 'gentleman', 'issu', 'vote', 'west', 'pinnacl', 'peak', 'rd', 'phoenix', 'az', 'maricopa', 'counti', 'took', 'home', 'marker', 'well', 'made', 'fuss', 'give', 'back'])\n",
            " list(['coordin', 'pollwork', 'good', 'southampton', 'ny', 'one', 'poll', 'worker', 'name', 'vera', 'cowel', 'hide', 'blank', 'ballot', 'privaci', 'screen', 'ask', 'met', 'anger', 'pollwork', 'coordin', 'name', 'john', 'p', 'would', 'give', 'real', 'name', 'knew', 'ballot', 'hour', 'possibl', 'overnight', 'accord', 'vera', 'ask', 'john', 'p', 'ballot', 'got', 'angri', 'annoy', 'told', 'call', 'supervisor', 'boe', 'blank', 'ballot', 'could', 'taken', 'copi', 'brought', 'back', 'mani', 'peopl', 'come', 'go', 'knew', 'poll', 'worker', 'vera', 'cowel', 'even', 'coordin', 'could', 'copi', 'coordin', 'also', 'left', 'ballot', 'paper', 'packag', 'unsecur', 'could', 'taken', 'paper', 'copi', 'blank', 'ballot', 'somewher', 'know'])\n",
            " list(['observ', 'carefre', 'pick', 'ballot', 'person', 'pick', 'put', 'lock', 'tab', 'lid', 'red', 'bin', 'attach', 'base', 'bin', 'abl', 'lift', 'lid', 'partial'])\n",
            " list(['deteoit', 'polic', 'car', 'shield', 'ladi', 'usp', 'basket', 'collect', 'hand', 'ballot', 'toss', 'car', 'window', 'downtown', 'detroit'])\n",
            " list(['vote', 'count', 'machin', 'ballot', 'mark', 'read', 'ballot', 'senior', 'center', 'vote', 'locat', 'maricopa', 'counti', 'az', 'option', 'drop', 'ballot', 'slot', 'use', 'mail', 'voter', 'ballot', 'count', 'later', 'time', 'central', 'ballot', 'process', 'center', 'machin', 'faulti', 'ballot', 'faulti', 'ballot', 'subject', 'ballot', 'resolut', 'revot', 'someon', 'central', 'tabul', 'understand', 'problem', 'happen', 'maricopa', 'counti', 'poll', 'locat'])\n",
            " list(['april', 'american', 'commun', 'survey', 'publish', 'percentag', 'citizen', 'everi', 'state', 'counti', 'citi', 'censu', 'defin', 'place', 'america', 'match', 'commerci', 'popul', 'list', 'zip', 'code', 'popul', 'find', 'nation', 'vote', 'differenti', 'million', 'vote', 'either'])\n",
            " list(['first', 'time', 'vote', 'az', 'two', 'four', 'comput', 'problem', 'locat', 'husband', 'verifi', 'voter', 'statu', 'use', 'differ', 'comput', 'happen', 'other', 'well', 'heard', 'offici', 'call', 'see', 'could', 'get', 'replac', 'also', 'local', 'posit', 'ballot', 'sampl', 'ballot', 'abl', 'research', 'vote', 'curiou', 'sinc', 'hobb', 'current', 'so'])\n",
            " list(['hello', 'open', 'app', 'get', 'blank', 'map', 'thank', 'terri'])\n",
            " list(['wife', 'voter', 'registr', 'card', 'gave', 'wrong', 'voter', 'poll', 'locat', 'along', 'mani', 'peopl', 'wit'])\n",
            " list(['receiv'])\n",
            " list(['mail', 'ballot', 'list', 'primari', 'request', 'also', 'pen', 'provid', 'felt', 'tip', 'bleed', 'side', 'ballot', 'also', 'get', 'keep', 'receipt', 'proof', 'actual', 'vote', 'poll', 'work', 'argument', 'uninform'])\n",
            " list(['regist', 'voter', 'year', 'commonwealth', 'virginia', 'counti', 'chesterfield', 'precinct', 'magnolia', 'vote', 'poll', 'open', 'present', 'id', 'poll', 'worker', 'told', 'system', 'pass', 'id', 'next', 'poll', 'worker', 'confirm', 'system', 'proceed', 'tell', 'would', 'need', 'vote', 'provision', 'ballot', 'express', 'concern', 'direct', 'provision', 'ballot', 'booth', 'third', 'poll', 'worker', 'came', 'grab', 'id', 'abl', 'find', 'system', 'verifi', 'comput', 'name', 'address', 'correct', 'proceed', 'vote', 'time', 'two', 'voter', 'similar', 'issu'])\n",
            " list(['present', 'black', 'ink', 'pen', 'vote', 'paper', 'friday', 'local', 'group', 'sent', 'email', 'today', 'inform', 'us', 'use', 'blue', 'ink', 'pen'])\n",
            " list(['machin', 'work', 'cast', 'vote', 'hour', 'tri', 'cast', 'ballot'])\n",
            " list(['king', 'counti', 'elect', 'center', 'tabul', 'machin', 'appear', 'problem', 'someon', 'tri', 'fix', 'repair', 'coupl', 'hour', 'idea', 'red', 'flag', 'want', 'record', 'concern'])\n",
            " list(['use', 'felt', 'tip', 'pen', 'sharpi', 'like', 'sure', 'error', 'ballot', 'vote', 'count', 'due', 'pen', 'type'])\n",
            " list(['read', 'articl', 'say', 'az', 'irregular', 'alreadi', 'one', 'list', 'link', 'check', 'voter', 'locat', 'use', 'sever', 'time', 'b', 'prob', 'today', 'went', 'see', 'anyth', 'unusu', 'look', 'vote', 'locat', 'sure', 'enough', 'like', 'articl', 'claim', 'sd', 'recogn', 'address', 'sent', 'complaint', 'elect', 'site', 'email', 'got', 'email', 'w', 'link', 'direct', 'back', 'site', 'tri', 'still', 'recogn', 'address', 'arizona', 'vote', 'site'])\n",
            " list(['live', 'md', 'third', 'time', 'pa', 'want', 'vote', 'nov', 'last', 'elect', 'wrote', 'counti', 'elect', 'offic', 'verifi', 'live', 'pa', 'sinc'])\n",
            " list(['vote', 'absente', 'primari', 'michigan', 'gov', 'websit', 'specif', 'select', 'absente', 'ballot', 'request', 'automat', 'sent', 'coupl', 'week', 'ago', 'without', 'send', 'request', 'absente', 'ballot', 'wife', 'receiv', 'absente', 'ballot', 'mail'])\n",
            " list(['insid', 'poll', 'locat', 'connect', 'wifi', 'twin', 'citi', 'ga'])\n",
            " list(['mother', 'receiv', 'mail', 'ballot', 'call', 'supervisor', 'elect', 'offic', 'pinella', 'counti', 'spoke', 'arlen', 'thornton', 'said', 'rampant', 'receiv', 'ton', 'call', 'peopl', 'receiv', 'thier', 'mail', 'ballot', 'said', 'drive', 'largo', 'multipl', 'ident', 'mother', 'along', 'affidavit', 'sign', 'well', 'identifi', 'inform', 'ask', 'would', 'know', 'ballot', 'actual', 'valid', 'ballot', 'answer', 'said', 'control', 'loss', 'mail', 'ballot', 'mail', 'done', 'rd', 'parti', 'ask', 'rd', 'parti', 'us', 'post', 'offic', 'said', 'ye', 'question', 'possibl', 'closer', 'locat', 'tarpon', 'spring', 'final', 'said', 'court', 'st', 'clearwat', 'room', 'mother', 'turn', 'mail', 'ballot', 'primari', 'vote', 'person', 'turn', 'big', 'hassl', 'poll', 'locat', 'say', 'regist', 'registr', 'hand', 'mother', 'broken', 'hip', 'need', 'use', 'mail', 'ballot', 'mysteri', 'lost', 'along', 'know', 'mani', 'other', 'per', 'supervisor', 'elect', 'offic', 'tri', 'get', 'mail', 'ballot', 'today'])\n",
            " list(['friday', 'octob', 'poll', 'watcher', 'roswel', 'librari', 'one', 'point', 'notic', 'appen', 'newspap', 'tabl', 'took', 'closer', 'look', 'notic', 'sarah', 'beason', 'campaign', 'sticker', 'newspap', 'alarm', 'went', 'head', 'law', 'broken', 'campaign', 'within', 'feet', 'poll', 'place', 'obviou', 'violat', 'report', 'votifynow', 'went', 'back', 'poll', 'room', 'minut', 'later', 'went', 'back', 'lobbi', 'area', 'saw', 'stack', 'increas', 'substanti', 'paper', 'report', 'photo', 'well', 'stack', 'replenish', 'poll', 'close', 'time', 'show', 'poll', 'manag', 'ola', 'kayyali', 'said', 'would', 'tell', 'roswel', 'librari', 'librarian', 'morn', 'get', 'rid', 'would', 'also', 'tell', 'precinct', 'illeg', 'behavior', 'poll', 'watcher', 'need', 'lookout', 'illicit', 'behavior'])\n",
            " list(['receiv', 'mail', 'ballot'])\n",
            " list(['machin', 'accept', 'day', 'elect', 'print', 'ballot', 'chang', 'top', 'count', 'machin', 'reprint', 'ballot', 'vote', 'lot', 'peopl', 'left', 'without', 'vote', 'angri'])\n",
            " list(['follow', 'track', 'drop', 'box', 'issu', 'softwar', 'issu', 'best', 'abil', 'big', 'concern', 'amount', 'money', 'continu', 'roll', 'counti', 'level', 'hear', 'sort', 'issu', 'hardwar', 'chang', 'new', 'machin', 'new', 'scanner', 'new', 'poll', 'pad', 'softwar', 'updat', 'huge', 'expens', 'addit', 'train', 'need', 'restart', 'clock', 'understand', 'vulner', 'exploit', 'cannot', 'continu', 'drop', 'massiv', 'money', 'new', 'hardwar', 'softwar', 'adequ', 'address', 'issu', 'old', 'exist', 'stuff'])\n",
            " list(['neighbor', 'sign', 'help', 'call', 'said', 'enough', 'chosen', 'neighbor', 'got', 'phone', 'call', 'tonight', 'ask', 'judg', 'pm', 'train', 'never', 'got', 'call', 'help', 'vote', 'copper', 'ridg', 'elementari', 'school', 'vail', 'school', 'district', 'tucson', 'az', 'feel', 'set', 'failur', 'disqualifi', 'vote', 'judg', 'train'])\n",
            " list(['primari', 'blue', 'ink', 'pen', 'elect', 'like', 'black', 'felt', 'tip', 'pen', 'took', 'photo', 'differ', 'never', 'use', 'black', 'felt', 'tip', 'also', 'n', 'organ', 'name', 'list', 'pen', 'dominion', 'machin', 'counti'])\n",
            " list(['still', 'receiv', 'voter', 'inform', 'flyer', 'name', 'person', 'bought', 'hous', 'year', 'ago', 'type', 'mail', 'voter', 'inform', 'everi', 'elect', 'year', 'return', 'mani', 'addresse', 'reloc', 'stil', 'show', 'think', 'much', 'wonder', 'person', 'still', 'regist', 'vote', 'current', 'address', 'someon', 'els', 'use', 'vote', 'know', 'person', 'live', 'sorri', 'non', 'issu', 'would', 'think', 'would', 'stop', 'person', 'vote', 'anoth', 'counti', 'vote', 'past', 'elect', 'cycl'])\n",
            " list(['ballot', 'registr', 'mark', 'target', 'top', 'side', 'mark', 'line', 'elect', 'sourc', 'print', 'alpena', 'counti', 'ballot', 'would', 'pass', 'along', 'print', 'specif', 'verifi'])\n",
            " list(['continu', 'get', 'mail', 'ballot', 'children', 'move', 'year', 'ago'])\n",
            " list(['investig', 'concern', 'ballot', 'kati', 'hobb', 'mail', 'without', 'kari', 'lake', 'name'])\n",
            " list(['multipl', 'wifi', 'network', 'morgan', 'counti', 'indiana', 'morgan', 'counti', 'courthous'])\n",
            " list(['check', 'ballot', 'vote', 'person', 'mark', 'primari', 'vote', 'person', 'venu', 'primari', 'day', 'http', 'elect', 'maricopa', 'gov', 'vote', 'track', 'ballot', 'html'])\n",
            " list(['vote', 'machin', 'non', 'function', 'heard', 'poll', 'worker', 'phone', 'state', 'someon', 'els', 'get', 'answer', 'phone', 'maxin', 'function'])\n",
            " list(['poll', 'inspector', 'citi', 'novi', 'absente', 'ballot', 'count', 'board', 'gener', 'elect', 'scanner', 'stop', 'work', 'earli', 'night', 'wait', 'pm', 'mail', 'deliveri', 'ballot', 'arriv', 'process', 'tabul', 'late', 'arriv', 'ballot', 'quickli', 'process', 'sign', 'paperwork', 'wait', 'around', 'releas', 'pm', 'sinc', 'part', 'done', 'howev', 'hundr', 'ballot', 'still', 'tabul', 'time', 'tabul', 'still', 'function', 'one', 'democrat', 'tabl', 'wife', 'work', 'oversea', 'copi', 'tabl', 'tabul', 'room', 'poll', 'inspector', 'allow', 'except', 'break', 'time', 'pick', 'meal', 'daughter', 'one', 'tabul', 'worker', 'complain', 'person', 'could', 'get', 'tabul', 'work', 'author', 'access', 'system', 'never', 'occur', 'primari', 'gener', 'elect', 'primari', 'northvil', 'school', 'district', 'special', 'elect', 'tabul', 'shut', 'anomali', 'hundr', 'thousand', 'ballot', 'tabul', 'elect', 'day', 'wee', 'hour', 'morn', 'democrat', 'coupl', 'gave', 'daughter', 'ride', 'abcb', 'citi', 'hall', 'stay', 'night', 'morn', 'give', 'daughter', 'ride', 'back', 'home', 'someon', 'look', 'machin', 'stop', 'work', 'took', 'long', 'get', 'machin', 'back', 'work', 'mani', 'ballot', 'process', 'pm', 'elect', 'day'])\n",
            " list(['sure', 'issu', 'heard', 'area', 'machin', 'need', 'regular', 'pen', 'felt', 'tip', 'pen', 'bleed', 'also', 'told', 'ballot', 'locat', 'hand', 'count', 'also', 'vote', 'center', 'mail', 'ballot', 'spoilat', 'process', 'told', 'destroy', 'home', 'ballot', 'instruct', 'privaci', 'envelop', 'told', 'feed', 'ballot', 'machin', 'poll', 'worker', 'told', 'put', 'box', 'signibng', 'vote', 'person', 'ask', 'wit', 'signatur', 'told', 'requir'])\n",
            " list(['unsecur', 'devic', 'label', 'setup', 'discov', 'park', 'lot', 'front', 'two', 'poll', 'locat', 'wilson', 'counti', 'tn', 'wifi', 'address', 'charli', 'daniel', 'park', 'st', 'stephen', 'e', 'someon', 'told', 'turn', 'bluetooth', 'st', 'stephen', 'address', 'chang', 'c', 'e', 'fa', 'setup', 'first', 'discov', 'elect', 'administr', 'could', 'explain', 'cannot', 'load', 'photo'])\n",
            " list(['sure', 'suppos', 'use', 'flair', 'pen', 'gave', 'us', 'also', 'put', 'ballot', 'machin', 'ballot', 'digit', 'counter', 'increas', 'number', 'wait', 'sec', 'still', 'increas', 'ballot'])\n",
            " list(['receiv', 'text', 'pinal', 'counti', 'arizona', 'gop', 'ballet', 'sorri', 'suppli'])\n",
            " list(['last', 'decemb', 'receiv', 'letter', 'home', 'address', 'consum', 'energi', 'name', 'anissa', 'wehbi', 'spoke', 'counti', 'clerk', 'said', 'individu', 'never', 'live', 'address', 'singl', 'famili', 'home', 'took', 'letter', 'consum', 'energi', 'ladi', 'desk', 'said', 'someon', 'els', 'come', 'similar', 'complaint', 'took', 'letter', 'said', 'would', 'take', 'care', 'suspect', 'anissa', 'wehbi', 'tri', 'vote', 'multipl', 'jurisdict', 'perhap', 'make', 'fals', 'registr', 'obtain', 'absente', 'ballot'])\n",
            " list(['internet', 'connect', 'poll', 'place'])\n",
            " list(['poll', 'person', 'read', 'ballot', 'insert', 'machin'])\n",
            " list(['worker', 'suggest', 'use', 'felt', 'marker', 'ballot', 'voter', 'poll'])\n",
            " list(['merc', 'ca', 'citi', 'council', 'district', 'race', 'ballot', 'switch', 'republican', 'candid', 'two', 'race', 'go', 'send', 'correct', 'ballot', 'go', 'invalid', 'incorrect', 'ballot', 'person', 'send', 'choos', 'incorrect', 'candid', 'neither', 'get', 'vote', 'choos', 'candid', 'ballot', 'count', 'seem', 'shadi'])\n",
            " list(['check', 'arizona', 'gov', 'websit', 'say', 'sent', 'earli', 'ballot', 'back', 'octob', 'never', 'request', 'ballot', 'also', 'never', 'receiv', 'one', 'plan', 'vote', 'person', 'elect', 'day', 'wonder', 'ballot', 'never', 'request', 'sent'])\n",
            " list(['ask', 'write', 'list', 'told', 'found', 'notifi', 'clerk', 'offic'])\n",
            " list(['sign', 'post', 'insid', 'balott', 'vote', 'area', 'use', 'pen', 'provid', 'post', 'use', 'write', 'instrument', 'provid', 'attach', 'area', 'string', 'black', 'paper', 'mate', 'flair', 'medium', 'marker', 'photo', 'sign', 'well', 'marker', 'attach', 'pictur', 'one', 'two', 'sign', 'allow', 'attach', 'multipl', 'pictur'])\n",
            " list(['vote', 'precinct', 'pinal', 'counti', 'pm', 'afternoon', 'ballot', 'shortag', 'husband', 'went', 'take', 'water', 'wait', 'ballot', 'arriv', 'told', 'earlier', 'vote', 'count', 'ballot', 'print', 'back', 'head', 'back', 'vote', 'second', 'time', 'today', 'worker', 'poll', 'tell', 'us', 'count', 'name', 'lisa', 'gillett', 'head', 'back', 'poll', 'pm', 'arizona', 'time', 'ps', 'took', 'pictur', 'front', 'back', 'origin', 'ballot'])\n",
            " list(['illeg', 'middleton', 'wi', 'voter', 'box', 'still', 'open', 'secur', 'still', 'illeg'])\n",
            " list(['ballot', 'drop', 'box', 'appear', 'lincoln', 'park', 'michigan'])\n",
            " list(['sharpi', 'sharpi', 'ball', 'point', 'also', 'fed', 'hand', 'ballot', 'machin', 'press', 'green', 'button', 'cast', 'told', 'need', 'push', 'cook', 'counti', 'sharpi'])\n",
            " list(['includ', 'wifi', 'connect', 'vote', 'poll', 'journey', 'church'])\n",
            " list(['anyon', 'see', 'mani', 'hotel', 'vote', 'locat', 'seem', 'odd', 'enabl', 'state', 'voter', 'mani', 'vote', 'locat', 'hotel'])\n",
            " list(['illeg', 'drop', 'box', 'madison', 'wi', 'taken', 'locat', 'mckenna', 'blvd'])\n",
            " list(['know', 'need', 'resubmit', 'issu', 'poll', 'locat', 'cross', 'use', 'ink', 'pen', 'hand', 'written', 'use', 'sharpi', 'know', 'someth', 'concern', 'make', 'awar', 'also', 'thought', 'odd', 'two', 'us', 'mail', 'van', 'park', 'driveway', 'connect', 'pole', 'build', 'door', 'open', 'appear', 'exchang', 'someth', 'ye', 'took', 'pictur', 'w', 'weidman', 'rd', 'weidman', 'michigan'])\n",
            " list(['recent', 'regist', 'az', 'resid', 'never', 'ask', 'mail', 'ballot', 'thought', 'would', 'vote', 'person', 'week', 'ago', 'receiv', 'mail', 'ballot', 'understand', 'receiv', 'mail', 'ballot', 'vote', 'person'])\n",
            " list(['mayb', 'paranoid', 'submit', 'ballot', 'machin', 'precinct', 'oak', 'park', 'oakland', 'counti', 'michigan', 'oak', 'park', 'high', 'school', 'machin', 'spit', 'ballot', 'told', 'put', 'someon', 'could', 'let', 'know', 'verifi', 'vote', 'count', 'websit', 'somewher', 'someth', 'pleas', 'let', 'know', 'thank'])\n",
            " list(['bmd', 'offlin', 'may', 'printer', 'problem'])\n",
            " list(['disclaim', 'hearsay', 'post', 'local', 'nextdoor', 'app', 'want', 'drop', 'note', 'case', 'concern', 'g', 'g', 'thing', 'excus', 'get', 'hand', 'ballot'])\n",
            " list(['superior', 'court', 'judg', 'william', 'clark', 'determin', 'alleg', 'possibl', 'malfeas', 'warrant', 'throw', 'result', 'sept', 'primari', 'incumb', 'bridgeport', 'mayor', 'joe', 'ganim', 'vote', 'cast', 'absente', 'ballot', 'secur', 'margin', 'victori'])\n",
            " list(['hi', 'experienc', 'vote', 'problem', 'poll', 'locat', 'today', 'name', 'spell', 'wrong', 'databas', 'year', 'problem', 'ballot', 'reject', 'initi', 'scan', 'say', 'two', 'area', 'ambigu', 'provid', 'ballot', 'back', 'make', 'correct', 'streak', 'mark', 'ballot', 'occur', 'enter', 'ballot', 'machin', 'reader', 'may', 'caus', 'irregular', 'photo', 'pre', 'post', 'ballot', 'misspel', 'name', 'issu', 'see', 'attach', 'also', 'ballot', 'scan', 'nd', 'time', 'poll', 'worker', 'put', 'finger', 'secur', 'button', 'gave', 'impress', 'forc', 'ballot', 'without', 'confirm', 'error', 'issu', 'jeffrey', 'scott', 'kline', 'glendal', 'arizona'])\n",
            " list(['est', 'observ', 'peopl', 'sent', 'wrong', 'poll', 'place', 'virtu', 'letter', 'sent', 'someon', 'forrest', 'lehman', 'stop', 'said', 'sent', 'letter', 'peopl', 'loyalsock', 'precinct', 'lycom', 'counti', 'one', 'coupl', 'older', 'retir', 'an', 'regist', 'republican', 'democrat', 'name', 'note', 'name', 'anoth', 'individu', 'well'])\n",
            " list(['scan', 'maricopa', 'counti', 'az', 'driver', 'licens', 'screen', 'print', 'ballot', 'pop', 'name', 'mine', 'anoth', 'girl', 'differ', 'name', 'someon', 'sun', 'citi', 'az', 'wrong', 'someon', 'could', 'vote', 'person', 'ballot', 'identif', 'wrong'])\n",
            " list(['date', 'poll', 'watch', 'cancel', 'due', 'glitch', 'caus', 'live', 'schedul', 'applic', 'date', 'juli', 'th', 'el', 'mirag', 'citi', 'hall', 'pm', 'pm', 'juli', 'th', 'surpris', 'citi', 'hall', 'pm', 'pm'])\n",
            " list(['concern', 'wifi', 'avail', 'poll', 'locat', 'kive', 'rural', 'locat', 'outsi', 'brick', 'bldg', 'one', 'wifi', 'avail', 'insid', 'bldg', 'network', 'avail', 'outsid', 'gone', 'wa', 'anoth', 'network', 'availablw', 'insid', 'poll', 'locat', 'note', 'poll', 'locat', 'doea', 'includ', 'bypass', 'address', 'info', 'corrwct'])\n",
            " list(['june', 'pueblo', 'counti', 'elect', 'offic', 'n', 'main', 'st', 'pueblo', 'colorado', 'observ', 'voter', 'registr', 'check', 'process', 'bo', 'ortiz', 'ask', 'one', 'elect', 'judg', 'prefer', 'show', 'short', 'discuss', 'told', 'ye', 'prefer', 'would', 'show', 'updat', 'registr', 'tab', 'ad', 'elect', 'state', 'clean', 'prefer', 'also', 'day', 'place', 'one', 'elect', 'judg', 'machin', 'lock', 'unabl', 'work', 'time', 'anoth', 'elect', 'judg', 'tabl', 'unabl', 'access', 'voter', 'record', 'e', 'poll', 'even', 'sarah', 'supervisor', 'process', 'unabl', 'access', 'e', 'poll', 'state', 'would', 'go', 'classic', 'believ', 'call', 'final', 'abl', 'access', 'record', 'normal', 'throughout', 'counti', 'two', 'separ', 'databas', 'use', 'access', 'voter', 'record'])\n",
            " list(['ballot', 'accept', 'electron', 'read', 'machin', 'husband', 'submit', 'ballot', 'success', 'son', 'reject', 'told', 'place', 'ballot', 'separ', 'box', 'hand', 'count'])\n",
            " list(['sure', 'problem', 'told', 'new', 'wi', 'fi', 'connect', 'show', 'vote', 'machin', 'report', 'took', 'pic', 'wi', 'fi', 'outsid', 'church', 'poll', 'place', 'insid', 'got', 'machin', 'machin', 'wi', 'fi', 'diamond', 'came', 'anywher', 'els', 'machin', 'sure', 'mean', 'anyth', 'incas', 'liberti', 'church', 'hwi', 'fayettevil', 'ga'])\n",
            " list(['mail', 'foster', 'daughter', 'even', 'though', 'alreadi', 'regist', 'vote', 'find', 'duplic', 'ballot', 'voter', 'registr', 'creat'])\n",
            " list(['wife', 'work', 'poll', 'observ', 'day', 'spring', 'unit', 'methodist', 'church', 'temp', 'accord', 'train', 'watch', 'vote', 'center', 'adher', 'close', 'procedur', 'troubl', 'shooter', 'said', 'ballot', 'pickup', 'earlier', 'day', 'print', 'close', 'talli', 'sheet', 'tabul', 'transfer', 'ballot', 'ballot', 'box', 'black', 'bag', 'includ', 'open', 'close', 'report', 'ballot', 'transfer', 'custodi', 'sheet', 'left', 'ballot', 'ballot', 'box', 'lock', 'vote', 'center', 'told', 'wife', 'one', 'person', 'key', 'everyth', 'would', 'safe', 'key', 'holder', 'could', 'return', 'tabul', 'addit', 'ballot', 'open', 'close', 'talli', 'would', 'match', 'build', 'could', 'burn', 'vote', 'could', 'lost'])\n",
            " list(['tabul', 'print', 'ink', 'issu', 'cave', 'creek', 'az'])\n",
            " list(['avail', 'wi', 'fi', 'network', 'poll', 'locat'])\n",
            " list(['sever', 'wifi', 'connect', 'insid', 'poll', 'locat'])\n",
            " list(['husband', 'david', 'c', 'anderson', 'receiv', 'two', 'mail', 'ballot', 'took', 'poll', 'place', 'elect', 'judg', 'void', 'properli', 'gave', 'standard', 'ballot', 'proceed', 'vote', 'person', 'told', 'someon', 'volunt', 'elect', 'offic', 'dalla', 'doubl', 'ballot', 'mail'])\n",
            " list(['seen', 'two', 'peopl', 'regist', 'peopl', 'qt', 'rd', 'ave', 'indian', 'school', 'compani', 'call', 'ace', 'ask', 'polit', 'parti', 'suspici'])\n",
            " list(['fenton', 'township', 'michigan', 'use', 'new', 'drop', 'box', 'flint', 'citi', 'allow', 'hundr', 'ballot', 'drop', 'ripe', 'fraud', 'highli', 'doubt', 'legal', 'instal'])\n",
            " list(['receiv', 'mail', 'ballot', 'activ', 'voter', 'list'])\n",
            " list(['hand', 'felt', 'tip', 'marker'])\n",
            " list(['sampl', 'ballot', 'spoil', 'whole', 'counti', 'bubbl', 'given', 'write', 'space', 'actual', 'ballot', 'retain', 'judg', 'flip'])\n",
            " list(['nd', 'issu', 'poll', 'station', 'screen', 'fulli', 'cover', 'see', 'screen', 'wait', 'line', 'note', 'would', 'let', 'take', 'pictur', 'issu'])\n",
            " list(['went', 'vote', 'fianc', 'brother', 'move', 'georgia', 'septemb', 'name', 'claudio', 'carta', 'went', 'appli', 'licens', 'octob', 'th', 'check', 'box', 'regist', 'vote', 'told', 'employe', 'fayettevil', 'dmv', 'would', 'regist', 'elect', 'day', 'went', 'vote', 'locat', 'octob', 'th', 'told', 'regist', 'vote', 'therefor', 'unabl', 'vote', 'elect', 'regist', 'republican'])\n",
            " list(['ballot', 'complet', 'insert', 'machin', 'machin', 'reject', 'ballot', 'three', 'time', 'fourth', 'tri', 'kept', 'ballot', 'time', 'reject', 'screen', 'error', 'messag', 'unread', 'still', 'dont', 'know', 'vote', 'count'])\n",
            " list(['ballot', 'pre', 'initial', 'precinct', 'worker', 'prior', 'given', 'instead', 'initial', 'upon', 'given', 'red', 'flag', 'seem', 'like', 'would', 'make', 'cheat', 'easier'])\n",
            " list(['saw', 'line', 'democrat', 'car', 'drop', 'box', 'lancast', 'california', 'check', 'poll', 'place', 'fewer', 'half', 'station', 'last', 'elect', 'peopl', 'drop', 'ballot', 'clearli', 'democrat', 'guarante', 'coordin'])\n",
            " list(['power', 'outag', 'woodridg', 'elementari', 'dekalb', 'counti', 'georgia', 'happen', 'morn', 'approxim', 'four', 'second'])\n",
            " list(['local', 'judg', 'elect', 'told', 'wrong', 'card', 'stock', 'deliv', 'poll', 'bureau', 'current', 'look', 'ok', 'locat', 'thick', 'card', 'stock', 'work', 'tabul', 'also', 'told', 'counti', 'keep', 'poll', 'open', 'pm', 'get', 'correct', 'card', 'stock', 'fetterman', 'run', 'state', 'senat', 'oppos', 'stay', 'open', 'later', 'su', 'state', 'accept', 'mail', 'ballot', 'without', 'signatur', 'date', 'pump', 'mail', 'ballot', 'suppress', 'person', 'vote'])\n",
            " list(['report', 'written', 'steven', 'kramer', 'husband', 'went', 'vote', 'ppp', 'today', 'spruill', 'oak', 'librari', 'first', 'voter', 'ppp', 'period', 'one', 'vote', 'locat', 'time', 'person', 'poll', 'pad', 'sign', 'flip', 'screen', 'pick', 'parti', 'sign', 'howev', 'orient', 'screen', 'flip', 'everyth', 'upsid', 'ultim', 'fix', 'larger', 'concern', 'data', 'card', 'recogn', 'poll', 'pad', 'tri', 'sever', 'time', 'sever', 'data', 'card', 'flip', 'sever', 'card', 'side', 'even', 'remov', 'stabil', 'attach', 'card', 'writer', 'still', 'luck', 'told', 'go', 'anoth', 'person', 'anoth', 'poll', 'pad', 'repeat', 'sequenc', 'good', 'orient', 'flip', 'screen', 'time', 'still', 'data', 'card', 'could', 'read', 'new', 'devic', 'case', 'card', 'program', 'card', 'even', 'recogn', 'insert', 'spent', 'time', 'poll', 'place', 'could', 'doctor', 'appoint', 'come', 'left', 'without', 'vote', 'leav', 'spruill', 'oak', 'librari', 'park', 'lot', 'major', 'construct', 'done', 'spruill', 'rd', 'old', 'alabama', 'rd', 'librari', 'corner', 'danger', 'enter', 'old', 'alabama', 'middl', 'flagmen', 'side', 'let', 'peopl', 'construct', 'month', 'locat', 'right', 'turn', 'lane', 'go', 'put', 'construct', 'idl', 'month', 'decid', 'start', 'ppp', 'began', 'whether', 'intent', 'hardship', 'get', 'leav', 'poll', 'locat', 'later', 'noon', 'return', 'appoint', 'come', 'old', 'alabama', 'let', 'turn', 'left', 'onto', 'spruill', 'rd', 'tri', 'vote', 'thwart', 'tri', 'vote', 'end', 'vote', 'today', 'trip', 'poll', 'locat'])\n",
            " list(['mark', 'ballot', 'scan', 'machin', 'precinct', 'manate', 'counti', 'fl', 'told', 'ballot', 'accept', 'given', 'number', 'total', 'number', 'ballot', 'scan', 'machin', 'howev', 'shown', 'whether', 'machin', 'correctli', 'talli', 'choic', 'normal', 'procedur'])\n",
            " list(['dayspr', 'unit', 'methodist', 'church', 'poll', 'locat', 'temp', 'arizona', 'today', 'late', 'day', 'sind', 'pm', 'postal', 'worker', 'stop', 'tell', 'us', 'bring', 'load', 'ballot', 'tomorrow', 'right', 'p', 'close', 'time', 'poll', 'locat', 'spoke', 'poll', 'inspector', 'judith', 'said', 'year', 'work', 'poll', 'never', 'heard', 'usp', 'past', 'one', 'poll', 'worker', 'call', 'poll', 'troubleshoot', 'happen', 'mctec', 'confirm', 'postal', 'worker', 'allow', 'deliv', 'address', 'outsid', 'envelop', 'period', 'deliv', 'ballot', 'poll', 'locat', 'must', 'deliv', 'address', 'green', 'envelop', 'inspector', 'inform', 'call', 'attorney', 'hotlin', 'given', 'spoke', 'person', 'twice', 'let', 'know', 'ask', 'make', 'sure', 'get', 'escal', 'poll', 'locat', 'inform', 'postal', 'worker', 'plan', 'drop', 'load', 'ballot', 'poll', 'locat', 'instead', 'take', 'directli', 'mctec', 'ballot', 'come', 'know', 'load', 'ballot', 'drop', 'tomorrow', 'arizona', 'receipt', 'state', 'ballot', 'must', 'receiv', 'voter', 'later', 'p', 'elect', 'day', 'postmark', 'allow', 'last', 'day', 'mail', 'nov', 'post', 'offic', 'get', 'ballot', 'drop'])\n",
            " list(['id', 'request'])\n",
            " list(['told', 'use', 'felt', 'tip', 'marker', 'poll', 'place', 'st', 'michael', 'school', 'hall', 'buss', 'branch', 'road', 'paderborn', 'il', 'told', 'law', 'use', 'black', 'blue', 'ballpoint', 'pen', 'look', 'scare', 'let', 'use', 'pen'])\n",
            " list(['neighbor', 'got', 'ballot', 'pre', 'fill', 'thought', 'strang', 'idk', 'okay', 'know', 'rule', 'thought', 'send', 'anyway'])\n",
            " list(['sent', 'someon', 'report', 'issu', 'blog', 'good', 'morn', 'everyon', 'michael', 'two', 'poll', 'station', 'cave', 'creek', 'area', 'one', 'baptist', 'church', 'townhal', 'machin', 'gone', 'read', 'ballot', 'carefre', 'sundial', 'area', 'suppos', 'work', 'fyi', 'pleas', 'respond', 'unless', 'know', 'card', 'reader', 'work'])\n",
            " list(['ladi', 'drop', 'four', 'ballot', 'carri', 'post', 'offic', 'said', 'peopl', 'drop', 'post', 'offic', 'came', 'drop', 'vote', 'said', 'postal', 'worker', 'uniform'])\n",
            " list(['tabul', 'machin', 'seem', 'line'])\n",
            " list(['poll', 'pad', 'problem', 'appear', 'ballot', 'card', 'reader'])\n",
            " list(['law', 'take', 'pictur', 'drop', 'box', 'poll', 'locat', 'pm', 'drop', 'ballot', 'ballot', 'box', 'tabl', 'near', 'door', 'snap', 'pictur', 'ballot', 'dropbox', 'box', 'floor', 'one', 'green', 'one', 'brown', 'sit', 'right', 'next', 'one', 'mark', 'municip', 'drop', 'box', 'soon', 'snap', 'pictur', 'poll', 'worker', 'attack', 'told', 'cannot', 'take', 'pictur', 'tell', 'particular', 'law', 'abrupt', 'warn', 'took', 'pictur', 'ballot', 'drop', 'box', 'well', 'done', 'last', 'coupl', 'year', 'one', 'ever', 'told', 'law', 'statut', 'thought', 'odd', 'anoth', 'box', 'green', 'sit', 'right', 'next', 'ballot', 'box', 'anoth', 'box', 'brown', 'right', 'next', 'one', 'floor', 'question', 'process', 'told', 'someon', 'pick', 'ballot', 'end', 'vote', 'day', 'transport', 'mile', 'away', 'florenc', 'az', 'count', 'vote', 'box', 'rather', 'small', 'know', 'could', 'accommod', 'everybodi', 'ballot', 'came', 'feel', 'good', 'preciou', 'ballot', 'transport', 'mile', 'away', 'count', 'god', 'know'])\n",
            " list(['submit', 'incid', 'ballot', 'readi', 'print', 'right', 'let', 'put', 'photo', 'least', 'show', 'screen', 'may', 'suggest', 'put', 'messag', 'photo', 'accept'])\n",
            " list(['drop', 'envelop', 'ballot', 'wife', 'son', 'govern', 'build', 'chandler', 'box', 'day', 'elect', 'mine', 'accept', 'wednesday', 'signatur', 'verifi', 'count', 'thursday', 'disappear', 'even', 'accept', 'elect', 'site', 'show', 'vote', 'vote', 'republican', 'across', 'ballot', 'vote', 'disappear'])\n",
            " list(['worker', 'adam', 'use', 'black', 'pentel', 'marker', 'rather', 'blue', 'ballpoint', 'pen', 'explain', 'instruct', 'use', 'provid', 'marker', 'proceed', 'use', 'pen', 'made', 'sure', 'ink', 'dri', 'put', 'machin', 'calvari', 'free', 'lutheran', 'church', 'n', 'th', 'st', 'mesa'])\n",
            " list(['sure', 'problem', 'poll', 'place', 'trumbul', 'ct', 'daniel', 'farm', 'school', 'use', 'black', 'sharpi', 'pen', 'fill', 'circl', 'candid', 'want', 'vote', 'thought', 'use', 'black', 'ink', 'pen', 'marker', 'vote', 'booth', 'saw', 'thank'])\n",
            " list(['last', 'night', 'vote', 'person', 'machin', 'use', 'chang', 'least', 'one', 'vote', 'complet', 'electeon', 'ballot', 'verifi', 'everyth', 'correct', 'tablet', 'select', 'print', 'ballot', 'print', 'saw', 'paper', 'misalign', 'hide', 'actual', 'vote', 'cast', 'hous', 'senat', 'school', 'board', 'etc', 'allow', 'view', 'judg', 'retent', 'section', 'vote', 'amend', 'utah', 'constitut', 'electron', 'ballot', 'correctli', 'display', 'vote', 'amend', 'printout', 'show', 'vote', 'chang', 'regard', 'amend', 'reject', 'ballot', 'went', 'process', 'select', 'candid', 'judg', 'retent', 'vote', 'amend', 'select', 'print', 'ballot', 'top', 'portion', 'printout', 'visibl', 'vote', 'amend', 'chang', 'alert', 'nearbi', 'elect', 'offici', 'went', 'hall', 'make', 'phone', 'call', 'return', 'roughli', 'minut', 'later', 'ask', 'move', 'differ', 'machin', 'turn', 'machin', 'around', 'origin', 'use', 'prevent', 'use', 'let', 'know', 'deputi', 'would', 'come', 'remov', 'machin', 'begin', 'investig', 'machin', 'use', 'display', 'ballot', 'previous', 'cast', 'machin', 'new', 'machin', 'work', 'well', 'printout', 'visibl', 'reflect', 'choic', 'made', 'electron', 'today', 'call', 'counti', 'clerk', 'spoke', 'man', 'name', 'ron', 'buckley', 'inform', 'knowledg', 'particular', 'machin', 'issu', 'machin', 'locat', 'would', 'audit', 'next', 'two', 'week', 'know', 'exactli', 'mani', 'machin', 'base', 'saw', 'vote', 'locat', 'estim', 'mean', 'machin', 'would', 'audit', 'inform', 'way', 'tell', 'whether', 'origin', 'machin', 'would', 'audit', 'concern', 'ballot', 'cast', 'prior', 'mine', 'know', 'chang', 'ballot', 'happen', 'twice', 'machin', 'bet', 'good', 'chanc', 'happen'])\n",
            " list(['ink', 'smear', 'ballot', 'fed', 'tabul'])\n",
            " list(['never', 'seen', 'rel', 'vote', 'far', 'see', 'thing', 'seem', 'locat', 'went', 'check', 'stack', 'empti', 'ballot', 'made', 'us', 'select', 'signatur', 'blue', 'ink', 'written', 'across', 'bottom', 'everi', 'one', 'know', 'track', 'genuin', 'ballot', 'anoth', 'reason', 'appear', 'someth', 'happen', 'poll', 'locat', 'concern', 'ask', 'guy', 'said', 'judg', 'someth', 'hear', 'well', 'said', 'everi', 'ballot', 'abl', 'get', 'pictur', 'never', 'let', 'take', 'phone', 'name', 'bottom', 'ballot', 'appear', 'melodi', 'mcfarland', 'tri', 'call', 'dalla', 'counti', 'elect', 'depart', 'ask', 'abl', 'get', 'anyon', 'phone', 'autom', 'answer', 'system', 'hung', 'first', 'time', 'sent', 'voicemail', 'second', 'richland', 'colleg', 'dcccd', 'ecampu', 'locat', 'w', 'walnut', 'st', 'garland', 'tx'])\n",
            " list(['council', 'issu'])\n",
            " list(['machin', 'maricopa', 'counti', 'arizona', 'work', 'everi', 'vote', 'barcod', 'read', 'voter', 'told', 'place', 'ballot', 'box', 'walk', 'away', 'az', 'board', 'elect', 'offici', 'effort', 'fix', 'tabul', 'work'])\n",
            " list(['call', 'elect', 'hot', 'spot', 'router', 'told', 'plug', 'begin', 'day', 'pm', 'pm', 'final', 'last', 'voter', 'pm'])\n",
            " list(['chang', 'registr', 'independ', 'republican', 'deadlin', 'requir', 'oregon', 'receiv', 'direct', 'ballot', 'primari', 'may', 'howev', 'receiv', 'independ', 'ballot', 'week', 'republican', 'ballot', 'inform', 'could', 'use', 'either', 'last', 'one', 'sent', 'would', 'one', 'count', 'seem', 'unusu', 'heard', 'other', 'happen', 'well', 'unfortun', 'take', 'photo', 'sorri'])\n",
            " list(['news', 'camera', 'man', 'record', 'ballot', 'open', 'flatten', 'permit', 'record', 'photograph', 'ballot', 'signatur', 'period'])\n",
            " list(['poll', 'pad', 'wifi', 'connect', 'locat', 'batesvil', 'public', 'librari', 'knight', 'columbu'])\n",
            " list(['trump', 'taken', 'ballot', 'encourag', 'everybodi', 'write'])\n",
            " list(['map', 'show'])\n",
            " list(['sharpi', 'pen', 'fill', 'ballot', 'marker', 'would', 'show', 'side', 'henrietta', 'township'])\n",
            " list(['travel', 'regist', 'nurs', 'temporarili', 'live', 'ga', 'work', 'request', 'ballot', 'pa', 'home', 'state', 'regist', 'vote', 'primari', 'ballot', 'incid', 'still', 'ga', 'gener', 'elect', 'request', 'mail', 'ballot', 'sometim', 'septemb', 'recal', 'exact', 'date', 'never', 'receiv', 'request', 'look', 'pa', 'vote', 'websit', 'see', 'could', 'figur', 'delay', 'accord', 'websit', 'approv', 'mail', 'ballot', 'request', 'request', 'time', 'receiv', 'paper', 'ballot', 'request', 'mail', 'back', 'wrote', 'date', 'still', 'receiv', 'request', 'ballot', 'though', 'websit', 'said', 'time', 'approv', 'mail', 'ballot', 'request', 'receiv', 'approv', 'accord', 'websit', 'might', 'add', 'date', 'deadlin', 'request', 'mail', 'ballot', 'request', 'websit', 'blank', 'date', 'box', 'ballot', 'mail', 'point', 'spent', 'roundup', 'plane', 'ticket', 'fli', 'home', 'vote', 'last', 'day', 'would', 'abl', 'mail', 'back', 'ballet', 'ever', 'receiv', 'know', 'could', 'possibl', 'arriv', 'local', 'deadlin', 'pm', 'land', 'local', 'yesterday', 'hour', 'land', 'husband', 'still', 'ga', 'sent', 'pictur', 'ballot', 'final', 'arriv', 'glad', 'flew', 'way', 'could', 'gotten', 'ballot', 'return', 'time', 'fact', 'way', 'know', 'even', 'come', 'mail', 'write', 'hear', 'rumor', 'issu', 'happen', 'battleground', 'state', 'seem', 'suspici', 'would', 'love', 'investig', 'includ', 'pictur', 'support', 'stori', 'hope', 'upload'])\n",
            " list(['vote', 'enter', 'machin', 'told', 'could', 'vote', 'comptrol', 'want', 'review', 'chang', 'ballot', 'declin', 'ballot', 'said', 'choos', 'one', 'posit', 'normal', 'chang', 'ballot', 'enter'])\n",
            " list(['st', 'baptist', 'church', 'poll', 'site', 'casa', 'grand', 'az', 'ran', 'republican', 'ballot', 'told', 'could', 'vote', 'come', 'back', 'hour', 'see', 'ballot'])\n",
            " list(['ballot', 'need', 'spoil', 'left', 'floor', 'unattend', 'printer', 'issu', 'caus', 'ballot', 'issu', 'option', 'us', 'vote', 'onlin', 'trust'])\n",
            " list(['poll', 'observ', 'past', 'week', 'end', 'day', 'poll', 'worker', 'shut', 'comput', 'electron', 'transfer', 'part', 'process', 'make', 'inquiri', 'boe', 'learn', 'comput', 'onlin', 'earli', 'vote', 'elect', 'day'])\n",
            " list(['son', 'vote', 'signatur', 'verifi', 'count', 'say', 'particip', 'primari', 'use', 'pen', 'given', 'poll'])\n",
            " list(['voter', 'check', 'cast', 'vote', 'octob', 'th', 'north', 'counti', 'earli', 'vote', 'locat', 'reston', 'va', 'fairfax', 'counti', 'vote', 'present', 'mail', 'ballot', 'sinc', 'system', 'indic', 'voter', 'mail', 'ballot', 'abl', 'vote', 'person', 'poll', 'supervisor', 'look', 'matter'])\n",
            " list(['move', 'new', 'address', 'juli', 'regist', 'vote', 'receiv', 'voter', 'registr', 'card', 'mail', 'august', 'shortli', 'receiv', 'anoth', 'voter', 'registr', 'card', 'separ', 'voter', 'number'])\n",
            " list(['vote', 'today', 'morn', 'notic', 'poll', 'worker', 'ladi', 'saw', 'sit', 'tabl', 'vote', 'notic', 'ladi', 'walk', 'like', 'someth', 'area', 'sit', 'think', 'thing', 'listen', 'happen', 'around', 'caught', 'time', 'seem', 'look', 'shoulder', 'see', 'shadi', 'definit', 'worth', 'look', 'thank', 'god', 'bless'])\n",
            " list(['vote', 'count', 'machin', 'told', 'trust', 'ppl', 'hand', 'count', 'machin', 'fix', 'unknown', 'time', 'chain', 'custodi', 'jeopardi'])\n",
            " list(['push', 'mail', 'fraud', 'ballot', 'first', 'reciev', 'prssure', 'action', 'requir', 'reciev', 'anti', 'republican', 'propaganda'])\n",
            " list(['influenc', 'work', 'complet', 'illeg', 'need', 'stop', 'came', 'phone', 'coupl', 'minut', 'ago'])\n",
            " list(['son', 'mail', 'ballot', 'mail', 'request', 'form', 'charlottesvil', 'va', 'octob', 'current', 'enrol', 'univers', 'virginia', 'mail', 'preprint', 'address', 'ballot', 'mail', 'request', 'form', 'p', 'box', 'austin', 'tx', 'never', 'receiv', 'request', 'fear', 'lost', 'mail', 'second', 'ballot', 'mail', 'request', 'form', 'octob', 'preprint', 'address', 'p', 'box', 'request', 'never', 'receiv', 'either', 'locat', 'ballot', 'mail', 'tracker', 'texa', 'secretari', 'state', 'tracker', 'clearli', 'issu', 'deliveri', 'ballot', 'mail', 'request', 'form', 'either', 'charlottesvil', 'va', 'austin', 'tx', 'son', 'abl', 'vote', 'elect', 'ballot', 'mail', 'request', 'deliv', 'process', 'travi', 'counti', 'elect', 'divis', 'screen', 'shot', 'applic', 'mail'])\n",
            " list(['pueblo', 'co', 'commission', 'conduct', 'handcount', 'novemb', 'comparison', 'dominion', 'vote', 'machin', 'tabul'])\n",
            " list(['park', 'lot', 'wifi', 'signsl', 'ft', 'poll', 'place', 'wifi', 'spot', 'pop', 'one', 'poll', 'place', 'two', 'other', 'seem', 'odd'])\n",
            " list(['poll', 'worker', 'cobb', 'counti', 'presidenti', 'primari', 'elect', 'pm', 'notic', 'statewid', 'record', 'count', 'poll', 'pad', 'pm', 'pm', 'pm', 'appreci', 'chang', 'last', 'import', 'shown', 'poll', 'pad'])\n",
            " list(['sure', 'husband', 'receiv', 'ballot', 'mail', 'envelop', 'mail', 'small', 'window', 'back', 'bar', 'code', 'show', 'also', 'secreci', 'envelop', 'use', 'includ', 'ballot', 'complet', 'ballot', 'would', 'place', 'insid', 'secreci', 'envelop', 'would', 'place', 'insid', 'mail', 'envelop', 'secreci', 'envelop', 'longer', 'includ', 'ballot'])\n",
            " list(['venu', 'use', 'felt', 'tip', 'black', 'pen', 'addit', 'suspici', 'surveil', 'vehicl', 'outsid', 'numer', 'antenna'])\n",
            " list(['son', 'law', 'felon', 'appli', 'reinstat', 'privileg', 'receiv', 'mail', 'ballot', 'az', 'sure', 'law', 'thing', 'think', 'purchas', 'hous', 'past', 'year', 'perman', 'address'])\n",
            " list(['get', 'tip', 'pen', 'use', 'ball', 'point', 'pen', 'avail', 'strang', 'unidentifi', 'man', 'sit', 'ballot', 'locat', 'black', 'armor', 'polo', 'shirt', 'watch', 'poll', 'worker', 'said', 'interact', 'voter', 'ask', 'question'])\n",
            " list(['tabul', 'accept', 'ballot', 'failur', 'rate'])\n",
            " list(['winter', 'mill', 'hs', 'carrol', 'counti', 'md', 'nobodi', 'check', 'station', 'ask', 'see', 'identif'])\n",
            " list(['lower', 'southampton', 'west', 'ballot', 'bag', 'catch', 'secur', 'ballot', 'scan', 'wide', 'open', 'machin', 'top', 'zipper', 'zip', 'common', 'secur', 'one', 'side', 'bag', 'machin', 'excus', 'jam', 'whole', 'new', 'lack', 'secur'])\n",
            " list(['brought', 'absente', 'ballot', 'ask', 'vote', 'person', 'also', 'ask', 'could', 'check', 'role', 'see', 'someon', 'alreadi', 'vote', 'name', 'refus', 'request', 'told', 'still', 'mail', 'ballot', 'prove', 'one', 'vote', 'name', 'check', 'role', 'us'])\n",
            " list(['went', 'vote', 'morn', 'commun', 'center', 'westwood', 'bergen', 'counti', 'new', 'machin', 'give', 'card', 'insert', 'machin', 'screen', 'said', 'vote', 'alreadi', 'complaint', 'machin', 'voter', 'regist', 'card', 'activ', 'unaccept', 'countri', 'hit', 'local', 'level', 'leav', 'unless', 'vote', 'cast', 'ask', 'provision', 'ballot', 'necessari', 'let', 'steal', 'anoth', 'elect'])\n",
            " list(['went', 'vote', 'person', 'poll', 'locat', 'flagstaff', 'doney', 'park', 'calvari', 'bibl', 'church', 'around', 'pm', 'notic', 'pen', 'vote', 'booth', 'black', 'felt', 'pen', 'ask', 'poll', 'worker', 'felt', 'pen', 'said', 'provid', 'counti', 'offici', 'pen', 'decid', 'use', 'ballpoint', 'black', 'pen', 'fill', 'ballot', 'ask', 'felt', 'pen', 'would', 'bleed', 'ballot', 'like', 'sharpi', 'said', 'ask', 'complet', 'ballot', 'goe', 'slid', 'box', 'told', 'put', 'male', 'pollwork', 'said', 'goe', 'warehous', 'vote', 'count', 'close', 'pm', 'send', 'vote', 'warehous'])\n",
            " list(['oce', 'librari', 'earli', 'vote', 'poll', 'pad', 'problem', 'one', 'print', 'one', 'applic', 'morn', 'voter', 'vote', 'poll', 'pad', 'half', 'print', 'anoth', 'applic', 'mine', 'michel', 'sarkisian', 'sure', 'first', 'resolv', 'reprint', 'applic', 'run', 'half', 'print', 'earlier', 'applic', 'stapl', 'anoth', 'poll', 'pad', 'broken', 'poll', 'tech', 'fix'])\n",
            " list(['went', 'poll', 'locat', 'gave', 'id', 'digit', 'signatur', 'automat', 'put', 'vote', 'machin', 'ask', 'paper', 'ballot', 'ladi', 'gave', 'paper', 'ballot', 'verif', 'link', 'ballot', 'ident', 'mark', 'number', 'name', 'put', 'ballot', 'simpli', 'initial', 'id', 'receipt', 'put', 'seal', 'box', 'scan', 'entri', 'system', 'scan', 'ballot', 'run', 'ballot', 'scanner', 'complet', 'select', 'verif', 'ident', 'ballot', 'record', 'show', 'ballot', 'correctli', 'audit', 'recount', 'receipt', 'link', 'system', 'without', 'scan', 'enter', 'verifi', 'vote', 'count', 'correctli'])\n",
            " list(['told', 'use', 'sharpi', 'voter', 'box', 'suppos', 'use', 'sharpi', 'mesa'])\n",
            " list(['gener', 'observ', 'pm', 'tell', 'peopl', 'scan', 'ballot', 'face', 'poll', 'worker', 'see', 'person', 'vote', 'actual', 'voter', 'scan', 'ballot', 'rectifi', 'peopl', 'ask', 'say', 'either', 'way', 'ask', 'could', 'scan', 'upsid', 'face', 'said', 'ye', 'issu', 'resolv'])\n",
            " list(['vote', 'person', 'fill', 'ballot', 'pen', 'dominion', 'machin', 'read', 'ballot', 'fill', 'new', 'one', 'pen', 'provid', 'machin', 'took', 'said', 'issu', 'morn', 'peopl', 'need', 'fill', 'new', 'ballot', 'use', 'pen', 'said', 'technician', 'go', 'check', 'machin', 'concern', 'peopl', 'drop', 'ballot', 'drop', 'box', 'machin', 'go', 'read'])\n",
            " list(['state', 'senat', 'pam', 'biedl', 'state', 'face', 'book', 'page', 'volunt', 'phone', 'contact', 'peopl', 'turn', 'mail', 'ballot'])\n",
            " list(['signatur', 'never', 'scribbl', 'way', 'resembl', 'name', 'sent', 'utah', 'counti', 'primari', 'elect', 'mail', 'ballot', 'vote', 'count', 'check', 'see', 'utah', 'requir', 'signatur', 'verif', 'utah', 'utah', 'also', 'suppos', 'contact', 'voter', 'signatur', 'cannot', 'match', 'call', 'counti', 'sheriff', 'left', 'voicemail', 'request', 'complaint', 'file', 'email', 'utah', 'counti', 'lt', 'gov', 'request', 'complaint', 'file', 'counti', 'lt', 'gov', 'email', 'back', 'say', 'verifi', 'signatur', 'signatur', 'file', 'found', 'authent', 'possibl', 'way', 'actual', 'verifi', 'signatur'])\n",
            " list(['precinct', 'name', 'poll', 'place', 'cornerston', 'chattahooche', 'bascom', 'ct', 'columbu', 'ga', 'wi', 'fi', 'connect', 'vote', 'locat'])\n",
            " list(['felt', 'pen', 'caus', 'ballot', 'reject', 'litchfield', 'park', 'poll', 'locat', 'smear', 'ink', 'sewn', 'ballot', 'spoil', 'felt', 'pen', 'use', 'august', 'first', 'hour', 'august', 'chang', 'ballpoint', 'pen', 'seem', 'fine', 'put', 'tabul', 'poll', 'woeke'])\n",
            " list(['vote', 'afternoon', 'fulton', 'counti', 'il', 'us', 'vote', 'offici', 'marker', 'marker', 'bleed', 'ballot', 'side', 'notifi', 'poll', 'worker', 'marker', 'bleed', 'ask', 'effect', 'machin', 'read', 'ballot', 'told', 'would', 'effect', 'ballot', 'read', 'machin', 'take', 'photo', 'ballot', 'sure', 'legal', 'take', 'photo', 'post'])\n",
            " list(['maricopa', 'counti', 'elect', 'dept', 'websit', 'one', 'check', 'voter', 'profil', 'vote', 'histori', 'voter', 'dashboard', 'show', 'vote', 'gener', 'elect', 'primari', 'group', 'friend', 'work', 'audit', 'thing', 'record', 'vote', 'vote', 'regist', 'republican', 'vote', 'trump', 'kari', 'lake', 'think', 'time', 'smug', 'fraud', 'denier', 'richter', 'go', 'ok'])\n",
            " list(['notif', 'second', 'ballot', 'may', 'receiv', 'anoth', 'polit', 'subdivis', 'sale', 'day', 'elect', 'mean'])\n",
            " list(['wife', 'maria', 'anna', 'jasion', 'robert', 'jame', 'jasion', 'resid', 'chelsea', 'bridg', 'way', 'luthervil', 'md', 'origin', 'owner', 'e', 'one', 'els', 'ever', 'live', 'tennesse', 'woman', 'see', 'life', 'com', 'info', 'attach', 'regist', 'vote', 'juli', 'use', 'maryland', 'address', 'maryland', 'board', 'elect', 'voter', 'lookup', 'info', 'attach', 'know', 'got', 'mail', 'ballot', 'request', 'primari', 'elect', 'held', 'may', 'see', 'attach'])\n",
            " list(['skye', 'robinson', 'move', 'florida', 'year', 'ago', 'daughter', 'law', 'notifi', 'counti', 'move', 'still', 'send', 'ballot', 'home'])\n",
            " list(['ballot', 'align', 'issu', 'seem', 'impact', 'tabul', 'time', 'singl', 'side', 'ballot', 'howev', 'might', 'becom', 'problem', 'come', 'gener', 'elect', 'doubl', 'side', 'ballot', 'ballot', 'print', 'mesa', 'convent', 'center', 'around'])\n",
            " list(['white', 'car', 'pull', 'behind', 'us', 'sit', 'driver', 'ask', 'twice', 'repli', 'none', 'busi', 'drove', 'see', 'attach', 'photo'])\n",
            " list(['ask', 'could', 'get', 'receipt', 'vote', 'count', 'machin', 'told'])\n",
            " list(['voter', 'could', 'read', 'write', 'poll', 'worker', 'help', 'vote', 'sign', 'x', 'joe', 'worker', 'write', 'mark', 'david', 'rivera', 'velez', 'worker', 'told', 'name', 'choos', 'write', 'vote', 'confus', 'actual', 'happen'])\n",
            " list(['learn', 'elect', 'train', 'friday', 'state', 'new', 'procedur', 'voter', 'az', 'licens', 'present', 'state', 'licens', 'use', 'state', 'licens', 'id', 'voter', 'also', 'one', 'piec'])\n",
            " list(['http', 'nextdoor', 'com', 'p', 'q', 'jxgcsjmx', 'utm', 'sourc', 'share', 'extra', 'nzq', 'ndq', 'ntm', 'sharpi', 'use', 'offici', 'pen', 'pinal', 'counti', 'copper', 'basin', 'area'])\n",
            " list(['voter', 'regist', 'address', 'vacant'])\n",
            " list(['dem', 'poll', 'worker', 'jame', 'zheng', 'eject', 'indiana', 'elect', 'offic', 'pre', 'select', 'straight', 'dem', 'ticket', 'vote', 'machin', 'call', 'r', 'racist'])\n",
            " list(['live', 'new', 'mexico', 'night', 'elect', 'went', 'vote', 'went', 'vote', 'took', 'son', 'girlfriend', 'regist', 'vote', 'first', 'time', 'vote', 'thay', 'went', 'regist', 'machin', 'went', 'told', 'us', 'went', 'poll', 'place', 'across', 'town', 'went', 'could', 'regist', 'vote', 'internet', 'went', 'one', 'peopl', 'got', 'phone', 'said', 'statewid', 'minut', 'poll', 'close', 'get', 'vote', 'heard', 'anyth', 'els', 'area'])\n",
            " list(['poll', 'station', 'everyon', 'provid', 'pentel', 'sign', 'pen', 'rather', 'ballpoint', 'pen', 'use', 'see', 'vote', 'instruct', 'sheet', 'even', 'read', 'use', 'special', 'pen', 'provid'])\n",
            " list(['abl', 'get', 'phone', 'call', 'return', 'elect', 'board', 'member', 'seem', 'get', 'inform', 'websit'])\n",
            " list(['holli', 'petersen', 'gari', 'petersen', 'never', 'receiv', 'ballot'])\n",
            " list(['person', 'regist', 'vote', 'nokomi', 'beach', 'park', 'bath', 'hous', 'mail', 'ballot', 'go', 'franc', 'casey', 'key', 'road', 'nokomi', 'fl', 'voter', 'id', 'barbara', 'clair', 'weber', 'baur', 'ter', 'avenu', 'jean', 'casal', 'buc', 'franc', 'race', 'femal', 'born', 'regist', 'democrat', 'vote', 'absente', 'march', 'nov', 'march', 'vote', 'histori'])\n",
            " list(['last', 'elect', 'poll', 'worker', 'mountain', 'park', 'candid', 'drop', 'elect', 'coupl', 'week', 'elect', 'sampl', 'ballot', 'print', 'poll', 'pad', 'bmd', 'program', 'instruct', 'post', 'sign', 'indic', 'carrier', 'unit', 'inform', 'voter', 'thing', 'carrier', 'unit', 'least', 'sampl', 'ballot', 'post'])\n",
            " list(['live', 'irvin', 'compani', 'apart', 'home', 'commun', 'shortli', 'ballot', 'mail', 'start', 'notic', 'ballot', 'toss', 'trashcan', 'neighbor', 'trade', 'ballot', 'prevent', 'anyon', 'get', 'fill', 'told', 'report', 'want', 'name', 'address', 'ballot', 'open', 'plan', 'trash', 'elect', 'unless', 'otherwis', 'direct'])\n",
            " list(['observ', 'woman', 'act', 'suspici', 'possibl', 'take', 'ballot', 'jacket', 'deposit', 'ballot', 'box', 'back', 'camera', 'look', 'around', 'make', 'sure', 'nobodi', 'els', 'around', 'let', 'guy', 'arriv', 'go', 'front', 'wait', 'till', 'left', 'act', 'suspici', 'put', 'multipl', 'ballot', 'look', 'like', 'done', 'mesa', 'locat'])\n",
            " list(['want', 'put', 'ballot', 'tabul', 'told', 'put', 'drop', 'box', 'insid', 'bldg', 'local', 'librari', 'maricopa', 'citi', 'smith', 'enk', 'worker', 'present', 'seem', 'somewhat', 'secur', 'concern', 'told', 'process', 'lockbox', 'pick', 'end', 'day', 'transport', 'way', 'florenc', 'arizona', 'almost', 'mile', 'away', 'count', 'tabul', 'build', 'appear', 'one', 'electron', 'devic', 'present', 'printer', 'plug', 'use', 'anyon', 'time', 'visit', 'pm'])\n",
            " list(['friend', 'son', 'receiv', 'elect', 'materi', 'friend', 'hous', 'never', 'live', 'address', 'live', 'canada', 'year', 'thing', 'tie', 'address', 'put', 'titl', 'home', 'year', 'ago', 'sinc', 'singl'])\n",
            " list(['bmd', 'batteri', 'indic', 'show', 'bmd', 'show', 'lighten', 'bolt', 'charg', 'indic', 'tri', 'verifi', 'connect', 'good', 'thing', 'plug', 'report', 'issu', 'wait', 'recommend'])\n",
            " list(['main', 'voter', 'id', 'standish', 'main', 'town', 'hall', 'vote', 'walk', 'give', 'name', 'go', 'vote', 'booth', 'legal', 'anyon', 'vote', 'portland', 'commun', 'pick', 'presid', 'lot', 'illeg', 'vote', 'stop'])\n",
            " list(['build', 'wifi', 'network', 'stair', 'saint', 'aloysiu', 'region', 'school'])\n",
            " list(['receiv', 'mail', 'nh', 'regist', 'get', 'mail', 'ballot', 'vote', 'one', 'recipi', 'longer', 'live', 'state', 'az', 'voter', 'roll'])\n",
            " list(['perri', 'branch', 'librari', 'one', 'two', 'machin', 'read', 'ballot', 'correctli', 'ballot', 'scan', 'machin', 'went', 'fine', 'poll', 'worker', 'confirm', 'machin', 'right', 'issu', 'read', 'ballot', 'locat', 'e', 'queen', 'creek', 'rd', 'gilbert'])\n",
            " list(['eden', 'prairi', 'mn', 'poll', 'place', 'wooddal', 'church', 'multipl', 'wifi', 'poll', 'one', 'seem', 'indic', 'knowink', 'poll', 'pad', 'use', 'see', 'attach', 'avail', 'wifi', 'screen', 'shot', 'taken', 'wooddal', 'church', 'today', 'pm', 'central', 'poll', 'locat', 'wooddal', 'church', 'eden', 'prairi', 'campu', 'shadi', 'oak', 'rd', 'eden', 'prairi', 'mn', 'erik', 'van', 'mechelen', 'research', 'knowink', 'konnech', 'connect', 'konnech', 'basic', 'knowink', 'knowink', 'pollpad', 'electron', 'poll', 'book', 'ipad', 'use', 'almost', 'counti', 'minnesota', 'fun', 'fact', 'mayor', 'st', 'bonifaciu', 'comput', 'secur', 'expert', 'rick', 'weibl', 'hack', 'knowink', 'konnech', 'poll', 'pad', 'within', 'minut', 'refus', 'sign', 'contract', 'citi', 'use', 'use', 'paper', 'pollbook', 'link', 'erik', 'research', 'articl', 'http', 'erikvanmechelen', 'substack', 'com', 'p', 'alpha', 'news', 'mn', 'editor', 'chief', 'continu', 'document', 'citi', 'minneapoli', 'purchas', 'knowink', 'document', 'back', 'provid', 'help', 'minneapoli', 'also', 'contract', 'directli', 'konnech', 'extend', 'erik', 'document', 'document', 'first', 'substack', 'articl', 'http', 'beingoflight', 'substack', 'com', 'p', 'issu', 'konnech', 'ceo', 'eugen', 'yu', 'arrest', 'thank', 'kari', 'havir', 'sure', 'screen', 'grab', 'avail', 'wifi', 'poll', 'place', 'upload', 'even', 'though', 'tri', 'choos', 'sever', 'time', 'provid', 'screen', 'grab', 'upload'])\n",
            " list(['hello', 'safe', 'check', 'wifi', 'connect', 'outsid', 'next', 'build', 'insid', 'notic', 'address', 'orb', 'came', 'also', 'took', 'pictur', 'everi', 'screen', 'vote', 'everi', 'summari', 'page', 'final', 'ticker', 'page', 'god', 'bless', 'america', 'protect', 'vote'])\n",
            " list(['took', 'name', 'mail', 'ballot', 'request', 'pima', 'counti', 'tucson', 'still', 'receiv', 'ballot', 'took', 'pllong', 'place', 'elect', 'day', 'spoil', 'ballot', 'vote', 'person', 'tabulstor', 'onsit', 'put', 'box', 'check', 'ballot', 'receiv', 'pima', 'counti', 'record', 'site', 'n', 'say', 'request', 'ballot', 'n', 'indic', 'vote', 'count', 'seem', 'take', 'name', 'mail', 'list', 'send', 'ballot', 'anyway', 'man', 'land', 'sent', 'back', 'thru', 'mail', 'would', 'never', 'exist', 'n', 'go', 'person', 'still', 'get', 'count', 'check', 'poll', 'site', 'still', 'get', 'vote', 'count'])\n",
            " list(['surveil', 'drop', 'box'])\n",
            " list(['machin', 'reject', 'ballot', 'despit', 'number', 'time', 'turn', 'read', 'ballot', 'spoil', 'fill', 'new', 'one', 'machin', 'read'])\n",
            " list(['receiv', 'follow', 'text', 'vote', 'person', 'sc', 'live', 'sent', 'ballot', 'mail', 'live', 'md', 'md', 'sbe', 'mail', 'ballot', 'receiv', 'check', 'statu', 'ballot', 'vote', 'md', 'gov', 'search', 'md', 'sbe', 'hemo', 'recibido', 'su', 'papeleta', 'enviada', 'por', 'correo', 'verifiqu', 'el', 'estado', 'de', 'su', 'papeleta', 'en', 'vote', 'md', 'gov', 'search'])\n",
            " list(['multipl', 'attempt', 'requir', 'other', 'scan', 'ballot', 'staff', 'explain', 'problem', 'day'])\n",
            " list(['poll', 'watcher', 'earli', 'vote', 'work', 'day', 'last', 'week', 'allow', 'see', 'record', 'secur', 'clip', 'tape', 'begin', 'number'])\n",
            " list(['ballot', 'sent', 'hous', 'never', 'got', 'request', 'replac', 'take', 'auditor', 'offic', 'today', 'elect', 'day'])\n",
            " list(['mesa', 'hour', 'outdoor', 'ballot', 'box', 'older', 'gentleman', 'kind', 'load', 'around', 'box', 'film', 'three', 'separ', 'occas', 'twice', 'today', 'yesterday', 'last', 'time', 'roughli', 'video', 'post', 'maricopa', 'counti', 'camera', 'telegram', 'page'])\n",
            " list(['took', 'screen', 'shot', 'wifi', 'enter', 'enter', 'tablet', 'use', 'sign', 'hook', 'internet', 'wifi', 'also', 'took', 'screen', 'shot', 'one', 'phone', 'use', 'hotspot', 'bueno', 'fill', 'affidavit'])\n",
            " list(['drug', 'kill', 'younger', 'gener', 'illeg', 'use', 'tax', 'dollar', 'work', 'hard', 'earn', 'get', 'free', 'everyth', 'vote', 'station', 'ask', 'id', 'sign', 'put', 'card', 'vote', 'done', 'mail', 'ballot', 'state', 'countri', 'done', 'hand', 'done', 'plenti', 'time'])\n",
            " list(['use', 'sharpi', 'poll', 'locat', 'precinct', 'th', 'ward', 'http', 'n', 'southport', 'sheil', 'park'])\n",
            " list(['notic', 'fulton', 'director', 'elect', 'nadin', 'william', 'atlanta', 'public', 'school', 'district', 'issu', 'atlanta', 'public', 'school', 'redistrict', 'fulton', 'dekalb', 'counti', 'advis', 'possibl', 'discrep', 'redistrict', 'data', 'provid', 'sign', 'citi', 'atlanta', 'issu', 'hand', 'citi', 'atlanta', 'redistrict', 'chang', 'set', 'regard', 'school', 'board', 'citi', 'council', 'seat', 'counti', 'work', 'citi', 'atlanta', 'clarifi', 'confirm', 'correct', 'redistrict', 'chang', 'advis', 'boc', 'bre', 'inform', 'receiv', 'correct', 'elect', 'measur', 'must', 'taken'])\n",
            " list(['hi', 'sydney', 'adam', 'go', 'elect', 'judg', 'kansa', 'citi', 'jackson', 'counti', 'report', 'malfeas', 'red', 'flag', 'right', 'app', 'train', 'day', 'novemb', 'st', 'novemb', 'th'])\n",
            " list(['muskingum', 'counti', 'ohio', 'elect', 'station', 'requir', 'everyon', 'use', 'sharpi', 'marker', 'mark', 'ballot'])\n",
            " list(['home', 'town', 'use', 'sharpi', 'type', 'pen', 'vote', 'booth', 'problem', 'use', 'ballpoint', 'pen'])\n",
            " list(['anybodi', 'infiltr', 'organ', 'person', 'wit', 'act', 'suspici', 'also', 'read', 'post', 'other', 'group', 'act', 'suspici'])\n",
            " list(['say', 'vote', 'either', 'elect', 'recent', 'one', 'proof', 'vote', 'pleas', 'get', 'back', 'asap', 'let', 'know'])\n",
            " list(['phoenix', 'az', 'tabul', 'center', 'live', 'stream', 'issu', 'occur', 'hour'])\n",
            " list(['vote', 'elect', 'day', 'person', 'straight', 'red', 'ticket', 'got', 'mine', 'tabul', 'day', 'green', 'check', 'mark', 'use', 'show', 'voter', 'histori', 'vote', 'show', 'vote'])\n",
            " list(['voter', 'id', 'check', 'process', 'solid', 'felt', 'tip', 'marker', 'offer', 'poll', 'locat', 'n', 'north', 'valley', 'pkwi', 'phoenix', 'az', 'fill', 'ballot', 'lead', 'tabul', 'machin', 'pass', 'digit', 'ballot', 'digit', 'adjud', 'instead', 'automat', 'tabul', 'potenti', 'alter', 'voter', 'clearli', 'select', 'candid', 'ask', 'regular', 'pen', 'use', 'use', 'person', 'appear', 'everyon', 'els', 'use', 'felt', 'tip', 'marker', 'fill', 'ballot', 'one', 'man', 'vote', 'next', 'ask', 'wife', 'marker', 'proper', 'write', 'instrument', 'use', 'know', 'anoth', 'ladi', 'put', 'ballot', 'tabul', 'machin', 'right', 'note', 'loud', 'deposit', 'ballot', 'machin', 'readout', 'said', 'ballot', 'doubl', 'count', 'duplic', 'someth', 'similar', 'poll', 'attend', 'told', 'ok', 'may', 'stray', 'mark', 'anoth', 'poll', 'attend', 'near', 'exit', 'tell', 'ladi', 'write', 'piec', 'blank', 'paper', 'issu', 'notic', 'machin', 'readout', 'unsur', 'proper', 'process', 'attach', 'voter', 'registr', 'verif', 'voter', 'detail'])\n",
            " list(['husband', 'vote', 'bethlehem', 'baptist', 'downtown', 'minneapoli', 'took', 'screenshot', 'avail', 'wifi', 'network', 'park', 'lot', 'insid', 'build', 'attempt', 'attach', 'messag', 'choos', 'devic', 'work', 'pleas', 'email', 'bartberg', 'aol', 'com', 'like', 'send', 'anoth', 'way'])\n",
            " list(['fist', 'arriv', 'pollwatch', 'pm', 'june', 'n', 'main', 'street', 'pueblo', 'colorado', 'commot', 'someon', 'tamper', 'seal', 'one', 'icx', 'vote', 'machin', 'insid', 'vote', 'booth', 'drake', 'elect', 'supervisor', 'sent', 'so', 'offic', 'overse', 'elect', 'bo', 'ortiz', 'current', 'counti', 'clerk', 'record', 'tri', 'figur', 'jurisdict', 'matter', 'approxim', 'minut', 'later', 'told', 'state', 'come', 'pm', 'left', 'go', 'st', 'floor', 'agil', 'room', 'watch', 'tub', 'come', 'drop', 'box', 'locat', 'know', 'issu', 'resolv', 'regard', 'tamper', 'seal', 'icx', 'vote', 'machin', 'pollwatch', 'allow', 'take', 'pictur', 'taken', 'pictur', 'pollwatch', 'note', 'document', 'incid'])\n",
            " list(['pluma', 'counti', 'ca', 'regist', 'voter', 'receiv', 'mail', 'ballot', 'return', 'ballot', 'via', 'mail', 'take', 'day', 'get', 'back', 'registrar', 'mile', 'away', 'chose', 'return', 'ballot', 'person', 'eighti', 'mile', 'round', 'trip', 'mani', 'counti', 'round', 'trip', 'mile', 'round', 'trip', 'violat', 'th', 'amend'])\n",
            " list(['poll', 'worker', 'litchfield', 'park', 'st', 'baptist', 'church', 'locat', 'ballot', 'printer', 'site', 'book', 'tabul', 'malfunct', 'sinc', 'friday', 'set', 'day', 'inspector', 'dismiss', 'us', 'day', 'said', 'would', 'handl', 'issu', 'also', 'said', 'set', 'day', 'sure', 'anyon', 'admit', 'republican', 'ballot', 'submit', 'today', 'sure', 'suspici', 'want', 'provid', 'record', 'issu'])\n",
            " list(['mom', 'complet', 'mail', 'ballot', 'togeth', 'candid', 'list', 'differ', 'order', 'everi', 'race', 'live', 'ld', 'sandia', 'precinct', 'wildwood', 'machin', 'count', 'circl', 'candid', 'order', 'regret', 'take', 'pictur', 'testifi', 'oath', 'photo', 'debi', 'birch', 'pc', 'sandia'])\n",
            " list(['let', 'load', 'one', 'puctur'])\n",
            " list(['recent', 'found', 'daughter', 'son', 'law', 'still', 'regist', 'address', 'move', 'live', 'oversea', 'sinc', 'call', 'local', 'clerk', 'court', 'said', 'would', 'take', 'two', 'elect', 'cycl', 'almost', 'year', 'final', 'deem', 'inact', 'februari'])\n",
            " list(['poll', 'worker', 'show', 'work', 'republican', 'pair', 'dem', 'republican', 'possibl', 'check', 'work', 'unbias', 'counti', 'boe', 'inform', 'offer', 'addit', 'help', 'poll', 'pad', 'link', 'connect', 'internet', 'allegedli', 'secur', 'system', 'told', 'signatur', 'voter', 'accept', 'poll', 'pad', 'disput', 'bare', 'littl', 'resembl', 'one', 'screen', 'women', 'show', 'around', 'p', 'elect', 'day', 'said', 'person', 'charg', 'precinct', 'board', 'elect', 'introduc', 'anyon', 'work', 'check', 'long', 'line', 'voter', 'came', 'behind', 'reach', 'shoulder', 'touch', 'symbol', 'poll', 'pad', 'later', 'discov', 'sent', 'pad', 'info', 'internet', 'cloud', 'repeat', 'pad', 'peopl', 'front', 'time', 'find', 'disappear', 'swamp', 'hr', 'straight', 'could', 'reconcil', 'dominion', 'machin', 'assign', 'end', 'night', 'printer', 'said', 'thermal', 'printer', 'overh', 'shut', 'machin', 'talk', 'boe', 'said', 'turn', 'machin', 'print', 'talli', 'done', 'hr', 'later', 'got', 'process', 'close', 'poll', 'place', 'dishevel', 'look', 'guy', 'show', 'white', 'unmark', 'van', 'take', 'ballot', 'box', 'vote', 'machin', 'sure', 'took', 'memori', 'stick', 'clip', 'seal', 'pouch', 'assur', 'secur', 'transport', 'told', 'done', 'around', 'saw', 'coupl', 'ballot', 'box', 'curb', 'outsid', 'poll', 'place', 'nobodi', 'around'])\n",
            " list(['incid', 'oldtown', 'rec', 'ctr', 'winston', 'salem', 'nc', 'earli', 'vote', 'poll', 'worker', 'loudli', 'laugh', 'bread', 'mention', 'former', 'state', 'vote', 'use', 'marker', 'complet', 'arrow', 'instead', 'ballpoint', 'pen', 'fill', 'bubbl', 'like', 'use', 'embarrass', 'intent', 'caus', 'lot', 'rucku', 'distract', 'other', 'tri', 'vote', 'act', 'like', 'schoolchildren', 'nd', 'incid', 'locat', 'elect', 'day', 'locat', 'volunt', 'greeter', 'gop', 'volunt', 'senat', 'paul', 'ward', 'continu', 'hand', 'democrat', 'info', 'park', 'curbsid', 'voter', 'go', 'beyond', 'design', 'area', 'also', 'went', 'insid', 'pole', 'place', 'materi', 'told', 'elect', 'judg', 'mere', 'spoke', 'knowledg', 'report', 'written', 'obtain', 'photo', 'one', 'car', 'loud', 'tri', 'domin', 'entranc', 'locat', 'even', 'block', 'oppon', 'sign', 'notebook', 'let', 'upload', 'photo'])\n",
            " list(['rec', 'mail', 'ballot', 'request', 'hand', 'carri', 'perri', 'hs', 'gilbert', 'az', 'told', 'tear', 'ballot', 'vote', 'person', 'vote', 'brought', 'use', 'sharpe', 'marker', 'booth', 'insert', 'ballot', 'dominion', 'vote', 'machin', 'go', 'thru', 'reinsert', 'anoth', 'machin', 'took', 'photo', 'attach', 'feel', 'comfort', 'vote', 'experi', 'mani', 'other', 'also', 'rec', 'mail', 'ballot', 'request'])\n",
            " list(['arm', 'terrorist', 'camp', 'outsid', 'ballot', 'drop', 'box'])\n",
            " list(['interest', 'get', 'peopl', 'regist', 'vote'])\n",
            " list(['receiv', 'vote', 'card', 'steven', 'richer', 'maricopa', 'counti', 'regist', 'vote', 'everi', 'elect', 'coconino', 'counti', 'everi', 'elect', 'sinc', 'first', 'time', 'receiv', 'someth', 'like', 'maricopa', 'countri', 'sinc', 'anybodi', 'get', 'registr', 'vote', 'sever', 'counti', 'caus', 'mass', 'confus', 'poll', 'vote', 'vote', 'day', 'home', 'flagstaff', 'better', 'registr', 'vote', 'richer', 'incompet', 'curat', 'check', 'voter', 'roll'])\n",
            " list(['white', 'secur', 'seal', 'provid', 'red', 'tie', 'wrap', 'issu', 'instead'])\n",
            " list(['origin', 'ballot', 'issu', 'name', 'misspel', 'oc', 'registrar', 'websit', 'say', 'correct', 'ballot', 'mail', 'never', 'receiv', 'correct', 'ballot', 'luckili', 'abl', 'vote', 'person'])\n",
            " list(['colorado', 'secretari', 'state', 'mail', 'voter', 'registr', 'card', 'illeg', 'alien', 'http', 'www', 'news', 'com', 'articl', 'news', 'polit', 'elect', 'noncitizen', 'mail', 'vote', 'registr', 'mailer', 'mistak', 'f', 'c', 'e', 'ebe'])\n",
            " list(['wit', 'husband', 'robert', 'j', 'bozelli', 'ballot', 'reject', 'numer', 'time', 'two', 'ballot', 'machin', 'ballot', 'never', 'accept', 'ballot', 'machin', 'deposit', 'ballot', 'call', 'rd', 'box', 'told', 'repeatedli', 'ballot', 'rd', 'box', 'would', 'count', 'night', 'one', 'republican', 'one', 'democrat', 'found', 'later', 'true'])\n",
            " list(['wickenburg', 'commun', 'center', 'tabul', 'malfunct', 'make', 'voter', 'drop', 'ballot', 'box', 'chain', 'custodi', 'broken', 'watcher', 'charg', 'chain', 'custodi'])\n",
            " list(['total', 'voter', 'record', 'number', 'scan', 'ballot', 'discrep', 'locat', 'ohio', 'mahon', 'counti', 'site', 'locat', 'shadi', 'run', 'rd', 'youngstown', 'ohio'])\n",
            " list(['cannot', 'leav', 'border', 'open', 'financi', 'secur', 'reason'])\n",
            " list(['sampl', 'ballot', 'mi', 'so', 'gov', 'match', 'order', 'candid', 'list', 'govenor', 'actual', 'ballot', 'vote', 'saldano', 'list', 'last', 'sampl', 'buuhht', 'third', 'actual', 'paper', 'ballot', 'make', 'wonder', 'machin', 'program', 'record', 'vote'])\n",
            " list(['lot', 'wi', 'fi', 'activ'])\n",
            " list(['lot', 'illeg', 'alien', 'come', 'us', 'niagara', 'river', 'youngstown', 'new', 'york', 'canada', 'cross', 'raft', 'get', 'neighborhood'])\n",
            " list(['guy', 'organ', 'plan', 'massiv', 'uniformli', 'cover', 'elect', 'infrastructur', 'camera'])\n",
            " list(['elect', 'offic', 'pueblo', 'colorado', 'n', 'main', 'st', 'protocol', 'use', 'one', 'elect', 'judg', 'tier', 'one', 'signatur', 'verif', 'correct', 'standard', 'protocol', 'counti', 'across', 'state', 'state', 'public', 'tour', 'went', 'everi', 'process', 'two', 'elect', 'judg'])\n",
            " list(['sharpi'])\n",
            " list(['brother', 'law', 'ask', 'check', 'voter', 'registr', 'statu', 'sinc', 'never', 'regist', 'legal', 'resid', 'receiv', 'absente', 'ballot', 'last', 'elect', 'gave', 'permiss', 'check', 'well', 'forward', 'found', 'provid', 'contact', 'inform', 'upon', 'request'])\n",
            " list(['aloha', 'poll', 'close', 'pm', 'hawaii', 'pm', 'scanner', 'oahu', 'count', 'center', 'went', 'offlin', 'hart', 'central', 'ballot', 'scanner', 'oahu', 'count', 'center', 'scanner', 'lead', 'scanner', 'scanner', 'network', 'hart', 'supervisor', 'turn', 'order', 'reboot', 'get', 'back', 'onlin', 'appar', 'st', 'time', 'happen', 'oahu', 'count', 'center', 'process', 'ballot', 'entir', 'counti', 'honolulu', 'corinn', 'solomon', 'audit', 'vote', 'hawaii'])\n",
            " list(['believ', 'ohio', 'issu', 'state', 'outcom', 'fals', 'major', 'vote', 'ye', 'aug', 'live', 'cuyahoga', 'counti', 'democrat', 'major', 'howev', 'look', 'yard', 'sign', 'talk', 'neighbor', 'peopl', 'want', 'increas', 'standard', 'howev', 'big', 'money', 'pour', 'plan', 'infanticid', 'aclu', 'big', 'med', 'labor', 'union', 'etc', 'result', 'declar', 'assoiat', 'press', 'half', 'hour', 'poll', 'close', 'earli', 'vote', 'easili', 'manipul', 'big', 'dark', 'money', 'rule', 'peopl'])\n",
            " list(['keep', 'mail', 'previou', 'owner', 'ballot', 'address', 'happen', 'elect', 'call', 'el', 'paso', 'counti', 'clerk', 'offic', 'complain', 'tell', 'mail', 'peopl', 'ballot', 'anyth', 'correct'])\n",
            " list(['son', 'put', 'back', 'earli', 'vote', 'list', 'even', 'though', 'regist', 'vote', 'person', 'receiv', 'mail', 'ballot', 'vote', 'person', 'primari', 'result', 'chang', 'list', 'undecid', 'parti', 'daili', 'receiv', 'mail', 'text', 'call', 'etc', 'democrat', 'parti'])\n",
            " list(['tabul', 'vote', 'site', 'central', 'christian', 'church', 'n', 'lindsay', 'rd', 'mesa', 'az', 'around', 'today', 'long', 'line', 'due', 'one', 'tabul', 'work', 'one', 'long', 'line', 'get', 'ballot', 'second', 'long', 'line', 'actual', 'vote', 'poll', 'worker', 'state', 'one', 'tabul', 'work', 'thing', 'sinc', 'open', 'abl', 'get', 'fix', 'went', 'anoth', 'locat', 'sinc', 'ballot', 'yet'])\n",
            " list(['appear', 'vote', 'count', 'look', 'dashboard'])\n",
            " list(['finish', 'vote', 'thing', 'problem', 'follow', 'sign', 'locat', 'state', 'vote', 'done', 'one', 'identif', 'ask', 'show', 'anyth', 'verifi', 'inform', 'name', 'address', 'zip', 'code', 'signatur', 'author', 'slip', 'give', 'signatur', 'screen', 'sign', 'paper', 'basic', 'blank', 'without', 'inform', 'state', 'ticket', 'come', 'way', 'verif', 'prior', 'cast', 'ballot', 'shadi'])\n",
            " list(['new', 'resid', 'wonder', 'lake', 'il', 'receiv', 'applic', 'perman', 'vote', 'mail', 'statu', 'previou', 'resid', 'hous', 'move', 'arizona', 'also', 'receiv', 'applic', 'even', 'though', 'move', 'arizona', 'unfortun', 'appar', 'thrown', 'away', 'applic', 'address'])\n",
            " list(['site', 'tell', 'voter', 'use', 'ballpoint', 'use', 'pen', 'provid', 'pole', 'place', 'counter', 'previou', 'instruct', 'use', 'blue', 'ball', 'point', 'http', 'kjzz', 'org', 'content', 'here', 'kind', 'pen', 'use', 'fill', 'maricopa', 'counti', 'elect', 'ballot'])\n",
            " list(['felt', 'pen', 'provid', 'paper', 'ballot'])\n",
            " list(['poll', 'worker', 'place', 'vote', 'station', 'gilbert', 'ld', 'church', 'said', 'use', 'nope', 'bought', 'pen', 'use', 'opinion', 'read', 'bottom', 'ballot', 'hand', 'marker'])\n",
            " list(['elect', 'trainer', 'jesu', 'told', 'elect', 'poll', 'worker', 'traine', 'anyon', 'get', 'provision', 'ballot', 'reason', 'said', 'even', 'tell', 'us', 'alreadi', 'vote', 'let', 'vote', 'take', 'chanc', 'get', 'caught', 'also', 'said', 'someon', 'bring', 'multipl', 'ballot', 'drop', 'let', 'drop'])\n",
            " list(['tabul', 'read', 'ballot', 'stay', 'poll', 'hour', 'wait', 'tabul', 'work', 'spoil', 'first', 'ballot', 'second', 'use', 'handicap', 'machin', 'print', 'ballot', 'qr', 'code', 'read', 'tabul', 'accept', 'husband', 'second', 'ballot', 'still', 'accept', 'tabul', 'put', 'box', 'tabul', 'downtown', 'want', 'leav', 'ballot', 'like', 'choic', 'six', 'hour'])\n",
            " list(['ballot', 'put', 'machin', 'put', 'box'])\n",
            " list(['see', 'differ', 'opinion', 'offici', 'poll', 'place', 'one', 'sourc', 'say', 'town', 'librari', 'anoth', 'sourc', 'offici', 'card', 'state', 'say', 'church', 'call', 'librari', 'say', 'go', 'talk', 'person', 'work', 'librari', 'say', 'vote', 'locat', 'final', 'went', 'counti', 'vote', 'offic', 'view', 'earli', 'ask', 'confus', 'know', 'jt', 'polk', 'counti', 'iowa'])\n",
            " list(['today', 'novemb', 'arizona', 'primari', 'august', 'nd', 'record', 'vote', 'appear', 'maricopa', 'counti', 'elect', 'depart', 'web', 'site', 'receiv', 'text', 'ballot', 'receiv', 'signatur', 'verifi', 'show', 'count'])\n",
            " list(['entranc', 'door', 'vote', 'mask', 'femal', 'indic', 'turn', 'phone', 'enter', 'vote', 'compli'])\n",
            " list(['lot', 'network', 'network'])\n",
            " list(['spoke', 'today', 'poll', 'worker', 'said', 'someon', 'dress', 'postal', 'worker', 'came', 'poll', 'late', 'afternoon', 'mail', 'ballot', 'none', 'postmark', 'bold', 'patriot', 'poll', 'worker', 'question', 'inspector', 'receiv', 'decid', 'bundl', 'set', 'asid', 'note', 'still', 'submit', 'end', 'day'])\n",
            " list(['today', 'receiv', 'final', 'notic', 'voter', 'registr', 'old', 'apt', 'move', 'chang', 'address', 'almost', 'year', 'ago', 'top', 'copi', 'attach', 'sent', 'month', 'ago', 'show', 'correct', 'address', 'apt', 'bottom', 'yellow', 'copi', 'came', 'mail', 'today', 'forward', 'mail', 'carrier', 'illeg', 'old', 'address', 'appar', 'load', 'extra', 'voter', 'ballot', 'also', 'receiv', 'email', 'state', 'ballot', 'mail', 'write', 'back', 'get', 'addit', 'fact', 'took', 'name', 'perman', 'mail', 'ballot', 'list', 'want', 'vote', 'person', 'last', 'week', 'report', 'ttv', 'man', 'approach', 'sign', 'voter', 'reg', 'form', 'even', 'though', 'alreadi', 'regist', 'got', 'info', 'want'])\n",
            " list(['worri', 'someon', 'ill', 'intent', 'cast', 'vote', 'use', 'address', 'follow', 'name', 'april', 'grace', 'allan', 'matthew', 'stark', 'carla', 'anderson', 'respect', 'eric', 'mendoza', 'megan', 'mendoza'])\n",
            " list(['alreadi', 'tri', 'cheat', 'maricopa', 'counti', 'madison', 'middl', 'school', 'provid', 'black', 'marker', 'disclaim', 'say', 'dri', 'faster', 'smear', 'top', 'ballot', 'say', 'use', 'ink', 'get', 'word', 'bring', 'ink', 'pen', 'maricopa', 'counti'])\n",
            " list(['hand', 'felt', 'mark', 'pen', 'forgot', 'ball', 'point', 'pen', 'ask', 'said', 'use', 'mark', 'pen', 'poll', 'station', 'someth', 'feel', 'right', 'look', 'like', 'one', 'pleas', 'investig', 'church', 'jesu', 'christ', 'latter', 'day', 'saint', 'http', 'goo', 'gl', 'map', 'sn', 'jdp', 'ep', 'vfvtgm'])\n",
            " list(['ballot', 'super', 'long', 'way', 'difficult', 'handl', 'let', 'alon', 'feed', 'machin', 'without', 'get', 'jack', 'head', 'adjud'])\n",
            " list(['http', 'elect', 'maricopa', 'gov', 'vote', 'track', 'ballot', 'html', 'say', 'vote', 'elect', 'also', 'vote', 'person', 'dcc', 'scottsdal', 'husband', 'neither', 'ballot', 'show'])\n",
            " list(['michigan', 'lapeer', 'counti', 'mayfield', 'township', 'primari', 'august', 'went', 'vote', 'person', 'husband', 'told', 'tabul', 'machin', 'work', 'township', 'precinct', 'also', 'lapeer', 'counti', 'vote', 'station', 'sharpi', 'point', 'sharpi', 'township', 'clerk', 'said', 'must', 'use', 'sharpi', 'instruct', 'ballot', 'say', 'use', 'black', 'blue', 'ink', 'mark', 'ballot', 'pen', 'brought', 'attempt', 'use', 'tabul', 'reject', 'ballot', 'drop', 'ballot', 'back', 'tabul'])\n",
            " list(['special', 'elect', 'ohio', 'august', 'th', 'watch', 'spectrum', 'news', 'last', 'night', 'elect', 'repres', 'cuyahoga', 'counti', 'express', 'earli', 'vote', 'counti', 'like', 'x', 'normal', 'area', 'via', 'mail', 'ballot', 'absente', 'ballet', 'would', 'interest', 'see', 'accuraci', 'voter', 'role', 'mail', 'ballet', 'look', 'like', 'prior', 'elect', 'elect', 'day', 'see', 'articl', 'american', 'thinker', 'jay', 'valentin', 'concern', 'occurr', 'took', 'place', 'maricopa', 'counti', 'could', 'take', 'place', 'realli', 'think', 'elect', 'integr', 'import', 'board', 'elect', 'euclid', 'avenu', 'cleveland', 'ohio', 'http', 'www', 'americanthink', 'com', 'articl', 'outcomput', 'left', 'html'])\n",
            " list(['sharpieg', 'happen', 'east', 'grand', 'rapid', 'mi', 'citi', 'hall', 'vote', 'locat', 'use', 'sharpi', 'say', 'machin', 'take', 'peopl', 'brought', 'object', 'one', 'voter', 'said', 'bleed', 'thru', 'said', 'ballot', 'line', 'machin', 'read', 'fine'])\n",
            " list(['precinct', 'ballot', 'primari', 'find', 'poll', 'locat', 'nowher'])\n",
            " list(['told', 'leav', 'poll', 'place', 'ask', 'make', 'democrat', 'earlier', 'leav', 'call', 'elect', 'offici', 'call', 'said', 'stay', 'long', 'took', 'canopi'])\n",
            " list(['happen', 'gillespi', 'counti', 'texa', 'precinct', 'machin', 'tabul'])\n",
            " list(['mail', 'ballot', 'show', 'parti'])\n",
            " list(['told', 'perri', 'librari', 'allow', 'enter', 'told', 'allow', 'set', 'enter', 'open', 'vote'])\n",
            " list(['machin', 'poll', 'worker', 'say', 'tri', 'resolv', 'encourag', 'peopl', 'come', 'back', 'later'])\n",
            " list(['process', 'ballot', 'machin', 'would', 'indic', 'red', 'green', 'ballot', 'accept', 'light', 'poller', 'said', 'normal', 'hit', 'accept', 'anyway', 'button', 'mani', 'ballot', 'went', 'adjud'])\n",
            " list(['requir', 'use', 'sharpi', 'ballot', 'issu', 'last', 'time'])\n",
            " list(['wednesday', 'show', 'middl', 'post', 'notic', 'ballot', 'match', 'bmd', 'one', 'candid', 'shown', 'incumb', 'person', 'posit', 'appoint'])\n",
            " list(['secretari', 'state', 'websit', 'show', 'inelig', 'vote', 'even', 'though', 'never', 'miss', 'elect', 'move', 'contact', 'dmv', 'convict', 'crime', 'appar', 'happen', 'mani', 'republican', 'orbit', 'well', 'weird', 'stuff', 'go', 'nevada'])\n",
            " list(['request', 'taken', 'mail', 'ballot', 'list', 'still', 'receiv', 'ballot', 'respons', 'get', 'email', 'got', 'mine', 'wrote', 'got', 'email', 'thank', 'email', 'name', 'longer', 'earli', 'vote', 'list', 'howev', 'depend', 'made', 'request', 'remov', 'ballot', 'may', 'alreadi', 'order', 'elect', 'receiv', 'ballot', 'futur', 'elect', 'may', 'vote', 'person', 'earli', 'elect', 'day', 'without', 'problem', 'long', 'return', 'mail', 'ballot', 'us', 'go', 'vote', 'one', 'vote', 'anywher', 'vote', 'center', 'follow', 'check', 'sitebook', 'verifi', 'identif', 'sitebook', 'say', 'screen', 'sent', 'ballot', 'wish', 'void', 'respond', 'affirm', 'void', 'vote', 'earli', 'mail', 'ballot', 'abl', 'use', 'ballot', 'abl', 'vote', 'vote', 'center', 'donna', 'kish', 'execut', 'assist', 'offic', 'maricopa', 'counti', 'record', 'rd', 'avenu', 'suit', 'phoenix', 'az', 'offic', 'call', 'transfer', 'automat', 'work', 'cell', 'dkish', 'risc', 'maricopa', 'gov', 'messag', 'messag', 'respons', 'sender', 'messag', 'may', 'subject', 'public', 'record', 'request'])\n",
            " list(['live', 'salt', 'lake', 'counti', 'utah', 'last', 'week', 'went', 'counti', 'offic', 'elect', 'observ', 'process', 'untranspar', 'volunt', 'allow', 'anyth', 'verif', 'open', 'ballot', 'etc', 'done', 'paid', 'worker', 'counti', 'clerk', 'democrat', 'particularli', 'concern', 'signatur', 'verif', 'sinc', 'utah', 'total', 'mail', 'ballot', 'state', 'verif', 'done', 'paid', 'worker', 'democrat', 'counti', 'clerk', 'legal', 'allow', 'talk', 'worker', 'polic', 'offic', 'tail', 'whole', 'time', 'work', 'done', 'lock', 'basement', 'area'])\n",
            " list(['st', 'time', 'vote', 'sunlak', 'hospit', 'know', 'poll', 'locat', 'vote', 'address', 'e', 'cedar', 'waxw'])\n",
            " list(['pretti', 'sure', 'saw', 'young', 'girl', 'place', 'mail', 'ballot', 'usp', 'drive', 'pm', 'saw', 'take', 'pictur', 'well'])\n",
            " list(['receiv', 'mail', 'ballot', 'novemb', 'late', 'fill', 'return', 'novemb', 'th', 'pm', 'call', 'registrar', 'octob', 'th', 'took', 'week', 'receiv', 'ballot', 'told', 'receiv', 'earli', 'ballot', 'futur'])\n",
            " list(['allow', 'vote', 'registr', 'abl', 'confirm', 'got', 'home', 'check', 'info', 'onlin', 'verifi', 'updat', 'voter', 'registr', 'year', 'ago', 'move', 'updat', 'address', 'updat', 'parti', 'independ', 'republican', 'live', 'liber', 'area', 'ohio', 'univers', 'athen', 'ohio'])\n",
            " list(['receiv', 'two', 'ballot', 'complet', 'put', 'mail', 'keep', 'hear'])\n",
            " list(['went', 'vote', 'place', 'th', 'st', 'michigan', 'north', 'phoenix', 'baptist', 'church', 'sign', 'use', 'pen', 'figur', 'red', 'flag', 'took', 'one', 'decid', 'use', 'pen', 'accident', 'walk', 'pen', 'photo', 'wanna', 'make', 'sure', 'ok', 'booth', 'area', 'said', 'use', 'pen'])\n",
            " list(['fill', 'ballot', 'sharpi', 'pen', 'provid', 'booth'])\n",
            " list(['hawaii', 'counti', 'text', 'voter', 'ballot', 'receiv', 'complet', 'voter', 'yet', 'even', 'receiv', 'ballot'])\n",
            " list(['machin', 'error', 'insert', 'ballot', 'msg', 'said', 'reinsert', 'end', 'howev', 'still', 'would', 'read', 'ballet', 'vote', 'republican', 'candid', 'thing', 'husband', 'ballot', 'told', 'insert', 'ballot', 'machin', 'tray', 'input', 'later', 'tray', 'empti', 'lock', 'one', 'machin', 'locat', 'voter', 'room'])\n",
            " list(['earli', 'vote', 'primari', 'tucker', 'reid', 'librari', 'notic', 'hourli', 'timer', 'go', 'get', 'dominion', 'scanner', 'count', 'new', 'also', 'appear', 'take', 'poll', 'pad', 'count', 'hourli', 'notic', 'last', 'year'])\n",
            " list(['letter', 'receiv', 'usp', 'sender', 'alaska', 'divis', 'elect', 'result', 'alaskan', 'legal', 'vote', 'novemb', 'specif', 'state', 'candid', 'rank', 'alaska', 'rank', 'choic', 'vote', 'may', 'circumv', 'chosen', 'candid', 'nd', 'rf', 'last', 'novemb', 'fraud', 'remov', 'alaskan', 'select', 'gop', 'select', 'anyon', 'first', 'cast', 'authent', 'first', 'choic', 'concern', 'democrat', 'process', 'america', 'veteran', 'us', 'air', 'forc', 'year', 'serv', 'countri'])\n",
            " list(['dominion', 'machin', 'need', 'go', 'clean', 'voter', 'role', 'one', 'day', 'vote', 'result'])\n",
            " list(['live', 'butt', 'counti', 'issu', 'local', 'news', 'shasta', 'counti', 'stori', 'news', 'cnn', 'own', 'think', 'http', 'www', 'actionnewsnow', 'com', 'news', 'shasta', 'counti', 'respond', 'letter', 'secretari', 'state', 'articl', 'b', 'ee', 'ac', 'e', 'b', 'c', 'cb', 'da', 'html'])\n",
            " list(['receiv', 'juri', 'summon', 'address', 'previou', 'home', 'owner', 'year', 'ago', 'weird', 'never', 'happen'])\n",
            " list(['put', 'ballot', 'ladi', 'told', 'error', 'messag', 'machin', 'said', 'one', 'abnorm', 'mark', 'first', 'option', 'gave', 'refil', 'anoth', 'ballot', 'sound', 'miser', 'son', 'wife', 'wait', 'took', 'forev', 'felt', 'like', 'ask', 'option', 'said', 'hit', 'red', 'button', 'say', 'return', 'tri', 'cours', 'took', 'option', 'flip', 'ballot', 'direct', 'said', 'matter', 'way', 'put', 'work', 'fine', 'wth', 'tri', 'first', 'option'])\n",
            " list(['dem', 'owo', 'ccp', 'cartel', 'fund', 'invas', 'countri'])\n",
            " list(['unknown', 'wi', 'fi', 'network', 'precinct', 'poll', 'site', 'wizard'])\n",
            " list(['wit', 'african', 'american', 'topless', 'homeless', 'appear', 'male', 'west', 'hollywood', 'plummer', 'park', 'yell', 'young', 'man', 'tri', 'put', 'ballot', 'drop', 'box', 'said', 'better', 'think', 'vote', 'aggress', 'manner', 'homeless', 'man', 'multipl', 'ballot', 'black', 'leather', 'backpack', 'alert', 'west', 'hollywood', 'person', 'run', 'park', 'direct', 'view', 'drop', 'box', 'said', 'kiss', 'ballot', 'seem', 'annoy', 'report', 'incid', 'repeat', 'person', 'saw', 'one', 'ballot', 'homeless', 'man', 'backpack', 'offici', 'seem', 'interest', 'purs', 'incid', 'happen', 'pm'])\n",
            " list(['dominion', 'machin', 'multipl', 'ballot', 'scan', 'receiv', 'notic', 'unabl', 'read', 'told', 'could', 'drop', 'bin', 'taken', 'downtown', 'count', 'later', 'spoil', 'first', 'one', 'fill', 'anoth', 'final', 'receiv', 'notif', 'ballot', 'cast', 'scan', 'line', 'peopl', 'trust', 'system', 'plan', 'stay', 'machin', 'scan', 'cast', 'kari', 'lake', 'voter'])\n",
            " list(['incorrect', 'ballot', 'atlanta', 'school', 'board', 'sampl', 'ballot', 'chang', 'reflect', 'jessica', 'johnson', 'incumb', 'larg', 'district', 'chang', 'shown', 'ballot', 'mark', 'devic', 'screen', 'voter', 'use', 'pass', 'ballot', 'review'])\n",
            " list(['still', 'ask', 'see', 'idi', 'could', 'given', 'anyon', 'address', 'use', 'check', 'signatur', 'someth', 'everyth', 'ipad', 'thing', 'understand', 'definit', 'chang', 'year', 'last', 'year', 'except', 'see', 'mani', 'internet', 'chord', 'wonder', 'differ', 'year', 'afraid', 'caught'])\n",
            " list(['observ', 'gilbert', 'public', 'work', 'north', 'today', 'heard', 'poll', 'worker', 'say', 'queen', 'creek', 'ballot', 'drop', 'ballot', 'box', 'whether', 'pinal', 'maricopa', 'counti', 'ballot', 'pick', 'maricopa', 'transfer', 'pinal', 'seem', 'like', 'vulner', 'error', 'seem', 'like', 'counti', 'separ', 'drop', 'box', 'make', 'pickup', 'counti', 'accur', 'secur', 'think', 'look', 'verifi'])\n",
            " list(['assign', 'poll', 'locat', 'told', 'vote', 'machin', 'work', 'print', 'ballot', 'experi', 'past', 'vote', 'locat', 'one', 'assign', 'cast', 'provision', 'ballot', 'second', 'locat', 'cast', 'ballot', 'supposedli', 'good', 'ballot', 'provision', 'also', 'push', 'use', 'pen', 'use', 'black', 'ballpoint', 'pen', 'ballot', 'accept', 'know', 'count', 'assign', 'poll', 'locat', 'st', 'john', 'lutheran', 'church', 'n', 'st', 'ave', 'glendal', 'arizona', 'locat', 'vote', 'christ', 'redeem', 'lutheran', 'church', 'n', 'rd', 'ave', 'phoenix', 'arizona'])\n",
            " list(['preregist'])\n",
            " list(['fir', 'last', 'yr', 'receiv', 'mail', 'ballot', 'person', 'never', 'live', 'address', 'report', 'mani', 'time', 'noth', 'get', 'resolv'])\n",
            " list(['see', 'candid', 'besid', 'finchem'])\n",
            " list(['democrat', 'republican', 'committeeman', 'close', 'poll', 'place', 'hand', 'inform'])\n",
            " list(['state', 'new', 'york', 'town', 'smithtown', 'elect', 'district', 'issu', 'use', 'ballpoint', 'pen', 'paper', 'ballot', 'fed', 'computer', 'ballot', 'scan', 'machin', 'inform', 'smithtown', 'elect', 'district', 'ballot', 'read', 'comput', 'scanner', 'prepar', 'voter', 'use', 'specif', 'black', 'felt', 'tip', 'pen', 'previou', 'elect', 'ballpoint', 'pen', 'ink', 'reject', 'electron', 'scanner', 'today', 'observ', 'smithtown', 'elect', 'district', 'made', 'avail', 'two', 'type', 'pen', 'ballot', 'prepar', 'area', 'aforement', 'black', 'felt', 'pen', 'provid', 'elect', 'vendor', 'addit', 'ballpoint', 'pen', 'inquir', 'elect', 'worker', 'ballpoint', 'pen', 'would', 'read', 'correctli', 'comput', 'scan', 'machin', 'elect', 'worker', 'repli', 'electron', 'ballot', 'scanner', 'read', 'ball', 'point', 'ink', 'challeng', 'assert', 'pleas', 'note', 'ballot', 'scanner', 'may', 'calibr', 'ballpoint', 'ink', 'sinc', 'last', 'elect', 'concern', 'howev', 'ballot', 'prepar', 'ball', 'point', 'ink', 'may', 'requir', 'cure', 'later', 'tonight', 'concern', 'may', 'result', 'elect', 'integr', 'issu', 'inform', 'consider', 'thank'])\n",
            " list(['journey', 'church', 'peoria', 'az', 'right', 'bat', 'ballot', 'print', 'issu', 'appar', 'suppos', 'troubleshoot', 'person', 'day', 'show', 'black', 'fine', 'felt', 'tip', 'pen', 'give', 'concern', 'modem', 'right', 'next', 'printer', 'complain', 'told', 'modem', 'connect', 'internet', 'vpn', 'state', 'get', 'result', 'feel', 'comfort', 'answer', 'lot', 'wifi', 'account', 'accesibil', 'hour'])\n",
            " list(['cast', 'ballot', 'see', 'vote', 'sign', 'american', 'flag', 'screen', 'contact', 'local', 'elect', 'receiv', 'feedback'])\n",
            " list(['campaign', 'materi', 'insid', 'lobbi', 'poll', 'locat'])\n",
            " list(['deceas', 'person', 'list', 'voter', 'roll'])\n",
            " list(['multipl', 'wifi', 'network', 'rang', 'polk', 'ng', 'station', 'albemarl', 'counti', 'va', 'mt', 'ed', 'baptist', 'church', 'batesvil', 'va', 'screenshot', 'network', 'attach', 'bottl', 'network', 'look', 'suspect', 'mount', 'ed', 'baptist', 'church', 'craig', 'store', 'rd', 'afton', 'va'])\n",
            " list(['bill', 'count', 'ballot', 'precinct', 'ilona', 'east', 'side', 'hawai', 'counti', 'wait', 'ballot', 'get', 'truck', 'west', 'side', 'late', 'night', 'wi', 'chain', 'control', 'hart', 'employe', 'would', 'print', 'result', 'state', 'ask', 'go', 'thru', 'chain', 'command', 'first', 'like', 'hilo', 'counti', 'clerk', 'jon', 'hendrick', 'higher', 'up', 'oahu', 'command', 'central', 'k', 'owl', 'edg', 'could', 'wouldda', 'shouldda', 'way', 'verifi', 'number', 'ballot', 'count', 'number', 'machin', 'ballot', 'count', 'score', 'reject'])\n",
            " list(['mailer', 'notic', 'would', 'help', 'arriv', 'prior', 'elect', 'day', 'check', 'mailbox', 'everi', 'day', 'look', 'show', 'today', 'aug', 'elect', 'day', 'tuesday', 'august', 'nd', 'closest', 'vote', 'center', 'chang', 'well', 'seem', 'incred', 'suspici', 'steven', 'ritcher'])\n",
            " list(['vote', 'primari', 'mail', 'fountainhil', 'post', 'offic', 'ballot', 'record', 'say', 'vote', 'also', 'vote', 'gener', 'elect', 'say', 'vote', 'vote', 'put', 'drop', 'box'])\n",
            " list(['vote', 'person', 'mesa', 'print', 'reader', 'reject', 'inspect', 'ballot', 'vote', 'like', 'would', 'told', 'leav', 'ballot', 'behind', 'poll', 'chief', 'reprint', 'new', 'ballot', 'said', 'ongo', 'issu', 'printer'])\n",
            " list(['visual', 'surveil', 'drop', 'box', 'also', 'place', 'low', 'traffic', 'area', 'town', 'near', 'hardli', 'use', 'hard', 'access', 'train', 'station'])\n",
            " list(['told', 'use', 'felt', 'tip', 'pen', 'provid'])\n",
            " list(['tp', 'link', 'wifi', 'avail', 'insid', 'build', 'might', 'noth'])\n",
            " list(['zone', 'map', 'revis'])\n",
            " list(['question', 'safeti', 'act', 'ballot', 'never', 'ask', 'dl', 'voter', 'id', 'card'])\n",
            " list(['sign', 'vote', 'poll', 'worker', 'hand', 'ballot', 'said', 'sinc', 'republican', 'two', 'choic', 'person', 'republican', 'conserv', 'pick', 'one', 'basic', 'announc', 'whole', 'room', 'vote', 'wife', 'stanfordvil', 'ny'])\n",
            " list(['given', 'sharpi', 'style', 'marker', 'vote', 'person', 'surpris', 'az', 'told', 'use', 'pen', 'print', 'ballot', 'also', 'use', 'pen', 'provid', 'would', 'like', 'caus', 'error', 'use', 'regular', 'black', 'pen', 'brought', 'anyway', 'told', 'ballot', 'record', 'without', 'issu'])\n",
            " list(['regist', 'republican', 'given', 'suicid', 'ballot', 'mark', 'overheard', 'poll', 'worker', 'tell', 'one', 'woman', 'place', 'ballot', 'blue', 'box', 'husband', 'ballot', 'place', 'red', 'duffel', 'bag', 'top', 'tabl'])\n",
            " list(['vote', 'peac', 'lutheran', 'church', 'n', 'th', 'ave', 'peoria', 'az', 'august', 'approxim', 'hand', 'felt', 'tip', 'pen', 'fill', 'ballot', 'report', 'person', 'hand', 'pen', 'direct', 'differ', 'person', 'report', 'felt', 'tip', 'pen', 'met', 'silenc', 'noth', 'said', 'volunt', 'ask', 'ball', 'point', 'pen', 'hundr', 'pile', 'put', 'felt', 'tip', 'pen', 'pocket', 'grab', 'ball', 'point', 'pen', 'finish', 'vote', 'left'])\n",
            " list(['locat', 'use', 'ballot', 'machin', 'feel', 'fraudul', 'massachusett', 'need', 'paper', 'ballot', 'system', 'blue', 'state', 'need', 'monitor', 'vote', 'much', 'cheat', 'go'])\n",
            " list(['request', 'mail', 'ballot', 'went', 'pole', 'place', 'today', 'told', 'sampl', 'ballot', 'real', 'ballot', 'scenario', 'wife', 'son'])\n",
            " list(['dem', 'went', 'curbsid', 'vote'])\n",
            " list(['live', 'hous', 'alon', 'year', 'receiv', 'numer', 'unsolicit', 'vote', 'mail', 'applic', 'month', 'ago', 'receiv', 'imag', 'attach', 'wayn', 'counti', 'mi', 'corrupt', 'let', 'stop', 'chest', 'mail', 'also', 'vote', 'today', 'dominion', 'machin', 'precinct', 'gross', 'point', 'wood', 'mi'])\n",
            " list(['east', 'roswel', 'librari', 'sat', 'code', 'c', 'g', 'section', 'infract', 'wit', 'poll', 'watch', 'maureen', 'giannon', 'campaign', 'candid', 'sarah', 'beeson', 'sticker', 'place', 'edit', 'herald', 'alpharetta', 'roswel', 'edit', 'design', 'area', 'insid', 'front', 'door', 'librari', 'display', 'digit', 'board', 'display', 'ad', 'vote'])\n",
            " list(['mail', 'voter', 'registr', 'form', 'current', 'resid', 'fayett', 'main'])\n",
            " list(['mt', 'oliv', 'baptist', 'church', 'henrico', 'va'])\n",
            " list(['elect', 'worker', 'pinal', 'counti', 'midterm', 'elect', 'locat', 'work', 'multipl', 'issu', 'addit', 'run', 'republican', 'ballot', 'worker', 'break', 'rule', 'sloppi', 'end', 'day', 'ballot', 'count', 'marshal', 'left', 'poll', 'locat', 'go', 'poll', 'place', 'vote', 'vote', 'yet', 'strictli', 'rule', 'sever', 'us', 'told', 'ignor', 'us', 'went', 'anyway', 'anoth', 'ladi', 'respons', 'count', 'total', 'number', 'ballot', 'receiv', 'quickli', 'go', 'continu', 'count', 'incorrectli', 'question', 'seen', 'sever', 'count', 'error', 'said', 'close', 'enough', 'refus', 'recount', 'friend', 'ladi', 'also', 'work', 'poll', 'day', 'talk', 'go', 'drink', 'done', 'mention', 'count', 'go', 'need', 'hurri', 'could', 'leav', 'one', 'make', 'count', 'error', 'brought', 'certifi', 'refus', 'told', 'go', 'certifi', 'correct', 'knew', 'correct', 'storm', 'friend', 'person', 'run', 'poll', 'locat', 'never', 'work', 'elect', 'meek', 'job', 'basic', 'shut', 'kept', 'go', 'break', 'room', 'miss', 'equip', 'kept', 'ask', 'find', 'miss', 'equip', 'sat', 'start', 'look', 'phone', 'list', 'never', 'made', 'call', 'leah', 'anyth', 'sat', 'other', 'work', 'marshal', 'sit', 'right', 'next', 'ballot', 'drop', 'box', 'told', 'rule', 'said', 'nobodi', 'could', 'mean', 'box', 'assum', 'could', 'monkey', 'busi', 'ignor', 'continu', 'sit', 'next', 'box', 'unorgan', 'believ', 'follow', 'day', 'sent', 'email', 'ladi', 'work', 'directli', 'virginia', 'ross', 'explain', 'antic', 'go', 'went', 'great', 'detail', 'disturb', 'elect', 'basic', 'joke', 'poll', 'worker', 'never', 'respond', 'someth', 'need', 'chang', 'control', 'poll', 'worker', 'disgust', 'zero', 'faith', 'elect', 'accur'])\n",
            " list(['sure', 'legit', 'ballot', 'mark', 'pen', 'provid', 'vote', 'locat', 'librari', 'lake', 'havasu', 'citi', 'sharpi', 'pen', 'refus', 'use', 'sharpi', 'pen', 'ask', 'ink', 'pen'])\n",
            " list(['felt', 'tip', 'pen', 'vote', 'station', 'sure', 'issu', 'type', 'pen', 'thank'])\n",
            " list(['poll', 'place', 'calveri', 'baptist', 'kingman', 'az', 'offer', 'felt', 'marker', 'said', 'offici', 'call', 'offic', 'elect', 'director', 'steve', 'harri', 'inform', 'use', 'marker', 'year', 'seem', 'uninform', 'sharpi', 'issu'])\n",
            " list(['work', 'poll', 'rocki', 'point', 'ny', 'lot', 'voter', 'troubl', 'get', 'ballot', 'go', 'machin', 'took', 'averag', 'time', 'get', 'ballot', 'except', 'machin', 'poll', 'pad', 'freez', 'day', 'lot', 'voter', 'came', 'told', 'inact', 'voter', 'fill', 'affidavit', 'one', 'poll', 'worker', 'said', 'odd'])\n",
            " list(['see', 'photo', 'attach', 'submit', 'behalf', 'someon', 'els', 'smart', 'phone', 'know', 'use', 'e', 'mail', 'due', 'privaci', 'name', 'black', 'name', 'provid', 'need'])\n",
            " list(['luzern', 'counti', 'keep', 'poll', 'open', 'pm', 'due', 'paper', 'shortag', 'machin', 'someth', 'wrong', 'bad', 'counti'])\n",
            " list(['prior', 'elect', 'westmoreland', 'counti', 'pa', 'mail', 'sever', 'mail', 'ballot', 'mani', 'peopl', 'counti', 'sever', 'mean', 'unsolicit', 'ballot', 'person'])\n",
            " list(['chang', 'site', 'clerk', 'refus', 'hang', 'sign', 'inform', 'new', 'vote', 'site'])\n",
            " list(['vote', 'earli', 'verona', 'nj', 'pm', 'est', 'ballot', 'printer', 'work', 'suppos', 'print', 'ballot', 'tie', 'voter', 'registr', 'given', 'gener', 'ballot'])\n",
            " list(['poll', 'place', 'close', 'elect', 'day', 'manhattan', 'beach', 'jocelyn', 'center', 'due', 'flood', 'sent', 'anoth', 'locat', 'commun', 'center', 'also', 'mb'])\n",
            " list(['town', 'lyon', 'wi', 'walworth', 'counti', 'use', 'marker', 'use', 'pen', 'realiz', 'take', 'photo', 'made', 'mark', 'thumb', 'saw', 'see', 'ink', 'marker', 'market'])\n",
            " list(['person', 'wit', 'two', 'women', 'one', 'vote', 'booth', 'one', 'older', 'women', 'one', 'younger', 'older', 'women', 'tell', 'younger', 'women', 'vote', 'younger', 'one', 'said', 'one', 'told', 'older', 'one', 'vote', 'one', 'vote', 'one', 'call', 'board', 'elector', 'suffolk', 'counti', 'ny', 'pile', 'station', 'seem', 'concern'])\n",
            " list(['gp', 'map', 'show'])\n",
            " list(['sunni', 'hostin', 'basic', 'admit', 'guilti', 'voter', 'fraud', 'son', 'away', 'vote', 'ballot', 'matter', 'intent', 'peopl', 'cannot', 'vote', 'behalf', 'other', 'presum', 'also', 'forg', 'signatur', 'arrest', 'prosecut', 'sunni', 'hostin', 'tv', 'show', 'virw'])\n",
            " list(['maricopa', 'counti', 'websit', 'record', 'vote', 'vote', 'person', 'tuesday'])\n",
            " list(['move', 'virginia', 'florida', 'year', 'ago', 'receiv', 'voter', 'inform', 'card', 'florida', 'mail'])\n",
            " list(['invit', 'observ', 'juli', 'pm', 'must', 'regist'])\n",
            " list(['ballot', 'stuf', 'lewi', 'mesa', 'az'])\n",
            " list(['reciev', 'someon', 'read', 'blog', 'morn', 'pic'])\n",
            " list(['eri', 'counti', 'board', 'elect', 'notifi', 'work', 'inspector', 'inform', 'receiv', 'annual', 'train', 'inform', 'need', 'train', 'morn', 'instruct', 'manual', 'state', 'train', 'requir', 'call', 'contact', 'number', 'explain', 'annual', 'train', 'said', 'ok', 'work', 'na', 'inspector'])\n",
            " list(['vote', 'pueblo', 'west', 'librari', 'fill', 'ballot', 'machin', 'told', 'print', 'put', 'sleev', 'place', 'box', 'told', 'ballot', 'would', 'taken', 'warehous', 'count'])\n",
            " list(['captur', 'wifi', 'connect', 'park', 'lot', 'wagon', 'counti', 'elect', 'board', 'oklahoma', 'elect', 'night', 'nov', 'pm', 'cst'])\n",
            " list(['made', 'use', 'sharpi', 'marker', 'told', 'would', 'vote', 'still', 'count', 'told', 'ye', 'would', 'count', 'upset', 'vote', 'count'])\n",
            " list(['sharpi', 'instead', 'ink', 'pen', 'poll', 'place', 'sturg', 'young', 'center', 'art', 'auditorium', 'n', 'nottawa', 'st', 'sturgi', 'mi'])\n",
            " list(['poll', 'locat', 'hand', 'sharpi', 'mark', 'ballot', 'rather', 'blue', 'black', 'ink', 'pen'])\n",
            " list(['quit', 'censu', 'mail', 'differ', 'name', 'address'])\n",
            " list(['poll', 'locat', 'accept', 'sign', 'write', 'use', 'ballot', 'design', 'machin'])\n",
            " list(['someon', 'vote', 'address', 'mail', 'famili', 'live', 'anoth', 'state', 'pleas', 'contact', 'know', 'clear', 'cannot', 'happen', 'futur'])\n",
            " list(['vote', 'dominion', 'machin'])\n",
            " list(['mom', 'said', 'poll', 'worker', 'put', 'ballet', 'machin', 'voter'])\n",
            " list(['sure', 'issu', 'volunt', 'hard', 'time', 'get', 'paper', 'ballot', 'vote', 'person', 'print', 'notic', 'laptop', 'sit', 'right', 'next', 'printer', 'logo', 'softwar', 'screen', 'need', 'pleas', 'let', 'know'])\n",
            " list(['son', 'grown', 'move', 'away', 'home', 'colorado', 'receiv', 'postcard', 'check', 'still', 'activ', 'voter', 'instruct', 'said', 'return', 'card', 'post', 'offic', 'person', 'longer', 'activ', 'voter', 'return', 'card', 'post', 'offic', 'point', 'essenti', 'opt', 'system', 'wherebi', 'absent', 'dead', 'faux', 'voter', 'take', 'action', 'order', 'exclud', 'voter', 'roll', 'found', 'annoy', 'enough', 'ask', 'drive', 'son', 'card', 'post', 'offic', 'realli', 'lot', 'ask', 'dead', 'non', 'exist', 'voter', 'continu', 'son', 'receiv', 'nd', 'mail', 'ask', 'confirm', 'realli', 'activ', 'voter', 'anymor', 'return', 'post', 'offic', 'took', 'post', 'offic', 'third', 'mail', 'came', 'say', 'previou', 'attempt', 'reach', 'mail', 'return', 'error', 'contact', 'noth', 'point', 'sinc', 'error', 'husband', 'receiv', 'mail', 'ballot', 'week', 'later', 'son', 'step', 'care', 'follow', 'remov', 'vote', 'roll', 'point', 'attempt', 'remov', 'voter', 'roll', 'follow', 'instruct', 'mail', 'ineffect', 'extra', 'ballot', 'voter', 'live'])\n",
            " list(['test'])\n",
            " list(['submit', 'issu', 'coupl', 'hour', 'ago', 'updat', 'correct', 'inform', 'deeper', 'check', 'ballot', 'status', 'record', 'maricopa', 'gov', 'web', 'site', 'ballot', 'status', 'us', 'shown', 'signatur', 'verifi', 'ballot', 'count', 'open', 'vote', 'histori', 'show', 'neither', 'us', 'vote', 'novemb', 'strang', 'curiou', 'voic', 'count', 'lost', 'vote', 'republican', 'attach', 'sm', 'messag', 'phone'])\n",
            " list(['tech', 'said', 'site', 'maricopa', 'tabul', 'problem', 'unabl', 'accept', 'ballot'])\n",
            " list(['receiv', 'text', 'someon', 'poll', 'area', 'poll', 'place', 'cave', 'creek', 'technic', 'difficulti', 'carefre', 'supposedli', 'ok', 'place', 'hand', 'black', 'sharpi', 'instead', 'pen', 'marri', 'coupl', 'got', 'ballot', 'number', 'send', 'caught', 'would', 'invalid', 'ballot', 'locat', 'anthem', 'town', 'hall', 'baptist', 'church', 'cave', 'creek'])\n",
            " list(['ge', 'grapevin', 'tx', 'tarrant', 'counti', 'hall', 'johnson', 'rd', 'one', 'machin', 'work', 'first', 'hour', 'two', 'wife', 'got', 'open', 'took', 'hour', 'line', 'grown', 'much', 'longer', 'mani', 'peopl', 'left'])\n",
            " list(['identif', 'need', 'enter', 'verifi', 'mani', 'wifi', 'signal', 'detect', 'outsid', 'vote', 'booth', 'chang', 'everi', 'second', 'possibl', 'mifi', 'devic', 'concern', 'nontheless', 'screenshot', 'within', 'booth'])\n",
            " list(['provid', 'felt', 'tip', 'marker', 'voter', 'use', 'ballot', 'brought', 'pen', 'insist', 'use', 'black', 'felt', 'tip', 'marker'])\n",
            " list(['year', 'old', 'daughter', 'join', 'vote', 'first', 'time', 'today', 'us', 'ask', 'want', 'vote', 'felt', 'tip', 'ballpoint', 'pen', 'went', 'ballpoint', 'avail', 'use', 'everi', 'booth', 'saw', 'felt', 'tip', 'pen', 'wait', 'voter', 'use', 'husband', 'vote', 'hour', 'earlier', 'given', 'option', 'use', 'felt', 'tip', 'provid', 'booth', 'also', 'note', 'mine', 'daughter', 'ballot', 'fed', 'machin', 'blank', 'side', 'whether', 'correct', 'idea', 'get', 'green', 'check', 'mark', 'say', 'ballot', 'count', 'locat', 'mesa', 'commun', 'colleg', 'red', 'mountain', 'power', 'road', 'mesa'])\n",
            " list(['chang', 'vote', 'site', 'everyon', 'still', 'go', 'old', 'site', 'flush', 'township', 'offic', 'husband', 'vote', 'year', 'alon', 'go', 'tell', 'least', 'peopl', 'new', 'vote', 'site', 'church', 'church', 'walk', 'right', 'precinct', 'huge', 'line', 'precinct', 'one', 'call', 'flush', 'township', 'offic', 'girl', 'spoke', 'suggest', 'hang', 'sign', 'clerk', 'want', 'spoke', 'flush', 'township', 'supervisor', 'thorsbi', 'said', 'suggest', 'clerk', 'said', 'want', 'ran', 'township', 'offic', 'right', 'poll', 'close', 'still', 'sign', 'mani', 'mani', 'peopl', 'still', 'arriv', 'flush', 'township', 'offic', 'vote', 'idea', 'go', 'inform', 'peopl', 'go', 'church', 'mani', 'turn', 'away', 'vote', 'know', 'go', 'supervisor', 'said', 'someth', 'sent', 'talk', 'other', 'park', 'lot', 'none', 'us', 'ever', 'seen', 'rememb', 'get', 'anyth', 'inform', 'chang', 'still', 'inform', 'problem', 'would', 'clerk', 'refus', 'post', 'chang', 'new', 'vote', 'address', 'supervisor', 'liter', 'said', 'read', 'sign', 'look', 'inform', 'vote', 'get', 'answer', 'someon', 'call', 'even', 'though', 'post', 'offic', 'close', 'probabl', 'tri', 'call', 'think', 'close', 'one', 'would', 'answer'])\n",
            " list(['demo', 'issu'])\n",
            " list(['instruct', 'post', 'vote', 'stall', 'said', 'voter', 'use', 'pen', 'provid', 'black', 'felt', 'tip', 'style', 'pen', 'paperm', 'flair'])\n",
            " list(['check', 'statu', 'mail', 'ballot', 'state', 'signatur', 'match', 'call', 'rep', 'state', 'happen', 'lot'])\n",
            " list(['list', 'peopl', 'onlin', 'vote', 'place', 'earli', 'vote'])\n",
            " list(['printer', 'work', 'sunland', 'villag', 'east', 'fransworth', 'dr', 'mesa', 'az'])\n",
            " list(['applic', 'vote', 'includ', 'regist', 'voter', 'peopl', 'want', 'regist', 'day', 'vote', 'voter', 'fill', 'get', 'vote', 'regist', 'voter', 'alreadi', 'confirm', 'mail', 'ballot', 'sent', 'without', 'request', 'one'])\n",
            " list(['hello', 'wife', 'vote', 'morn', 'candia', 'nh', 'hand', 'poll', 'booth', 'sone', 'type', 'elect', 'marker', 'believ', 'said', 'elect', 'marker', 'believ', 'felt', 'tip', 'sharpi', 'bleed', 'ballot', 'caus', 'paper', 'materi', 'come', 'ink', 'easili', 'smudg', 'happen', 'last', 'choic', 'herd', 'felt', 'tip', 'marker', 'kind', 'caus', 'vote', 'irregular', 'pleas', 'let', 'know', 'concern', 'contact', 'town', 'hall', 'offici', 'thank', 'steven', 'shackford', 'steveshackford', 'comcast', 'net'])\n",
            " list(['trump', 'kari', 'lake', 'support', 'harass', 'voter', 'shame', 'un', 'american', 'evil', 'peopl', 'patriot'])\n",
            " list(['camp', 'verd', 'complet', 'ballot', 'fed', 'machin', 'drop', 'box', 'later', 'count', 'think', 'observ', 'morn', 'vote'])\n",
            " list(['hear', 'ballot', 'miss'])\n",
            " list(['hello', 'caught', 'guy', 'pick', 'ballot', 'bunch', 'dropbox', 'flint', 'look', 'offici', 'highli', 'doubt', 'allow', 'videotap', 'pick', 'ballot', 'everi', 'time'])\n",
            " list(['machin', 'daylight', 'save', 'time', 'chang', 'updat', 'voter', 'machin'])\n",
            " list(['wi', 'fi', 'present', 'lock', 'avail', 'given', 'time', 'vote'])\n",
            " list(['florida', 'wiener', 'dog', 'derbi', 'sun', 'n', 'fun', 'pavilion', 'saturday', 'novemb', 'th', 'address', 'medulla', 'road', 'lakeland', 'polk', 'counti', 'florida', 'unawar', 'offici', 'poll', 'site', 'locat', 'hallway', 'near', 'public', 'restroom', 'tabul', 'machin', 'fold', 'vote', 'booth', 'equip', 'unsecur', 'anyon', 'tamper', 'allow', 'want', 'attach', 'photo', 'took', 'app', 'let'])\n",
            " list(['two', 'section', 'vote', 'kennedi', 'township', 'municip', 'bldg', 'depend', 'address', 'machin', 'use', 'section', 'disabl', 'scanner', 'work', 'put', 'ballot', 'slot', 'machin', 'without', 'scan', 'troubl', 'say', 'least'])\n",
            " list(['fulton', 'counti', 'ga', 'give', 'carter', 'center', 'special', 'poll', 'watcher', 'access', 'violat', 'ocga', 'b', 'code', 'section', 'law', 'clearli', 'defin', 'paperwork', 'must', 'submit', 'counti', 'elect', 'superintend', 'prior', 'first', 'day', 'earli', 'vote', 'credenti', 'poll', 'watcher'])\n",
            " list(['eric', 'modem', 'oper', 'poll', 'pad'])\n",
            " list(['secretari', 'state', 'websit', 'tri', 'get', 'cast', 'vote', 'record', 'coincid', 'everybodi', 'els', 'tri', 'get', 'pleas', 'reach'])\n",
            " list(['would', 'proper', 'procedur', 'address', 'mail', 'ballot', 'receiv', 'person', 'live', 'hous', 'believ', 'accord', 'neighbor', 'person', 'dead'])\n",
            " list(['told', 'vote', 'machin', 'work', 'stack', 'ballot', 'vote', 'sever', 'other', 'walk'])\n",
            " list(['es', 'machin', 'poll', 'manag', 'train', 'room'])\n",
            " list(['postal', 'servic', 'employe', 'put', 'mail', 'ballot', 'neighbor', 'box', 'brought', 'last', 'night'])\n",
            " list(['oregon', 'automat', 'mail', 'ballot', 'state', 'need', 'chang', 'pleas', 'go', 'check', 'account', 'boast', 'voter', 'fraud', 'stuf', 'ballot', 'box', 'portland', 'area', 'peopl'])\n",
            " list(['wi', 'fi', 'servic', 'avail', 'vote', 'locat', 'vote', 'oakland', 'elementari', 'school', 'mudd', 'creek', 'road', 'inman', 'sc', 'spartanburg', 'counti', 'concern'])\n",
            " list(['nd', 'voter', 'husband', 'first', 'scanner', 'take', 'ballot', 'registr', 'call', 'someon', 'tell', 'got', 'vote', 'machin', 'reject', 'ballot', 'first', 'time', 'go', 'anoth', 'machin', 'vote', 'final', 'took', 'also', 'told', 'illeg', 'take', 'photo', 'ballot', 'done', 'sure', 'correct'])\n",
            " list(['want', 'see', 'scan', 'mail', 'ballot', 'vote', 'person', 'see', 'option', 'someon', 'direct', 'pleas'])\n",
            " list(['elect', 'worker', 'finish', 'pm', 'left', 'printer', 'confer', 'room', 'use', 'least', 'one', 'full', 'box', 'ballot', 'paper', 'start', 'octob', 'open', 'box', 'ballot', 'paper', 'sheet', 'miss', 'box', 'divid', 'group', 'sheet', 'four', 'group', 'middl', 'box', 'group', 'miss', 'troubl', 'shooter', 'said', 'use', 'page', 'test', 'print', 'e', 'page', 'printer', 'still', 'left', 'miss', 'page', 'maricopa', 'counti', 'alway', 'find', 'ballot', 'elect', 'day', 'worri', 'ballot', 'printer', 'cabinet', 'could', 'use'])\n",
            " list(['felt', 'tip', 'pen', 'provid', 'black', 'mountain', 'baptist', 'church', 'vote', 'center', 'use', 'black', 'pen', 'disappoint', 'see'])\n",
            " list(['write', 'utensil', 'made', 'avail', 'voter', 'felt', 'tip', 'pen', 'use', 'elect', 'bleed', 'ballot', 'caus', 'reject', 'machin', 'later', 'cure', 'crimin', 'organ', 'charg', 'elect', 'go', 'way', 'cheat', 'make', 'sure', 'simpl', 'fix', 'ballpoint', 'pen', 'put', 'place', 'maricopa', 'counti', 'polic', 'station', 'th', 'ave', 'pinnacl', 'peak', 'cheater', 'husband', 'get', 'back', 'line', 'go', 'entir', 'process', 'ballpoint', 'pen', 'retriev', 'car', 'ballot', 'done', 'felt', 'tip', 'pen', 'reject'])\n",
            " list(['went', 'lodg', 'cathedr', 'pine', 'colorado', 'spring', 'vote', 'person', 'pen', 'provid', 'felt', 'tip', 'basic', 'sharpi', 'way', 'adjud', 'vote', 'use', 'pen', 'son', 'took', 'pictur'])\n",
            " list(['made', 'use', 'felt', 'tip', 'marker', 'pen', 'let', 'use', 'ballpoint', 'black', 'pen'])\n",
            " list(['signag', 'school', 'front', 'entranc', 'signag', 'door', 'enter', 'school', 'vote', 'sign', 'rear', 'entranc', 'school', 'main', 'road', 'vote', 'year', 'primari', 'gener', 'elect', 'never', 'seen', 'lack', 'signag', 'alway', 'vote', 'would', 'never', 'know', 'door', 'go', 'vote'])\n",
            " list(['went', 'vote', 'one', 'counti', 'earli', 'vote', 'locat', 'today', 'check', 'iphon', 'set', 'walk', 'door', 'poll', 'place', 'found', 'least', 'wifi', 'connect'])\n",
            " list(['voter', 'suppress', 'issu'])\n",
            " list(['husband', 'vote', 'person', 'receiv', 'three', 'ballot', 'mail', 'afterward', 'third', 'ballot', 'alreadi', 'sent', 'first', 'second'])\n",
            " list(['sampl', 'ballot', 'mi', 'so', 'gov', 'match', 'order', 'candid', 'list', 'govenor', 'actual', 'ballot', 'vote', 'saldano', 'list', 'last', 'sampl', 'third', 'actual', 'paper', 'ballot', 'make', 'wonder', 'machin', 'program', 'record', 'vote', 'attach', 'sampl', 'ballot', 'devic', 'take', 'photo', 'actual', 'paper', 'ballot'])\n",
            " list(['threw', 'away', 'son', 'mail', 'gabriel', 'morri', 'address', 'bernadett', 'move', 'state'])\n",
            " list(['hello', 'check', 'ballot', 'list', 'vote', 'elect', 'day', 'sure', 'like', 'rais', 'red', 'flag', 'want', 'report'])\n",
            " list(['poll', 'locat', 'glendal', 'commun', 'colleg', 'preprint', 'paper', 'ballot', 'avail', 'blank', 'paper', 'ballot', 'wrap', 'plastic', 'show', 'one', 'els', 'request', 'husband', 'want', 'use', 'dominion', 'machin', 'issu', 'primari', 'march', 'today', 'end', 'fill', 'mail', 'ballot', 'instead', 'realli', 'want', 'figur', 'less', 'like', 'go', 'adjud', 'walk', 'specif', 'told', 'poll', 'worker', 'want', 'use', 'dominion', 'machin', 'want', 'preprint', 'paper', 'ballot', 'husband', 'check', 'given', 'paper', 'dominion', 'machin', 'check', 'stop', 'sign', 'confirm', 'ipad', 'repeat', 'want', 'use', 'machin', 'remind', 'poll', 'worker', 'told', 'ahead', 'time', 'want', 'machin', 'ask', 'would', 'prompt', 'vote', 'go', 'adjud', 'poll', 'worker', 'assur', 'us', 'cancel', 'check', 'void', 'trust', 'reassur', 'glendal', 'commun', 'colleg', 'student', 'center', 'confer', 'room', 'n', 'verdugo', 'rd', 'glendal', 'ca'])\n",
            " list(['pictur', 'taken', 'poll', 'worker', 'exit', 'poll', 'locat', 'chandler', 'unifi', 'methodist', 'church', 'e', 'chandler', 'height', 'rd', 'chandler', 'az'])\n",
            " list(['issu', 'voter', 'use', 'counti', 'approv', 'pentel', 'marker', 'ballot', 'smear', 'tabul', 'machin', 'machin', 'spit', 'smear', 'ballot', 'worker', 'spoil', 'ballot', 'gave', 'voter', 'ballpoint', 'pen', 'new', 'ballot', 'happen', 'time', 'poll', 'place', 'poll', 'site', 'triniti', 'bibl', 'church', 'sun', 'citi', 'west', 'poll', 'watcher', 'take', 'pictur'])\n",
            " list(['somerset', 'borough', 'southwest', 'ward', 'district', 'poll', 'place', 'move', 'high', 'school', 'field', 'hous', 'somerset', 'senior', 'center', 'shown', 'map'])\n",
            " list(['pinal', 'counti', 'republican', 'ballot', 'precinct', 'oracl', 'az', 'told', 'could', 'wait', 'ballot', 'vote', 'one', 'machin', 'vote', 'democrat', 'wait', 'vote', 'machin', 'everyon', 'els', 'fix'])\n",
            " list(['poll', 'worker', 'pima', 'counti', 'az', 'past', 'elect', 'notic', 'anomali', 'know', 'anyth', 'number', 'match', 'accord', 'pima', 'counti', 'elect', 'result', 'http', 'result', 'arizona', 'vote', 'featur', 'regist', 'voter', 'howev', 'day', 'prior', 'nov', 'e', 'poll', 'book', 'said', 'regist', 'voter', 'know', 'read', 'much', 'elect', 'right', 'mani', 'way', 'also', 'poll', 'worker', 'handbook', 'state', 'legislatur', 'updat', 'b', 'amend', 'r', 'allow', 'voter', 'receiv', 'earli', 'ballot', 'issu', 'elect', 'day', 'ballot', 'counti', 'use', 'e', 'poll', 'book', 'appar', 'upload', 'one', 'photo', 'coupl', 'add', 'contact'])\n",
            " list(['voter', 'brought', 'back', 'ballot', 'said', 'alreadi', 'fill', 'gave', 'har', 'new', 'ballot', 'put', 'ballot', 'area', 'behind', 'could', 'get', 'photo'])\n",
            " list(['regist', 'pnd', 'request', 'republican', 'ballot', 'ask', 'use', 'express', 'vote', 'machin', 'later', 'today', 'got', 'home', 'check', 'ballot', 'print', 'photo', 'given', 'wrong', 'state', 'leg', 'district', 'candid', 'suppos', 'given', 'candid', 'vote', 'redeem', 'lutheran', 'vote', 'center', 'tucson', 'silverbel', 'rd'])\n",
            " list(['earli', 'vote', 'arlington', 'virginia', 'month', 'earli'])\n",
            " list(['vote', 'happi', 'trail', 'resort', 'surpris', 'az', 'pm', 'first', 'gave', 'us', 'sharpi', 'type', 'marker', 'use', 'told', 'us', 'fill', 'top', 'rectangular', 'box', 'top', 'ballot', 'machin', 'would', 'read', 'ballot', 'notic', 'put', 'ballot', 'neither', 'green', 'red', 'light', 'lit', 'said', 'toner', 'printer', 'low', 'fill', 'box', 'photo', 'evid', 'pleas', 'call', 'email', 'thank'])\n",
            " list(['printer', 'abl', 'print', 'ballot', 'use', 'express', 'vote', 'machin', 'clunki', 'touch', 'screen'])\n",
            " list(['poll', 'place', 'open', 'time', 'state', 'open', 'later', 'around', 'sure', 'issu', 'even', 'issu'])\n",
            " list(['poll', 'locat', 'n', 'power', 'rd', 'mesa', 'voter', 'report', 'ballot', 'read', 'machin', 'told', 'machin', 'still', 'warm', 'drop', 'ballot', 'drop', 'box'])\n",
            " list(['thu', 'afternoon', 'around', 'pm', 'arizona', 'time', 'two', 'individu', 'park', 'lot', 'vote', 'facil', 'w', 'boswel', 'blvd', 'sun', 'citi', 'arizona', 'one', 'hand', 'candid', 'flyer', 'one', 'wear', 'candid', 'campaign', 'shirt'])\n",
            " list(['hope', 'fall', 'categori', 'live', 'polk', 'counti', 'iowa', 'initi', 'volunt', 'poll', 'helper', 'see', 'expect', 'person', 'help', 'pm', 'th', 'decid', 'neuropathi', 'feet', 'go', 'allow', 'mani', 'hour', 'feet', 'area', 'like', 'want', 'help', 'put', 'long', 'day', 'like', 'wonder', 'get', 'much', 'help', 'almost', 'like', 'want', 'way'])\n",
            " list(['father', 'pass', 'away', 'octob', 'never', 'receiv', 'mail', 'signup', 'democrat', 'parti', 'year', 'receiv', 'mail', 'week', 'ago', 'vote', 'mail', 'less', 'year', 'pass', 'away'])\n",
            " list(['check', 'wifi', 'side', 'got', 'noth', 'insid', 'numer', 'wifi', 'pop', 'wife', 'vote', 'machin', 'net', 'gear', 'show', 'wifi'])\n",
            " list(['went', 'earli', 'poll', 'site', 'mount', 'sinai', 'told', 'poll', 'worker', 'would', 'remov', 'shirt', 'turn', 'insid', 'shirt', 'said', 'trump', 'girl', 'trump', 'ballot', 'therefor', 'violat', 'anyth', 'person', 'went', 'back', 'forth', 'record', 'absolut', 'unaccept', 'unabl', 'post', 'video', 'second', 'feel', 'free', 'get', 'back', 'share'])\n",
            " list(['wife', 'upon', 'check', 'told', 'get', 'ballot', 'wife', 'gave', 'id', 'worker', 'put', 'ballot', 'comput', 'wife', 'sign', 'name', 'comput', 'tablet', 'worker', 'alreadi', 'ballot', 'next', 'place', 'wife', 'ballot', 'next', 'one', 'alreadi', 'wife', 'finish', 'sign', 'worker', 'pick', 'ballot', 'along', 'wife', 'ballot', 'pick', 'ballot', 'rais', 'fan', 'say', 'hot', 'anoth', 'worker', 'came', 'worker', 'help', 'wife', 'gave', 'ballot', 'along', 'wife', 'worker', 'came', 'told', 'worker', 'take', 'put', 'red', 'box', 'wife', 'like', 'mine', 'worker', 'point', 'get', 'anoth', 'ballot', 'take', 'vote', 'booth', 'basic', 'second', 'ballot', 'wife', 'got', 'get', 'ran', 'thru', 'comput', 'check', 'first', 'one', 'one', 'check', 'wife', 'ballot', 'temper'])\n",
            " list(['blue', 'ball', 'point', 'pen', 'use', 'deni', 'tabul'])\n",
            " list(['co', 'man', 'bust', 'tamper', 'vote', 'machin', 'allegedli', 'insert', 'usb', 'flash', 'drive', 'vote', 'machin'])\n",
            " list(['told', 'wait', 'put', 'ballot', 'machin', 'use', 'blue', 'pen', 'instead', 'black', 'marker', 'gave', 'would', 'vote', 'machin', 'record'])\n",
            " list(['wife', 'went', 'thru', 'poll', 'observ', 'train', 'concern', 'observ', 'chain', 'custod', 'ballot', 'zip', 'drive'])\n",
            " list(['said', 'protect', 'count', 'machin', 'open', 'said', 'test', 'report', 'zero'])\n",
            " list(['wi', 'fi', 'network', 'morgan', 'counti', 'indiana', 'govern', 'offic', 'voter', 'registr', 'offic', 'titl', 'poll', 'book', 'light', 'happen', 'state', 'pennsylvania', 'wisconsin', 'arizona', 'georgia', 'elect', 'seem', 'fishi', 'talk', 'woman', 'name', 'tammi', 'assist', 'director', 'morgan', 'counti', 'indiana', 'voter', 'registr', 'offic'])\n",
            " list(['went', 'el', 'paso', 'counti', 'servic', 'build', 'saw', 'bunch', 'mail', 'ballot', 'sit', 'usp', 'box'])\n",
            " list(['receiv', 'two', 'ballot', 'even', 'know', 'peopl', 'move', 'month', 'ago', 'previou', 'owner', 'whoever', 'know', 'deviou', 'cheater', 'like', 'lot', 'peopl', 'could', 'fill', 'ballo', 'anyway', 'want', 'send', 'would', 'ridicul'])\n",
            " list(['poll', 'worker', 'stand', 'dominion', 'scanner', 'voter', 'insert', 'ballot', 'ballot', 'insert', 'face', 'side', 'insert', 'face', 'side', 'poll', 'work', 'see', 'person', 'vote', 'happen', 'secret', 'ballot'])\n",
            " list(['vote', 'machin', 'chang', 'select', 'candid', 'redo', 'success', 'happen', 'johnson', 'counti', 'earli', 'vote', 'also', 'happen', 'park', 'citi', 'sedgwick', 'counti', 'earli', 'vote', 'prior', 'elect', 'day'])\n",
            " list(['verizon', 'mifi', 'internet', 'hotspot', 'poll', 'place', 'attach', 'photo', 'show', 'avail', 'wifi', 'network', 'insid', 'build'])\n",
            " list(['receiv', 'mail', 'thu', 'sep', 'never', 'heard', 'own', 'address', 'year'])\n",
            " list(['frank', 'elementari', 'spring', 'issu', 'get', 'go', 'last', 'year', 'morn', 'get', 'tabul', 'work', 'call', 'tech', 'support', 'answer', 'say', 'machin', 'stop', 'work', 'supervisor', 'tri', 'call', 'answer', 'number', 'support'])\n",
            " list(['got', 'done', 'earli', 'vote', 'know', 'back', 'time', 'person', 'clerk', 'told', 'seal', 'envelop', 'tape', 'shut', 'seal', 'anyway', 'nobodi', 'could', 'tamper', 'vote'])\n",
            " list(['brought', 'blue', 'ballpoint', 'ink', 'pen', 'push', 'pentel', 'marker', 'pretti', 'hard', 'two', 'peopl', 'tri', 'get', 'use', 'pen', 'instead', 'refus', 'use'])\n",
            " list(['receiv', 'unsolicit', 'mail', 'ballot', 'surpris', 'az', 'fact', 'regist', 'vote', 'dmv', 'expressli', 'ask', 'sent', 'mail', 'ballot', 'ever'])\n",
            " list(['hawaii', 'counti', 'ballot', 'interest', 'tidbit', 'primari', 'elect', 'nearli', 'ballot', 'receiv', 'counti', 'clerk', 'pm', 'august', 'th', 'could', 'count', 'pat', 'nakamoto', 'said', 'hawaii', 'counti', 'receiv', 'late', 'ballot', 'ballot', 'signatur', 'verif', 'verifi', 'area', 'tradit', 'see', 'larg', 'voter', 'turnout', 'also', 'interest', 'race', 'e', 'g', 'mayor', 'race', 'saw', 'highest', 'vbm', 'increas', 'kailua', 'kona', 'holualoa', 'kalaoa', 'honokohau', 'increas', 'north', 'kona', 'north', 'kohala', 'south', 'kohala', 'increas', 'naalehu', 'ocean', 'view', 'capt', 'cook', 'kealakekua', 'kailua', 'kona', 'hamakua', 'north', 'hilo', 'south', 'hilo'])\n",
            " list(['ballot', 'scanner', 'one', 'broken', 'reject', 'half', 'ballot', 'poll', 'worker', 'open', 'broken', 'scanner', 'told', 'everyon', 'want', 'wait', 'could', 'put', 'ballot', 'would', 'taken', 'phoenix', 'count', 'lot', 'voter'])\n",
            " list(['receiv', 'text', 'offer', 'money', 'collect', 'vote', 'democrat', 'week'])\n",
            " list(['southern', 'border']) list(['legisl', 'district', 'ballot'])\n",
            " list(['fill', 'ballot', 'nov', 'th', 'refus', 'put', 'machin', 'would', 'like', 'insist', 'ballot', 'hand', 'count'])\n",
            " list(['id', 'request', 'get', 'ballot', 'demand', 'spoil', 'mail', 'ballot', 'vote', 'center', 'paper', 'jam', 'ballot', 'demand', 'printer', 'printer', 'use', 'error', 'ballot', 'imag', 'complet', 'mi', 'orient', 'printer', 'hap', 'day', 'accord', 'poll', 'worker', 'resolut', 'time', 'pm', 'pst'])\n",
            " list(['wi', 'fi'])\n",
            " list(['went', 'search', 'local', 'poll', 'locat', 'went', 'harri', 'counti', 'site', 'map', 'show', 'locat', 'south', 'beltway', 'locat', 'map', 'went', 'search', 'bar', 'though', 'search', 'bar', 'keyboard', 'show', 'could', 'enter', 'address', 'abl', 'download', 'pdf', 'show', 'locat', 'found', 'one', 'look', 'plu', 'locat', 'needless', 'say', 'other', 'tech', 'savvi', 'may', 'given', 'without', 'find', 'locat', 'day', 'age', 'technolog', 'hard', 'find', 'poll', 'locat', 'websit', 'need', 'fix'])\n",
            " list(['machin', 'malfunct'])\n",
            " list(['dad', 'hous', 'regist', 'democrat', 'man', 'came', 'endors', 'beto', 'rourk', 'dad', 'plan', 'vote', 'mail', 'man', 'told', 'dad', 'go', 'get', 'two', 'ballot'])\n",
            " list(['young', 'ladi', 'small', 'child', 'seen', 'drop', 'five', 'ballot', 'hand', 'young', 'child', 'took', 'pictur', 'child', 'insert', 'drop', 'box'])\n",
            " list(['friend', 'mine', 'went', 'vote', 'around', 'pm', 'n', 'camino', 'de', 'oest', 'vote', 'center', 'pima', 'counti', 'took', 'minut', 'total', 'friend', 'took', 'minut', 'took', 'friend', 'longer', 'go', 'differ', 'step', 'get', 'ballot', 'folder', 'given', 'contain', 'ballot', 'pink', 'differ', 'everyon', 'els', 'room', 'made', 'turn', 'differ', 'area', 'box', 'rest', 'us', 'turn', 'told', 'commerci', 'driver', 'licens', 'got', 'ballot', 'ran', 'ballot', 'machin', 'start', 'malfunct', 'wait', 'friend', 'sat', 'step', 'insid', 'left', 'entri', 'door', 'sat', 'watch', 'peopl', 'tri', 'get', 'machin', 'work', 'woman', 'volunt', 'sit', 'stage', 'mention', 'issu', 'machin', 'day', 'three', 'young', 'hispan', 'men', 'came', 'heard', 'one', 'say', 'never', 'vote', 'volunt', 'regist', 'wait', 'vote', 'volunt', 'sit', 'told', 'regist', 'peopl', 'allow', 'vote', 'day', 'mention', 'suppos', 'figur', 'count', 'vote', 'time', 'signific', 'line', 'door', 'lot', 'chao', 'confus', 'peopl', 'get', 'frustrat', 'peopl', 'indic', 'thay', 'stick', 'around', 'much', 'longer', 'one', 'woman', 'upset', 'alreadi', 'sign', 'given', 'ballot', 'leav', 'soon', 'pick', 'child', 'friend', 'walk', 'toward', 'femal', 'volunt', 'cut', 'stood', 'tell', 'need', 'leav', 'immedi', 'irrit', 'tone', 'way', 'say', 'anyth', 'watch', 'wait', 'friend', 'everyth', 'go', 'peopl', 'get', 'realli', 'upset', 'found', 'odd', 'cross', 'entir', 'room', 'tell', 'leav', 'taken', 'time', 'explain', 'peopl', 'line', 'minut', 'go', 'machin', 'still', 'work', 'time', 'left'])\n",
            " list(['receiv', 'ballot', 'receiv', 'letter', 'state', 'ballot', 'return', 'still', 'origin', 'ballot', 'smell', 'like', 'fraud'])\n",
            " list(['vehicl', 'park', 'outsid', 'poll', 'station'])\n",
            " list(['arriv', 'sun', 'citi', 'poll', 'locat', 'radiant', 'church', 'line', 'get', 'ballot', 'hour', 'long', 'wait', 'poll', 'worker', 'came', 'tell', 'us', 'issu', 'tabul', 'one', 'two', 'onsit', 'work', 'told', 'could', 'wait', 'go', 'anoth', 'poll', 'locat', 'leav', 'cast', 'vote', 'insid', 'given', 'ballot', 'complet', 'got', 'line', 'cast', 'ballot', 'voter', 'deep', 'tabul', 'left', 'kick', 'everi', 'ballot', 'told', 'could', 'place', 'ballot', 'door', 'would', 'tabul', 'later', 'refus', 'wait', 'use', 'tabul', 'left', 'seem', 'reject', 'everi', 'ballot', 'rd', 'attempt', 'tabul', 'appear', 'read', 'ballot', 'print', 'receipt', 'keep', 'mind', 'arriv', 'poll', 'locat', 'around', 'imagin', 'like', 'voter', 'tri', 'cast', 'ballot', 'later', 'afternoon', 'work'])\n",
            " list(['hello', 'work'])\n",
            " list(['vote', 'precinct', 'write', 'candid', 'district', 'way', 'machin', 'set', 'abl', 'accid', 'trigger', 'candid', 'allow', 'vote', 'show', 'go', 'report', 'so', 'want', 'know', 'option', 'app', 'see', 'categori', 'machin', 'issu'])\n",
            " list(['name', 'unrequest', 'mail', 'ballot', 'odd'])\n",
            " list(['receiv', 'two', 'applic', 'mail', 'ballot', 'indiana', 'republican', 'state', 'committe', 'elect', 'board', 'request'])\n",
            " list(['mobil', 'voter', 'registr', 'van', 'oregon', 'sure', 'illeg', 'trust', 'madison', 'play', 'rule', 'sent', 'someon', 'live', 'oregon'])\n",
            " list(['poll', 'locat', 'hr', 'mccall', 'elementari', 'school', 'lake', 'counti', 'il', 'sharpi', 'avail', 'call', 'elect', 'integr', 'hotlin', 'report', 'told', 'get', 'lot', 'call', 'today', 'okay', 'use', 'sharpi'])\n",
            " list(['perman', 'sharpi', 'like', 'marker', 'provid', 'fill', 'ballot'])\n",
            " list(['fed', 'ballot', 'machin', 'indic', 'jam', 'wait', 'minut', 'worker', 'could', 'clear', 'jam', 'confid', 'vote', 'tabul', 'properli'])\n",
            " list(['drop', 'box', 'monitor', 'cc', 'camera', 'citi', 'staff', 'watch'])\n",
            " list(['visibl', 'surveil', 'drop', 'box', 'also', 'somewhat', 'conceal', 'locat'])\n",
            " list(['support', 'issu'])\n",
            " list(['drop', 'box', 'pa', 'http', 'www', 'vote', 'org', 'node'])\n",
            " list(['comput', 'live', 'ballot', 'need', 'put', 'envelop'])\n",
            " list(['resid', 'arriv', 'vote', 'poll', 'place', 'windsor', 'connecticut', 'ask', 'street', 'name', 'provid', 'hold', 'driver', 'licens', 'attempt', 'show', 'told', 'connecticut', 'need', 'show', 'identif', 'correct', 'poll', 'worker', 'anoth', 'district', 'town', 'today', 'brought', 'attent', 'republican', 'registrar', 'voter', 'horrifi'])\n",
            " list(['get', 'sm', 'messag', 'variou', 'odd', 'number', 'ask', 'request', 'absente', 'ballot', 'heck', 'would', 'ever', 'need', 'absente', 'ballot', 'plan', 'show', 'person', 'seem', 'shadi', 'kind', 'scam'])\n",
            " list(['complet', 'ballot', 'machin', 'took', 'print', 'ballot', 'scanner', 'ask', 'worker', 'run', 'scanner', 'side', 'put', 'face', 'scanner', 'said', 'print', 'side', 'scanner', 'reciev', 'ballot', 'worker', 'said', 'well', 'think', 'print', 'side', 'tell', 'peopl', 'ad', 'wish', 'knew', 'repli', 'would', 'like', 'know', 'given', 'differ', 'answer', 'past', 'elect'])\n",
            " list(['ballot', 'reject', 'fix', 'fianc', 'e', 'ballot', 'fill', 'blue', 'ink', 'repeatedli', 'reject', 'machin', 'although', 'mine', 'also', 'blue', 'ink', 'accept', 'machin', 'color', 'circl', 'blue', 'pen', 'case', 'blue', 'ink', 'issu', 'also', 'poll', 'worker', 'suggest', 'use', 'suppli', 'black', 'felt', 'tip', 'darken', 'squar', 'edg', 'ballot', 'form', 'squar', 'side', 'pretti', 'fade', 'might', 'caus', 'tabul', 'reject', 'ballot', 'form', 'invalid', 'regardless', 'ink', 'voter', 'use', 'basic', 'fade', 'printout', 'form', 'ballot', 'accept', 'machin', 'sure', 'solut', 'solv', 'issu', 'recommend', 'darken', 'squar', 'edg', 'form', 'ballot', 'accept'])\n",
            " list(['told', 'wave', 'ballot', 'air', 'till', 'thought', 'dri', 'give', 'time', 'bleed'])\n",
            " list(['cat', 'request', 'ballot', 'thank', 'facebook', 'pass', 'around', 'erron', 'ballot'])\n",
            " list(['voter', 'came', 'vote', 'person', 'drop', 'ballot', 'mother', 'dian', 'inspector', 'said', 'fine', 'drop', 'mother', 'liberti', 'school', 'district'])\n",
            " list(['receiv', 'mail', 'ballot', 'ask'])\n",
            " list(['peopl', 'told', 'glitch', 'n', 'system', 'gave', 'affadavid', 'ballot', 'told', 'come', 'back', 'csme', 'back', 'tri', 'vote', 'said', 'alreadi', 'vote', 'never', 'hand', 'affadavid', 'ballot', 'th', 'happen', 'district', 'queen', 'ny', 'voter', 'name', 'frank', 'russo', 'wife'])\n",
            " list(['ballot', 'tabul', 'work', 'precinct', 'number', 'calhoun', 'counti', 'michigan'])\n",
            " list(['scanner', 'geronimo', 'commun', 'center', 'locat', 'work', 'upon', 'open', 'poll', 'number', 'ballot', 'process', 'default', 'emerg', 'bin', 'believ', 'elect', 'judg', 'locat', 'go', 'back', 'scan', 'want', 'report', 'issu', 'case', 'issu', 'aris', 'attach', 'pic', 'wifi', 'signal', 'present', 'near', 'close', 'poll', 'day'])\n",
            " list(['forc', 'provision', 'ballot', 'vote', 'locat', 'forc', 'use', 'red', 'pen', 'extrem', 'hard', 'read', 'peopl', 'vision', 'ailmenta', 'told', 'except', 'use', 'red', 'pen', 'even', 'though', 'poll', 'locat', 'took', 'carbon', 'copi', 'happen', 'republican', 'voter', 'ask', 'multipl', 'time', 'clerk', 'anoth', 'clerk', 'supervisor', 'could', 'use', 'black', 'blue', 'pen', 'would', 'easier', 'rwad', 'write', 'told', 'clerk', 'supervisor', 'fop', 'use', 'red', 'ink', 'pen', 'seem', 'unaccess', 'suspici', 'pleas', 'feel', 'free', 'contact', 'info'])\n",
            " list(['machin', 'misread', 'ballot', 'mani', 'ballot', 'reject', 'result', 'voter', 'drop', 'ballot', 'hand', 'count', 'complet', 'anoth', 'ballot', 'face', 'issu'])\n",
            " list(['went', 'clark', 'counti', 'board', 'elect', 'request', 'cast', 'vote', 'report', 'monday', 'told', 'christin', 'casten', 'tang', 'senior', 'offic', 'specialist', 'would', 'submit', 'request', 'also', 'submit', 'applic', 'becom', 'pole', 'watcher', 'sinc', 'call', 'follow', 'time', 'told', 'work', 'mr', 'dan', 'handl', 'cvr', 'request', 'media', 'yesterday', 'final', 'call', 'sinc', 'deadlin', 'told', 'time', 'would', 'receiv', 'call', 'back', 'christin', 'cricket', 'number', 'number'])\n",
            " list(['arizona', 'secretari', 'state', 'kati', 'hobb', 'go', 'sue', 'cochis', 'counti', 'hand', 'count', 'ballot'])\n",
            " list(['contact', 'describ', 'still', 'receiv', 'voter', 'inform', 'previou', 'owner', 'hous', 'son', 'told', 'saw', 'anoth', 'letter', 'person', 'cover', 'vote', 'histori', 'said', 'vote', 'address', 'live', 'year', 'unfortun', 'son', 'threw', 'letter', 'away', 'yesterday', 'trash', 'pickup', 'document', 'hope', 'anoth', 'way', 'verifi', 'inform', 'accur'])\n",
            " list(['updat', 'extens', 'cord', 'malfunct', 'p', 'reboot', 'comput', 'printer', 'equip', 'function', 'properli', 'windi', 'crow', 'poll', 'watcher'])\n",
            " list(['receiv', 'multipl', 'ballot', 'variou', 'peopl', 'address'])\n",
            " list(['illeg', 'pac', 'attack', 'queen', 'creek', 'school', 'board', 'candid', 'jame', 'knox'])\n",
            " list(['candid', 'insid', 'ft', 'limit', 'line', 'solicit', 'vote'])\n",
            " list(['metro', 'council', 'member', 'school', 'board', 'member', 'appear', 'ballot', 'precinct', 'jefferson', 'counti', 'louisvil', 'ky'])\n",
            " list(['actual', 'wit', 'fraud', 'howev', 'would', 'like', 'make', 'known', 'sure', 'fraud', 'happen', 'futur', 'type', 'issu', 'go', 'went', 'vote', 'dearborn', 'height', 'michigan', 'primari', 'seen', 'ballot', 'box', 'camera', 'suppos', 'point', 'point', 'dead', 'concret', 'pole', 'instead', 'dropbox', 'john', 'f', 'kennedi', 'junior', 'librari', 'dearborn', 'height', 'michigan', 'van', 'born', 'rd'])\n",
            " list(['maricopa', 'counti', 'verifi', 'vote', 'elect', 'day', 'walk', 'vote', 'poll', 'place'])\n",
            " list(['open', 'network']) list(['receiv', 'mail', 'ballot', 'request'])\n",
            " list(['get', 'clariti', 'issu', 'mani', 'physic', 'ballot', 'one', 'allow', 'law', 'california', 'put', 'one', 'drop', 'box', 'tset', 'minut', 'car', 'next', 'one', 'san', 'vicent', 'blvd', 'lo', 'angel', 'brentwood', 'neighborhood', 'least', 'everi', 'dozen', 'peopl', 'saw', 'ballot', 'saw', 'idea', 'legal', 'seem', 'moral', 'wrong', 'regardless', 'tom', 'carver'])\n",
            " list(['still', 'use', 'sharpi', 'site', 'mark', 'ballot', 'signatur', 'verif', 'process', 'realli', 'robust', 'paper', 'receipt', 'provid', 'voter', 'work', 'opportun', 'incom', 'state', 'legislatur', 'turnout', 'excel', 'give', 'hope', 'futur', 'arizona', 'america'])\n",
            " list(['use', 'name', 'felt', 'tip', 'marker', 'pen', 'thought', 'also', 'idea', 'whose', 'ballot', 'whose', 'whole', 'experi', 'seem', 'like', 'design', 'confus', 'zero', 'faith', 'system', 'poll', 'worker', 'confus', 'top', 'confus', 'use', 'dam', 'machin'])\n",
            " list(['right', 'arriv', 'begin', 'poll', 'watch', 'civic', 'center', 'rd', 'st', 'truth', 'consequ', 'nm', 'sat', 'mr', 'bobbi', 'lucreo', 'ask', 'republican', 'repli', 'ye', 'voter', 'hand', 'felt', 'tip', 'pen', 'guy', 'head', 'test', 'machin', 'octob', 'th', 'arriv', 'p', 'went', 'wit', 'test', 'ask', 'watcher', 'soon', 'reach', 'ballot', 'print', 'machin', 'pull', 'silver', 'cord', 'connector', 'connect', 'one', 'phone', 'left', 'min', 'also', 'went', 'dominion', 'machin', 'look', 'someth', 'later', 'unhook', 'cord', 'phone', 'connect', 'one', 'cord', 'anoth', 'phone', 'like', 'devic', 'remain', 'connect', 'phone', 'place', 'second', 'devic', 'top', 'min', 'disconnect', 'place', 'pocket', 'left', 'know', 'wonder', 'still', 'earli', 'conduct', 'work', 'want', 'know', 'thank', 'provid', 'person', 'detail', 'necessari', 'tri', 'enter', 'night', 'app', 'would', 'take', 'info'])\n",
            " list(['precinct', 'ran', 'ballad', 'apach', 'junction', 'pinal', 'counti', 'watch', 'turn', 'away', 'republican', 'voter', 'republican', 'ballot', 'pinal', 'counti', 'offici', 'show', 'addit', 'ballot', 'said', 'back', 'hour', 'mayb'])\n",
            " list(['so', 'websit', 'conflict', 'vote', 'count', 'conflict', 'ballot', 'count'])\n",
            " list(['first', 'time', 'ever', 'vote', 'person', 'scan', 'driver', 'licens', 'comput', 'pop', 'correct', 'info', 'verifi', 'sign', 'signatur', 'screen', 'enter', 'state', 'recogn', 'poll', 'worker', 'came', 'look', 'driver', 'licens', 'use', 'badg', 'scan', 'told', 'get', 'ballot', 'saw', 'happen', 'quit', 'voter', 'thought', 'odd', 'info', 'show', 'recogn', 'seem', 'wrong'])\n",
            " list(['receiv', 'flyer', 'request', 'absente', 'ballot', 'main', 'return', 'address', 'alexandria', 'va'])\n",
            " list(['notic', 'one', 'poll', 'worker', 'mark', 'receipt', 'slide', 'finger', 'nail', 'receipt', 'walk', 'poll', 'worker', 'gave', 'name', 'start', 'spell', 'name', 'said', 'id', 'ballot', 'interrupt', 'spell', 'name', 'fill', 'name', 'flip', 'ipad', 'sign', 'receipt', 'print', 'made', 'mark', 'receipt', 'finger', 'nail', 'across', 'receipt', 'believ', 'top', 'right', 'bottom', 'left', 'receipt', 'might', 'top', 'left', 'bottom', 'right', 'cross', 'receipt', 'top', 'bottom', 'saw', 'peopl', 'other', 'sure', 'see', 'line', 'receipt', 'video', 'attach', 'kinda', 'see', 'action', 'side', 'note', 'let', 'finish', 'go', 'say', 'think', 'might', 'thrown', 'ask', 'id', 'two', 'peopl', 'ahead', 'get', 'treat', 'hope', 'help', 'thank'])\n",
            " list(['vote', 'ben', 'account', 'even', 'though', 'use', 'avd', 'an', 'also', 'cure', 'ballot', 'deadlin'])\n",
            " list(['marker', 'pen', 'use', 'bought', 'pen', 'poll', 'worker', 'place', 'desk', 'said', 'use'])\n",
            " list(['husband', 'vote', 'grantvil', 'commun', 'build', 'morn', 'ballot', 'machin', 'report', 'broken', 'ballot', 'collect', 'put', 'folder', 'peopl', 'work', 'said', 'would', 'scan', 'ballot', 'new', 'machin', 'arriv', 'never', 'happen', 'small', 'littl', 'town', 'concern'])\n",
            " list(['ballot', 'box', 'volunt', 'watch', 'ballot', 'box', 'make', 'sure', 'elect', 'stolen', 'notic', 'surveil', 'camera', 'west', 'wigwam', 'boulevard', 'litchfield', 'park', 'arizona', 'locat', 'spoke', 'terri', 'roth', 'citi', 'clerk', 'said', 'counti', 'record', 'respons', 'reciev', 'elect', 'train', 'unawar', 'surveil', 'camera', 'requir', 'law', 'ballot', 'box', 'locat', 'camera', 'surveil', 'concern', 'numer', 'locat', 'well', 'surveil', 'camera', 'pleas', 'address', 'issu', 'turn', 'anoth', 'major', 'issu', 'also', 'shock', 'camera', 'someon', 'watch', 'accord', 'law', 'make', 'sure', 'ballot', 'harvest', 'thank'])\n",
            " list(['spoil', 'ballot', 'whole', 'counti', 'sampl', 'ballot', 'write', 'bubbl', 'retain', 'judg', 'flip', 'order'])\n",
            " list(['counti', 'registrar', 'voter', 'riversid', 'accident', 'say', 'mail', 'duplic', 'mail', 'ballot'])\n",
            " list(['kingman', 'poll', 'booth', 'equip', 'felt', 'tip', 'marker', 'wife', 'question', 'poll', 'worker', 'ball', 'point', 'pen', 'soon', 'question', 'place', 'ball', 'point', 'pen', 'booth', 'worker', 'said', 'peopl', 'choic', 'felt', 'tip', 'pen', 'print', 'say', 'offici', 'voter', 'pen', 'one', 'pen', 'print', 'offici', 'voter', 'pen', 'gener', 'ball', 'point', 'pen', 'one', 'think', 'peopl', 'use', 'way', 'gentleman', 'complain', 'pen', 'use', 'bled', 'worker', 'tri', 'hush', 'say', 'ok', 'allot', 'like', 'read', 'machin', 'fine'])\n",
            " list(['chang', 'statu', 'person', 'get', 'email', 'ballot', 'mail', 'know'])\n",
            " list(['ballot', 'misread', 'includ', 'mine', 'tabul', 'bt', 'bt', 'happi', 'trail', 'surpris', 'az'])\n",
            " list(['vote', 'poll', 'worker', 'phone', 'say', 'could', 'unplug', 'printer', 'machin', 'voter', 'booth', 'find', 'suspici', 'unprofession', 'poll', 'worker', 'unit', 'state', 'america', 'thank', 'votifynow', 'app'])\n",
            " list(['morn', 'aug', 'peoria', 'arizona', 'journey', 'church', 'locat', 'issu', 'ballot', 'go', 'scanner', 'due', 'improp', 'print', 'poll', 'worker', 'advis', 'voter', 'util', 'drop', 'box', 'instead', 'marker', 'given', 'pen', 'mark', 'vote', 'candid', 'sever', 'angri', 'frustrat', 'voter'])\n",
            " list(['regist', 'vote']) list(['give', 'sharpi'])\n",
            " list(['thursday', 'novemb', 'told', 'could', 'take', 'pictur', 'ballot', 'said', 'could', 'promptli', 'threaten', 'sheriff', 'walk', 'build', 'ballot', 'research', 'found', 'injunct', 'issu', 'august', 'allow', 'pictur', 'person', 'ballot', 'feder', 'court', 'judg', 'atlanta', 'email', 'su', 'parti', 'still', 'effect', 'said', 'counti', 'ignor', 'injunct', 'judg', 'site', 'freedom', 'speech'])\n",
            " list(['central', 'christian', 'church', 'locat', 'use', 'exclus', 'black', 'pen', 'voter', 'sure', 'bleed'])\n",
            " list(['rear', 'door', 'soe', 'tabul', 'center', 'left', 'open', 'least', 'minut', 'secur', 'concern', 'concern', 'k', 'unopen', 'vbm', 'ballot', 'insid', 'god', 'bless', 'america'])\n",
            " list(['wife', 'list', 'regist', 'voter', 'vote', 'locat', 'pa', 'year', 'home', 'sinc', 'accept', 'fill', 'ballet', 'second', 'person', 'issu', 'arriv', 'happen', 'less', 'peopl', 'vote'])\n",
            " list(['dougla', 'co', 'ga', 'poll', 'watcher', 'saturday', 'show', 'courthous', 'poll', 'watcher', 'duti', 'pm', 'vote', 'count', 'vote', 'pm', 'hour', 'later', 'vote', 'count', 'vote', 'elect', 'director', 'counti', 'said', 'steadi', 'flow', 'voter', 'day', 'seem', 'like', 'time', 'mani', 'voter', 'vote', 'morn', 'let', 'count', 'poll', 'pad', 'said', 'new', 'system', 'tri', 'ga', 'counti', 'tabul', 'earli', 'vote', 'poll', 'worker', 'seem', 'nervou', 'poll', 'watcher', 'present', 'call', 'hotlin', 'report'])\n",
            " list(['put', 'complet', 'ballot', 'reader', 'kick', 'oper', 'said', 'happen', 'time', 'morn', 'precinct', 'captain', 'came', 'said', 'insert', 'went', 'poll', 'place', 'boil', 'spring', 'co', 'mmuniti', 'center', 'nc'])\n",
            " list(['googl', 'misclassifi', 'mani', 'voter', 'near', 'counti', 'line', 'gop', 'poll', 'observ', 'seen', 'ballot', 'peopl', 'upset', 'one', 'ballot', 'school', 'board', 'race', 'nine', 'school', 'board', 'district', 'wake', 'counti', 'least', 'rep', 'democrat', 'write', 'libertarian', 'green', 'yet', 'peopl', 'googl', 'classifi', 'live', 'wrong', 'counti', 'school', 'board', 'choic', 'ballot', 'choos', 'pay', 'util', 'tax', 'wake', 'counti', 'children', 'go', 'wake', 'counti', 'school', 'dmv', 'usp', 'use', 'googl', 'data', 'determin', 'address', 'person', 'go', 'great', 'length', 'updat', 'counti', 'dmv', 'live', 'town', 'call', 'fuquay', 'varina', 'eventhough', 'town', 'address', 'within', 'wake', 'counti', 'dmv', 'voter', 'registr', 'list', 'harnett', 'counti', 'physic', 'go', 'dmv', 'elect', 'show', 'tax', 'util', 'bill', 'chang', 'unawar', 'voter', 'allow', 'vote', 'earli', 'vote', 'nc', 'wake', 'counti', 'poll', 'place', 'school', 'board', 'choic', 'googl', 'kind', 'power', 'voter', 'get', 'shut', 'vote', 'local', 'elect'])\n",
            " list(['vote', 'presidenti', 'elect', 'gentleman', 'front', 'line', 'vote', 'look', 'inform', 'said', 'sir', 'alreadi', 'vote', 'look', 'puzzl', 'state', 'vote', 'mail', 'ballot', 'thought', 'odd'])\n",
            " list(['allow', 'get', 'say', 'secur', 'fbi', 'screw'])\n",
            " list(['so', 'jena', 'griswold', 'send', 'registr', 'notic', 'colorado', 'resid', 'us', 'citizen', 'say', 'go', 'send', 'anoth', 'notic', 'mistak'])\n",
            " list(['drug', 'veteran', 'lose', 'illeg', 'pay', 'illeg', 'way', 'hard', 'earn', 'money', 'crime', 'rate', 'higher'])\n",
            " list(['vote', 'machin'])\n",
            " list(['vote', 'paper', 'incumb', 'governor', 'ballot', 'multipl', 'time', 'separ', 'mani', 'voter', 'categori', 'like', 'indend', 'attach', 'copi', 'state', 'connecticut', 'vote', 'ballot'])\n",
            " list(['receiv', 'mail', 'ballot'])\n",
            " list(['peopl', 'wait', 'park', 'tell', 'poll', 'place', 'send', 'st', 'cloud', 'mn', 'mile', 'away', 'pull', 'address', 'wait', 'park', 'enter', 'mn', 'so', 'poll', 'finder', 'true', 'mostli', 'republican', 'area', 'mile', 'trip', 'vote', 'mani', 'chose', 'go', 'due', 'cost', 'drive', 'time', 'get', 'back', 'massiv', 'disenfranchis', 'so', 'websit', 'say', 'hous', 'number', 'street', 'address', 'th', 'citi', 'township', 'north', 'fork', 'twp', 'zip', 'code'])\n",
            " list(['nottingham', 'nh', 'ballot', 'would', 'feed', 'tabul', 'told', 'put', 'slot', 'side', 'tabl', 'tabul', 'sit', 'told', 'ballot', 'would', 'hand', 'count', 'given', 'offici', 'felt', 'tip', 'pen', 'use', 'see', 'bleed', 'finish', 'fill', 'ballot', 'hope', 'goe', 'well'])\n",
            " list(['approxim', 'ballot', 'run', 'tabul', 'tech', 'say', 'happen', 'everywher', 'think', 'machin', 'need', 'clean', 'think', 'felt', 'pen', 'wet', 'leav', 'smudg', 'mark', 'new', 'hotspot', 'show', 'well'])\n",
            " list(['sign', 'front', 'poll', 'locat', 'poll', 'worker', 'said', 'get', 'sign'])\n",
            " list(['help', 'son', 'get', 'absente', 'ballot', 'current', 'serv', 'us', 'marin', 'corp', 'oversea'])\n",
            " list(['fellow', 'elect', 'observ', 'austin', 'physic', 'escort', 'build', 'start', 'ask', 'question', 'cord', 'go', 'wall', 'ballot', 'machin', 'certif', 'technic', 'inform', 'machin', 'room', 'layout', 'lost', 'one', 'tech', 'savvi', 'person', 'remov', 'given', 'reason'])\n",
            " list(['mail', 'ballet', 'want', 'drop', 'get', 'work', 'one', 'poll', 'worker', 'rip', 'ballet', 'half', 'told', 'vote', 'explain', 'situat', 'even', 'volunt', 'told', 'alreadi', 'ballet', 'need', 'turn', 'upset', 'integr', 'peopl', 'day'])\n",
            " list(['live', 'retir', 'commun', 'resid', 'high', 'percentag', 'us', 'receiv', 'ballot', 'mail', 'resid', 'drive', 'mani', 'vote', 'miss', 'ballot', 'go', 'seem', 'strang', 'high', 'percentag', 'us', 'lost', 'right', 'vote'])\n",
            " list(['last', 'year', 'receiv', 'dozen', 'male', 'ballot', 'differ', 'name', 'sure', 'accid', 'longer', 'photo'])]\n",
            "[list(['know', 'poll', 'worker', 'elderli', 'peopl', 'actual', 'comput', 'went', 'poll', 'vote', 'enter', 'room', 'pick', 'ballot', 'saw', 'elderli', 'peopl', 'differ', 'comput', 'poll', 'worker', 'next', 'give', 'instruct'])\n",
            " list(['tuesday', 'oak', 'lawn', 'il', 'offer', 'sharpi', 'paper', 'ballot'])\n",
            " list(['see', 'wifi', 'connect'])\n",
            " list(['jasmin', 'skye', 'schulman', 'daughter', 'keep', 'get', 'voter', 'id', 'card', 'ballot', 'sent', 'e', 'glenrosa', 'ave', 'phoenix', 'az', 'still', 'felon', 'year', 'vote', 'right', 'restor', 'report', 'sever', 'time', 'show', 'maricopa', 'counti', 'elect', 'regist', 'voter'])\n",
            " list(['work', 'everi', 'vote', 'barcod', 'read', 'voter', 'told', 'place', 'ballot', 'box', 'walk', 'away', 'az', 'board', 'elect', 'offici', 'effort', 'fix', 'tabul', 'work', 'pima', 'counti', 'az'])\n",
            " list(['sure', 'problem', 'receiv', 'ballot', 'novemb', 'th', 'contain', 'citi', 'glendal', 'assum', 'correct', 'offici', 'mail', 'yellow', 'envelop', 'still', 'contain', 'window', 'back', 'yellow', 'envelop', 'bottom', 'right', 'glean', 'inform', 'identifi', 'detail', 'includ', 'bar', 'code', 'also', 'instead', 'show', 'republican', 'thru', 'window', 'past', 'elect', 'show', 'purpl', 'purpl', 'mean', 'thank', 'celia', 'voigt', 'ticacmv', 'protonmail', 'com', 'w', 'crest', 'ln', 'glendal', 'az'])\n",
            " list(['monument', 'commun', 'center', 'w', 'nm', 'hwi', 'monument', 'nm', 'use', 'pentel', 'felt', 'tip', 'pen', 'call', 'lea', 'co', 'clerk', 'ofc', 'spoke', 'wayn', 'cole', 'told', 'ballot', 'made', 'use', 'sharpi', 'type', 'pentel', 'felt', 'tip', 'pen', 'even', 'leak', 'sude', 'interfer', 'bubbl', 'fill', 'side', 'keep', 'see', 'info', 'social', 'media', 'use', 'sharpi', 'locat', 'got', 'app', 'download', 'pictur'])\n",
            " list(['fredonia', 'az', 'felt', 'pen', 'requir', 'see', 'bleed', 'thru', 'howev', 'attempt', 'ise', 'pencil', 'fail', 'seem', 'coat', 'paper', 'di', 'allow', 'pencil', 'use', 'thw', 'felt', 'pen', 'poll', 'worker', 'observ', 'present', 'express', 'concern', 'one', 'individu', 'gave', 'dirti', 'look', 'anoth', 'broke', 'laughter', 'aaid', 'need', 'poll', 'worker', 'observ'])\n",
            " list(['co', 'worker', 'vote', 'yet', 'vote', 'today'])\n",
            " list(['maui', 'counti', 'person', 'voter', 'given', 'affidavit', 'sign', 'prior', 'check', 'vote', 'appar', 'place', 'voter', 'roll', 'book', 'present', 'start', 'give', 'three', 'clipboard', 'time', 'line', 'peopl', 'took', 'hour', 'approxim', 'peopl', 'get', 'build', 'vote', 'seem', 'hope', 'peopl', 'would', 'turn', 'away', 'use', 'drop', 'box'])\n",
            " list(['hand', 'fill', 'ballot', 'fed', 'scanner', 'machin', 'type', 'machin', 'jam', 'minut', 'poll', 'open', 'tri', 'clear', 'jam', 'phone', 'someon', 'could', 'poll', 'worker', 'said', 'vote', 'would', 'count', 'later', 'type', 'machin', 'problem', 'multipl', 'year', 'person', 'know', 'trust', 'report', 'machin', 'use', 'imo', 'know', 'sever', 'peopl', 'line', 'person', 'verifi', 'occurr', 'reno', 'counti', 'ks', 'sumner', 'precinct'])\n",
            " list(['found', 'voter', 'voter', 'role', 'either', 'deceas', 'alia', 'name', 'voter', 'regist', 'household', 'e', 'lincoln', 'dr', 'unit', 'paradis', 'valley', 'arizona', 'mark', 'john', 'stanton', 'valid', 'name', 'alia', 'name', 'list', 'j', 'stungeviciu', 'note', 'spell', 'last', 'name', 'end', 'us', 'j', 'stungevicin', 'note', 'spell', 'last', 'name', 'end', 'ns', 'j', 'stungevicin', 'voter', 'roll', 'regist', 'year', 'old', 'found', 'death', 'certif', 'mari', 'jane', 'bermingham', 'stungeviciu', 'end', 'us', 'mark', 'john', 'stanton', 'mother', 'die', 'februari', 'inform', 'found', 'voter', 'role', 'maricopa', 'counti', 'ld', 'cheney', 'precinct'])\n",
            " list(['felt', 'tip', 'marker', 'use', 'poll', 'locat', 'canton', 'precinct'])\n",
            " list(['blue', 'marker', 'bled', 'accept', 'ballot', 'first', 'time', 'hope', 'second', 'time'])\n",
            " list(['mail', 'address', 'resid', 'home', 'year', 'ago', 'appar', 'voter', 'intimid', 'letter', 'includ', 'tabl', 'show', 'neighbor', 'vote', 'last', 'four', 'elect', 'letter', 'state', 'review', 'record', 'elect', 'determin', 'whether', 'join', 'neighbor', 'vote'])\n",
            " list(['walk', 'show', 'id', 'sign', 'voter', 'number', 'sit', 'fill', 'ballot', 'insert', 'verifi', 'ballot', 'screen', 'say', 'voter', 'number', 'ask', 'ladi', 'normal', 'someon', 'sign', 'machin', 'say', 'hold', 'pc', 'regular', 'paper', 'say', 'yah', 'absente', 'ballot', 'enter', 'go', 'back', 'normal', 'whenev', 'get', 'put', 'said', 'ok', 'whatev', 'left', 'know', 'technic', 'ballot', 'invalid', 'crock', 'know', 'absente', 'ballot', 'look', 'like', 'feel', 'like', 'look', 'like', 'ballot', 'regular', 'piec', 'paper'])\n",
            " list(['duplic', 'ballot'])\n",
            " list(['track', 'ballot', 'son', 'ballot', 'neither', 'found', 'swansea', 'massachusett', 'bristol', 'counti', 'district'])\n",
            " list(['result', 'june', 'maryland', 'gubernatori', 'primari', 'door', 'door', 'campaign', 'derbi', 'drive', 'laurel', 'md', 'could', 'find', 'hous', 'three', 'regist', 'voter', 'list'])\n",
            " list(['poll', 'pad', 'issu', 'commun', 'connect', 'printer', 'technician', 'updat', 'poll', 'pad', 'softwar'])\n",
            " list(['scanner', 'tabul', 'receipt', 'printer', 'work'])\n",
            " list(['new', 'vote', 'machin', 'town', 'larg', 'touch', 'screen', 'oppos', 'previou', 'button', 'type', 'screen', 'notic', 'suspici', 'wifi', 'network', 'appear', 'disappear', 'vote', 'booth', 'four', 'five', 'one', 'district', 'tow', 'mount', 'oliv', 'nj', 'unsecur', 'wifi', 'network', 'seemingli', 'appear', 'either', 'ticket', 'insert', 'vote', 'machin', 'vote', 'cast', 'disappear', 'wifi', 'network', 'appear', 'park', 'lot', 'booth'])\n",
            " list(['ballot', 'print', 'shine', 'phone', 'light', 'undersid', 'bottom', 'left', 'corner', 'ballot', 'mark', 'suppos', 'within', 'circular', 'target', 'order', 'ballot', 'align', 'read', 'properli', 'mark', 'center', 'outsid', 'circular', 'target', 'mark', 'mani', 'us', 'forens', 'part', 'audit', 'identifi', 'align', 'misalign', 'ballot', 'ballot', 'great', 'risk', 'adjud', 'miscalcul'])\n",
            " list(['told', 'use', 'felt', 'pen', 'instead', 'ballpoint', 'direct', 'ballot'])\n",
            " list(['saw', 'drop', 'box', 'locat', 'delawar', 'counti', 'pa', 'seem', 'huge', 'philadelphia', 'counti', 'drop', 'box', 'locat', 'see', 'websit', 'look', 'drop', 'box', 'locat', 'mail', 'ballot', 'goto', 'montco', 'pa', 'gov', 'access', 'previous', 'sent', 'info', 'mike', 'lindel', 'websit', 'coupl', 'week', 'ago', 'saw', 'lindelltv', 'great', 'access', 'legitim', 'gotta', 'trust', 'mike', 'vet', 'god', 'see', 'hold', 'everyon', 'account', 'done', 'glori', 'evil'])\n",
            " list(['husband', 'vote', 'also', 'record', 'vote', 'time', 'way'])\n",
            " list(['bill', 'gillcrest', 'town', 'sweden', 'supervisor', 'letter', 'mc', 'board', 'elect', 'sweden', 'town', 'supervisor', 'sweden', 'town', 'supervisor', 'heard', 'mani', 'well', 'town', 'staff', 'issu', 'manner', 'monro', 'counti', 'board', 'elect', 'ran', 'elect', 'process', 'sweden', 'yesterday', 'reach', 'board', 'elect', 'express', 'frustrat', 'well', 'legisl', 'ask', 'help', 'resolv', 'issu', 'resid', 'better', 'serv', 'next', 'elect', 'excerpt', 'email', 'sent', 'boe', 'earlier', 'today', 'need', 'frank', 'year', 'elect', 'process', 'sweden', 'manner', 'elect', 'handl', 'frustrat', 'embarrass', 'best', 'interest', 'serv', 'elect', 'process', 'voter', 'commun', 'center', 'vote', 'oper', 'ran', 'ballot', 'even', 'rush', 'thu', 'far', 'contact', 'sever', 'resid', 'wonder', 'allow', 'vote', 'accus', 'sweden', 'though', 'role', 'administ', 'elect', 'engag', 'grand', 'conspiraci', 'steal', 'vote', 'second', 'suni', 'poll', 'place', 'frustrat', 'mani', 'resid', 'forc', 'go', 'vote', 'first', 'time', 'well', 'public', 'unexpect', 'good', 'access', 'locat', 'poll', 'place', 'heard', 'directli', 'sever', 'resid', 'know', 'go', 'felt', 'overwhelm', 'tri', 'navig', 'way', 'place', 'realli', 'place', 'suni', 'campu', 'plu', 'distanc', 'park', 'lot', 'poll', 'place', 'present', 'signific', 'impedi', 'vote', 'particularli', 'voter', 'disabl', 'heard', 'sever', 'voter', 'imped', 'distanc', 'walk', 'travers', 'plu', 'length', 'ramp', 'must', 'surmount', 'order', 'reach', 'poll', 'place', 'understand', 'colleg', 'student', 'need', 'access', 'poll', 'place', 'disrupt', 'normal', 'long', 'establish', 'vote', 'locat', 'pattern', 'taxpay', 'year', 'round', 'resid', 'commun', 'way', 'travesti', 'student', 'typic', 'youngest', 'abl', 'bodi', 'among', 'us', 'best', 'interest', 'resid', 'pleas', 'provid', 'number', 'suni', 'student', 'actual', 'vote', 'yesterday', 'identifi', 'purpos', 'figur', 'suni', 'brockport', 'meet', 'person', 'threshold', 'set', 'new', 'law', 'would', 'think', 'abl', 'tell', 'mani', 'student', 'actual', 'vote', 'also', 'need', 'know', 'suni', 'brockport', 'campu', 'counti', 'qualifi', 'poll', 'place', 'possibl', 'larger', 'colleg', 'univers', 'monro', 'counti', 'regist', 'voter', 'campu', 'final', 'elect', 'worker', 'staf', 'town', 'hall', 'left', 'complet', 'mess', 'us', 'deal', 'assembl', 'courtroom', 'thank', 'judg', 'court', 'morn', 'usual', 'wednesday', 'none', 'court', 'furnitur', 'replac', 'room', 'left', 'disarray', 'ever', 'happen', 'motto', 'leav', 'better', 'found', 'worker', 'restor', 'room', 'condit', 'found', 'right', 'fair', 'use', 'space', 'leav', 'restor', 'work', 'us', 'post', 'town', 'sweden', 'ny'])\n",
            " list(['ballot', 'scan', 'reject', 'peopl', 'two', 'three', 'time', 'told', 'put', 'dropbox', 'one', 'woman', 'vote', 'three', 'ballot', 'told', 'vote', 'anymor', 'ballot', 'except'])\n",
            " list(['nov', 'elect', 'earli', 'vote', 'ft', 'pierc', 'st', 'luci', 'counti', 'live', 'time', 'aunt', 'mother', 'two', 'separ', 'machin', 'ballot', 'kick', 'without', 'regist', 'two', 'us', 'three', 'time', 'mother', 'four', 'time', 'known', 'except', 'great', 'poll', 'worker', 'stood', 'watch', 'g', 'tell', 'us', 'put', 'said', 'problem'])\n",
            " list(['odd', 'pm', 'media', 'call', 'race', 'truck', 'show', 'vote', 'poll', 'sanndiego', 'counti', 'regist', 'offic', 'call', 'illeg', 'earli', 'mail', 'ballot', 'mil', 'peopl', 'south', 'orang', 'counti', 'count', 'observ', 'st', 'observ', 'other', 'join', 'republican', 'lawyer', 'rnc', 'coupl', 'republican', 'canadit', 'admin', 'folk', 'republican', 'certifi', 'elect', 'ballot', 'folk', 'go', 'door', 'door', 'elect', 'mani', 'peopl', 'vote', 'address', 'help', 'clean', 'voter', 'role', 'one', 'dgay', 'democrat', 'turn', 'republican', 'sheriff', 'well', 'still', 'use', 'dominion', 'softwar', 'gavin', 'use', 'tax', 'payer', 'money', 'instal', 'look', 'like', 'comput', 'hook', 'internet', 'san', 'diego', 'counti', 'forc', 'us', 'either', 'hand', 'mail', 'ballot', 'never', 'legal', 'request', 'go', 'vote', 'person', 'fill', 'vote', 'comput'])\n",
            " list(['judg', 'vote'])\n",
            " list(['vendor', 'local', 'nurs', 'home', 'observ', 'mail', 'ballot', 'cafeteria', 'hand', 'sever', 'ballot', 'left', 'un', 'secur'])\n",
            " list(['small', 'cellophan', 'window', 'outer', 'envelop', 'mailin', 'bsllot', 'purpod', 'window', 'reveal', 'repubican', 'ballot', 'precinct', 'make', 'ballot', 'easili', 'target', 'harvest', 'steal', 'publicli', 'label', 'republican', 'firthrr', 'target', 'vote'])\n",
            " list(['tabul', 'el', 'mirag', 'citi', 'hall', 'would', 'accept', 'husband', 'ballot', 'face', 'direct', 'poll', 'worker', 'hit', 'return', 'button', 'reinsert', 'ballot', 'face'])\n",
            " list(['mail', 'ballot', 'alway', 'requir', 'full', 'legal', 'name', 'signatur', 'ballot', 'receiv', 'requir', 'first', 'last', 'name', 'never', 'receiv', 'inform', 'state', 'would', 'differ', 'past', 'elect'])\n",
            " list(['printer', 'issu', 'dove', 'desert', 'church', 'glendal', 'arizona'])\n",
            " list(['poll', 'locat', 'th', 'street', 'thunderbird', 'church', 'suppli', 'pentel', 'marker', 'ink', 'pen', 'state', 'ballot', 'mark', 'use', 'black', 'pen', 'brought', 'case', 'ballot', 'reject', 'forc', 'use', 'marker', 'ballot', 'invalid'])\n",
            " list(['resid', 'oregon', 'year', 'shock', 'find', 'poll', 'place', 'poll', 'watcher', 'way', 'get', 'involv', 'make', 'sure', 'fair', 'elect', 'miss', 'someth'])\n",
            " list(['mother', 'mail', 'two', 'absente', 'ballot', 'st', 'loui', 'counti', 'minnesota', 'one', 'postmark', 'duluth', 'mn', 'one', 'minneapoli', 'mn', 'lifelong', 'democrat', 'sent', 'back', 'one', 'two', 'sure', 'one', 'wrote', 'ballot', 'alreadi', 'receiv', 'ballot', 'sincer', 'al', 'opitz'])\n",
            " list(['campaign', 'materi', 'deliv'])\n",
            " list(['ballot', 'scan', 'minut', 'put', 'box', 'way', 'tell', 'ever', 'scan'])\n",
            " list(['went', 'usual', 'poll', 'station', 'state', 'name', 'could', 'find', 'name', 'name', 'simpl', 'format', 'like', 'john', 'doe', 'search', 'could', 'find', 'either', 'address', 'date', 'birth', 'name', 'took', 'minut', 'spoke', 'anoth', 'individu', 'final', 'person', 'electron', 'poll', 'book', 'found', 'name', 'list', 'two', 'initi', 'like', 'r', 'doe', 'abl', 'get', 'ballot', 'place', 'vote', 'never', 'problem', 'poll', 'station', 'go', 'year'])\n",
            " list(['look', 'machin', 'initi', 'print', 'tape', 'show', 'joe', 'request', 'print', 'start', 'vote', 'candid'])\n",
            " list(['receiv', 'text', 'messag', 'even', 'thank', 'earli', 'vote', 'howev', 'vote', 'plan', 'vote', 'person', 'precinct', 'elect', 'day', 'sure', 'contact', 'want', 'go', 'th', 'told', 'late', 'bc', 'report', 'sooner'])\n",
            " list(['walk', 'vote', 'booth', 'view', 'candid', 'name', 'cast', 'vote', 'pull', 'submit', 'button', 'notic', 'vote', 'chang', 'red', 'blue', 'immedi', 'call', 'one', 'poll', 'worker', 'see', 'noth', 'done', 'rectifi', 'next', 'voter', 'walk'])\n",
            " list(['believ', 'form', 'illeg', 'harvest', 'precinct', 'orang', 'counti', 'florida', 'verifi', 'mail', 'ballot', 'wit', 'consecut', 'mail', 'ballot', 'blue', 'ink', 'date', 'octob', 'envelop', 'receiv', 'date', 'supervisor', 'elect', 'novemb', 'ballot', 'differ', 'household', 'differ', 'signatur', 'differ', 'last', 'name', 'black', 'ink', 'protest', 'find', 'pretti', 'much', 'told', 'vote', 'count', 'shut', 'irregular', 'sens', 'could', 'finish', 'rest', 'believ', 'staff', 'tri', 'stop', 'go', 'front', 'elect', 'board', 'believ', 'bigger', 'issu', 'want', 'look', 'whistleblow', 'investig', 'go', 'kind', 'thing', 'someth', 'pass', 'smell', 'test', 'allow', 'take', 'pictur', 'ballot'])\n",
            " list(['ballot', 'number', 'husband', 'refus', 'give', 'new', 'ballot'])\n",
            " list(['provision', 'ballot', 'avail', 'vote', 'center', 'udal', 'park', 'tucson', 'wait', 'deliveri', 'voter', 'time'])\n",
            " list(['would', 'like', 'ensur', 'elect', 'colorado', 'conduct', 'fairli', 'cheat'])\n",
            " list(['push', 'use', 'sharpi', 'pen'])\n",
            " list(['sure', 'get', 'involv', 'got', 'hold', 'local', 'precinct', 'said', 'enough', 'peopl', 'want', 'help', 'vote', 'count', 'push', 'paper', 'ballot'])\n",
            " list(['open', 'wifi', 'connect', 'app', 'pull', 'precinct', 'park', 'lot', 'took', 'photo', 'took', 'two', 'set', 'insid', 'one', 'room', 'vote', 'twp', 'wife', 'secur', 'broadband', 'wife', 'secur'])\n",
            " list(['mail', 'ballot', 'scottsdal', 'post', 'offic', 'octob', 'st', 'reciev', 'confirm', 'ballot', 'count', 'vote', 'kari', 'lake', 'blake', 'master', 'along', 'republican', 'assist', 'sign', 'alert', 'via', 'email', 'text', 'receiv', 'noth', 'worri', 'toni', 'pino'])\n",
            " list(['allegheni', 'counti', 'pa', 'report', 'error', 'date', 'mail', 'vote', 'claim', 'peopl', 'come', 'correct', 'scam'])\n",
            " list(['donald', 'j', 'trump', 'ask', 'peopl', 'regist', 'pa', 'state', 'without', 'id'])\n",
            " list(['poll', 'locat', 'misfit', 'look', 'peopl', 'room', 'sign', 'pad', 'st', 'man', 'said', 'close', 'enough', 'fine', 'sign', 'registri', 'ladi', 'hand', 'blank', 'ballot', 'ask', 'feed', 'machin', 'point', 'across', 'room', 'call', 'anoth', 'ladi', 'name', 'help', 'show', 'led', 'machin', 'show', 'feed', 'machin', 'fed', 'thank', 'candid', 'pop', 'said', 'make', 'select', 'stand', 'watch', 'well', 'feel', 'violat', 'think', 'misfit', 'ladi', 'know', 'vote', 'privat', 'choic', 'complet', 'choic', 'direct', 'tabul', 'machin', 'show', 'feed', 'vote', 'poll', 'place', 'knew', 'machin', 'also', 'instruct', 'visual', 'slide', 'momentarili', 'confus', 'get', 'assist', 'feed', 'tabul', 'anoth', 'misfit', 'ladi', 'hand', 'vote', 'sticker', 'left', 'assistor', 'immedi', 'went', 'anoth', 'room', 'behind', 'tabul', 'know', 'exactli', 'vote', 'went', 'possibl', 'use', 'info', 'later', 'shenanigan', 'bother', 'later', 'ponder', 'experi', 'republican', 'poll', 'watcher', 'wit', 'watch', 'everi', 'vote', 'would', 'step', 'group', 'polster', 'seem', 'page', 'short', 'bu', 'citi', 'washington', 'pa', 'th', 'ward', 'fetterman', 'outvot', 'oz', 'shapiro', 'beat', 'mastriano', 'blue', 'counti', 'vote', 'red', 'counti', 'wide', 'fetterman', 'w', 'mail', 'ballot', 'oz', 'w', 'mail', 'fetterman', 'got', 'third', 'vote', 'mail', 'ballot', 'washington', 'counti', 'pa', 'feel', 'bit', 'violat', 'lot', 'manipul', 'assist', 'hesit', 'contact', 'email', 'thank', 'eras', 'present', 'voter', 'role', 'start', 'take', 'noth', 'verif', 'regist', 'next', 'elect', 'voter', 'id', 'card', 'machin', 'would', 'start', 'thank'])\n",
            " list(['vote', 'wore', 'shirt', 'said', 'count', 'legal', 'vote', 'told', 'offens', 'ask', 'author', 'dominion', 'machin', 'silenc', 'vote', 'notic', 'exit', 'poll', 'station', 'man', 'probabl', 'dominion', 'employe', 'mess', 'wire', 'suv', 'silver', 'pa', 'licens', 'plate', 'vote', 'green', 'brook', 'firehous', 'across', 'street', 'washington', 'rock', 'state', 'park', 'distric', 'firehous', 'rock', 'road', 'west', 'green', 'brook', 'nj', 'vote', 'person', 'know', 'stole', 'governor', 'race', 'us', 'navi', 'veteran', 'also', 'sent', 'certifi', 'letter', 'counti', 'sherriff', 'offic', 'noth', 'ever', 'happen', 'nj', 'corrupt', 'pleas', 'help', 'us'])\n",
            " list(['flagler', 'counti', 'florida', 'vote', 'person', 'voter', 'bring', 'mail', 'ballot', 'vote', 'tear', 'worker', 'leav', 'unopen', 'ballot', 'seal', 'envelop', 'mark', 'cancel', 'envelop', 'leav', 'ballot', 'intact', 'worker', 'collect', 'unus', 'ballot', 'issu', 'anoth', 'printer', 'gener', 'ballot', 'spot', 'person', 'vote', 'altern', 'worker', 'collect', 'torn', 'ballot', 'put', 'clean', 'envelop', 'seal', 'save', 'issu', 'freshli', 'print', 'ballot', 'spot', 'person', 'vote', 'worker', 'mark', 'ralli', 'sheet', 'indic', 'nd', 'ballot', 'one', 'use', 'vote', 'chri', 'topher', 'take', 'care', 'cancel', 'ballot', 'sure', 'christoph', 'may', 'ess', 'employe', 'may', 'local', 'schedul', 'work', 'watch', 'poll', 'last', 'day', 'vote', 'next', 'tuesday'])\n",
            " list(['sevil', 'elementari', 'use', 'black', 'marker', 'last', 'year', 'told', 'use', 'marker', 'black', 'pen', 'accept', 'method', 'funni', 'hand', 'everyon', 'come', 'thru', 'door'])\n",
            " list(['know', 'late', 'went', 'vote', 'elect', 'day', 'poll', 'place', 'took', 'black', 'ballpoint', 'pen', 'sign', 'ladi', 'hand', 'ballot', 'said', 'use', 'marker', 'tri', 'hand', 'look', 'almost', 'like', 'felt', 'tip', 'sharpi', 'style', 'marker', 'polit', 'said', 'brought', 'tri', 'tell', 'work', 'smear', 'machin', 'sit', 'contain', 'right', 'behind', 'bunch', 'exact', 'ballpoint', 'pen', 'bic', 'round', 'stic', 'black', 'ballpoint', 'pen', 'said', 'could', 'use', 'pen', 'wait', 'dri', 'said', 'thank', 'went', 'fill', 'ballot', 'booth', 'seem', 'reeeeeli', 'suspect', 'investig', 'thank', 'app', 'found', 'redpil', 'channel', 'happen', 'el', 'mirag', 'citi', 'hall', 'n', 'el', 'mirag', 'rd', 'el', 'mirag', 'az'])\n",
            " list(['contain', 'contain', 'vote', 'ballot', 'lock', 'tape', 'seal', 'new', 'g', 'router', 'near', 'window', 'antenna', 'howev', 'individu', 'given', 'choic', 'electron', 'vote', 'paper', 'citi', 'horac', 'nd', 'cass', 'counti', 'fire', 'station', 'take', 'pictur', 'know', 'ballot', 'contain', 'suppos', 'seal', 'lock', 'internet', 'connect', 'year', 'router', 'near', 'window', 'new', 'power', 'cord', 'look', 'like', 'unfold', 'minut', 'ago', 'cuz', 'crimp', 'put', 'vote', 'station', 'within', 'hour', 'ago', 'door', 'open'])\n",
            " list(['keep', 'receiv', 'ballot', 'ex', 'daughter', 'law', 'vanessa', 'dora', 'callaghan', 'move', 'nevada', 'year', 'ago', 'seen', 'sinc'])\n",
            " list(['place', 'vote', 'last', 'week', 'tri', 'forc', 'militari', 'veteran', 'friend', 'use', 'black', 'marker', 'would', 'bleed', 'ballot', 'told', 'pen', 'militari', 'veteran', 'tri', 'rig', 'ballot'])\n",
            " list(['never', 'request', 'mail', 'ballot', 'applic', 'sent', 'hous', 'one', 'one', 'girlfriend', 'one', 'ex', 'husband', 'live', 'year'])\n",
            " list(['went', 'foster', 'elementari', 'school', 'vote', 'morn', 'vote', 'print', 'page', 'ballot', 'next', 'step', 'place', 'ballot', 'machin', 'scan', 'talli', 'vote', 'machin', 'work', 'place', 'ballot', 'cardboard', 'box', 'scan', 'later', 'almost', 'left', 'vote', 'reassur', 'vote', 'record', 'machin', 'hard', 'drive'])\n",
            " list(['bmd', 'paper', 'jam', 'bmd', 'show', 'actual', 'vote', 'discrep', 'continu', 'throughout', 'earli', 'vote'])\n",
            " list(['ohio', 'counti', 'googlemap', 'precinct', 'smartphon', 'walk', 'map', 'counti', 'precinct', 'done', 'load', 'googl', 'map', 'sourc', 'data', 'ohio', 'secretari', 'state'])\n",
            " list(['epol', 'book', 'server', 'went', 'st', 'stephen', 'church', 'poll', 'worker', 'implement', 'plan', 'b', 'use', 'copi', 'voter', 'roll', 'laptop', 'check', 'voter', 'sinc', 'use', 'vote', 'center', 'anyon', 'vote', 'anywher', 'check', 'duplic', 'voter'])\n",
            " list(['print', 'ballot', 'site', 'problemat', 'ballot', 'align', 'water', 'mark', 'paper'])\n",
            " list(['printer', 'paper', 'poll'])\n",
            " list(['know', 'everyon', 'care', 'az', 'anoth', 'stori', 'mercer', 'counti', 'nj', 'entir', 'fleet', 'counti', 'wide', 'dominion', 'machin', 'work', 'elect', 'day', 'drama', 'run', 'provision', 'ballot', 'etc'])\n",
            " list(['sign', 'senior', 'poll', 'monitor', 'clark', 'counti', 'nv', 'person', 'vote', 'done', 'use', 'dominion', 'icx', 'machin', 'connect', 'printer', 'main', 'job', 'poll', 'monitor', 'ensur', 'voter', 'vote', 'get', 'record', 'usb', 'card', 'machin', 'attach', 'printer', 'print', 'voter', 'choic', 'printer', 'output', 'stay', 'printer', 'voter', 'look', 'transpar', 'panel', 'printer', 'voter', 'cannot', 'take', 'copi', 'vote', 'count', 'done', 'precinct', 'machin', 'printer', 'go', 'back', 'elect', 'center', 'clark', 'counti', 'count', 'done', 'center', 'although', 'usb', 'data', 'need', 'match', 'data', 'printer', 'unless', 'ordinari', 'citizen', 'parti', 'especi', 'maga', 'wing', 'republican', 'parti', 'allow', 'particip', 'count', 'process', 'huge', 'potenti', 'cheat', 'count', 'center', 'main', 'focu', 'clark', 'counti', 'nv', 'like', 'mani', 'counti', 'across', 'countri', 'need', 'count', 'process', 'need', 'primari', 'respons', 'citizen', 'particip', 'count', 'make', 'sure', 'everi', 'vote', 'audit', 'match', 'printer', 'output'])\n",
            " list(['felt', 'tip', 'sharpi', 'use', 'vote'])\n",
            " list(['earli', 'vote', 'mail', 'elect', 'maricopa', 'gov', 'dashboard', 'said', 'signatur', 'verifi', 'week', 'elect', 'say', 'vote', 'primari'])\n",
            " list(['hord', 'approx', 'peopl', 'side', 'street', 'peopl', 'collect', 'democrat', 'vote', 'flier', 'car', 'within', 'feet', 'poll', 'locat', 'meet', 'go', 'door', 'door', 'plaster', 'area', 'flier', 'believ', 'violat', 'election', 'law', 'poll', 'place', 'trailer', 'street'])\n",
            " list(['brought', 'vote', 'postcard', 'receiv', 'mail', 'name', 'address', 'voter', 'id', 'polit', 'parti', 'etc', 'told', 'vote', 'poll', 'clarenc', 'center', 'volunt', 'fire', 'regist', 'vote', 'told', 'fill', 'affidavit', 'put', 'everyth', 'write', 'complet', 'went', 'back', 'tabl', 'hand', 'gentleman', 'place', 'woman', 'gave', 'paperwork', 'ask', 'look', 'case', 'ladi', 'find', 'walk', 'angrili', 'said', 'reason', 'look', 'alreadi', 'tri', 'im', 'regist', 'even', 'though', 'voter', 'card', 'say'])\n",
            " list(['wifi', 'poll', 'place', 'girar', 'township', 'pa', 'poll', 'place'])\n",
            " list(['friend', 'year', 'old', 'daughter', 'receiv', 'two', 'mail', 'ballot', 'maricopa', 'counti', 'arizona', 'address', 'pictur'])\n",
            " list(['wifi', 'enabl', 'poll', 'place', 'st', 'screen', 'shot', 'outsid', 'nd', 'screen', 'shot', 'insid', 'poll', 'place'])\n",
            " list(['flagler', 'counti', 'florida', 'still', 'encourag', 'mail', 'ballot', 'drop', 'box', 'websit', 'supposedli', 'red', 'counti', 'red', 'state'])\n",
            " list(['allow', 'vote', 'due', 'address', 'incorrect', 'driver', 'licens', 'move', 'citi', 'pandem', 'clerk', 'offic', 'restrict', 'person', 'walk', 'updat', 'licens', 'tri', 'sever', 'occas', 'updat', 'licens', 'avail'])\n",
            " list(['never', 'mind', 'move', 'us', 'closer'])\n",
            " list(['sharpi', 'suppli', 'felt', 'tip', 'pen', 'instead', 'ball', 'point', 'wife', 'experienc', 'took', 'pictur', 'even', 'though', 'sign', 'booth', 'say', 'illeg', 'take', 'pic', 'film'])\n",
            " list(['tabul', 'machin', 'work', 'poll', 'worker', 'fire', 'machin', 'swap', 'still', 'tabul', 'told', 'vote', 'pick', 'later', 'machin', 'hand', 'calcul', 'place', 'mysteri', 'draw', 'ballot', 'hand', 'maricopa', 'gov', 'websit', 'say', 'vote', 'count', 'vote', 'video', 'photo', 'app', 'allow', 'upload'])\n",
            " list(['madison', 'ct', 'use', 'felt', 'tip', 'pen'])\n",
            " list(['sign', 'direct', 'voter', 'offic', 'across', 'street', 'around', 'corner', 'counti', 'offic', 'elect', 'offic'])\n",
            " list(['earlier', 'today', 'phoenix', 'locat', 'manila', 'folder', 'ballot', 'believ', 'drop', 'phoenix', 'ballot', 'box', 'two', 'separ', 'peopl', 'pick', 'ballot', 'box', 'crew'])\n",
            " list(['wi', 'fi', 'network', 'open', 'one', 'particular', 'concern', 'pollpad', 'wifi'])\n",
            " list(['avail', 'wifi', 'show', 'phone', 'park', 'lot', 'hallway', 'poll', 'room', 'insid', 'vote'])\n",
            " list(['crawford', 'counti', 'michigan', 'mapl', 'forest', 'township', 'hall', 'provid', 'fine', 'point', 'sharpi', 'style', 'felt', 'tip', 'marker', 'vote', 'yesterday', 'aug', 'like', 'bleed', 'caus', 'mani', 'ballot', 'sent', 'adjud', 'someon', 'els', 'get', 'pick', 'vote', 'us', 'ok', 'find', 'mani', 'articl', 'use', 'black', 'ball', 'point', 'pen', 'ballot', 'marker', 'caus', 'bleed', 'elect', 'poll', 'locat', 'sever', 'biden', 'harri', 'sign', 'right', 'township', 'hall', 'properti', 'defin', 'closer', 'build', 'legal', 'allow', 'soon', 'said', 'someth', 'disappear', 'poll', 'locat', 'provid', 'black', 'felt', 'tip', 'marker', 'vote', 'yesterday'])\n",
            " list(['felt', 'pen', 'use', 'lake', 'havasurepost', 'karilak', 'without', 'let', 'show', 'az', 'establish', 'power', 'arizona', 'first', 'movement', 'today', 'get', 'vote', 'vote', 'vote'])\n",
            " list(['receiv', 'voter', 'registr', 'person', 'live', 'adddressd'])\n",
            " list(['use', 'vote', 'hidalgo', 'counti', 'tx', 'mani', 'year', 'yr', 'vote', 'anoth', 'counti', 'surpris', 'get', 'print', 'paper', 'electron', 'vote', 'could', 'verifi', 'vote', 'scan', 'hidalgo', 'counti', 'never', 'one', 'trust', 'vote', 'switch', 'machin', 'btw', 'democrat', 'alway', 'win', 'normal', 'practic'])\n",
            " list(['filt', 'pen', 'hand'])\n",
            " list(['precinct', 'turn', 'away', 'told', 'come', 'back', 'later', 'run', 'ballot'])\n",
            " list(['sinc', 'elect', 'receiv', 'receipt', 'bottom', 'ballot', 'everi', 'year', 'mani', 'year', 'today', 'differ', 'know', 'mean', 'keep', 'receipt', 'rip', 'ballot', 'give', 'ballot', 'without', 'receipt', 'know', 'someth', 'put', 'finger', 'attach', 'two', 'photograph', 'one', 'ballot', 'without', 'receipt', 'number', 'pictur', 'bottom', 'ballot', 'show', 'perfor'])\n",
            " list(['live', 'casa', 'grand', 'az', 'precinct', 'show', 'vote', 'specif', 'locat', 'told', 'ran', 'republican', 'ballot', 'beyond', 'unaccept', 'husband', 'load', 'toddler', 'dog', 'come', 'vote', 'month', 'pregnant', 'come', 'home', 'tri', 'figur', 'vote', 'report', 'express', 'disgust', 'counti', 'record', 'offic', 'told', 'could', 'ballot', 'differ', 'precinct', 'locat', 'come', 'find', 'provision', 'ballot', 'may', 'may', 'even', 'count', 'load', 'car', 'mess', 'upset', 'state', 'even', 'provid', 'us', 'right', 'vote', 'ridicul'])\n",
            " list(['queen', 'creek', 'librari', 'insid', 'vote', 'center', 'went', 'morn', 'nov', 'th', 'vote', 'told', 'one', 'scanner', 'issu', 'observ', 'peopl', 'tri', 'read', 'ballot', 'scanner', 'kick', 'back', 'told', 'could', 'leav', 'ballot', 'fix', 'read', 'ladi', 'got', 'involv', 'told', 'take', 'ballot', 'anoth', 'locat', 'steal', 'vote', 'ask', 'backup', 'system', 'told', 'solut', 'problem', 'get', 'rid', 'damn', 'machin', 'went', 'across', 'street', 'anoth', 'center', 'vote', 'also', 'hand', 'felt', 'tip', 'sharpi', 'inquir', 'told', 'felt', 'tip', 'use', 'dri', 'quick', 'smear', 'read', 'scanner'])\n",
            " list(['independ', 'mail', 'ballet', 'receiv', 'without', 'request'])\n",
            " list(['lake', 'havasu', 'citi', 'az', 'qualiti', 'inn', 'use', 'marker', 'advis', 'voter', 'make', 'sure', 'bleed', 'bad', 'optic', 'worst', 'poll', 'worker', 'said', 'feder', 'offens', 'phone', 'pictur', 'also', 'feder', 'law'])\n",
            " list(['vote'])\n",
            " list(['flagler', 'counti', 'fl', 'although', 'fulfil', 'requir', 'appli', 'poll', 'worker', 'took', 'class', 'submit', 'w', 'agre', 'poll', 'center', 'would', 'cover', 'workdur', 'earli', 'last', 'day', 'vote', 'schedul', 'wait', 'hour', 'poll', 'center', 'open', 'told', 'open', 'set', 'chri', 'topher', 'list', 'poll', 'worker', 'neither', 'republican', 'worker', 'patti', 'xxx', 'wait', 'two', 'democrat', 'two', 'poll', 'worker', 'assum', 'republican', 'q', 'show', 'door', 'open', 'go', 'elect', 'offic', 'afternoon', 'speak', 'chri', 'tine', 'continu', 'tri', 'get', 'time', 'work', 'poll'])\n",
            " list(['sharpi', 'pen', 'vote', 'booth'])\n",
            " list(['preview', 'ballot', 'sent', 'show', 'maricopa', 'counti', 'board', 'supervisor', 'district', 'could', 'vote', 'mail', 'ballot', 'receiv', 'area', 'supervisor', 'copi', 'ballot', 'took', 'send', 'back'])\n",
            " list(['want', 'let', 'know', 'husband', 'scan', 'ballet', 'plu', 'time', 'tabul', 'gave', 'us', 'count', 'poll', 'locat', 'wickenburg', 'az'])\n",
            " list(['label', 'printer', 'work', 'elect', 'offici', 'fill', 'voter', 'log', 'hand', 'realli', 'slow', 'process', 'peopl', 'forc', 'stand', 'long', 'line', 'ridg', 'view', 'elementari', 'school', 'san', 'antonio', 'tx'])\n",
            " list(['duplic', 'ballot', 'gilbert', 'az'])\n",
            " list(['issu', 'vote', 'cedar', 'hill', 'senior', 'center', 'concho', 'highway', 'navajo', 'counti', 'arizona', 'sharpi', 'gate', 'requir'])\n",
            " list(['would', 'love', 'involv', 'watch', 'vote', 'count'])\n",
            " list(['uninterrupt', 'min', 'video', 'short', 'clip', 'photo', 'wagon', 'counti', 'oklahoma', 'mail', 'absente', 'ballot', 'open', 'process', 'primari', 'elect', 'day', 'june', 'plu', 'photo', 'print', 'publicli', 'post', 'tape', 'earli', 'absente', 'mail', 'open', 'june', 'http', 'photo', 'app', 'goo', 'gl', 'x', 'xui', 'gqkskywmqi', 'http', 'photo', 'app', 'goo', 'gl', 'thsrnmkqwjrxzkyva'])\n",
            " list(['elect', 'judg', 'strongli', 'suggest', 'use', 'felt', 'pin', 'approv', 'counti', 'board', 'said', 'could', 'use', 'black', 'blue', 'pen', 'machin', 'count', 'would', 'kick', 'back'])\n",
            " list(['check', 'statu', 'ballot', 'maricopa', 'counti', 'record', 'websit', 'morn', 'said', 'signatur', 'verifi', 'ballot', 'count', 'vote', 'histori', 'show', 'ye', 'primari', 'gener', 'check', 'hour', 'later', 'vote', 'histori', 'show', 'primari', 'gener'])\n",
            " list(['felt', 'tip', 'pen', 'vote', 'locat', 'west', 'brookfield'])\n",
            " list(['vote', 'fill', 'envelop', 'black', 'bic', 'ball', 'point', 'pen', 'hand', 'ballot', 'hand', 'unnam', 'felt', 'tip', 'marker', 'walk', 'back', 'booth', 'look', 'top', 'ballot', 'said', 'use', 'blue', 'black', 'pen'])\n",
            " list(['wife', 'arriv', 'vote', 'gateway', 'fellowship', 'church', 'gilbert', 'small', 'line', 'peopl', 'wait', 'peopl', 'come', 'vocal', 'machin', 'scan', 'correctli', 'staff', 'tell', 'everyon', 'could', 'put', 'ballot', 'drawer', 'would', 'count', 'non', 'partisan', 'later', 'even', 'proceed', 'registr', 'wait', 'ballot', 'print', 'anoth', 'man', 'tell', 'offici', 'address', 'discrepancyand', 'wait', 'attorney', 'heard', 'name', 'accept', 'ballot', 'porceed', 'appt', 'began', 'fill', 'wife', 'lean', 'said', 'quickli', 'snap', 'pic', 'ballot', 'obviou', 'red', 'scuff', 'fill', 'went', 'scan', 'began', 'record', 'went', 'scanner', 'heard', 'volunt', 'tell', 'someon', 'machin', 'scan', 'least', 'hr', 'video', 'site', 'attorney', 'quick', 'tell', 'illeg', 'record', 'end', 'wife', 'ballot', 'went', 'kick', 'back', 'green', 'light', 'instruct', 'place', 'drawer', 'sure', 'effect', 'red', 'mark', 'would', 'ballot', 'watch', 'news', 'morn', 'heard', 'elect', 'depart', 'say', 'someth', 'red', 'ink', 'allow', 'attach', 'pictur', 'ballot', 'also', 'send', 'video', 'need', 'thank', 'bryan', 'shawnett', 'white'])\n",
            " list(['vote', 'morn', 'carrol', 'counti', 'ask', 'parti', 'identifi', 'voter', 'author', 'card', 'answer', 'realli', 'need', 'gener', 'elect', 'need', 'primari', 'elect', 'differ', 'ballot'])\n",
            " list(['paper', 'p', 'precinct', 'notifi', 'hour', 'ago'])\n",
            " list(['receiv', 'text', 'ballot', 'mail', 'never', 'receiv', 'give', 'one', 'poll', 'locat'])\n",
            " list(['candid', 'first', 'selectman', 'calen', 'lang', 'speak', 'voter', 'maintain', 'distanc', 'feet', 'poll'])\n",
            " list(['camera', 'ballot', 'box'])\n",
            " list(['went', 'look', 'state', 'elect', 'porthol', 'show', 'order', 'mail', 'ballot', 'howev', 'never', 'order', 'mail', 'ballot', 'plan', 'vote', 'said', 'unfortun', 'hospit', 'coupl', 'day', 'day', 'elect', 'unabl', 'vote'])\n",
            " list(['gotten', 'text', 'zip', 'recruit', 'job', 'match', 'morn', 'tri', 'get', 'peopl', 'get', 'board', 'travel', 'expens', 'paid', 'job', 'outgo', 'abl', 'persuad', 'experienc', 'closer', 'need', 'titl', 'would', 'travel', 'canvass', 'petition', 'compani', 'call', 'advanc', 'micro', 'target', 'claim', 'nation', 'largest', 'ballot', 'qualif', 'firm', 'would', 'assign', 'travel', 'month', 'assign', 'seem', 'shadi', 'may', 'wrong', 'worth', 'check', 'believ'])\n",
            " list(['advic', 'voter', 'tabul', 'work', 'site', 'still', 'vote', 'option', 'cast', 'ballot', 'place', 'secur', 'ballot', 'box', 'poll', 'worker', 'site', 'vote', 'locat', 'best', 'equip', 'help', 'ensur', 'ballot', 'cast', 'maricopa', 'elect', 'board', 'bad', 'inform'])\n",
            " list(['receiv', 'name', 'misspel', 'regist', 'chang', 'address', 'mail', 'registri', 'correct', 'request', 'correct', 'ballot'])\n",
            " list(['forc', 'use', 'mail', 'ballot', 'state', 'elect', 'forc', 'use', 'rank', 'choic', 'vote', 'result', 'person', 'get', 'fewer', 'vote', 'win'])\n",
            " list(['wireless', 'internet', 'access', 'avail', 'poll', 'locat', 'june', 'primari', 'runoff', 'elect', 'locat', 'reeltown', 'volunt', 'fire', 'depart'])\n",
            " list(['news', 'crew', 'photo', 'closer', 'feet', 'block', 'drop', 'off'])\n",
            " list(['use', 'iphon', 'found', 'devic', 'call', 'setup', 'one', 'vote', 'center', 'wilson', 'counti', 'locat', 'charli', 'daniel', 'park', 'mt', 'juliet', 'elect', 'offici', 'notifi', 'observ', 'investig', 'requir'])\n",
            " list(['prevent', 'devonshir', 'school', 'skoki', 'il', 'use', 'sharpi', 'paper', 'ballot'])\n",
            " list(['sure', 'anyth', 'worri', 'text', 'came', 'cell', 'today', 'address', 'maricopa', 'counti', 'cell', 'phone', 'number', 'home', 'address', 'link', 'togeth', 'file', 'cell', 'number', 'long', 'time', 'cell', 'never', 'associ', 'address', 'text', 'idea', 'got', 'troubl', 'part', 'request', 'feel', 'free', 'email', 'need', 'anyth', 'els'])\n",
            " list(['drive', 'vote', 'box', 'camera', 'place', 'watch', 'dropbox'])\n",
            " list(['ballot', 'stolen', 'process', 'place', 'counti', 'voter', 'registrar', 'cancel', 'miss', 'ballot', 'current', 'elect', 'cycl', 'ballot', 'arriv', 'found', 'neighbor', 'discard', 'bush', 'ca', 'mail', 'ballot', 'total', 'fraud', 'file', 'report', 'sheriff', 'noth', 'happen', 'need', 'poll', 'station', 'paper', 'ballot', 'told', 'theft', 'go', 'asap', 'earli', 'vote', 'locat', 'tri', 'beat', 'someon', 'vote', 'drove', 'mile', 'round', 'trip', 'closer', 'locat'])\n",
            " list(['line', 'vote', 'came', 'said', 'vote', 'machin', 'locat', 'sure', 'vote', 'count'])\n",
            " list(['driver', 'licens', 'came', 'x', 'name', 'linda', 'alreadi', 'vote', 'name', 'driver', 'licens', 'cheri'])\n",
            " list(['poll', 'worker', 'train', 'pike', 'counti', 'pa', 'dominion', 'tabul', 'accept', 'mismark', 'sampl', 'ballot', 'twice', 'demonstr', 'first', 'dot', 'oval', 'fill', 'second', 'light', 'mark', 'oval', 'reject', 'unabl', 'verifi', 'tape', 'record', 'sampl', 'ballot'])\n",
            " list(['ask', 'identif', 'novemb']) list(['check', 'id'])\n",
            " list(['sept', 'approach', 'man', 'know', 'homeless', 'said', 'come', 'sign', 'petit', 'got', 'closer', 'told', 'actual', 'voter', 'registr', 'form', 'first', 'told', 'got', 'paid', 'hr', 'later', 'said', 'signatur', 'said', 'want', 'use', 'ss', 'could', 'use', 'last', 'phone', 'number', 'form', 'said', 'got', 'paid', 'whether', 'voter', 'alreadi', 'regist', 'fill', 'second', 'form', 'ask', 'turn', 'said', 'would', 'enter', 'week', 'ask', 'work', 'said', 'govern', 'flip', 'badg', 'face', 'forward', 'backward', 'see', 'flip', 'realli', 'quickli', 'unabl', 'see', 'follow', 'sunday', 'saw', 'get', 'old', 'maroon', 'chrysler', 'minivan', 'three', 'peopl', 'definit', 'identifi', 'unforgett', 'teeth', 'thank', 'guy', 'god', 'bless', 'protect'])\n",
            " list(['nov', 'rd', 'austin', 'spectrum', 'local', 'news', 'elect', 'result', 'post', 'news', 'site', 'http', 'spectrumlocalnew', 'com', 'tx', 'austin', 'polit', 'elect', 'result', 'page', 'give', 'error', 'post', 'elect', 'result', 'elect', 'day', 'suppress', 'vote', 'call', 'question', 'valid', 'result', 'report', 'elect'])\n",
            " list(['son', 'jeremi', 'scott', 'wright', 'wife', 'jasmin', 'lyn', 'wright', 'smallwood', 'maiden', 'name', 'receiv', 'mail', 'ballot', 'regist', 'republican', 'vote', 'today', 'monday', 'june', 'left', 'town', 'current', 'texa', 'vote', 'leav', 'name', 'kevin', 'scott', 'wright'])\n",
            " list(['saw', 'guy', 'come', 'poll', 'station', 'backpack', 'buckey', 'az', 'citi', 'hall', 'drop', 'ballot', 'drop', 'box', 'poll', 'worker', 'say', 'word', 'photo', 'guy', 'older', 'male'])\n",
            " list(['send', 'wiifi', 'list', 'marion', 'counti', 'florida', 'receiv', 'email', 'screenshot', 'also', 'use', 'marker', 'ballot', 'thought', 'marker', 'good', 'smudg', 'use', 'pen', 'call', 'offic', 'desanti', 'left', 'msg', 'marker'])\n",
            " list(['chauncey', 'bank', 'get', 'elect'])\n",
            " list(['vote', 'booth', 'open', 'readi', 'poll', 'open', 'prevent', 'anyon', 'vote', 'booth', 'readi'])\n",
            " list(['sure', 'issu', 'think', 'thought', 'wi', 'fi', 'suppos', 'read', 'peopl', 'screenshot', 'avail', 'wi', 'fi', 'park', 'lot', 'wait', 'line', 'booth', 'includ', 'anoth', 'screenshot', 'insert', 'ballot', 'scanner', 'includ', 'pictur', 'screenshot', 'wrote', 'one', 'know', 'one', 'taken', 'ad', 'pictur', 'sure', 'one', 'allow', 'look', 'like', 'one', 'attach', 'address', 'poll', 'place', 'elk', 'lodg', 'farnum', 'pike', 'esmond', 'ri'])\n",
            " list(['withdrawn', 'candid', 'list', 'e', 'desanti', 'christi', 'etc', 'earli', 'voter', 'ballot', 'approx', 'republican', 'ballot'])\n",
            " list(['seem', 'lackawanna', 'counti', 'sinc', 'elect', 'vote', 'get', 'ballot', 'longer', 'get', 'receipt', 'ballot', 'friend', 'get', 'receipt', 'number', 'match', 'ballot', 'question', 'poll', 'worker', 'told', 'comput', 'problem', 'elect', 'alway', 'got', 'receipt', 'attach', 'ballot', 'could', 'torn', 'longer', 'case'])\n",
            " list(['tri', 'get', 'vote', 'locat', 'kingwood', 'tx', 'googl', 'search', 'pull', 'vote', 'kingwood', 'democrat', 'vote', 'mention', 'republican', 'vote'])\n",
            " list(['friend', 'wonder', 'mail', 'ballot', 'check', 'voter', 'registr', 'statu', 'un', 'regist', 'sign', 'today', 'wonder', 'voter', 'happen'])\n",
            " list(['app', 'display', 'empti', 'map'])\n",
            " list(['saw', 'truck', 'next', 'vote', 'locat', 'build', 'could', 'innoc', 'know', 'schedul', 'work', 'near', 'futur', 'plate', 'truck', 'texa'])\n",
            " list(['voter', 'suppress', 'turn', 'away', 'chew', 'firehal', 'district', 'told', 'come', 'back', 'unlock', 'machin', 'woman', 'polit', 'bottom', 'line', 'vote'])\n",
            " list(['tabular'])\n",
            " list(['voter', 'submit', 'ballot', 'talk', 'judg', 'machin', 'vote', 'judg', 'partaken', 'convers', 'could', 'photo', 'graph', 'due', 'rule', 'heneri', 'counti', 'illinoi', 'phenix', 'town', 'ship'])\n",
            " list(['illeg', 'candid', 'sign', 'say', 'paid'])\n",
            " list(['pinal', 'counti', 'record', 'offici', 'elect', 'mail', 'come', 'home', 'live', 'address', 'e', 'shamrock', 'st', 'florenc', 'az', 'bought', 'home', 'march', 'year', 'nd', 'piec', 'elect', 'mail', 'receiv', 'address', 'differ', 'name', 'neither', 'name', 'belong', 'person', 'bought', 'home', 'app', 'receiv', 'piec', 'mail', 'thank', 'servic', 'want', 'countri', 'back'])\n",
            " list(['someth', 'weird', 'happen', 'mayb', 'paranoid', 'walk', 'vote', 'queen', 'creek', 'locat', 'communivers', 'first', 'check', 'new', 'comput', 'get', 'ballot', 'print', 'first', 'ballot', 'print', 'faulti', 'said', 'print', 'one', 'page', 'spoil', 'one', 'print', 'new', 'ballot', 'ladi', 'kept', 'say', 'techi', 'guy', 'fix', 'issu', 'sinc', 'kept', 'question', 'happen', 'ask', 'comput', 'system', 'new', 'said', 'told', 'never', 'check', 'way', 'scan', 'id', 'show', 'vote', 'card', 'second', 'ballot', 'print', 'techi', 'guy', 'proceed', 'fold', 'ballot', 'incorrectli', 'ladi', 'told', 'fold', 'way', 'took', 'hand', 'joke', 'careless', 'ballot', 'told', 'way', 'train', 'us', 'fold', 'ballot', 'look', 'techi', 'guy', 'front', 'printer', 'name', 'tag', 'turn', 'insid', 'identifi', 'spoil', 'first', 'incorrectli', 'print', 'ballot', 'notic', 'page', 'record', 'take', 'photo', 'tight', 'cramp', 'comfort'])\n",
            " list(['mike', 'tabron', 'would', 'allow', 'vote', 'comput', 'said', 'turn', 'paper', 'ballot', 'said', 'need', 'fill', 'mail', 'paperwork', 'never', 'receiv', 'seem', 'request', 'mail', 'ballot', 'shock', 'discov', 'one', 'request', 'name', 'request', 'rememb', 'receiv'])\n",
            " list(['loophol', 'went', 'check', 'mark', 'vote', 'say', 'tell', 'day', 'ballot', 'return', 'whether', 'accept', 'unsettl', 'messag', 'vote', 'earli', 'vote', 'person', 'elect', 'day', 'mail', 'ballot', 'cancel', 'mean', 'could', 'honestli', 'report', 'earli', 'mail', 'ballot', 'tabul', 'afterward', 'elect', 'day', 'could', 'also', 'go', 'ahead', 'illeg', 'submit', 'ballot', 'name', 'negat', 'true', 'ballot'])\n",
            " list(['gila', 'bend', 'poll', 'site', 'requir', 'mask', 'worn', 'time', 'remov', 'wife', 'poll', 'worker'])\n",
            " list(['regardless', 'mani', 'vote', 'came', 'joe', 'cotta', 'could', 'break', 'even', 'late', 'vote', 'percentag', 'differ', 'remain', 'virtual', 'everi', 'time', 'ballot', 'came'])\n",
            " list(['elect', 'receiv', 'mail', 'ballot', 'former', 'resid', 'home', 'deliv', 'usp', 'live', 'return', 'sender', 'written', 'envelop', 'today', 'mail', 'ballot', 'california', 'receiv', 'michigan', 'elect', 'address', 'person'])\n",
            " list(['ask', 'paper', 'ballet', 'told', 'receiv', 'one', 'tri', 'tell', 'right', 'paper', 'ballet', 'matter', 'women', 'randomli', 'made', 'statement', 'comput', 'hook', 'wifi', 'told', 'wifi', 'illeg', 'back', 'step', 'comment', 'said', 'meant', 'later', 'get', 'hook', 'wifi', 'told', 'felt', 'illeg', 'feel', 'good', 'experi'])\n",
            " list(['democrat', 'observ', 'help', 'voter', 'sign', 'continu', 'talk', 'voter', 'worker'])\n",
            " list(['emerg', 'electron', 'comput', 'vote', 'termin', 'montgomeri', 'count', 'md', 'poll', 'station', 'brown', 'elementari', 'rest', 'paper', 'ballot', 'stand', 'booth', 'poll', 'station', 'md', 'machin', 'miss', 'arizona', 'back', 'room', 'count', 'fake', 'ballot'])\n",
            " list(['poll', 'inspector', 'day', 'suffolk', 'counti', 'ny', 'good', 'coordin', 'took', 'ballot', 'lock', 'vote', 'machin', 'first', 'thing', 'morn', 'put', 'tabl', 'open', 'make', 'neat', 'pile', 'put', 'bag', 'zipper', 'clear', 'lock', 'bag', 'put', 'bag', 'corner', 'room', 'rest', 'day', 'anyon', 'could', 'take', 'side', 'door', 'secur', 'ballot', 'vote', 'taken', 'machin', 'alway', 'excus', 'thing', 'blame', 'new', 'sure', 'normal', 'definit', 'seem', 'secur', 'take', 'ballot', 'lock', 'machin', 'peopl', 'vote', 'coordin', 'would', 'give', 'full', 'name', 'john', 'p', 'two', 'coordin', 'shadi', 'secur', 'came', 'end', 'night', 'equal', 'shadi', 'mani', 'incid', 'seem', 'poll', 'locat', 'woman', 'poll', 'coordin', 'e', 'even', 'admit', 'italian', 'run', 'elect', 'new', 'york', 'play', 'side', 'seem', 'name', 'celest', 'dibernardo', 'last', 'name', 'famou', 'mafia', 'member', 'thing', 'go', 'mainli', 'coordin', 'one', 'poll', 'worker', 'name', 'vera', 'powel', 'hide', 'blank', 'ballot', 'next', 'day', 'explain', 'abandon', 'ballot', 'reason', 'gotten', 'angri', 'ask', 'hidden', 'hour'])\n",
            " list(['long', 'line', 'poll', 'place', 'wait', 'minut', 'vote'])\n",
            " list(['receiv', 'text', 'ask', 'help', 'reach', 'friend', 'vote', 'democrat', 'person', 'believ', 'illeg', 'vote', 'harvest', 'go', 'pay', 'week'])\n",
            " list(['hand', 'felt', 'tip', 'sharpi', 'style', 'pen', 'vote', 'brought', 'powerpoint'])\n",
            " list(['sent', 'absente', 'ballot', 'track', 'know', 'count', 'chesterfield', 'counti', 'va'])\n",
            " list(['poll', 'locat', 'address', 'w', 'boswel', 'blvd', 'sun', 'citi', 'arizona', 'use', 'marker', 'state', 'make', 'sure', 'ballot', 'dri', 'scan', 'g', 'one', 'marker'])\n",
            " list(['printer', 'issu', 'print', 'paper', 'ballot', 'hour', 'wait', 'technician', 'arriv', 'fix', 'problem', 'spoil', 'check', 'in', 'issu', 'ticket', 'vote', 'locat', 'first', 'southern', 'baptist', 'church', 'chino', 'valley', 'az', 'sr', 'chino', 'valley', 'az', 'unit', 'state'])\n",
            " list(['morgan', 'counti', 'indiana', 'govt', 'offic', 'voter', 'registr', 'offic', 'sever', 'suspici', 'wifi', 'network', 'label', 'name', 'pollpad', 'poll', 'book'])\n",
            " list(['live', 'blue', 'state', 'use', 'tax', 'illeg', 'unsustain', 'crime', 'head', 'similar', 'direct', 'unsustain', 'right', 'along', 'drug', 'abus', 'state', 'absolut', 'mess', 'homeless', 'close', 'border', 'put', 'american', 'first', 'pleas'])\n",
            " list(['vote', 'first', 'southern', 'baptist', 'church', 'sr', 'chino', 'valley', 'az', 'report', 'printer', 'issu', 'alreadi', 'extens', 'report', 'printer', 'final', 'got', 'work', 'first', 'ballot', 'spoil', 'new', 'ticket', 'ballot', 'issu', 'told', 'ballot', 'print', 'differ', 'printer', 'printer', 'poll', 'place', 'way', 'know', 'ballot', 'print'])\n",
            " list(['sec', 'state', 'poll', 'locat', 'name', 'incorrect', 'show', 'imbc', 'colleg', 'name', 'poll', 'place', 'precinct', 'howev', 'actual', 'call', 'ibmc', 'thank', 'googl', 'map', 'interpret', 'imbc', 'ibmc', 'first', 'result', 'locat', 'longmont', 'co', 'greeley', 'co', 'instead', 'search', 'http', 'www', 'so', 'state', 'co', 'us', 'pub', 'elect', 'vip', 'html', 'address', 'nearbi', 'poll', 'place', 'emeri', 'st', 'longmont', 'co'])\n",
            " list(['name', 'ruth', 'rondon', 'receiv', 'two', 'voter', 'card', 'mail', 'one', 'mine', 'one'])\n",
            " list(['write', 'choic', 'automat', 'send', 'ballot', 'adjud', 'put', 'noth', 'goe', 'adjud', 'well'])\n",
            " list(['vote', 'machin'])\n",
            " list(['maricopa', 'counti', 'mesa', 'drop', 'box', 'video', 'feed', 'pm', 'woman', 'left', 'approach', 'multipl', 'peopl', 'walk', 'drop', 'ballot', 'walk', 'away', 'drop', 'box', 'camera', 'would', 'walk', 'shot', 'left', 'would', 'get', 'peopl', 'agre', 'stop', 'talk', 'minut', 'time', 'voter', 'could', 'still', 'seen', 'stand', 'next', 'box', 'clearli', 'talk', 'interact', 'would', 'step', 'frame'])\n",
            " list(['went', 'vote', 'primari', 'elect', 'august', 'approxim', 'pm', 'calvari', 'bibl', 'church', 'doney', 'park', 'flagstaff', 'coconino', 'counti', 'voter', 'booth', 'black', 'felt', 'pen', 'attach', 'station', 'pen', 'print', 'said', 'offici', 'voter', 'pen', 'compani', 'name', 'ask', 'poll', 'worker', 'felt', 'pen', 'instead', 'ballpoint', 'said', 'dont', 'know', 'offici', 'pen', 'provid', 'coconino', 'counti', 'ask', 'could', 'use', 'ballpoint', 'pen', 'said', 'ye', 'offer', 'one', 'use', 'black', 'ballpoint', 'pen', 'vote', 'case', 'photo', 'pen', 'provid', 'vote', 'place', 'booth', 'photo', 'print', 'pen', 'need', 'let', 'upload', 'one', 'photo'])\n",
            " list(['question', 'live', 'casa', 'grand', 'poll', 'locat', 'put', 'ballot', 'lock', 'militari', 'look', 'box', 'ran', 'machin', 'still', 'legal', 'photo', 'let', 'send', 'without', 'photo'])\n",
            " list(['wifi', 'present', 'build', 'present', 'park', 'lot', 'match', 'name', 'locat', 'vote', 'take', 'place', 'also', 'overheard', 'elect', 'worker', 'tell', 'two', 'voter', 'unabl', 'cast', 'ballot', 'mail', 'absente', 'ballot', 'deni', 'receiv', 'ballot', 'mail'])\n",
            " list(['wickiup', 'precinct', 'pentel', 'pen', 'place', 'conveni', 'insid', 'booth', 'everi', 'singl', 'booth', 'least', 'one', 'felt', 'tip', 'pen', 'readi', 'wait', 'photo', 'taken', 'vote', 'center', 'locat', 'sunris', 'methodist', 'church', 'th', 'ave', 'utopia', 'maricopa', 'co', 'aug', 'approx'])\n",
            " list(['finish', 'earli', 'vote', 'town', 'tuesday', 'surrend', 'mail', 'ballet', 'ye', 'receiv', 'vote', 'person', 'ye', 'southern', 'ca', 'open', 'wi', 'fi', 'connect', 'page', 'open', 'wi', 'fi', 'connect', 'black', 'first', 'one', 'local', 'school', 'auto', 'connect', 'avail', 'connect', 'look', 'suspici', 'thank', 'photo', 'show', 'attach', 'tri', 'time', 'case', 'pictur', 'come', 'open', 'wi', 'fi', 'vote', 'spot', 'ciscoairprovis', 'dymolww', 'f', 'dymolww', 'f', 'e', 'dymolww', 'f', 'c', 'dymolww', 'f'])\n",
            " list(['put', 'ballot', 'machin', 'got', 'green', 'check', 'show', 'vote'])\n",
            " list(['solicit', 'facebook', 'record', 'show', 'regist', 'vote', 'link', 'could', 'click', 'took', 'state', 'supposedli', 'live', 'regist', 'next', 'sever', 'week', 'receiv', 'ballot', 'destroy', 'two', 'submit', 'one', 'got', 'think', 'especi', 'person', 'wit', 'even', 'watch', 'instant', 'flip', 'flop', 'vote', 'poll', 'supposedli', 'close', 'recent', 'seen', 'request', 'facebook', 'account', 'lead', 'concern', 'elect', 'integr', 'q', 'social', 'media', 'compani', 'involv', 'vote', 'industri', 'certainli', 'case', 'fraud', 'illeg', 'vote', 'sourc'])\n",
            " list(['total', 'vote', 'candid', 'tabul', 'ptintout'])\n",
            " list(['printer', 'misalign', 'republican', 'demand', 'ballot', 'occur', 'ellsworth', 'rd', 'queen', 'creek', 'az', 'elect', 'worker', 'seem', 'understand', 'issu', 'scope', 'crosshair', 'align', 'ballot', 'adjud'])\n",
            " list(['multipl', 'avail', 'wi', 'fi', 'network', 'poll', 'place'])\n",
            " list(['multipl', 'issu', 'around', 'count', 'nye', 'counti'])\n",
            " list(['henrico', 'codifi', 'drop', 'box', 'told', 'monitor', 'anyon', 'check', 'video', 'surveil', 'work', 'caught', 'video', 'otherwis', 'good'])\n",
            " list(['attach', 'observ', 'report', 'desert', 'hill', 'church', 'poll', 'locat'])\n",
            " list(['vote', 'histori', 'primari', 'gener', 'show', 'receiv', 'sig', 'valid', 'ballot', 'count', 'email', 'primari'])\n",
            " list(['receiv', 'usp', 'inform', 'deliveri', 'notic', 'daili', 'incom', 'mail', 'receiv', 'two', 'separ', 'notic', 'show', 'ballot', 'deliveri', 'spous', 'mail', 'mail', 'hold', 'due', 'town', 'mail', 'later', 'receiv', 'except', 'ballot', 'onlin', 'statu', 'show', 'mail', 'call', 'origin', 'ballot', 'cancel', 'void', 'reissu', 'receiv', 'two', 'new', 'ballot', 'happen', 'origin', 'ballot'])\n",
            " list(['regist', 'vote', 'new', 'address', 'deadlin', 'onlin', 'inform', 'registr', 'say', 'vote', 'old', 'address', 'switch', 'counti', 'let', 'vote', 'either', 'counti', 'race', 'allow', 'limit', 'ballot', 'state', 'nation', 'make', 'drive', 'differ', 'locat', 'limit', 'ballot', 'impedi', 'vote', 'limit', 'transport', 'deni', 'right', 'vote', 'local', 'issu'])\n",
            " list(['check', 'vote', 'histori', 'say', 'vote', 'elect', 'absolut', 'incorrect', 'husband'])\n",
            " list(['shingletown', 'ca', 'felt', 'marker', 'hand', 'use', 'ballot', 'everi', 'mark', 'complet', 'bled', 'side', 'ballot', 'question', 'told', 'ink', 'dri', 'faster', 'regular', 'pen', 'therefor', 'reduc', 'machin', 'mainten'])\n",
            " list(['good', 'day', 'friend', 'notic', 'flier', 'east', 'flatbush', 'misrepres', 'voter', 'registr', 'deadlin', 'oct', 'oct', 'yuri', 'us', 'com', 'case', 'thank'])\n",
            " list(['poll', 'book', 'paper', 'ballot', 'poll', 'place', 'facil', 'brentsvil', 'dist', 'high', 'school', 'facil', 'address', 'aden', 'rd', 'nokesvil', 'va'])\n",
            " list(['help'])\n",
            " list(['felt', 'tip', 'pen', 'vote', 'station', 'told', 'turn', 'ballot', 'give', 'us', 'new', 'one', 'want', 'use', 'ballot', 'go', 'hallway', 'complet', 'seat', 'forc', 'put', 'balloon', 'box'])\n",
            " list(['text'])\n",
            " list(['wall', 'side', 'desk', 'vote', 'privat', 'vote', 'area', 'open', 'back', 'curtain', 'tabl', 'smooth', 'surfac', 'entir', 'bumpi', 'conduc', 'neatli', 'fill', 'circl', 'ballot', 'told', 'deposit', 'ballot', 'pad', 'lock', 'wooden', 'box', 'scanner', 'wooden', 'box'])\n",
            " list(['machin', 'take', 'paper', 'keep', 'jam', 'keep', 'reboot', 'machin'])\n",
            " list(['somali', 'interpret', 'point', 'vote', 'peopl'])\n",
            " list(['poll', 'log', 'ticket', 'ballot', 'log', 'vote', 'machin', 'also', 'poll', 'place', 'seem', 'busi', 'one', 'machin', 'seem', 'low', 'number', 'ballot', 'thought', 'cast', 'base', 'voter', 'activ', 'plu', 'poll', 'locat', 'mandat', 'use', 'sharpi'])\n",
            " list(['taken', 'pictur', 'walk', 'small', 'precinct', 'three', 'vote', 'station', 'set', 'face', 'clerk', 'privaci', 'made', 'judg', 'set', 'separ', 'vote', 'station', 'face', 'away', 'clerk', 'vote', 'blue', 'pen', 'also', 'ride', 'candid', 'elect', 'judg', 'stood', 'right', 'put', 'ballot', 'machin', 'ballot', 'accept', 'cannot', 'find', 'ride', 'vote', 'count', 'precinct', 'number', 'torranc', 'counti', 'new', 'mexico'])\n",
            " list(['spring', 'mill', 'middl', 'machin', 'neither', 'work', 'poll', 'open', 'voter', 'turn', 'away', 'peopl', 'chose', 'wait', 'often', 'turn', 'unus', 'ballot', 'tri', 'return', 'later', 'peopl', 'vote', 'machin', 'work', 'precinct', 'paper', 'provision', 'ballot', 'made', 'avail', 'privaci', 'screen', 'machin', 'berkeley', 'counti', 'fastest', 'grow', 'counti', 'wv'])\n",
            " list(['request', 'mail', 'ballot'])\n",
            " list(['review', 'provision', 'ballot', 'open', 'process', 'open', 'public', 'meet', 'nov', 'pm', 'tabl', 'move', 'back', 'normal', 'counti', 'elect', 'board', 'secretari', 'stood', 'view', 'line', 'site', 'roll', 'printout', 'move', 'around', 'could', 'stood', 'side', 'stand', 'seem', 'deliber', 'end', 'process', 'one', 'worker', 'parti', 'chairman', 'tape', 'ballot', 'box', 'machin', 'print', 'tape', 'put', 'box', 'untap', 'put', 'machin', 'print', 'tape', 'insid', 'sign', 'new', 'sticker', 'tape', 'box', 'use', 'new', 'box', 'worker', 'wit', 'may', 'protocol', 'expect', 'get', 'new', 'box', 'also', 'entir', 'meet', 'includ', 'final', 'count', 'certif', 'elect', 'board', 'secretari', 'present', 'one', 'parti', 'chairman', 'expect', 'chairman', 'top', 'parti', 'sinc', 'one', 'certifi', 'count', 'took', 'video', 'unabl', 'upload'])\n",
            " list(['commission', 'local', 'govern', 'offici', 'bound', 'get', 'answer', 'attach', 'legal', 'document', 'need', 'go'])\n",
            " list(['precinct', 'almont', 'two', 'lapeer', 'counti', 'mi', 'allow', 'use', 'black', 'sharpi', 'mani', 'us', 'inquir', 'bleed', 'threw', 'issu', 'told', 'machin', 'would', 'recogn', 'bleed', 'circl'])\n",
            " list(['clark', 'counti', 'sent', 'mail', 'ballot', 'even', 'went', 'cc', 'voter', 'websit', 'month', 'ago', 'submit', 'form', 'send', 'mail', 'ballot', 'via', 'usp', 'vote', 'person', 'alway', 'see', 'attach', 'photo'])\n",
            " list(['peopl', 'cortland', 'brag', 'steal', 'ballot', 'stuf', 'box'])\n",
            " list(['pa', 'see', 'text', 'photo'])\n",
            " list(['stephen', 'richter', 'soro', 'fund', 'kati', 'hobb', 'get', 'voter', 'roll', 'clean', 'never', 'diana', 'gonzalez', 'democrat', 'whose', 'live', 'address', 'get', 'ballot', 'voter', 'id', 'card', 'sent', 'alway', 'confus', 'disarray', 'run', 'maricopa', 'counti', 'elect', 'dept'])\n",
            " list(['suffolk', 'va', 'sent', 'new', 'voter', 'registr', 'card', 'show', 'new', 'precinct', 'locat', 'peopl', 'suffolk', 'tell', 'us', 'receiv', 'copi', 'differ', 'envelop', 'differ', 'day', 'would', 'get', 'duplic', 'like', 'funni', 'busi', 'go', 'citi', 'honest', 'mistak', 'whole', 'lot', 'peopl', 'get', 'duplic', 'sent'])\n",
            " list(['one', 'month', 'earli', 'vote', 'ballot', 'mail', 'request', 'remov', 'list', 'want', 'vote', 'person', 'elect', 'day', 'sent', 'second', 'email', 'request', 'two', 'week', 'later', 'receiv', 'earli', 'vote', 'ballot', 'mail', 'sure', 'issu', 'longer', 'trust', 'mail', 'ballot', 'wish', 'follow'])\n",
            " list(['one', 'first', 'vote', 'anthem', 'outlet', 'mall', 'locat', 'got', 'tabl', 'vote', 'realiz', 'incorrect', 'ballot', 'go', 'get', 'anoth', 'ballot', 'ld', 'sure', 'extra', 'ballot', 'went', 'back', 'later', 'ask', 'said', 'bag'])\n",
            " list(['mother', 'sister', 'address', 'gilbert', 'receiv', 'vote', 'ballot', 'duplic', 'name', 'print', 'address', 'notic', 'neither', 'access', 'app', 'phone', 'fill', 'form', 'roberta', 'barsanti', 'barbara', 'barsanti', 'address', 'e', 'walnut', 'rd', 'gilbert', 'az'])\n",
            " list(['poll', 'manag', 'pull', 'huge', 'stack', 'ballot', 'separ', 'compart', 'within', 'machin', 'locat', 'caviti', 'vote', 'separ', 'part', 'caviti', 'fran', 'start', 'pull', 'like', 'ballot', 'anoth', 'worker', 'stop', 'told', 'write', 'in', 'imagin', 'would', 'write', 'in', 'write', 'in', 'end', 'one', 'scanner', 'place', 'total', 'two', 'scanner', 'randomli', 'entir', 'day'])\n",
            " list(['boarder', 'zar', 'kamala', 'biden', 'endang', 'republ', 'democraci'])\n",
            " list(['pc', 'sit', 'tabl', 'review', 'sampl', 'ballot', 'ask', 'supervisor', 'poll', 'mgr', 'explain', 'answer', 'question', 'redistrict', 'start', 'tab', 'district', 'map', 'tab', 'georgia', 'so', 'myvot', 'page', 'tab', 'congressman', 'luci', 'mcbath', 'ask', 'said', 'suppos', 'close', 'tab', 'saw', 'voter', 'impact', 'nobodi', 'use', 'machin', 'sit', 'unlabel', 'expect', 'one', 'use', 'unexpect', 'appear', 'one', 'launch', 'websit', 'includ', 'politician'])\n",
            " list(['wit', 'man', 'ballot', 'drop', 'box', 'lake', 'hill', 'il', 'notifi', 'elect', 'worker', 'seem', 'care'])\n",
            " list(['voter', 'registr', 'cancel', 'secretari', 'state', 'offic', 'call', 'would', 'give', 'reason', 'provision', 'ballot', 'like', 'told', 'said', 'count', 'regist', 'vote', 'vote', 'primari', 'problem', 'voter', 'registr', 'card'])\n",
            " list(['felt', 'tip', 'pen', 'vote', 'booth', 'dream', 'citi', 'church', 'scottsdal', 'campu', 'tila', 'mandatori', 'use', 'brought', 'blue', 'ball', 'point', 'told', 'use', 'use', 'provid', 'pen', 'use', 'mine', 'anyway', 'work', 'audit', 'know', 'market', 'use', 'copi', 'invalid', 'ballot', 'vote'])\n",
            " list(['wife', 'activ', 'mail', 'list', 'want', 'vote', 'person', 'today', 'arriv', 'poll', 'locat', 'n', 'north', 'valley', 'pkwi', 'phoenix', 'roughli', 'upon', 'arriv', 'ladi', 'repres', 'democrat', 'candid', 'jeann', 'casteen', 'told', 'us', 'machin', 'go', 'elsewher', 'vote', 'want', 'see', 'ask', 'poll', 'worker', 'machin', 'run', 'said', 'ye', 'check', 'receiv', 'ballot', 'without', 'issu', 'wife', 'use', 'ball', 'point', 'blue', 'pen', 'line', 'notic', 'abnorm', 'high', 'reject', 'rate', 'ballot', 'went', 'tabul', 'machin', 'turn', 'ballot', 'reject', 'tri', 'front', 'back', 'step', 'asid', 'wife', 'ballot', 'went', 'nd', 'tri', 'told', 'drop', 'ballot', 'slot', 'tabul', 'later', 'today', 'also', 'wait', 'line', 'poll', 'worker', 'comment', 'seem', 'problem', 'ballot', 'fill', 'ball', 'point', 'pen', 'roughli', 'ballot', 'reject', 'machin', 'oper'])\n",
            " list(['ballot', 'counter', 'number', 'chang', 'ballot', 'insert', 'voter', 'verifi'])\n",
            " list(['folk', 'civic', 'center', 'truth', 'consequ', 'nm', 'complain', 'poor', 'light', 'offici', 'hand', 'magnif', 'glass'])\n",
            " list(['illeg', 'drop', 'box', 'grand', 'canyon', 'drive', 'madison', 'wi', 'locat'])\n",
            " list(['arriv', 'poll', 'place', 'e', 'jackson', 'st', 'phoenix', 'az', 'cast', 'vote', 'juli', 'th', 'vote', 'sign', 'place', 'way', 'contradict', 'go', 'attempt', 'open', 'door', 'lock', 'instruct', 'visabl', 'walk', 'around', 'look', 'entri', 'point', 'frustrat', 'point', 'wad', 'readi', 'leav', 'found', 'woman', 'dumpster', 'ask', 'poll', 'locat', 'point', 'door', 'initi', 'tri', 'open', 'told', 'lock', 'argu', 'state', 'ask', 'even', 'tri', 'open', 'ye', 'use', 'badg', 'open', 'door', 'announc', 'aclu', 'voter', 'suppress', 'go', 'beg', 'differ', 'notic', 'door', 'prop', 'open', 'consider', 'warmer', 'room', 'worker', 'insid', 'also', 'state', 'peopl', 'pound', 'door', 'want', 'vote', 'process', 'tell', 'worker', 'tri', 'vote', 'could', 'stop', 'shout', 'across', 'room', 'done', 'guy', 'suppos', 'instruct', 'ballot', 'bother', 'refus', 'look', 'phone'])\n",
            " list(['forc', 'use', 'felt', 'tip', 'pen'])\n",
            " list(['father', 'receiv', 'mail', 'address', 'elect', 'voter', 'registr', 'verif', 'sent', 'deceas', 'never', 'live', 'pennsylvania', 'check', 'see', 'vote', 'last', 'month'])\n",
            " list(['poll', 'station', 'estrella', 'mountain', 'commun', 'colleg', 'use', 'pentel', 'sign', 'pen', 'kind', 'feel', 'like', 'sharpi', 'pretti', 'sure', 'caus', 'bleed', 'could', 'see', 'black', 'circl', 'vote', 'turn', 'ballot', 'around', 'view', 'side', 'pictur', 'believ', 'type', 'pen', 'use', 'hope', 'help'])\n",
            " list(['two', 'printer', 'poll', 'locat', 'neither', 'would', 'print', 'ballot', 'shortli', 'open', 'one', 'print', 'envelop', 'earli', 'vote', 'ballot', 'guy', 'name', 'leo', 'cell', 'phone', 'tri', 'fix', 'said', 'password', 'laptop', 'control', 'printer', 'yell', 'across', 'room', 'password', 'piec', 'paper', 'pile', 'direct', 'quot', 'meanwhil', 'cell', 'phone', 'speaker', 'person', 'speak', 'give', 'laptop', 'password', 'loud', 'peopl', 'stand', 'around', 'wait', 'vote', 'someon', 'come', 'rush', 'across', 'room', 'piec', 'paper', 'leo', 'say', 'ye', 'password', 'need', 'password', 'lay', 'around', 'pile', 'paper'])\n",
            " list(['nc', 'gop', 'hotlin', 'tell', 'gop', 'observ', 'enter', 'poll', 'place', 'elect', 'day', 'spoke', 'site', 'supervisor', 'work', 'one', 'earli', 'vote', 'site', 'wake', 'counti', 'nc', 'democrat', 'said', 'poll', 'observ', 'could', 'arriv', 'feel', 'like', 'nc', 'gop', 'hotlin', 'work', 'gop', 'poll', 'worker', 'trojan', 'hors', 'type', 'deal', 'spoke', 'site', 'supervisor', 'steve', 'w', 'e', 'hunt', 'rec', 'center', 'stinson', 'ave', 'holli', 'spring', 'nc', 'pm', 'today', 'spoke', 'nc', 'gop', 'hotlin', 'pm', 'today', 'also', 'told', 'cheat', 'nc', 'work', 'call', 'provision', 'voter', 'post', 'elect', 'sent', 'normal', 'tabul', 'classifi', 'regular', 'ballot', 'shock', 'vote', 'provision', 'also', 'wit', 'girl', 'pink', 'suitcas', 'full', 'ballot', 'leav', 'nc', 'state', 'boe', 'build', 'recount', 'untru', 'statement'])\n",
            " list(['made', 'use', 'sharpi', 'witch', 'result', 'extrem', 'bleed'])\n",
            " list(['wife', 'hand', 'pallet', 'field', 'alreadi', 'democrat', 'brought', 'attent', 'know', 'happen', 'took', 'almost', 'hour', 'figur', 'indec', 'video'])\n",
            " list(['vote', 'locat', 'norfolk', 'ocean', 'view', 'golf', 'cours', 'alway', 'ask', 'us', 'say', 'aloud', 'name', 'address', 'right', 'hand', 'virginia', 'driver', 'licens', 'normal', 'also', 'give', 'us', 'ballot', 'fill', 'pen', 'hand', 'us', 'receipt', 'put', 'vote', 'comput', 'machin', 'ask', 'receipt', 'back', 'might', 'noth', 'seem', 'weird', 'thoe', 'thank'])\n",
            " list(['see', 'two', 'young', 'peopl', 'tri', 'regist', 'peopl', 'vote', 'compani', 'call', 'ace'])\n",
            " list(['nd', 'ballot', 'sent', 'employ', 'virgil', 'doerfler', 'valid', 'ballot', 'receiv', 'virgil', 'allan', 'doerfler'])\n",
            " list(['http', 'photo', 'app', 'goo', 'gl', 'wr', 'rwjlxok', 'ccqru'])\n",
            " list(['receiv', 'call', 'voicemail', 'claim', 'pinal', 'counti', 'copi', 'text', 'dictat', 'voicemail', 'save', 'voicemail', 'appar', 'robot', 'voic', 'say', 'run', 'ballot', 'need', 'print', 'alreadi', 'vote', 'person', 'robot', 'voic', 'claim', 'other', 'still', 'vote', 'person', 'may', 'requir', 'ballot', 'print', 'sound', 'suspici'])\n",
            " list(['dear', 'votifynow', 'org', 'wife', 'vote', 'person', 'morn', 'sign', 'comput', 'screen', 'posit', 'vertic', 'make', 'difficult', 'posit', 'sign', 'name', 'addit', 'stylu', 'pen', 'avail', 'use', 'write', 'signatur', 'use', 'finger', 'fingernail', 'extrem', 'awkward', 'screen', 'captur', 'signatur', 'way', 'resembl', 'actual', 'signatur', 'addit', 'numer', 'skip', 'tri', 'sign', 'finger', 'tri', 'time', 'final', 'settl', 'total', 'distort', 'signatur', 'opinion', 'attempt', 'verifi', 'signatur', 'use', 'method', 'complet', 'unreli', 'vote', 'cactu', 'high', 'school', 'site', 'addit', 'machin', 'tri', 'accept', 'ballot', 'reject', 'sever', 'heard', 'radio', 'happen', 'ballot', 'use', 'fine', 'point', 'blue', 'ink', 'sharpi', 'notic', 'mani', 'circl', 'bled', 'back', 'person', 'charg', 'told', 'machin', 'setup', 'take', 'consider', 'sincer', 'jame', 'meyer', 'md', 'peoria', 'az'])\n",
            " list(['vote', 'church', 'cactu', 'scottsdal', 'road', 'west', 'scott', 'cactu', 'pen', 'go', 'use', 'ballot', 'told', 'could', 'use', 'sharpi', 'question', 'ballot', 'say', 'certain', 'pen', 'pencil', 'use', 'fill', 'ballot', 'assur', 'sharpi', 'finish', 'went', 'machin', 'put', 'ballot', 'show', 'gentleman', 'bleed', 'mark', 'side', 'ask', 'would', 'count', 'assur', 'long', 'bleed', 'mark', 'bubbl', 'either', 'side', 'would', 'fine', 'post', 'elect', 'sharpi', 'gate', 'came', 'call', 'governor', 'ducey', 'offic', 'hold', 'min', 'gentleman', 'took', 'call', 'assur', 'ballot', 'fill', 'sharpi', 'would', 'hand', 'transcrib', 'someon', 'told', 'illeg', 'one', 'fill', 'ballot', 'also', 'ask', 'could', 'see', 'ballot', 'count', 'inform', 'way', 'see', 'turn', 'stori', 'attorney', 'cave', 'creek', 'well'])\n",
            " list(['hello', 'wonder', 'els', 'earli', 'octob', 'receiv', 'ballot', 'mail', 'fill', 'ballot', 'turn', 'citi', 'hall', 'chandler', 'poll', 'worker', 'ask', 'see', 'signatur', 'wife', 'drop', 'ballot', 'thursday', 'novemb', 'friday', 'wife', 'check', 'see', 'ballot', 'count', 'found', 'account', 'said', 'regist', 'inact', 'need', 'call', 'verifi', 'address', 'vote', 'without', 'incid', 'primari', 'address', 'monday', 'novemb', 'check', 'account', 'said', 'thing', 'call', 'number', 'list', 'onlin', 'explain', 'situat', 'told', 'woman', 'spoke', 'want', 'sure', 'vote', 'count', 'told', 'someon', 'alreadi', 'call', 'talk', 'supervisor', 'assur', 'never', 'call', 'call', 'sure', 'vote', 'count', 'told', 'got', 'ballot', 'mail', 'name', 'turn', 'vote', 'would', 'count', 'ask', 'get', 'verif', 'took', 'phone', 'number', 'said', 'supervisor', 'would', 'return', 'call', 'get', 'phone', 'call', 'today', 'attempt', 'log', 'account', 'got', 'notif', 'one', 'regist', 'inform', 'point', 'concern', 'vote', 'count', 'mani', 'peopl', 'situat', 'know', 'make', 'known', 'right', 'thank', 'raymond', 'hogan'])\n",
            " list(['earli', 'vote', 'coverag', 'bridgeport', 'polic', 'depart', 'wise', 'counti', 'vote', 'ladi', 'came', 'question', 'proposit', 'ballot', 'cast', 'told', 'live', 'border', 'two', 'citi', 'therefor', 'abl', 'vote', 'told', 'besid', 'alreadi', 'cast', 'vote', 'noth', 'done', 'anyway'])\n",
            " list(['wifi', 'avail', 'poll', 'locat', 'cleveland', 'counti', 'librari', 'shelbi', 'nc'])\n",
            " list(['want', 'know', 'legit', 'said', 'want', 'mail', 'ballot', 'round'])\n",
            " list(['vote', 'jd', 'vanc', 'review', 'ballot', 'show', 'vote', 'ryan'])\n",
            " list(['primari', 'elect', 'day', 'june', 'happen', 'pittsburg', 'counti', 'oklahoma', 'fire', 'mcalest', 'church', 'close', 'poll', 'place', 'newson', 'com', 'stori', 'bafa', 'cecb', 'dc', 'aea', 'emerg', 'crew', 'respond', 'fire', 'mcalest', 'church', 'poll', 'place', 'http', 'photo', 'app', 'goo', 'gl', 'wr', 'rwjlxok', 'ccqru'])\n",
            " list(['receiv', 'preview', 'go', 'ballot', 'show', 'maricopa', 'counti', 'board', 'supervisor', 'go', 'went', 'vote', 'actual', 'ballot', 'maricopa', 'counti', 'board', 'supervisor'])\n",
            " list(['observ', 'new', 'elect', 'judg', 'minnesota', 'http', 'tomstream', 'blogspot', 'com', 'tom', 'cleland', 'elect', 'judg', 'html'])\n",
            " list(['may', 'concern', 'cast', 'ballot', 'locat', 'found', 'w', 'paradis', 'ln', 'glendal', 'az', 'commun', 'christ', 'church', 'ballot', 'print', 'fade', 'tab', 'upper', 'lower', 'left', 'hand', 'side', 'form', 'pill', 'worker', 'advis', 'us', 'color', 'tab', 'otherwis', 'count', 'initi', 'spoiler', 'ballot', 'discard', 'woman', 'receiv', 'either', 'mani', 'peopl', 'extrem', 'concern', 'advic', 'site', 'spoke', 'repres', 'toni', 'kern', 'issu'])\n",
            " list(['forc', 'use', 'sharpi', 'perman', 'marker', 'fill', 'spot', 'ballot', 'attach', 'photo', 'show', 'bleed', 'ballot'])\n",
            " list(['told', 'judg', 'elect', 'allow', 'slate', 'card', 'visibl', 'vote', 'put', 'away', 'taylor', 'born', 'precinct', 'committe', 'person', 'said', 'repetiti', 'problem', 'judg', 'elect'])\n",
            " list(['receiv', 'mail', 'ballot', 'seem', 'ident'])\n",
            " list(['park', 'lot', 'poll', 'place', 'cover', 'water', 'due', 'water', 'main', 'break', 'one', 'turn', 'water', 'pictur', 'taken', 'husband', 'went', 'turn', 'mail', 'ballot', 'poll', 'place', 'baptist', 'church', 'block', 'nd', 'st', 'phil', 'maschu'])\n",
            " list(['abc'])\n",
            " list(['unit', 'methodist', 'church', 'e', 'rigg', 'rd', 'sun', 'lake', 'az', 'ballot', 'machin', 'misread', 'massiv', 'amount', 'ballot', 'voter', 'told', 'either', 'spoil', 'current', 'ballot', 'get', 'back', 'line', 'fill', 'entir', 'ballot', 'submit', 'ballot', 'handcount', 'peopl', 'upset', 'dont', 'like', 'hand', 'count', 'risk', 'accept'])\n",
            " list(['greenvil', 'vote', 'machin', 'set', 'night', 'school', 'least', 'peopl', 'key', 'librari', 'machin', 'set', 'zip', 'tie', 'cut', 'everyth', 'complet', 'open', 'left', 'unprotect', 'night', 'act', 'precinct', 'committeeman', 'ec', 'gop', 'greenvil', 'also', 'poll', 'worker', 'greenvil'])\n",
            " list(['maricopa', 'counti', 'phoenix', 'drop', 'box', 'video', 'feed', 'pm', 'guy', 'drive', 'golf', 'glove', 'hand', 'handl', 'small', 'stack', 'ballot', 'liter', 'struggl', 'shove', 'stack', 'ballot', 'box', 'take', 'attempt', 'stuff', 'everyth', 'box', 'even', 'make', 'extra', 'effort', 'make', 'sure', 'noth', 'fall', 'leav', 'hand', 'wheel', 'glove', 'hand', 'hold', 'ballot', 'sure', 'wear', 'mask', 'anyth', 'appear', 'germaphob', 'scenario'])\n",
            " list(['madison', 'ct', 'use', 'felt', 'tip', 'pen'])\n",
            " list(['accept', 'invalid', 'verif', 'expir', 'passport'])\n",
            " list(['notic', 'fulton', 'director', 'elect', 'nadin', 'william', 'issu', 'garvi', 'send', 'voter', 'inform', 'poll', 'pad', 'transfer', 'issu', 'secretari', 'state', 'georgia', 'voter', 'registr', 'system', 'garvi', 'knowink', 'poll', 'pad', 'oper', 'system', 'garvi', 'transfer', 'voter', 'inform', 'poll', 'pad', 'issu', 'result', 'voter', 'locat', 'poll', 'pad', 'arriv', 'vote', 'intern', 'implement', 'sever', 'work', 'around', 'properli', 'respond', 'counter', 'issu', 'support', 'poll', 'manag', 'encount', 'matter', 'field', 'ensur', 'voter', 'abl', 'cast', 'ballot', 'continu', 'commun', 'so', 'knowink', 'regard', 'matter'])\n",
            " list(['stack', 'mail', 'ballot', 'blank', 'rubberband', 'counter', 'near', 'check'])\n",
            " list(['vanceboro', 'nc', 'observ', 'station', 'far', 'away', 'registr', 'desk', 'hear', 'say'])\n",
            " list(['husband', 'went', 'vote', 'chose', 'candid', 'vote', 'went', 'challeng', 'vote', 'challeng', 'told', 'known', 'glitch', 'system', 'sinc', 'updat', 'last', 'night', 'sorri', 'known', 'glitch', 'use', 'machin', 'older', 'peopl', 'confus', 'anyway', 'go', 'give', 'one', 'parti', 'leg', 'check', 'realiz', 'go', 'ketter', 'ohio', 'montgomeri', 'counti', 'berkley', 'rd', 'solomon', 'pavilion'])\n",
            " list(['gilbert', 'az', 'mcqueen', 'park', 'activ', 'center', 'time', 'sign', 'touch', 'screen', 'dl', 'success', 'printer', 'work', 'worker', 'could', 'move', 'ballot', 'anoth', 'printer', 'wait', 'minut', 'leav', 'work', 'told', 'ballot', 'would', 'spoil', 'would', 'give', 'provision', 'ballot', 'maricopa', 'record', 'say', 'vote', 'howev', 'cast', 'ballot', 'worker', 'said', 'sorri', 'guess', 'vote', 'due', 'bad', 'luck', 'crappi', 'new', 'system', 'helpless', 'worker', 'feel', 'cheat', 'sick'])\n",
            " list(['worker', 'could', 'find', 'electron', 'poll', 'book', 'new', 'eri', 'counti', 'ask', 'address', 'name', 'dob', 'last', 'time', 'vote', 'parti', 'said', 'regist', 'said', 'vote', 'locat', 'chang', 'sent', 'anoth', 'locat', 'road', 'ask', 'name', 'address', 'age', 'last', 'time', 'vote', 'parti', 'electron', 'book', 'list', 'woman', 'bonni', 'brown', 'offer', 'provision', 'ballot', 'expain', 'how', 'whi', 'knew', 'stuff', 'well', 'train', 'went', 'old', 'paper', 'poll', 'book', 'told', 'go', 'back', 'tell', 'name', 'went', 'mess', 'name', 'age', 'dob', 'last', 'time', 'vote', 'parti', 'noth', 'refus', 'use', 'old', 'poll', 'book', 'ask', 'id', 'show', 'bonni', 'brown', 'walk', 'rook', 'charg', 'tri', 'make', 'excus', 'took', 'hour', 'half', 'mile', 'locat', 'neali', 'walk', 'away', 'vote', 'noth', 'one', 'happen'])\n",
            " list(['earlier', 'tri', 'vote', 'pen', 'desert', 'flame', 'apach', 'trail', 'poll', 'locat', 'mesa', 'az', 'forc', 'use', 'felt', 'sharpi', 'pen', 'fume', 'use', 'proper', 'countri'])\n",
            " list(['receiv', 'mail', 'vote', 'applic', 'paid', 'michigan', 'state', 'democrat', 'central', 'committe', 'michigandem', 'com'])\n",
            " list(['mani', 'voter', 'today', 'turn', 'away', 'vote', 'last', 'elect', 'earli', 'inform', 'time', 'vote', 'vote'])\n",
            " list(['tell', 'peopl', 'use', 'sharpi', 'caus', 'issu', 'illinoi'])\n",
            " list(['skidmor', 'colleg', 'ny', 'voter', 'ask', 'state', 'resid', 'upon', 'arriv', 'vote', 'inspector', 'ask', 'birthdat', 'allow', 'vote', 'respond', 'answer', 'match', 'file', 'data', 'base', 'voter', 'address', 'data', 'base', 'skidmor', 'colleg', 'appear', 'direct', 'violat', 'ny', 'state', 'vote', 'law', 'section'])\n",
            " list(['want', 'help'])\n",
            " list(['regist', 'republican', 'foodstamp', 'offic', 'said', 'regist', 'vote', 'receiv', 'foodstamp', 'mail', 'regist', 'card', 'show'])\n",
            " list(['codi', 'librari', 'peopl', 'allow', 'outsid', 'poll', 'locat', 'hand', 'literatur', 'promot', 'candid'])\n",
            " list(['disabl', 'citizen'])\n",
            " list(['went', 'w', 'missouri', 'ave', 'phoenix', 'az', 'vote', 'today', 'novemb', 'th', 'fill', 'ballot', 'went', 'scan', 'machin', 'reject', 'volunt', 'told', 'flip', 'ballot', 'still', 'got', 'reject', 'flip', 'four', 'time', 'still', 'got', 'reject', 'tri', 'anoth', 'machin', 'reject', 'four', 'time', 'one', 'well', 'told', 'put', 'hole', 'could', 'count', 'later', 'downtown', 'heard', 'famili', 'member', 'issu', 'facil', 'came', 'vote', 'today', 'none', 'machin', 'work', 'conveni', 'vote', 'day'])\n",
            " list(['recent', 'appoint', 'precinct', 'committeeperson', 'lane', 'counti', 'republican', 'vote', 'integr', 'must', 'restor'])\n",
            " list(['pleas', 'see', 'attach', 'cyber', 'expert', 'maricopa', 'counti', 'az', 'machin', 'hack'])\n",
            " list(['fyi', 'receiv', 'text'])\n",
            " list(['visit', 'mother', 'stone', 'mountain', 'dekalb', 'counti', 'georgia', 'took', 'vote', 'today', 'librari', 'tucker', 'lavista', 'road', 'insid', 'poll', 'locat', 'look', 'cell', 'phone', 'see', 'wi', 'fi', 'network', 'avail', 'poll', 'locat', 'clerk', 'desk', 'immedi', 'told', 'could', 'cell', 'phone', 'poll', 'locat', 'told', 'look', 'avail', 'wi', 'fi', 'network', 'gave', 'stink', 'eye', 'told', 'put', 'phone', 'away', 'hide', 'someth', 'abl', 'take', 'pictur', 'anyth', 'sort', 'found', 'odd'])\n",
            " list(['saw', 'park', 'lot', 'vote', 'tonight', 'e', 'via', 'rancho', 'pkwi', 'escondido', 'look', 'suspici', 'outsid', 'vote', 'center', 'although', 'mall'])\n",
            " list(['daughter', 'live', 'nevada', 'regist', 'vote', 'receiv', 'mail', 'ballot', 'california', 'address', 'new', 'move', 'daughter', 'move', 'nevada', 'still', 'receiv', 'ballot', 'california'])\n",
            " list(['remov', 'aevl', 'august', 'email', 'state', 'confirm', 'chang', 'octob', 'receiv', 'ballot', 'mail'])\n",
            " list(['receiv', 'anoth', 'pinal', 'counti', 'record', 'offici', 'ballot', 'materi', 'arizona', 'someon', 'live', 'bought', 'home', 'march', 'receiv', 'differ', 'ballot', 'differ', 'peopl', 'name', 'person', 'bought', 'home', 'ballot', 'arriv', 'time', 'son', 'ballot', 'ballot', 'arriv', 'concern', 'return', 'ballot', 'use', 'someon', 'els', 'wrong', 'reason', 'pleas', 'see', 'pictur', 'envelop', 'upload', 'submiss', 'thank', 'look'])\n",
            " list(['ipad', 'use', 'intak', 'worker', 'verifi', 'collect', 'voter', 'data', 'never', 'done', 'access', 'own', 'devic', 'happen', 'data', 'data', 'merg', 'local', 'democrat', 'person', 'known', 'regist', 'voter', 'enter', 'makefield', 'elementari', 'school', 'lower', 'makefield', 'township', 'buck', 'counti', 'pa', 'district', 'vote', 'precinct'])\n",
            " list(['watcher', 'main', 'process', 'center', 'buck', 'counti', 'pa', 'pm', 'notic', 'board', 'elect', 'taken', 'tabl', 'fold', 'leg', 'place', 'vertic', 'block', 'view', 'process', 'person', 'vote'])\n",
            " list(['felt', 'tip', 'pen', 'caus', 'problem', 'dri', 'quickli', 'machin', 'smear', 'ink', 'ballot', 'spoil', 'tri', 'log', 'could', 'vote', 'electron', 'machin', 'work', 'abl', 'get', 'anoth', 'ballot', 'wait', 'longer', 'ink', 'dri', 'vote', 'shadow', 'mtn', 'hs'])\n",
            " list(['access', 'poll', 'due', 'school', 'line', 'children', 'pick', 'call', 'elect', 'offic', 'state', 'complain', 'superintend', 'least', 'hr', 'access', 'poll', 'pm', 'pm'])\n",
            " list(['go', 'voter', 'info', 'portal', 'hobb', 'locat', 'unknown'])\n",
            " list(['left', 'work', 'earli', 'dime', 'got', 'home', 'load', 'whole', 'mo', 'pregnant', 'wife', 'went', 'local', 'precinct', 'went', 'told', 'republican', 'ballot', 'told', 'call', 'get', 'ballot', 'give', 'full', 'name', 'person', 'cell', 'phone', 'number', 'stranger', 'worker', 'volunt', 'nice', 'enough', 'absolut', 'absurd', 'vote', 'year', 'record', 'offic', 'even', 'think', 'order', 'enough', 'ballot', 'process', 'place', 'event', 'pay', 'ton', 'money', 'tax', 'incompet', 'record', 'offic', 'mismanag', 'truli', 'sad', 'go', 'home', 'call', 'record', 'offic', 'said', 'would', 'supervisor', 'call', 'back', 'never', 'went', 'back', 'go', 'complain', 'tri', 'talk', 'other', 'wrong', 'turn', 'away', 'appar', 'receiv', 'ballot', 'time', 'call', 'point', 'busi', 'vote', 'place', 'regardless', 'abl', 'cast', 'vote', 'even', 'imagin', 'mani', 'peopl', 'never', 'end', 'go', 'back', 'truli', 'failur', 'numer', 'level'])\n",
            " list(['vote', 'morn', 'lifepoint', 'church', 'copper', 'basin', 'neighborhood', 'san', 'tan', 'valley', 'pinal', 'counti', 'pen', 'vote', 'booth', 'offici', 'pen', 'clearli', 'felt', 'tip', 'pen', 'post', 'pictur', 'brought', 'ballpoint', 'pen', 'educ', 'volunt', 'poll', 'locat', 'thought', 'marker', 'ok', 'say', 'offici', 'vote', 'pen', 'pen', 'marker', 'got', 'sampl', 'ballot', 'mail', 'say', 'use', 'blue', 'black', 'ball', 'point', 'pen', 'post', 'pictur', 'sampl', 'ballot', 'well'])\n",
            " list(['tabul', 'machin', 'accept', 'ballot', 'run', 'time', 'wife', 'hour', 'still', 'ballot', 'accept'])\n",
            " list(['valid', 'machin', 'function', 'air', 'libr', 'elementari', 'school', 'poll', 'place', 'north', 'phoenix', 'north', 'st', 'st', 'phoenix', 'az'])\n",
            " list(['harvest', 'vote', 'tell', 'peopl', 'vote'])\n",
            " list(['tabul', 'work'])\n",
            " list(['issu', 'elderli', 'coupl', 'said', 'alway', 'gotten', 'ballot', 'mail', 'time', 'poll', 'worker', 'said', 'could', 'redistrict'])\n",
            " list(['republican', 'voter', 'allow', 'use', 'vote', 'machin', 'fill', 'paper', 'ballot', 'put', 'red', 'bag', 'oppos', 'complet', 'paper', 'ballot', 'put', 'vote', 'machin', 'ballot', 'ballot', 'provision', 'ballot', 'ladi', 'spoke', 'state', 'last', 'minut', 'chang', 'candid', 'big', 'red', 'flag', 'chose', 'compli', 'report'])\n",
            " list(['vite', 'count'])\n",
            " list(['peopl', 'harass', 'voter', 'want', 'use', 'legal', 'drop', 'box', 'mesa', 'mind', 'busi', 'go', 'home'])\n",
            " list(['tabul', 'work', 'excess', 'wait', 'time', 'appear', 'one', 'know', 'tabul', 'reject', 'ballot', 'left', 'differ', 'vote', 'center'])\n",
            " list(['dominion', 'machin', 'across', 'mercer', 'counti'])\n",
            " list(['az', 'option', 'mail', 'ballot', 'primari', 'sign', 'one', 'time', 'mail', 'ballot', 'primari', 'go', 'town', 'primari', 'elect', 'day', 'although', 'eavl', 'receiv', 'earli', 'ballot', 'mail', 'gener', 'elect', 'check', 'earli', 'voter', 'statu', 'list', 'earli', 'voter', 'call', 'yavapai', 'counti', 'elect', 'tell', 'sign', 'earli', 'vote', 'gener', 'elect', 'sinc', 'vote', 'person', 'elect', 'day', 'check', 'also', 'said', 'earli', 'vote', 'list', 'said', 'throw', 'away', 'mail', 'ballot', 'vote', 'person', 'elect', 'day'])\n",
            " list(['lot', 'wi', 'fi', 'use'])\n",
            " list(['congress', 'concern', 'border', 'main', 'prioriti', 'us', 'govern', 'protect', 'border', 'enemi', 'invas', 'requir', 'presidenti', 'oath', 'preserv', 'protect', 'defend', 'constitut', 'unit', 'state', 'articl', 'impeach', 'focus', 'obviou', 'feloni', 'law', 'presid', 'broken', 'peopl', 'far', 'concern', 'illeg', 'invas', 'crook', 'financi', 'skeem', 'invad', 'clue', 'law', 'right', 'properti', 'includ', 'destruct', 'pollut'])\n",
            " list(['boon', 'counti', 'arkansa', 'parti', 'list', 'republican', 'democrat', 'candid', 'better', 'know'])\n",
            " list(['hope', 'get', 'photo'])\n",
            " list(['everi', 'year', 'get', 'text', 'messag', 'say', 'vote', 'count', 'howev', 'year', 'howev', 'say', 'vote', 'count', 'record', 'websit', 'maricopa', 'counti', 'prior', 'elect', 'get', 'text', 'messag', 'one', 'yet', 'includ', 'photo', 'situat'])]\n"
          ]
        }
      ]
    },
    {
      "cell_type": "markdown",
      "source": [
        "#### convert the x_train from string data to numerical data"
      ],
      "metadata": {
        "id": "xgmKV_xwifGT"
      }
    },
    {
      "cell_type": "code",
      "source": [
        "vectorizer = TfidfVectorizer()\n",
        "# Convert the list of lists in x_train to a list of strings\n",
        "x_train_str = [' '.join(doc) for doc in x_train]\n",
        "x_train = vectorizer.fit_transform(x_train_str)\n",
        "\n",
        "\n",
        "x_test_str = [' '.join(doc) for doc in x_test]\n",
        "x_test = vectorizer.transform(x_test_str)\n",
        "\n",
        "# Check the type of x_train\n",
        "print(type(x_train))\n",
        "\n",
        "# Look at a small part of the data (first 5 rows and columns)\n",
        "print(x_train[:5, :5].toarray()) # Convert a small slice to a dense array for display\n"
      ],
      "metadata": {
        "colab": {
          "base_uri": "https://localhost:8080/"
        },
        "outputId": "84144c31-c8b7-4b28-c753-6e20d1a905c3",
        "id": "CfW399iRifGT"
      },
      "execution_count": 134,
      "outputs": [
        {
          "output_type": "stream",
          "name": "stdout",
          "text": [
            "<class 'scipy.sparse._csr.csr_matrix'>\n",
            "[[0. 0. 0. 0. 0.]\n",
            " [0. 0. 0. 0. 0.]\n",
            " [0. 0. 0. 0. 0.]\n",
            " [0. 0. 0. 0. 0.]\n",
            " [0. 0. 0. 0. 0.]]\n"
          ]
        }
      ]
    },
    {
      "cell_type": "code",
      "source": [
        "print(x_train)"
      ],
      "metadata": {
        "colab": {
          "base_uri": "https://localhost:8080/"
        },
        "outputId": "9e2b54d2-98e0-4860-d610-6c5d5f7b5f75",
        "id": "UNzAy3ZrifGT"
      },
      "execution_count": 135,
      "outputs": [
        {
          "output_type": "stream",
          "name": "stdout",
          "text": [
            "  (0, 719)\t0.45285678409789903\n",
            "  (0, 2266)\t0.3987102669033468\n",
            "  (0, 2316)\t0.3715016235746151\n",
            "  (0, 593)\t0.19491546522930683\n",
            "  (0, 485)\t0.5386769833959175\n",
            "  (0, 1338)\t0.25051311229792855\n",
            "  (0, 1523)\t0.32713246458356665\n",
            "  (1, 2163)\t0.15828273037567323\n",
            "  (1, 1301)\t0.13326482099835496\n",
            "  (1, 2456)\t0.16326074011290276\n",
            "  (1, 2537)\t0.188278649490221\n",
            "  (1, 1072)\t0.08374348377955383\n",
            "  (1, 1019)\t0.17720804823076422\n",
            "  (1, 201)\t0.2129695730952595\n",
            "  (1, 991)\t0.3081477662266352\n",
            "  (1, 2843)\t0.049538717402650444\n",
            "  (1, 1913)\t0.09322874224347923\n",
            "  (1, 2945)\t0.08286736169559654\n",
            "  (1, 1972)\t0.0609506163838441\n",
            "  (1, 602)\t0.188278649490221\n",
            "  (1, 1915)\t0.1540738831133176\n",
            "  (1, 2663)\t0.10861340654951052\n",
            "  (1, 1206)\t0.12043209466549121\n",
            "  (1, 1009)\t0.188278649490221\n",
            "  (1, 1818)\t0.07936557429148663\n",
            "  :\t:\n",
            "  (724, 2213)\t0.1576318362450001\n",
            "  (724, 2786)\t0.2787528105739985\n",
            "  (724, 2312)\t0.13849396270122424\n",
            "  (724, 775)\t0.18240291253744878\n",
            "  (724, 2178)\t0.36480582507489756\n",
            "  (724, 1089)\t0.12148014427612379\n",
            "  (724, 2508)\t0.20166508919410986\n",
            "  (724, 1548)\t0.10355108187797571\n",
            "  (724, 2113)\t0.10698999354253846\n",
            "  (724, 1565)\t0.1441484312100751\n",
            "  (724, 1503)\t0.13763278587562724\n",
            "  (724, 2843)\t0.12968102914910937\n",
            "  (724, 212)\t0.11840999943425821\n",
            "  (725, 767)\t0.40213826125623975\n",
            "  (725, 1557)\t0.38431355122774497\n",
            "  (725, 1515)\t0.3413663234243143\n",
            "  (725, 14)\t0.38431355122774497\n",
            "  (725, 1711)\t0.2290717841092257\n",
            "  (725, 1445)\t0.24647642640959117\n",
            "  (725, 2965)\t0.24817406007101164\n",
            "  (725, 1930)\t0.2574390093095054\n",
            "  (725, 2561)\t0.23574055343173803\n",
            "  (725, 2113)\t0.18549551788186605\n",
            "  (725, 713)\t0.29112128787444236\n",
            "  (725, 212)\t0.10264756282425727\n"
          ]
        }
      ]
    },
    {
      "cell_type": "code",
      "source": [
        "print(x_test)"
      ],
      "metadata": {
        "colab": {
          "base_uri": "https://localhost:8080/"
        },
        "outputId": "17b4c86e-beec-400f-df16-87df086d61e4",
        "id": "5jgi8JgLifGU"
      },
      "execution_count": 136,
      "outputs": [
        {
          "output_type": "stream",
          "name": "stdout",
          "text": [
            "  (0, 2945)\t0.23675659023362736\n",
            "  (0, 2891)\t0.14041123066719727\n",
            "  (0, 2843)\t0.07076741419548546\n",
            "  (0, 2278)\t0.18549061452405374\n",
            "  (0, 2238)\t0.18326122242011073\n",
            "  (0, 1972)\t0.2612088730546059\n",
            "  (0, 1936)\t0.19306342588197117\n",
            "  (0, 1913)\t0.2663596218547016\n",
            "  (0, 1738)\t0.18549061452405374\n",
            "  (0, 1417)\t0.14582637173049207\n",
            "  (0, 1310)\t0.19037244562922906\n",
            "  (0, 1082)\t0.17370052897665664\n",
            "  (0, 840)\t0.18326122242011073\n",
            "  (0, 812)\t0.5379224118518754\n",
            "  (0, 713)\t0.18326122242011073\n",
            "  (0, 538)\t0.3919078284167012\n",
            "  (0, 212)\t0.06461677185809796\n",
            "  (0, 28)\t0.1959539142083506\n",
            "  (1, 2726)\t0.4828532081194996\n",
            "  (1, 2340)\t0.29396378870198053\n",
            "  (1, 1878)\t0.29396378870198053\n",
            "  (1, 1804)\t0.4098834661851795\n",
            "  (1, 1781)\t0.4614508218004958\n",
            "  (1, 1248)\t0.44484984124887794\n",
            "  (1, 212)\t0.12325040860451439\n",
            "  :\t:\n",
            "  (309, 383)\t0.34312165761202557\n",
            "  (309, 265)\t0.499975668991651\n",
            "  (310, 1930)\t0.5565140280083026\n",
            "  (310, 1211)\t0.722166449402132\n",
            "  (310, 1072)\t0.41081352946062033\n",
            "  (311, 2969)\t0.20055070932390237\n",
            "  (311, 2965)\t0.2916016043045276\n",
            "  (311, 2881)\t0.1731126690361099\n",
            "  (311, 2843)\t0.13209008966408647\n",
            "  (311, 2616)\t0.360360280582813\n",
            "  (311, 2388)\t0.23625386573640939\n",
            "  (311, 2279)\t0.2706577794781747\n",
            "  (311, 2122)\t0.15124390539393973\n",
            "  (311, 2021)\t0.18579137773774837\n",
            "  (311, 1930)\t0.15124390539393973\n",
            "  (311, 1818)\t0.10581022656677926\n",
            "  (311, 1629)\t0.3657554877773244\n",
            "  (311, 1575)\t0.15243748742607519\n",
            "  (311, 1266)\t0.1801801402914065\n",
            "  (311, 1224)\t0.360360280582813\n",
            "  (311, 1072)\t0.22329371572773926\n",
            "  (311, 872)\t0.1710320461515943\n",
            "  (311, 813)\t0.09483622356441336\n",
            "  (311, 593)\t0.09082688817773987\n",
            "  (311, 591)\t0.24747371693648468\n"
          ]
        }
      ]
    },
    {
      "cell_type": "markdown",
      "source": [
        "## Train the model"
      ],
      "metadata": {
        "id": "kLeT1290ifGU"
      }
    },
    {
      "cell_type": "markdown",
      "source": [
        "#### Plot of Color_id data we can check average of color_id where y_train is color_id"
      ],
      "metadata": {
        "id": "syShA5a0HUVt"
      }
    },
    {
      "cell_type": "code",
      "source": [
        "#bar plot\n",
        "sns.set_style('whitegrid')\n",
        "sns.displot(data=y_train, kde=False, bins=6,color='green')"
      ],
      "metadata": {
        "colab": {
          "base_uri": "https://localhost:8080/",
          "height": 523
        },
        "outputId": "296c683b-05ce-4736-b98a-a8b59bd04d9c",
        "id": "RYJVnLBSifGU"
      },
      "execution_count": 137,
      "outputs": [
        {
          "output_type": "execute_result",
          "data": {
            "text/plain": [
              "<seaborn.axisgrid.FacetGrid at 0x7a71f03e3b20>"
            ]
          },
          "metadata": {},
          "execution_count": 137
        },
        {
          "output_type": "display_data",
          "data": {
            "text/plain": [
              "<Figure size 500x500 with 1 Axes>"
            ],
            "image/png": "[encoded data removed]"
          },
          "metadata": {}
        }
      ]
    },
    {
      "cell_type": "markdown",
      "source": [
        "###Model Training"
      ],
      "metadata": {
        "id": "LWysoTAqsNAo"
      }
    },
    {
      "cell_type": "markdown",
      "source": [
        "#### By using the Logistic Regression"
      ],
      "metadata": {
        "id": "-EeSLE3yifGU"
      }
    },
    {
      "cell_type": "code",
      "source": [
        "model1 = LogisticRegression(max_iter=1000)"
      ],
      "metadata": {
        "id": "xCTF8s7PifGU"
      },
      "execution_count": 138,
      "outputs": []
    },
    {
      "cell_type": "code",
      "source": [
        "model1.fit(x_train,y_train)"
      ],
      "metadata": {
        "colab": {
          "base_uri": "https://localhost:8080/",
          "height": 75
        },
        "outputId": "5163db83-b5a4-4059-acc5-f128961aa51f",
        "id": "6dq_Ad_8ifGU"
      },
      "execution_count": 139,
      "outputs": [
        {
          "output_type": "execute_result",
          "data": {
            "text/plain": [
              "LogisticRegression(max_iter=1000)"
            ],
            "text/html": [
              "<style>#sk-container-id-6 {color: black;background-color: white;}#sk-container-id-6 pre{padding: 0;}#sk-container-id-6 div.sk-toggleable {background-color: white;}#sk-container-id-6 label.sk-toggleable__label {cursor: pointer;display: block;width: 100%;margin-bottom: 0;padding: 0.3em;box-sizing: border-box;text-align: center;}#sk-container-id-6 label.sk-toggleable__label-arrow:before {content: \"▸\";float: left;margin-right: 0.25em;color: #696969;}#sk-container-id-6 label.sk-toggleable__label-arrow:hover:before {color: black;}#sk-container-id-6 div.sk-estimator:hover label.sk-toggleable__label-arrow:before {color: black;}#sk-container-id-6 div.sk-toggleable__content {max-height: 0;max-width: 0;overflow: hidden;text-align: left;background-color: #f0f8ff;}#sk-container-id-6 div.sk-toggleable__content pre {margin: 0.2em;color: black;border-radius: 0.25em;background-color: #f0f8ff;}#sk-container-id-6 input.sk-toggleable__control:checked~div.sk-toggleable__content {max-height: 200px;max-width: 100%;overflow: auto;}#sk-container-id-6 input.sk-toggleable__control:checked~label.sk-toggleable__label-arrow:before {content: \"▾\";}#sk-container-id-6 div.sk-estimator input.sk-toggleable__control:checked~label.sk-toggleable__label {background-color: #d4ebff;}#sk-container-id-6 div.sk-label input.sk-toggleable__control:checked~label.sk-toggleable__label {background-color: #d4ebff;}#sk-container-id-6 input.sk-hidden--visually {border: 0;clip: rect(1px 1px 1px 1px);clip: rect(1px, 1px, 1px, 1px);height: 1px;margin: -1px;overflow: hidden;padding: 0;position: absolute;width: 1px;}#sk-container-id-6 div.sk-estimator {font-family: monospace;background-color: #f0f8ff;border: 1px dotted black;border-radius: 0.25em;box-sizing: border-box;margin-bottom: 0.5em;}#sk-container-id-6 div.sk-estimator:hover {background-color: #d4ebff;}#sk-container-id-6 div.sk-parallel-item::after {content: \"\";width: 100%;border-bottom: 1px solid gray;flex-grow: 1;}#sk-container-id-6 div.sk-label:hover label.sk-toggleable__label {background-color: #d4ebff;}#sk-container-id-6 div.sk-serial::before {content: \"\";position: absolute;border-left: 1px solid gray;box-sizing: border-box;top: 0;bottom: 0;left: 50%;z-index: 0;}#sk-container-id-6 div.sk-serial {display: flex;flex-direction: column;align-items: center;background-color: white;padding-right: 0.2em;padding-left: 0.2em;position: relative;}#sk-container-id-6 div.sk-item {position: relative;z-index: 1;}#sk-container-id-6 div.sk-parallel {display: flex;align-items: stretch;justify-content: center;background-color: white;position: relative;}#sk-container-id-6 div.sk-item::before, #sk-container-id-6 div.sk-parallel-item::before {content: \"\";position: absolute;border-left: 1px solid gray;box-sizing: border-box;top: 0;bottom: 0;left: 50%;z-index: -1;}#sk-container-id-6 div.sk-parallel-item {display: flex;flex-direction: column;z-index: 1;position: relative;background-color: white;}#sk-container-id-6 div.sk-parallel-item:first-child::after {align-self: flex-end;width: 50%;}#sk-container-id-6 div.sk-parallel-item:last-child::after {align-self: flex-start;width: 50%;}#sk-container-id-6 div.sk-parallel-item:only-child::after {width: 0;}#sk-container-id-6 div.sk-dashed-wrapped {border: 1px dashed gray;margin: 0 0.4em 0.5em 0.4em;box-sizing: border-box;padding-bottom: 0.4em;background-color: white;}#sk-container-id-6 div.sk-label label {font-family: monospace;font-weight: bold;display: inline-block;line-height: 1.2em;}#sk-container-id-6 div.sk-label-container {text-align: center;}#sk-container-id-6 div.sk-container {/* jupyter's `normalize.less` sets `[hidden] { display: none; }` but bootstrap.min.css set `[hidden] { display: none !important; }` so we also need the `!important` here to be able to override the default hidden behavior on the sphinx rendered scikit-learn.org. See: https://github.com/scikit-learn/scikit-learn/issues/21755 */display: inline-block !important;position: relative;}#sk-container-id-6 div.sk-text-repr-fallback {display: none;}</style><div id=\"sk-container-id-6\" class=\"sk-top-container\"><div class=\"sk-text-repr-fallback\"><pre>LogisticRegression(max_iter=1000)</pre><b>In a Jupyter environment, please rerun this cell to show the HTML representation or trust the notebook. <br />On GitHub, the HTML representation is unable to render, please try loading this page with nbviewer.org.</b></div><div class=\"sk-container\" hidden><div class=\"sk-item\"><div class=\"sk-estimator sk-toggleable\"><input class=\"sk-toggleable__control sk-hidden--visually\" id=\"sk-estimator-id-6\" type=\"checkbox\" checked><label for=\"sk-estimator-id-6\" class=\"sk-toggleable__label sk-toggleable__label-arrow\">LogisticRegression</label><div class=\"sk-toggleable__content\"><pre>LogisticRegression(max_iter=1000)</pre></div></div></div></div></div>"
            ]
          },
          "metadata": {},
          "execution_count": 139
        }
      ]
    },
    {
      "cell_type": "code",
      "source": [
        "x_train_prediction = model1.predict(x_train)\n",
        "training_data_accuracy = accuracy_score(y_train,x_train_prediction)"
      ],
      "metadata": {
        "id": "0rqKLSsDifGV"
      },
      "execution_count": 140,
      "outputs": []
    },
    {
      "cell_type": "code",
      "source": [
        "print('accuracy on training data using logistic regression', training_data_accuracy*100)"
      ],
      "metadata": {
        "colab": {
          "base_uri": "https://localhost:8080/"
        },
        "outputId": "bfc08f4c-3212-465d-cc50-49734fb67c94",
        "id": "gojYOLDAifGV"
      },
      "execution_count": 141,
      "outputs": [
        {
          "output_type": "stream",
          "name": "stdout",
          "text": [
            "accuracy on training data using logistic regression 79.20110192837465\n"
          ]
        }
      ]
    },
    {
      "cell_type": "code",
      "source": [
        "x_test_prediction = model1.predict(x_test)\n",
        "training_data_accuracy = accuracy_score(y_test,x_test_prediction)"
      ],
      "metadata": {
        "id": "LS34EVS-ifGV"
      },
      "execution_count": 142,
      "outputs": []
    },
    {
      "cell_type": "code",
      "source": [
        "model1.fit(x_test,y_test)"
      ],
      "metadata": {
        "colab": {
          "base_uri": "https://localhost:8080/",
          "height": 75
        },
        "outputId": "d6e0f147-40d5-40da-92e4-17ca81b6e059",
        "id": "4dMh9L2RifGV"
      },
      "execution_count": 143,
      "outputs": [
        {
          "output_type": "execute_result",
          "data": {
            "text/plain": [
              "LogisticRegression(max_iter=1000)"
            ],
            "text/html": [
              "<style>#sk-container-id-7 {color: black;background-color: white;}#sk-container-id-7 pre{padding: 0;}#sk-container-id-7 div.sk-toggleable {background-color: white;}#sk-container-id-7 label.sk-toggleable__label {cursor: pointer;display: block;width: 100%;margin-bottom: 0;padding: 0.3em;box-sizing: border-box;text-align: center;}#sk-container-id-7 label.sk-toggleable__label-arrow:before {content: \"▸\";float: left;margin-right: 0.25em;color: #696969;}#sk-container-id-7 label.sk-toggleable__label-arrow:hover:before {color: black;}#sk-container-id-7 div.sk-estimator:hover label.sk-toggleable__label-arrow:before {color: black;}#sk-container-id-7 div.sk-toggleable__content {max-height: 0;max-width: 0;overflow: hidden;text-align: left;background-color: #f0f8ff;}#sk-container-id-7 div.sk-toggleable__content pre {margin: 0.2em;color: black;border-radius: 0.25em;background-color: #f0f8ff;}#sk-container-id-7 input.sk-toggleable__control:checked~div.sk-toggleable__content {max-height: 200px;max-width: 100%;overflow: auto;}#sk-container-id-7 input.sk-toggleable__control:checked~label.sk-toggleable__label-arrow:before {content: \"▾\";}#sk-container-id-7 div.sk-estimator input.sk-toggleable__control:checked~label.sk-toggleable__label {background-color: #d4ebff;}#sk-container-id-7 div.sk-label input.sk-toggleable__control:checked~label.sk-toggleable__label {background-color: #d4ebff;}#sk-container-id-7 input.sk-hidden--visually {border: 0;clip: rect(1px 1px 1px 1px);clip: rect(1px, 1px, 1px, 1px);height: 1px;margin: -1px;overflow: hidden;padding: 0;position: absolute;width: 1px;}#sk-container-id-7 div.sk-estimator {font-family: monospace;background-color: #f0f8ff;border: 1px dotted black;border-radius: 0.25em;box-sizing: border-box;margin-bottom: 0.5em;}#sk-container-id-7 div.sk-estimator:hover {background-color: #d4ebff;}#sk-container-id-7 div.sk-parallel-item::after {content: \"\";width: 100%;border-bottom: 1px solid gray;flex-grow: 1;}#sk-container-id-7 div.sk-label:hover label.sk-toggleable__label {background-color: #d4ebff;}#sk-container-id-7 div.sk-serial::before {content: \"\";position: absolute;border-left: 1px solid gray;box-sizing: border-box;top: 0;bottom: 0;left: 50%;z-index: 0;}#sk-container-id-7 div.sk-serial {display: flex;flex-direction: column;align-items: center;background-color: white;padding-right: 0.2em;padding-left: 0.2em;position: relative;}#sk-container-id-7 div.sk-item {position: relative;z-index: 1;}#sk-container-id-7 div.sk-parallel {display: flex;align-items: stretch;justify-content: center;background-color: white;position: relative;}#sk-container-id-7 div.sk-item::before, #sk-container-id-7 div.sk-parallel-item::before {content: \"\";position: absolute;border-left: 1px solid gray;box-sizing: border-box;top: 0;bottom: 0;left: 50%;z-index: -1;}#sk-container-id-7 div.sk-parallel-item {display: flex;flex-direction: column;z-index: 1;position: relative;background-color: white;}#sk-container-id-7 div.sk-parallel-item:first-child::after {align-self: flex-end;width: 50%;}#sk-container-id-7 div.sk-parallel-item:last-child::after {align-self: flex-start;width: 50%;}#sk-container-id-7 div.sk-parallel-item:only-child::after {width: 0;}#sk-container-id-7 div.sk-dashed-wrapped {border: 1px dashed gray;margin: 0 0.4em 0.5em 0.4em;box-sizing: border-box;padding-bottom: 0.4em;background-color: white;}#sk-container-id-7 div.sk-label label {font-family: monospace;font-weight: bold;display: inline-block;line-height: 1.2em;}#sk-container-id-7 div.sk-label-container {text-align: center;}#sk-container-id-7 div.sk-container {/* jupyter's `normalize.less` sets `[hidden] { display: none; }` but bootstrap.min.css set `[hidden] { display: none !important; }` so we also need the `!important` here to be able to override the default hidden behavior on the sphinx rendered scikit-learn.org. See: https://github.com/scikit-learn/scikit-learn/issues/21755 */display: inline-block !important;position: relative;}#sk-container-id-7 div.sk-text-repr-fallback {display: none;}</style><div id=\"sk-container-id-7\" class=\"sk-top-container\"><div class=\"sk-text-repr-fallback\"><pre>LogisticRegression(max_iter=1000)</pre><b>In a Jupyter environment, please rerun this cell to show the HTML representation or trust the notebook. <br />On GitHub, the HTML representation is unable to render, please try loading this page with nbviewer.org.</b></div><div class=\"sk-container\" hidden><div class=\"sk-item\"><div class=\"sk-estimator sk-toggleable\"><input class=\"sk-toggleable__control sk-hidden--visually\" id=\"sk-estimator-id-7\" type=\"checkbox\" checked><label for=\"sk-estimator-id-7\" class=\"sk-toggleable__label sk-toggleable__label-arrow\">LogisticRegression</label><div class=\"sk-toggleable__content\"><pre>LogisticRegression(max_iter=1000)</pre></div></div></div></div></div>"
            ]
          },
          "metadata": {},
          "execution_count": 143
        }
      ]
    },
    {
      "cell_type": "code",
      "source": [
        "print('Accuracy score on the test data', training_data_accuracy*100)"
      ],
      "metadata": {
        "colab": {
          "base_uri": "https://localhost:8080/"
        },
        "outputId": "f7b9f538-5aac-4574-ef71-9c6e9b05a32e",
        "id": "CpVNHTX5ifGV"
      },
      "execution_count": 144,
      "outputs": [
        {
          "output_type": "stream",
          "name": "stdout",
          "text": [
            "Accuracy score on the test data 43.91025641025641\n"
          ]
        }
      ]
    },
    {
      "cell_type": "markdown",
      "source": [
        "#### By using the Support vector model"
      ],
      "metadata": {
        "id": "acM0bJ8JifGW"
      }
    },
    {
      "cell_type": "code",
      "source": [
        "model2 = SVC(kernel='linear')  # Choose an appropriate kernel (linear, rbf, poly, etc.)\n",
        "model2.fit(x_train, y_train)"
      ],
      "metadata": {
        "colab": {
          "base_uri": "https://localhost:8080/",
          "height": 75
        },
        "outputId": "97e57eb8-da46-4256-ec95-404302e946d9",
        "id": "W4E27RW5ifGW"
      },
      "execution_count": 145,
      "outputs": [
        {
          "output_type": "execute_result",
          "data": {
            "text/plain": [
              "SVC(kernel='linear')"
            ],
            "text/html": [
              "<style>#sk-container-id-8 {color: black;background-color: white;}#sk-container-id-8 pre{padding: 0;}#sk-container-id-8 div.sk-toggleable {background-color: white;}#sk-container-id-8 label.sk-toggleable__label {cursor: pointer;display: block;width: 100%;margin-bottom: 0;padding: 0.3em;box-sizing: border-box;text-align: center;}#sk-container-id-8 label.sk-toggleable__label-arrow:before {content: \"▸\";float: left;margin-right: 0.25em;color: #696969;}#sk-container-id-8 label.sk-toggleable__label-arrow:hover:before {color: black;}#sk-container-id-8 div.sk-estimator:hover label.sk-toggleable__label-arrow:before {color: black;}#sk-container-id-8 div.sk-toggleable__content {max-height: 0;max-width: 0;overflow: hidden;text-align: left;background-color: #f0f8ff;}#sk-container-id-8 div.sk-toggleable__content pre {margin: 0.2em;color: black;border-radius: 0.25em;background-color: #f0f8ff;}#sk-container-id-8 input.sk-toggleable__control:checked~div.sk-toggleable__content {max-height: 200px;max-width: 100%;overflow: auto;}#sk-container-id-8 input.sk-toggleable__control:checked~label.sk-toggleable__label-arrow:before {content: \"▾\";}#sk-container-id-8 div.sk-estimator input.sk-toggleable__control:checked~label.sk-toggleable__label {background-color: #d4ebff;}#sk-container-id-8 div.sk-label input.sk-toggleable__control:checked~label.sk-toggleable__label {background-color: #d4ebff;}#sk-container-id-8 input.sk-hidden--visually {border: 0;clip: rect(1px 1px 1px 1px);clip: rect(1px, 1px, 1px, 1px);height: 1px;margin: -1px;overflow: hidden;padding: 0;position: absolute;width: 1px;}#sk-container-id-8 div.sk-estimator {font-family: monospace;background-color: #f0f8ff;border: 1px dotted black;border-radius: 0.25em;box-sizing: border-box;margin-bottom: 0.5em;}#sk-container-id-8 div.sk-estimator:hover {background-color: #d4ebff;}#sk-container-id-8 div.sk-parallel-item::after {content: \"\";width: 100%;border-bottom: 1px solid gray;flex-grow: 1;}#sk-container-id-8 div.sk-label:hover label.sk-toggleable__label {background-color: #d4ebff;}#sk-container-id-8 div.sk-serial::before {content: \"\";position: absolute;border-left: 1px solid gray;box-sizing: border-box;top: 0;bottom: 0;left: 50%;z-index: 0;}#sk-container-id-8 div.sk-serial {display: flex;flex-direction: column;align-items: center;background-color: white;padding-right: 0.2em;padding-left: 0.2em;position: relative;}#sk-container-id-8 div.sk-item {position: relative;z-index: 1;}#sk-container-id-8 div.sk-parallel {display: flex;align-items: stretch;justify-content: center;background-color: white;position: relative;}#sk-container-id-8 div.sk-item::before, #sk-container-id-8 div.sk-parallel-item::before {content: \"\";position: absolute;border-left: 1px solid gray;box-sizing: border-box;top: 0;bottom: 0;left: 50%;z-index: -1;}#sk-container-id-8 div.sk-parallel-item {display: flex;flex-direction: column;z-index: 1;position: relative;background-color: white;}#sk-container-id-8 div.sk-parallel-item:first-child::after {align-self: flex-end;width: 50%;}#sk-container-id-8 div.sk-parallel-item:last-child::after {align-self: flex-start;width: 50%;}#sk-container-id-8 div.sk-parallel-item:only-child::after {width: 0;}#sk-container-id-8 div.sk-dashed-wrapped {border: 1px dashed gray;margin: 0 0.4em 0.5em 0.4em;box-sizing: border-box;padding-bottom: 0.4em;background-color: white;}#sk-container-id-8 div.sk-label label {font-family: monospace;font-weight: bold;display: inline-block;line-height: 1.2em;}#sk-container-id-8 div.sk-label-container {text-align: center;}#sk-container-id-8 div.sk-container {/* jupyter's `normalize.less` sets `[hidden] { display: none; }` but bootstrap.min.css set `[hidden] { display: none !important; }` so we also need the `!important` here to be able to override the default hidden behavior on the sphinx rendered scikit-learn.org. See: https://github.com/scikit-learn/scikit-learn/issues/21755 */display: inline-block !important;position: relative;}#sk-container-id-8 div.sk-text-repr-fallback {display: none;}</style><div id=\"sk-container-id-8\" class=\"sk-top-container\"><div class=\"sk-text-repr-fallback\"><pre>SVC(kernel=&#x27;linear&#x27;)</pre><b>In a Jupyter environment, please rerun this cell to show the HTML representation or trust the notebook. <br />On GitHub, the HTML representation is unable to render, please try loading this page with nbviewer.org.</b></div><div class=\"sk-container\" hidden><div class=\"sk-item\"><div class=\"sk-estimator sk-toggleable\"><input class=\"sk-toggleable__control sk-hidden--visually\" id=\"sk-estimator-id-8\" type=\"checkbox\" checked><label for=\"sk-estimator-id-8\" class=\"sk-toggleable__label sk-toggleable__label-arrow\">SVC</label><div class=\"sk-toggleable__content\"><pre>SVC(kernel=&#x27;linear&#x27;)</pre></div></div></div></div></div>"
            ]
          },
          "metadata": {},
          "execution_count": 145
        }
      ]
    },
    {
      "cell_type": "code",
      "source": [
        "y_pred = model2.predict(x_test)"
      ],
      "metadata": {
        "id": "EElap_UMifGW"
      },
      "execution_count": 146,
      "outputs": []
    },
    {
      "cell_type": "code",
      "source": [
        "x_train_prediction = model2.predict(x_train)\n",
        "training_data_accuracy = accuracy_score(y_train,x_train_prediction)\n",
        "print(\"Accuracy score on training data\",training_data_accuracy*100)"
      ],
      "metadata": {
        "colab": {
          "base_uri": "https://localhost:8080/"
        },
        "outputId": "7995b2ce-4e94-4f7a-a061-1316a93096ff",
        "id": "BXbYdvcyifGW"
      },
      "execution_count": 147,
      "outputs": [
        {
          "output_type": "stream",
          "name": "stdout",
          "text": [
            "Accuracy score on training data 84.84848484848484\n"
          ]
        }
      ]
    },
    {
      "cell_type": "code",
      "source": [
        "x_test_prediction = model2.predict(x_test)\n",
        "training_data_accuracy = accuracy_score(y_test,x_test_prediction)"
      ],
      "metadata": {
        "id": "O9REuXf6ifGX"
      },
      "execution_count": 148,
      "outputs": []
    },
    {
      "cell_type": "code",
      "source": [
        "model2.fit(x_test,y_test)"
      ],
      "metadata": {
        "colab": {
          "base_uri": "https://localhost:8080/",
          "height": 75
        },
        "outputId": "93e106b4-c5fe-41f5-f04a-9fb83d729a40",
        "id": "ugGmkrMKifGX"
      },
      "execution_count": 149,
      "outputs": [
        {
          "output_type": "execute_result",
          "data": {
            "text/plain": [
              "SVC(kernel='linear')"
            ],
            "text/html": [
              "<style>#sk-container-id-9 {color: black;background-color: white;}#sk-container-id-9 pre{padding: 0;}#sk-container-id-9 div.sk-toggleable {background-color: white;}#sk-container-id-9 label.sk-toggleable__label {cursor: pointer;display: block;width: 100%;margin-bottom: 0;padding: 0.3em;box-sizing: border-box;text-align: center;}#sk-container-id-9 label.sk-toggleable__label-arrow:before {content: \"▸\";float: left;margin-right: 0.25em;color: #696969;}#sk-container-id-9 label.sk-toggleable__label-arrow:hover:before {color: black;}#sk-container-id-9 div.sk-estimator:hover label.sk-toggleable__label-arrow:before {color: black;}#sk-container-id-9 div.sk-toggleable__content {max-height: 0;max-width: 0;overflow: hidden;text-align: left;background-color: #f0f8ff;}#sk-container-id-9 div.sk-toggleable__content pre {margin: 0.2em;color: black;border-radius: 0.25em;background-color: #f0f8ff;}#sk-container-id-9 input.sk-toggleable__control:checked~div.sk-toggleable__content {max-height: 200px;max-width: 100%;overflow: auto;}#sk-container-id-9 input.sk-toggleable__control:checked~label.sk-toggleable__label-arrow:before {content: \"▾\";}#sk-container-id-9 div.sk-estimator input.sk-toggleable__control:checked~label.sk-toggleable__label {background-color: #d4ebff;}#sk-container-id-9 div.sk-label input.sk-toggleable__control:checked~label.sk-toggleable__label {background-color: #d4ebff;}#sk-container-id-9 input.sk-hidden--visually {border: 0;clip: rect(1px 1px 1px 1px);clip: rect(1px, 1px, 1px, 1px);height: 1px;margin: -1px;overflow: hidden;padding: 0;position: absolute;width: 1px;}#sk-container-id-9 div.sk-estimator {font-family: monospace;background-color: #f0f8ff;border: 1px dotted black;border-radius: 0.25em;box-sizing: border-box;margin-bottom: 0.5em;}#sk-container-id-9 div.sk-estimator:hover {background-color: #d4ebff;}#sk-container-id-9 div.sk-parallel-item::after {content: \"\";width: 100%;border-bottom: 1px solid gray;flex-grow: 1;}#sk-container-id-9 div.sk-label:hover label.sk-toggleable__label {background-color: #d4ebff;}#sk-container-id-9 div.sk-serial::before {content: \"\";position: absolute;border-left: 1px solid gray;box-sizing: border-box;top: 0;bottom: 0;left: 50%;z-index: 0;}#sk-container-id-9 div.sk-serial {display: flex;flex-direction: column;align-items: center;background-color: white;padding-right: 0.2em;padding-left: 0.2em;position: relative;}#sk-container-id-9 div.sk-item {position: relative;z-index: 1;}#sk-container-id-9 div.sk-parallel {display: flex;align-items: stretch;justify-content: center;background-color: white;position: relative;}#sk-container-id-9 div.sk-item::before, #sk-container-id-9 div.sk-parallel-item::before {content: \"\";position: absolute;border-left: 1px solid gray;box-sizing: border-box;top: 0;bottom: 0;left: 50%;z-index: -1;}#sk-container-id-9 div.sk-parallel-item {display: flex;flex-direction: column;z-index: 1;position: relative;background-color: white;}#sk-container-id-9 div.sk-parallel-item:first-child::after {align-self: flex-end;width: 50%;}#sk-container-id-9 div.sk-parallel-item:last-child::after {align-self: flex-start;width: 50%;}#sk-container-id-9 div.sk-parallel-item:only-child::after {width: 0;}#sk-container-id-9 div.sk-dashed-wrapped {border: 1px dashed gray;margin: 0 0.4em 0.5em 0.4em;box-sizing: border-box;padding-bottom: 0.4em;background-color: white;}#sk-container-id-9 div.sk-label label {font-family: monospace;font-weight: bold;display: inline-block;line-height: 1.2em;}#sk-container-id-9 div.sk-label-container {text-align: center;}#sk-container-id-9 div.sk-container {/* jupyter's `normalize.less` sets `[hidden] { display: none; }` but bootstrap.min.css set `[hidden] { display: none !important; }` so we also need the `!important` here to be able to override the default hidden behavior on the sphinx rendered scikit-learn.org. See: https://github.com/scikit-learn/scikit-learn/issues/21755 */display: inline-block !important;position: relative;}#sk-container-id-9 div.sk-text-repr-fallback {display: none;}</style><div id=\"sk-container-id-9\" class=\"sk-top-container\"><div class=\"sk-text-repr-fallback\"><pre>SVC(kernel=&#x27;linear&#x27;)</pre><b>In a Jupyter environment, please rerun this cell to show the HTML representation or trust the notebook. <br />On GitHub, the HTML representation is unable to render, please try loading this page with nbviewer.org.</b></div><div class=\"sk-container\" hidden><div class=\"sk-item\"><div class=\"sk-estimator sk-toggleable\"><input class=\"sk-toggleable__control sk-hidden--visually\" id=\"sk-estimator-id-9\" type=\"checkbox\" checked><label for=\"sk-estimator-id-9\" class=\"sk-toggleable__label sk-toggleable__label-arrow\">SVC</label><div class=\"sk-toggleable__content\"><pre>SVC(kernel=&#x27;linear&#x27;)</pre></div></div></div></div></div>"
            ]
          },
          "metadata": {},
          "execution_count": 149
        }
      ]
    },
    {
      "cell_type": "code",
      "source": [
        "print('Accuracy score on the test data', training_data_accuracy*100)"
      ],
      "metadata": {
        "colab": {
          "base_uri": "https://localhost:8080/"
        },
        "outputId": "c1653a21-853e-4b91-8a7e-4b49d498ece9",
        "id": "DsLjVf3-ifGX"
      },
      "execution_count": 150,
      "outputs": [
        {
          "output_type": "stream",
          "name": "stdout",
          "text": [
            "Accuracy score on the test data 45.19230769230769\n"
          ]
        }
      ]
    },
    {
      "cell_type": "markdown",
      "source": [
        "#### By using the random forest Classifier\n"
      ],
      "metadata": {
        "id": "MWK_g-soifGX"
      }
    },
    {
      "cell_type": "code",
      "source": [
        "model3 = RandomForestClassifier(n_estimators=100, random_state=42)  # Adjust n_estimators as needed\n",
        "model3.fit(x_train, y_train)"
      ],
      "metadata": {
        "colab": {
          "base_uri": "https://localhost:8080/",
          "height": 75
        },
        "outputId": "1c3389a3-86b1-417c-f34f-d252d1632079",
        "id": "IfHSp3TzifGX"
      },
      "execution_count": 151,
      "outputs": [
        {
          "output_type": "execute_result",
          "data": {
            "text/plain": [
              "RandomForestClassifier(random_state=42)"
            ],
            "text/html": [
              "<style>#sk-container-id-10 {color: black;background-color: white;}#sk-container-id-10 pre{padding: 0;}#sk-container-id-10 div.sk-toggleable {background-color: white;}#sk-container-id-10 label.sk-toggleable__label {cursor: pointer;display: block;width: 100%;margin-bottom: 0;padding: 0.3em;box-sizing: border-box;text-align: center;}#sk-container-id-10 label.sk-toggleable__label-arrow:before {content: \"▸\";float: left;margin-right: 0.25em;color: #696969;}#sk-container-id-10 label.sk-toggleable__label-arrow:hover:before {color: black;}#sk-container-id-10 div.sk-estimator:hover label.sk-toggleable__label-arrow:before {color: black;}#sk-container-id-10 div.sk-toggleable__content {max-height: 0;max-width: 0;overflow: hidden;text-align: left;background-color: #f0f8ff;}#sk-container-id-10 div.sk-toggleable__content pre {margin: 0.2em;color: black;border-radius: 0.25em;background-color: #f0f8ff;}#sk-container-id-10 input.sk-toggleable__control:checked~div.sk-toggleable__content {max-height: 200px;max-width: 100%;overflow: auto;}#sk-container-id-10 input.sk-toggleable__control:checked~label.sk-toggleable__label-arrow:before {content: \"▾\";}#sk-container-id-10 div.sk-estimator input.sk-toggleable__control:checked~label.sk-toggleable__label {background-color: #d4ebff;}#sk-container-id-10 div.sk-label input.sk-toggleable__control:checked~label.sk-toggleable__label {background-color: #d4ebff;}#sk-container-id-10 input.sk-hidden--visually {border: 0;clip: rect(1px 1px 1px 1px);clip: rect(1px, 1px, 1px, 1px);height: 1px;margin: -1px;overflow: hidden;padding: 0;position: absolute;width: 1px;}#sk-container-id-10 div.sk-estimator {font-family: monospace;background-color: #f0f8ff;border: 1px dotted black;border-radius: 0.25em;box-sizing: border-box;margin-bottom: 0.5em;}#sk-container-id-10 div.sk-estimator:hover {background-color: #d4ebff;}#sk-container-id-10 div.sk-parallel-item::after {content: \"\";width: 100%;border-bottom: 1px solid gray;flex-grow: 1;}#sk-container-id-10 div.sk-label:hover label.sk-toggleable__label {background-color: #d4ebff;}#sk-container-id-10 div.sk-serial::before {content: \"\";position: absolute;border-left: 1px solid gray;box-sizing: border-box;top: 0;bottom: 0;left: 50%;z-index: 0;}#sk-container-id-10 div.sk-serial {display: flex;flex-direction: column;align-items: center;background-color: white;padding-right: 0.2em;padding-left: 0.2em;position: relative;}#sk-container-id-10 div.sk-item {position: relative;z-index: 1;}#sk-container-id-10 div.sk-parallel {display: flex;align-items: stretch;justify-content: center;background-color: white;position: relative;}#sk-container-id-10 div.sk-item::before, #sk-container-id-10 div.sk-parallel-item::before {content: \"\";position: absolute;border-left: 1px solid gray;box-sizing: border-box;top: 0;bottom: 0;left: 50%;z-index: -1;}#sk-container-id-10 div.sk-parallel-item {display: flex;flex-direction: column;z-index: 1;position: relative;background-color: white;}#sk-container-id-10 div.sk-parallel-item:first-child::after {align-self: flex-end;width: 50%;}#sk-container-id-10 div.sk-parallel-item:last-child::after {align-self: flex-start;width: 50%;}#sk-container-id-10 div.sk-parallel-item:only-child::after {width: 0;}#sk-container-id-10 div.sk-dashed-wrapped {border: 1px dashed gray;margin: 0 0.4em 0.5em 0.4em;box-sizing: border-box;padding-bottom: 0.4em;background-color: white;}#sk-container-id-10 div.sk-label label {font-family: monospace;font-weight: bold;display: inline-block;line-height: 1.2em;}#sk-container-id-10 div.sk-label-container {text-align: center;}#sk-container-id-10 div.sk-container {/* jupyter's `normalize.less` sets `[hidden] { display: none; }` but bootstrap.min.css set `[hidden] { display: none !important; }` so we also need the `!important` here to be able to override the default hidden behavior on the sphinx rendered scikit-learn.org. See: https://github.com/scikit-learn/scikit-learn/issues/21755 */display: inline-block !important;position: relative;}#sk-container-id-10 div.sk-text-repr-fallback {display: none;}</style><div id=\"sk-container-id-10\" class=\"sk-top-container\"><div class=\"sk-text-repr-fallback\"><pre>RandomForestClassifier(random_state=42)</pre><b>In a Jupyter environment, please rerun this cell to show the HTML representation or trust the notebook. <br />On GitHub, the HTML representation is unable to render, please try loading this page with nbviewer.org.</b></div><div class=\"sk-container\" hidden><div class=\"sk-item\"><div class=\"sk-estimator sk-toggleable\"><input class=\"sk-toggleable__control sk-hidden--visually\" id=\"sk-estimator-id-10\" type=\"checkbox\" checked><label for=\"sk-estimator-id-10\" class=\"sk-toggleable__label sk-toggleable__label-arrow\">RandomForestClassifier</label><div class=\"sk-toggleable__content\"><pre>RandomForestClassifier(random_state=42)</pre></div></div></div></div></div>"
            ]
          },
          "metadata": {},
          "execution_count": 151
        }
      ]
    },
    {
      "cell_type": "code",
      "source": [
        "x_train_prediction= model3.predict(x_train)"
      ],
      "metadata": {
        "id": "4s5PZBFxifGY"
      },
      "execution_count": 152,
      "outputs": []
    },
    {
      "cell_type": "code",
      "source": [
        "accuracy = accuracy_score(y_train, x_train_prediction)\n",
        "print(\"Accuracy score of testing data using random forest classifier:\", accuracy*100)"
      ],
      "metadata": {
        "colab": {
          "base_uri": "https://localhost:8080/"
        },
        "outputId": "a72831b4-b13f-4f93-b9ac-931d6bbdf745",
        "id": "HxWdxWbQifGY"
      },
      "execution_count": 153,
      "outputs": [
        {
          "output_type": "stream",
          "name": "stdout",
          "text": [
            "Accuracy score of testing data using random forest classifier: 100.0\n"
          ]
        }
      ]
    },
    {
      "cell_type": "code",
      "source": [
        "x_test_prediction = model3.predict(x_test)\n",
        "training_data_accuracy = accuracy_score(y_test,x_test_prediction)\n",
        "model3.fit(x_test,y_test)\n",
        "print('Accuracy score on the test data', training_data_accuracy*100)"
      ],
      "metadata": {
        "colab": {
          "base_uri": "https://localhost:8080/"
        },
        "outputId": "f0fa74ac-78ce-4fae-fc33-dbf5615c0b9e",
        "id": "YzZP65vDifGY"
      },
      "execution_count": 154,
      "outputs": [
        {
          "output_type": "stream",
          "name": "stdout",
          "text": [
            "Accuracy score on the test data 48.717948717948715\n"
          ]
        }
      ]
    },
    {
      "cell_type": "markdown",
      "source": [
        "####After checking the accuracy now save the file use for future model"
      ],
      "metadata": {
        "id": "w-BA6MfJifGY"
      }
    },
    {
      "cell_type": "code",
      "source": [
        "# # Make predictions and store them in a variable\n",
        "# predictions = model3.predict(x_test)\n",
        "\n",
        "# # Optionally, get probabilities for each class (if needed)\n",
        "# probabilities = model3.predict_proba(x_test)\n",
        "\n",
        "# # Print the predictions and probabilities\n",
        "# print(\"Predictions:\", predictions)\n",
        "# print(\"Probabilities:\", probabilities)"
      ],
      "metadata": {
        "id": "TAbpdzZfsA6w"
      },
      "execution_count": 155,
      "outputs": []
    },
    {
      "cell_type": "code",
      "source": [
        "# !pip install openpyxl\n",
        "# import pandas as pd\n",
        "# import openpyxl\n",
        "\n",
        "# # ... (your previous code for preprocessing and model loading)\n",
        "\n",
        "# # Make predictions and store them\n",
        "# predictions = model3.predict(X_new)\n",
        "# probabilities = model3.predict_proba(X_new)\n",
        "\n",
        "# # Create a DataFrame to hold the predictions\n",
        "# df = pd.DataFrame({\n",
        "#     'Predicted_Class': predictions\n",
        "# })\n",
        "\n",
        "# # Optionally, add probabilities for each class as columns\n",
        "# for i in range(probabilities.shape[1]):\n",
        "#     df[f'Probability_Class_{i}'] = probabilities[:, i]\n",
        "\n",
        "# # Save the DataFrame to an Excel file\n",
        "# df.to_excel('predictions.xlsx', index=False)\n",
        "\n",
        "# print(\"Predictions saved to 'predictions.xlsx'\")"
      ],
      "metadata": {
        "id": "pz1_wmqesQE7"
      },
      "execution_count": 156,
      "outputs": []
    },
    {
      "cell_type": "code",
      "source": [
        "import pickle"
      ],
      "metadata": {
        "id": "jXlTi7HsifGY"
      },
      "execution_count": 157,
      "outputs": []
    },
    {
      "cell_type": "code",
      "source": [
        "filename = 'final_model.xlsx'\n",
        "pickle.dump(model3, open(filename, 'wb'))"
      ],
      "metadata": {
        "id": "4PuZ7HUGifGY"
      },
      "execution_count": 158,
      "outputs": []
    },
    {
      "cell_type": "code",
      "source": [
        "loaded_model = pickle.load(open('final_model.xlsx', 'rb'))"
      ],
      "metadata": {
        "id": "GNzvxSI0ifGZ"
      },
      "execution_count": 159,
      "outputs": []
    },
    {
      "cell_type": "code",
      "source": [
        "!pip install nltk\n",
        "import nltk\n",
        "from nltk.corpus import stopwords\n",
        "from nltk.tokenize import word_tokenize\n",
        "from nltk.stem import WordNetLemmatizer\n",
        "import string\n",
        "nltk.download('punkt')\n",
        "nltk.download('wordnet')\n",
        "def preprocess_text(text):\n",
        "\n",
        "    tokens = word_tokenize(text)\n",
        "\n",
        "    tokens = [token for token in tokens if token not in string.punctuation]\n",
        "\n",
        "\n",
        "    tokens = [token.lower() for token in tokens]\n",
        "\n",
        "\n",
        "    stop_words = set(stopwords.words('english'))\n",
        "    tokens = [token for token in tokens if token not in stop_words]\n",
        "\n",
        "\n",
        "    lemmatizer = WordNetLemmatizer()\n",
        "    tokens = [lemmatizer.lemmatize(token) for token in tokens]\n",
        "\n",
        "    preprocessed_text = ' '.join(tokens)\n",
        "\n",
        "    return preprocessed_text"
      ],
      "metadata": {
        "colab": {
          "base_uri": "https://localhost:8080/"
        },
        "outputId": "bdd0d3af-cb6f-4d00-9058-85cb95081645",
        "id": "cjEWixtRifGZ"
      },
      "execution_count": 160,
      "outputs": [
        {
          "output_type": "stream",
          "name": "stdout",
          "text": [
            "Requirement already satisfied: nltk in /usr/local/lib/python3.10/dist-packages (3.8.1)\n",
            "Requirement already satisfied: click in /usr/local/lib/python3.10/dist-packages (from nltk) (8.1.7)\n",
            "Requirement already satisfied: joblib in /usr/local/lib/python3.10/dist-packages (from nltk) (1.4.2)\n",
            "Requirement already satisfied: regex>=2021.8.3 in /usr/local/lib/python3.10/dist-packages (from nltk) (2024.5.15)\n",
            "Requirement already satisfied: tqdm in /usr/local/lib/python3.10/dist-packages (from nltk) (4.66.4)\n"
          ]
        },
        {
          "output_type": "stream",
          "name": "stderr",
          "text": [
            "[nltk_data] Downloading package punkt to /root/nltk_data...\n",
            "[nltk_data]   Package punkt is already up-to-date!\n",
            "[nltk_data] Downloading package wordnet to /root/nltk_data...\n",
            "[nltk_data]   Package wordnet is already up-to-date!\n"
          ]
        }
      ]
    },
    {
      "cell_type": "code",
      "source": [
        "import pandas as pd\n",
        "import openpyxl\n",
        "\n",
        "result_df = df.copy()\n",
        "result_df['predicted_color'] = ''\n",
        "\n",
        "for index, row in df.iterrows():\n",
        "    if index < len(y_train):\n",
        "\n",
        "        predicted_color = model2.predict(x_train[index])\n",
        "        result_df.at[index, 'predicted_color'] = predicted_color # Set the predicted color for the current row\n",
        "\n",
        "file_name = 'MarkData.xlsx'\n",
        "result_df.to_excel(file_name, index=False) # Save the DataFrame to an Excel file\n",
        "\n",
        "print('DataFrame is written to Excel File successfully.')"
      ],
      "metadata": {
        "colab": {
          "base_uri": "https://localhost:8080/"
        },
        "id": "uUMBKdX17z1d",
        "outputId": "aadaad79-f902-40f6-d35b-e7cbbf4fd507"
      },
      "execution_count": 161,
      "outputs": [
        {
          "output_type": "stream",
          "name": "stdout",
          "text": [
            "DataFrame is written to Excel File successfully.\n"
          ]
        }
      ]
    },
    {
      "cell_type": "code",
      "source": [
        "X_new = x_train[710]\n",
        "original_sentence = df.iloc[710]['description']\n",
        "print(original_sentence)\n",
        "print(y_train[710])\n",
        "\n",
        "\n",
        "prediction = model3.predict(X_new)\n",
        "print(prediction)\n",
        "\n",
        "if prediction[0] == 0:\n",
        "    print('not predictable')\n",
        "elif prediction[0] == 1:\n",
        "    print('white -> Probably Begin')\n",
        "elif prediction[0] == 2:\n",
        "    print('yellow -> Worth a look')\n",
        "elif prediction[0] == 3:\n",
        "    print('orange -> Need a serious look into it')\n",
        "elif prediction[0] == 4:\n",
        "    print('red -> Requires immediate action')\n",
        "else:\n",
        "    print('tricolor -> Saffron')"
      ],
      "metadata": {
        "colab": {
          "base_uri": "https://localhost:8080/"
        },
        "outputId": "1b7c78d3-1334-4379-a7a9-4c8483d8b45c",
        "id": "2DfIUBWJifGa"
      },
      "execution_count": 166,
      "outputs": [
        {
          "output_type": "stream",
          "name": "stdout",
          "text": [
            "Machines not accepting day of election printed ballots. They changed out the tops of the counting machines . I reprinted a ballot and voted again, a lot of people left without voting were very angry !\n",
            "1\n",
            "[1]\n",
            "white -> Probably Begin\n"
          ]
        }
      ]
    }
  ],
  "metadata": {
    "colab": {
      "provenance": [],
      "include_colab_link": true
    },
    "kernelspec": {
      "display_name": "Python 3",
      "name": "python3"
    },
    "language_info": {
      "name": "python"
    }
  },
  "nbformat": 4,
  "nbformat_minor": 0
}